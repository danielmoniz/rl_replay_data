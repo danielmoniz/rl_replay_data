{
 "cells": [
  {
   "cell_type": "code",
   "execution_count": 1,
   "metadata": {
    "colab": {
     "base_uri": "https://localhost:8080/",
     "height": 768
    },
    "colab_type": "code",
    "id": "eRDqf7_AO8AB",
    "outputId": "82ff1afa-3fa9-43be-c5b6-20e9a08a67e4"
   },
   "outputs": [
    {
     "name": "stdout",
     "output_type": "stream",
     "text": [
      "Requirement already satisfied: carball in /Users/daniel/.pyenv/versions/3.6.8/lib/python3.6/site-packages (from -r requirements.txt (line 1)) (0.6.34)\n",
      "Requirement already satisfied: numpy in /Users/daniel/.pyenv/versions/3.6.8/lib/python3.6/site-packages (from -r requirements.txt (line 2)) (1.17.4)\n",
      "Requirement already satisfied: pandas in /Users/daniel/.pyenv/versions/3.6.8/lib/python3.6/site-packages (from -r requirements.txt (line 3)) (0.25.3)\n",
      "Requirement already satisfied: matplotlib in /Users/daniel/.pyenv/versions/3.6.8/lib/python3.6/site-packages (from -r requirements.txt (line 4)) (3.1.2)\n",
      "Requirement already satisfied: tensorflow in /Users/daniel/.pyenv/versions/3.6.8/lib/python3.6/site-packages (from -r requirements.txt (line 5)) (2.0.0)\n",
      "Requirement already satisfied: xlrd==1.1.0 in /Users/daniel/.pyenv/versions/3.6.8/lib/python3.6/site-packages (from carball->-r requirements.txt (line 1)) (1.1.0)\n",
      "Requirement already satisfied: protobuf==3.6.1 in /Users/daniel/.pyenv/versions/3.6.8/lib/python3.6/site-packages (from carball->-r requirements.txt (line 1)) (3.6.1)\n",
      "Requirement already satisfied: python-dateutil>=2.6.1 in /Users/daniel/.pyenv/versions/3.6.8/lib/python3.6/site-packages (from pandas->-r requirements.txt (line 3)) (2.8.1)\n",
      "Requirement already satisfied: pytz>=2017.2 in /Users/daniel/.pyenv/versions/3.6.8/lib/python3.6/site-packages (from pandas->-r requirements.txt (line 3)) (2019.3)\n",
      "Requirement already satisfied: kiwisolver>=1.0.1 in /Users/daniel/.pyenv/versions/3.6.8/lib/python3.6/site-packages (from matplotlib->-r requirements.txt (line 4)) (1.1.0)\n",
      "Requirement already satisfied: cycler>=0.10 in /Users/daniel/.pyenv/versions/3.6.8/lib/python3.6/site-packages (from matplotlib->-r requirements.txt (line 4)) (0.10.0)\n",
      "Requirement already satisfied: pyparsing!=2.0.4,!=2.1.2,!=2.1.6,>=2.0.1 in /Users/daniel/.pyenv/versions/3.6.8/lib/python3.6/site-packages (from matplotlib->-r requirements.txt (line 4)) (2.4.5)\n",
      "Requirement already satisfied: tensorboard<2.1.0,>=2.0.0 in /Users/daniel/.pyenv/versions/3.6.8/lib/python3.6/site-packages (from tensorflow->-r requirements.txt (line 5)) (2.0.2)\n",
      "Requirement already satisfied: six>=1.10.0 in /Users/daniel/.pyenv/versions/3.6.8/lib/python3.6/site-packages (from tensorflow->-r requirements.txt (line 5)) (1.13.0)\n",
      "Requirement already satisfied: termcolor>=1.1.0 in /Users/daniel/.pyenv/versions/3.6.8/lib/python3.6/site-packages (from tensorflow->-r requirements.txt (line 5)) (1.1.0)\n",
      "Requirement already satisfied: wheel>=0.26 in /Users/daniel/.pyenv/versions/3.6.8/lib/python3.6/site-packages (from tensorflow->-r requirements.txt (line 5)) (0.33.6)\n",
      "Requirement already satisfied: astor>=0.6.0 in /Users/daniel/.pyenv/versions/3.6.8/lib/python3.6/site-packages (from tensorflow->-r requirements.txt (line 5)) (0.8.1)\n",
      "Requirement already satisfied: keras-applications>=1.0.8 in /Users/daniel/.pyenv/versions/3.6.8/lib/python3.6/site-packages (from tensorflow->-r requirements.txt (line 5)) (1.0.8)\n",
      "Requirement already satisfied: keras-preprocessing>=1.0.5 in /Users/daniel/.pyenv/versions/3.6.8/lib/python3.6/site-packages (from tensorflow->-r requirements.txt (line 5)) (1.1.0)\n",
      "Requirement already satisfied: grpcio>=1.8.6 in /Users/daniel/.pyenv/versions/3.6.8/lib/python3.6/site-packages (from tensorflow->-r requirements.txt (line 5)) (1.25.0)\n",
      "Requirement already satisfied: opt-einsum>=2.3.2 in /Users/daniel/.pyenv/versions/3.6.8/lib/python3.6/site-packages (from tensorflow->-r requirements.txt (line 5)) (3.1.0)\n",
      "Requirement already satisfied: google-pasta>=0.1.6 in /Users/daniel/.pyenv/versions/3.6.8/lib/python3.6/site-packages (from tensorflow->-r requirements.txt (line 5)) (0.1.8)\n",
      "Requirement already satisfied: wrapt>=1.11.1 in /Users/daniel/.pyenv/versions/3.6.8/lib/python3.6/site-packages (from tensorflow->-r requirements.txt (line 5)) (1.11.2)\n",
      "Requirement already satisfied: gast==0.2.2 in /Users/daniel/.pyenv/versions/3.6.8/lib/python3.6/site-packages (from tensorflow->-r requirements.txt (line 5)) (0.2.2)\n",
      "Requirement already satisfied: absl-py>=0.7.0 in /Users/daniel/.pyenv/versions/3.6.8/lib/python3.6/site-packages (from tensorflow->-r requirements.txt (line 5)) (0.8.1)\n",
      "Requirement already satisfied: tensorflow-estimator<2.1.0,>=2.0.0 in /Users/daniel/.pyenv/versions/3.6.8/lib/python3.6/site-packages (from tensorflow->-r requirements.txt (line 5)) (2.0.1)\n",
      "Requirement already satisfied: setuptools in /Users/daniel/.pyenv/versions/3.6.8/lib/python3.6/site-packages (from protobuf==3.6.1->carball->-r requirements.txt (line 1)) (40.6.2)\n",
      "Requirement already satisfied: werkzeug>=0.11.15 in /Users/daniel/.pyenv/versions/3.6.8/lib/python3.6/site-packages (from tensorboard<2.1.0,>=2.0.0->tensorflow->-r requirements.txt (line 5)) (0.16.0)\n",
      "Requirement already satisfied: google-auth-oauthlib<0.5,>=0.4.1 in /Users/daniel/.pyenv/versions/3.6.8/lib/python3.6/site-packages (from tensorboard<2.1.0,>=2.0.0->tensorflow->-r requirements.txt (line 5)) (0.4.1)\n",
      "Requirement already satisfied: markdown>=2.6.8 in /Users/daniel/.pyenv/versions/3.6.8/lib/python3.6/site-packages (from tensorboard<2.1.0,>=2.0.0->tensorflow->-r requirements.txt (line 5)) (3.1.1)\n",
      "Requirement already satisfied: requests<3,>=2.21.0 in /Users/daniel/.pyenv/versions/3.6.8/lib/python3.6/site-packages (from tensorboard<2.1.0,>=2.0.0->tensorflow->-r requirements.txt (line 5)) (2.22.0)\n",
      "Requirement already satisfied: google-auth<2,>=1.6.3 in /Users/daniel/.pyenv/versions/3.6.8/lib/python3.6/site-packages (from tensorboard<2.1.0,>=2.0.0->tensorflow->-r requirements.txt (line 5)) (1.8.2)\n",
      "Requirement already satisfied: h5py in /Users/daniel/.pyenv/versions/3.6.8/lib/python3.6/site-packages (from keras-applications>=1.0.8->tensorflow->-r requirements.txt (line 5)) (2.10.0)\n",
      "Requirement already satisfied: requests-oauthlib>=0.7.0 in /Users/daniel/.pyenv/versions/3.6.8/lib/python3.6/site-packages (from google-auth-oauthlib<0.5,>=0.4.1->tensorboard<2.1.0,>=2.0.0->tensorflow->-r requirements.txt (line 5)) (1.3.0)\n",
      "Requirement already satisfied: certifi>=2017.4.17 in /Users/daniel/.pyenv/versions/3.6.8/lib/python3.6/site-packages (from requests<3,>=2.21.0->tensorboard<2.1.0,>=2.0.0->tensorflow->-r requirements.txt (line 5)) (2019.11.28)\n",
      "Requirement already satisfied: chardet<3.1.0,>=3.0.2 in /Users/daniel/.pyenv/versions/3.6.8/lib/python3.6/site-packages (from requests<3,>=2.21.0->tensorboard<2.1.0,>=2.0.0->tensorflow->-r requirements.txt (line 5)) (3.0.4)\n",
      "Requirement already satisfied: urllib3!=1.25.0,!=1.25.1,<1.26,>=1.21.1 in /Users/daniel/.pyenv/versions/3.6.8/lib/python3.6/site-packages (from requests<3,>=2.21.0->tensorboard<2.1.0,>=2.0.0->tensorflow->-r requirements.txt (line 5)) (1.25.7)\n",
      "Requirement already satisfied: idna<2.9,>=2.5 in /Users/daniel/.pyenv/versions/3.6.8/lib/python3.6/site-packages (from requests<3,>=2.21.0->tensorboard<2.1.0,>=2.0.0->tensorflow->-r requirements.txt (line 5)) (2.8)\n",
      "Requirement already satisfied: rsa<4.1,>=3.1.4 in /Users/daniel/.pyenv/versions/3.6.8/lib/python3.6/site-packages (from google-auth<2,>=1.6.3->tensorboard<2.1.0,>=2.0.0->tensorflow->-r requirements.txt (line 5)) (4.0)\n",
      "Requirement already satisfied: cachetools<3.2,>=2.0.0 in /Users/daniel/.pyenv/versions/3.6.8/lib/python3.6/site-packages (from google-auth<2,>=1.6.3->tensorboard<2.1.0,>=2.0.0->tensorflow->-r requirements.txt (line 5)) (3.1.1)\n",
      "Requirement already satisfied: pyasn1-modules>=0.2.1 in /Users/daniel/.pyenv/versions/3.6.8/lib/python3.6/site-packages (from google-auth<2,>=1.6.3->tensorboard<2.1.0,>=2.0.0->tensorflow->-r requirements.txt (line 5)) (0.2.7)\n",
      "Requirement already satisfied: oauthlib>=3.0.0 in /Users/daniel/.pyenv/versions/3.6.8/lib/python3.6/site-packages (from requests-oauthlib>=0.7.0->google-auth-oauthlib<0.5,>=0.4.1->tensorboard<2.1.0,>=2.0.0->tensorflow->-r requirements.txt (line 5)) (3.1.0)\n",
      "Requirement already satisfied: pyasn1>=0.1.3 in /Users/daniel/.pyenv/versions/3.6.8/lib/python3.6/site-packages (from rsa<4.1,>=3.1.4->google-auth<2,>=1.6.3->tensorboard<2.1.0,>=2.0.0->tensorflow->-r requirements.txt (line 5)) (0.4.8)\n"
     ]
    }
   ],
   "source": [
    "!pip install -r requirements.txt"
   ]
  },
  {
   "cell_type": "code",
   "execution_count": 2,
   "metadata": {
    "colab": {},
    "colab_type": "code",
    "id": "Wu5RKfbQl30t"
   },
   "outputs": [],
   "source": [
    "import json\n",
    "import os\n",
    "\n",
    "import tensorflow as tf\n",
    "import pandas as pd\n",
    "import numpy as np\n",
    "import matplotlib.pyplot as plt\n",
    "import carball\n",
    "import carball.json_parser.game as game_module\n",
    "Game = game_module.Game"
   ]
  },
  {
   "cell_type": "code",
   "execution_count": 7,
   "metadata": {
    "colab": {
     "base_uri": "https://localhost:8080/",
     "height": 680
    },
    "colab_type": "code",
    "id": "e9dL1D2snHtL",
    "outputId": "4421c508-e9ef-4e28-9246-78d1eb7f7e08",
    "scrolled": true
   },
   "outputs": [
    {
     "name": "stdout",
     "output_type": "stream",
     "text": [
      "1D3E6AA844FA507AD3FFA4B37256DED4.json\r\n",
      "2019-11-04.20.08 Vano Ranked Duel Loss.json\r\n",
      "2019-11-04.20.23 Vano Ranked Duel Win.json\r\n",
      "2019-11-09.23.46 Kevpert Ranked Duel Win.json\r\n",
      "2019-11-09.23.54 Kevpert Ranked Duel Loss.json\r\n",
      "2019-11-10.00.14 Kevpert Ranked Duel Loss.json\r\n",
      "2019-11-10.00.21 Kevpert Ranked Duel Win.json\r\n",
      "2019-11-12.01.25 uprincess tallie birbu Ranked Duel Loss.json\r\n",
      "2019-11-12.01.28 uprincess tallie birbu Ranked Duel Loss.json\r\n",
      "2019-11-12.18.41 Vano Ranked Duel Win.json\r\n",
      "2019-11-16.00.47 Kevpert Ranked Duel Win.json\r\n",
      "2019-11-16.06.04 Douglas Ranked Duel Loss.json\r\n",
      "2019-11-16.06.37 Douglas Ranked Duel Loss.json\r\n",
      "2019-11-16.23.33 Kevpert Ranked Duel Loss.json\r\n",
      "2019-11-16.23.40 Kevpert Ranked Duel Win.json\r\n",
      "2019-11-16.23.59 Kevpert Ranked Duel Win.json\r\n",
      "2019-11-17.03.13 TallieS Ranked Duel Loss.json\r\n",
      "2019-11-17.03.29 TallieS Ranked Duel Loss.json\r\n",
      "2019-11-17.16.31 Vano Ranked Duel Loss.json\r\n",
      "2019-11-17.17.10 Vano Ranked Duel Win.json\r\n",
      "2019-11-18.17.27 Vano Ranked Duel Win.json\r\n",
      "2019-11-19.00.43 TallieS Ranked Duel Win.json\r\n",
      "2019-11-19.00.52 TallieS Ranked Duel Win.json\r\n",
      "2019-11-19.00.59 TallieS Ranked Duel Loss.json\r\n",
      "2019-11-19.14.21 ... Ranked Duel Loss.json\r\n",
      "2019-11-20.02.58 Salter Ranked Duel Loss.json\r\n",
      "2019-11-20.15.59 Vano Ranked Duel Win.json\r\n",
      "2019-11-20.16.07 Vano Ranked Duel Win.json\r\n",
      "2019-11-21.18.45 Kevpert Ranked Duel Loss.json\r\n",
      "2019-11-21.18.57 Kevpert Ranked Duel Win.json\r\n",
      "2019-11-22.01.55 TallieS Ranked Duel Loss.json\r\n",
      "2019-11-24.14.37 Vano Ranked Duel Win.json\r\n",
      "2019-11-27.18.38 Savi's mum Ranked Duel Loss.json\r\n",
      "2019-12-01.15.57 Buster. Ranked Duel Loss.json\r\n",
      "2019-12-01.16.11 Buster. Ranked Duel Win.json\r\n",
      "2019-12-03.09.34 Salter Ranked Duel Loss.json\r\n",
      "2019-12-03.09.43 Salter Ranked Duel Loss.json\r\n",
      "2019-12-03.09.51 Salter Ranked Duel Loss.json\r\n",
      "9724B4C742C5CE646945F69A9E54A940.json\r\n"
     ]
    }
   ],
   "source": [
    "# replay_path = './parsed_replays/rlcs_season_7/'\n",
    "replay_path = './parsed_replays/1v1s/'\n",
    "!ls parsed_replays/1v1s/"
   ]
  },
  {
   "cell_type": "code",
   "execution_count": 8,
   "metadata": {
    "colab": {},
    "colab_type": "code",
    "id": "vDgT2Z9m54tW"
   },
   "outputs": [],
   "source": [
    "game_files = []\n",
    "path = './replays/rlcs_season_7/'\n",
    "for filename in os.listdir(replay_path):\n",
    "  if filename.endswith('.json'):\n",
    "    game_files.append(replay_path + filename)\n",
    "# game_files = game_files[0:8] # TEST - use subset of games for now"
   ]
  },
  {
   "cell_type": "code",
   "execution_count": 9,
   "metadata": {
    "colab": {},
    "colab_type": "code",
    "id": "WsgAibzYl30w"
   },
   "outputs": [],
   "source": [
    "def get_game(file_path):\n",
    "  game = game_module.Game()\n",
    "  game.initialize(file_path=file_path)\n",
    "  return game\n",
    "\n",
    "if len(game_files) > 0:\n",
    "  game = game_module.Game()\n",
    "  game.initialize(\n",
    "      file_path=game_files[0])\n",
    "else:\n",
    "  raise IndexError('No game_files to parse.')"
   ]
  },
  {
   "cell_type": "code",
   "execution_count": 10,
   "metadata": {
    "colab": {
     "base_uri": "https://localhost:8080/",
     "height": 34
    },
    "colab_type": "code",
    "id": "DaEqUkzHl30y",
    "outputId": "525929e2-cc12-4b56-dd30-bb836ea35375"
   },
   "outputs": [
    {
     "data": {
      "text/plain": [
       "'Stadium_P'"
      ]
     },
     "execution_count": 10,
     "metadata": {},
     "output_type": "execute_result"
    }
   ],
   "source": [
    "game.map"
   ]
  },
  {
   "cell_type": "code",
   "execution_count": 11,
   "metadata": {
    "colab": {
     "base_uri": "https://localhost:8080/",
     "height": 34
    },
    "colab_type": "code",
    "id": "G9Un0B-Sl300",
    "outputId": "fd260860-26fb-49ae-9813-918866af2ab2"
   },
   "outputs": [
    {
     "data": {
      "text/plain": [
       "[Player: Tallie on Team: Orange, Player: AyyJayy on Team: Blue]"
      ]
     },
     "execution_count": 11,
     "metadata": {},
     "output_type": "execute_result"
    }
   ],
   "source": [
    "game.players"
   ]
  },
  {
   "cell_type": "code",
   "execution_count": 12,
   "metadata": {
    "colab": {
     "base_uri": "https://localhost:8080/",
     "height": 34
    },
    "colab_type": "code",
    "id": "MEfqwJbcl304",
    "outputId": "4b532ada-960d-4407-81bb-dffea2413f57"
   },
   "outputs": [
    {
     "data": {
      "text/plain": [
       "'Tallie\\ue053'"
      ]
     },
     "execution_count": 12,
     "metadata": {},
     "output_type": "execute_result"
    }
   ],
   "source": [
    "game.players[0].name"
   ]
  },
  {
   "cell_type": "code",
   "execution_count": 13,
   "metadata": {
    "colab": {
     "base_uri": "https://localhost:8080/",
     "height": 718
    },
    "colab_type": "code",
    "id": "BFHmS48jl305",
    "outputId": "a905c7ee-c44c-4d81-8e80-07cab2a2b383",
    "scrolled": true
   },
   "outputs": [
    {
     "data": {
      "text/html": [
       "<div>\n",
       "<style scoped>\n",
       "    .dataframe tbody tr th:only-of-type {\n",
       "        vertical-align: middle;\n",
       "    }\n",
       "\n",
       "    .dataframe tbody tr th {\n",
       "        vertical-align: top;\n",
       "    }\n",
       "\n",
       "    .dataframe thead th {\n",
       "        text-align: right;\n",
       "    }\n",
       "</style>\n",
       "<table border=\"1\" class=\"dataframe\">\n",
       "  <thead>\n",
       "    <tr style=\"text-align: right;\">\n",
       "      <th></th>\n",
       "      <th>ping</th>\n",
       "      <th>pos_x</th>\n",
       "      <th>pos_y</th>\n",
       "      <th>pos_z</th>\n",
       "      <th>rot_x</th>\n",
       "      <th>rot_y</th>\n",
       "      <th>rot_z</th>\n",
       "      <th>vel_x</th>\n",
       "      <th>vel_y</th>\n",
       "      <th>vel_z</th>\n",
       "      <th>...</th>\n",
       "      <th>throttle</th>\n",
       "      <th>steer</th>\n",
       "      <th>handbrake</th>\n",
       "      <th>ball_cam</th>\n",
       "      <th>dodge_active</th>\n",
       "      <th>boost</th>\n",
       "      <th>boost_active</th>\n",
       "      <th>double_jump_active</th>\n",
       "      <th>jump_active</th>\n",
       "      <th>boost_collect</th>\n",
       "    </tr>\n",
       "  </thead>\n",
       "  <tbody>\n",
       "    <tr>\n",
       "      <th>501</th>\n",
       "      <td>11</td>\n",
       "      <td>3572.09</td>\n",
       "      <td>2502.15</td>\n",
       "      <td>17.04</td>\n",
       "      <td>0.016772</td>\n",
       "      <td>-1.673791</td>\n",
       "      <td>0.000052</td>\n",
       "      <td>-1743.9</td>\n",
       "      <td>-16890.8</td>\n",
       "      <td>0.0</td>\n",
       "      <td>...</td>\n",
       "      <td>166.0</td>\n",
       "      <td>128.0</td>\n",
       "      <td>False</td>\n",
       "      <td>False</td>\n",
       "      <td>8</td>\n",
       "      <td>247.000000</td>\n",
       "      <td>False</td>\n",
       "      <td>False</td>\n",
       "      <td>8</td>\n",
       "      <td>NaN</td>\n",
       "    </tr>\n",
       "    <tr>\n",
       "      <th>502</th>\n",
       "      <td>11</td>\n",
       "      <td>3557.59</td>\n",
       "      <td>2361.35</td>\n",
       "      <td>17.04</td>\n",
       "      <td>0.016772</td>\n",
       "      <td>-1.673791</td>\n",
       "      <td>0.000052</td>\n",
       "      <td>-1745.2</td>\n",
       "      <td>-16890.0</td>\n",
       "      <td>3.7</td>\n",
       "      <td>...</td>\n",
       "      <td>128.0</td>\n",
       "      <td>128.0</td>\n",
       "      <td>False</td>\n",
       "      <td>False</td>\n",
       "      <td>8</td>\n",
       "      <td>247.000000</td>\n",
       "      <td>False</td>\n",
       "      <td>False</td>\n",
       "      <td>8</td>\n",
       "      <td>NaN</td>\n",
       "    </tr>\n",
       "    <tr>\n",
       "      <th>503</th>\n",
       "      <td>11</td>\n",
       "      <td>3557.59</td>\n",
       "      <td>2361.35</td>\n",
       "      <td>17.04</td>\n",
       "      <td>0.016772</td>\n",
       "      <td>-1.673791</td>\n",
       "      <td>0.000052</td>\n",
       "      <td>-1745.2</td>\n",
       "      <td>-16890.0</td>\n",
       "      <td>3.7</td>\n",
       "      <td>...</td>\n",
       "      <td>128.0</td>\n",
       "      <td>128.0</td>\n",
       "      <td>False</td>\n",
       "      <td>False</td>\n",
       "      <td>8</td>\n",
       "      <td>247.000000</td>\n",
       "      <td>False</td>\n",
       "      <td>False</td>\n",
       "      <td>8</td>\n",
       "      <td>NaN</td>\n",
       "    </tr>\n",
       "    <tr>\n",
       "      <th>504</th>\n",
       "      <td>11</td>\n",
       "      <td>3557.59</td>\n",
       "      <td>2361.35</td>\n",
       "      <td>17.04</td>\n",
       "      <td>0.016772</td>\n",
       "      <td>-1.673791</td>\n",
       "      <td>0.000052</td>\n",
       "      <td>-1745.2</td>\n",
       "      <td>-16890.0</td>\n",
       "      <td>3.7</td>\n",
       "      <td>...</td>\n",
       "      <td>128.0</td>\n",
       "      <td>128.0</td>\n",
       "      <td>False</td>\n",
       "      <td>False</td>\n",
       "      <td>8</td>\n",
       "      <td>247.000000</td>\n",
       "      <td>False</td>\n",
       "      <td>False</td>\n",
       "      <td>8</td>\n",
       "      <td>NaN</td>\n",
       "    </tr>\n",
       "    <tr>\n",
       "      <th>505</th>\n",
       "      <td>11</td>\n",
       "      <td>3541.64</td>\n",
       "      <td>2206.49</td>\n",
       "      <td>17.04</td>\n",
       "      <td>0.016772</td>\n",
       "      <td>-1.673791</td>\n",
       "      <td>0.000052</td>\n",
       "      <td>-1745.2</td>\n",
       "      <td>-16890.0</td>\n",
       "      <td>3.7</td>\n",
       "      <td>...</td>\n",
       "      <td>128.0</td>\n",
       "      <td>130.0</td>\n",
       "      <td>False</td>\n",
       "      <td>False</td>\n",
       "      <td>8</td>\n",
       "      <td>247.000000</td>\n",
       "      <td>False</td>\n",
       "      <td>False</td>\n",
       "      <td>8</td>\n",
       "      <td>NaN</td>\n",
       "    </tr>\n",
       "    <tr>\n",
       "      <th>506</th>\n",
       "      <td>11</td>\n",
       "      <td>3541.64</td>\n",
       "      <td>2206.49</td>\n",
       "      <td>17.04</td>\n",
       "      <td>0.016772</td>\n",
       "      <td>-1.673791</td>\n",
       "      <td>0.000052</td>\n",
       "      <td>-1745.2</td>\n",
       "      <td>-16890.0</td>\n",
       "      <td>3.7</td>\n",
       "      <td>...</td>\n",
       "      <td>128.0</td>\n",
       "      <td>194.0</td>\n",
       "      <td>False</td>\n",
       "      <td>False</td>\n",
       "      <td>8</td>\n",
       "      <td>247.000000</td>\n",
       "      <td>False</td>\n",
       "      <td>False</td>\n",
       "      <td>8</td>\n",
       "      <td>NaN</td>\n",
       "    </tr>\n",
       "    <tr>\n",
       "      <th>507</th>\n",
       "      <td>11</td>\n",
       "      <td>3527.30</td>\n",
       "      <td>2067.74</td>\n",
       "      <td>17.04</td>\n",
       "      <td>0.016808</td>\n",
       "      <td>-1.673791</td>\n",
       "      <td>0.000012</td>\n",
       "      <td>-1700.2</td>\n",
       "      <td>-16454.0</td>\n",
       "      <td>3.7</td>\n",
       "      <td>...</td>\n",
       "      <td>128.0</td>\n",
       "      <td>255.0</td>\n",
       "      <td>False</td>\n",
       "      <td>False</td>\n",
       "      <td>8</td>\n",
       "      <td>247.000000</td>\n",
       "      <td>False</td>\n",
       "      <td>False</td>\n",
       "      <td>8</td>\n",
       "      <td>NaN</td>\n",
       "    </tr>\n",
       "    <tr>\n",
       "      <th>508</th>\n",
       "      <td>11</td>\n",
       "      <td>3527.30</td>\n",
       "      <td>2067.74</td>\n",
       "      <td>17.04</td>\n",
       "      <td>0.016808</td>\n",
       "      <td>-1.673791</td>\n",
       "      <td>0.000012</td>\n",
       "      <td>-1700.2</td>\n",
       "      <td>-16454.0</td>\n",
       "      <td>3.7</td>\n",
       "      <td>...</td>\n",
       "      <td>96.0</td>\n",
       "      <td>255.0</td>\n",
       "      <td>False</td>\n",
       "      <td>False</td>\n",
       "      <td>8</td>\n",
       "      <td>247.000000</td>\n",
       "      <td>False</td>\n",
       "      <td>False</td>\n",
       "      <td>8</td>\n",
       "      <td>NaN</td>\n",
       "    </tr>\n",
       "    <tr>\n",
       "      <th>509</th>\n",
       "      <td>11</td>\n",
       "      <td>3527.30</td>\n",
       "      <td>2067.74</td>\n",
       "      <td>17.04</td>\n",
       "      <td>0.016808</td>\n",
       "      <td>-1.673791</td>\n",
       "      <td>0.000012</td>\n",
       "      <td>-1700.2</td>\n",
       "      <td>-16454.0</td>\n",
       "      <td>3.7</td>\n",
       "      <td>...</td>\n",
       "      <td>0.0</td>\n",
       "      <td>255.0</td>\n",
       "      <td>False</td>\n",
       "      <td>False</td>\n",
       "      <td>8</td>\n",
       "      <td>247.000000</td>\n",
       "      <td>False</td>\n",
       "      <td>False</td>\n",
       "      <td>8</td>\n",
       "      <td>NaN</td>\n",
       "    </tr>\n",
       "    <tr>\n",
       "      <th>510</th>\n",
       "      <td>11</td>\n",
       "      <td>3514.46</td>\n",
       "      <td>1932.57</td>\n",
       "      <td>17.04</td>\n",
       "      <td>0.016820</td>\n",
       "      <td>-1.649212</td>\n",
       "      <td>0.000188</td>\n",
       "      <td>-1215.8</td>\n",
       "      <td>-16030.7</td>\n",
       "      <td>4.1</td>\n",
       "      <td>...</td>\n",
       "      <td>0.0</td>\n",
       "      <td>252.0</td>\n",
       "      <td>False</td>\n",
       "      <td>False</td>\n",
       "      <td>8</td>\n",
       "      <td>247.000000</td>\n",
       "      <td>False</td>\n",
       "      <td>False</td>\n",
       "      <td>8</td>\n",
       "      <td>NaN</td>\n",
       "    </tr>\n",
       "    <tr>\n",
       "      <th>511</th>\n",
       "      <td>11</td>\n",
       "      <td>3514.46</td>\n",
       "      <td>1932.57</td>\n",
       "      <td>17.04</td>\n",
       "      <td>0.016820</td>\n",
       "      <td>-1.649212</td>\n",
       "      <td>0.000188</td>\n",
       "      <td>-1215.8</td>\n",
       "      <td>-16030.7</td>\n",
       "      <td>4.1</td>\n",
       "      <td>...</td>\n",
       "      <td>8.0</td>\n",
       "      <td>202.0</td>\n",
       "      <td>False</td>\n",
       "      <td>False</td>\n",
       "      <td>8</td>\n",
       "      <td>247.000000</td>\n",
       "      <td>False</td>\n",
       "      <td>False</td>\n",
       "      <td>8</td>\n",
       "      <td>NaN</td>\n",
       "    </tr>\n",
       "    <tr>\n",
       "      <th>512</th>\n",
       "      <td>11</td>\n",
       "      <td>3510.05</td>\n",
       "      <td>1805.42</td>\n",
       "      <td>17.04</td>\n",
       "      <td>0.017005</td>\n",
       "      <td>-1.533971</td>\n",
       "      <td>0.000206</td>\n",
       "      <td>116.6</td>\n",
       "      <td>-14062.9</td>\n",
       "      <td>4.3</td>\n",
       "      <td>...</td>\n",
       "      <td>130.0</td>\n",
       "      <td>128.0</td>\n",
       "      <td>False</td>\n",
       "      <td>False</td>\n",
       "      <td>8</td>\n",
       "      <td>247.000000</td>\n",
       "      <td>False</td>\n",
       "      <td>False</td>\n",
       "      <td>8</td>\n",
       "      <td>NaN</td>\n",
       "    </tr>\n",
       "    <tr>\n",
       "      <th>513</th>\n",
       "      <td>11</td>\n",
       "      <td>3510.05</td>\n",
       "      <td>1805.42</td>\n",
       "      <td>17.04</td>\n",
       "      <td>0.017005</td>\n",
       "      <td>-1.533971</td>\n",
       "      <td>0.000206</td>\n",
       "      <td>116.6</td>\n",
       "      <td>-14062.9</td>\n",
       "      <td>4.3</td>\n",
       "      <td>...</td>\n",
       "      <td>134.0</td>\n",
       "      <td>69.0</td>\n",
       "      <td>False</td>\n",
       "      <td>False</td>\n",
       "      <td>8</td>\n",
       "      <td>247.000000</td>\n",
       "      <td>False</td>\n",
       "      <td>False</td>\n",
       "      <td>8</td>\n",
       "      <td>NaN</td>\n",
       "    </tr>\n",
       "    <tr>\n",
       "      <th>514</th>\n",
       "      <td>11</td>\n",
       "      <td>3510.05</td>\n",
       "      <td>1805.42</td>\n",
       "      <td>17.04</td>\n",
       "      <td>0.017005</td>\n",
       "      <td>-1.533971</td>\n",
       "      <td>0.000206</td>\n",
       "      <td>116.6</td>\n",
       "      <td>-14062.9</td>\n",
       "      <td>4.3</td>\n",
       "      <td>...</td>\n",
       "      <td>173.0</td>\n",
       "      <td>0.0</td>\n",
       "      <td>False</td>\n",
       "      <td>False</td>\n",
       "      <td>8</td>\n",
       "      <td>247.000000</td>\n",
       "      <td>False</td>\n",
       "      <td>False</td>\n",
       "      <td>8</td>\n",
       "      <td>NaN</td>\n",
       "    </tr>\n",
       "    <tr>\n",
       "      <th>515</th>\n",
       "      <td>11</td>\n",
       "      <td>3518.63</td>\n",
       "      <td>1693.46</td>\n",
       "      <td>17.04</td>\n",
       "      <td>0.017210</td>\n",
       "      <td>-1.390029</td>\n",
       "      <td>-0.000041</td>\n",
       "      <td>1427.7</td>\n",
       "      <td>-10928.7</td>\n",
       "      <td>4.0</td>\n",
       "      <td>...</td>\n",
       "      <td>221.0</td>\n",
       "      <td>0.0</td>\n",
       "      <td>False</td>\n",
       "      <td>False</td>\n",
       "      <td>8</td>\n",
       "      <td>244.132482</td>\n",
       "      <td>True</td>\n",
       "      <td>False</td>\n",
       "      <td>8</td>\n",
       "      <td>NaN</td>\n",
       "    </tr>\n",
       "    <tr>\n",
       "      <th>516</th>\n",
       "      <td>11</td>\n",
       "      <td>3518.63</td>\n",
       "      <td>1693.46</td>\n",
       "      <td>17.04</td>\n",
       "      <td>0.017210</td>\n",
       "      <td>-1.390029</td>\n",
       "      <td>-0.000041</td>\n",
       "      <td>1427.7</td>\n",
       "      <td>-10928.7</td>\n",
       "      <td>4.0</td>\n",
       "      <td>...</td>\n",
       "      <td>255.0</td>\n",
       "      <td>0.0</td>\n",
       "      <td>False</td>\n",
       "      <td>False</td>\n",
       "      <td>8</td>\n",
       "      <td>241.265006</td>\n",
       "      <td>True</td>\n",
       "      <td>False</td>\n",
       "      <td>8</td>\n",
       "      <td>NaN</td>\n",
       "    </tr>\n",
       "    <tr>\n",
       "      <th>517</th>\n",
       "      <td>11</td>\n",
       "      <td>3533.17</td>\n",
       "      <td>1603.15</td>\n",
       "      <td>14.25</td>\n",
       "      <td>0.048647</td>\n",
       "      <td>-1.378373</td>\n",
       "      <td>0.028081</td>\n",
       "      <td>1693.0</td>\n",
       "      <td>-10838.5</td>\n",
       "      <td>327.5</td>\n",
       "      <td>...</td>\n",
       "      <td>255.0</td>\n",
       "      <td>74.0</td>\n",
       "      <td>False</td>\n",
       "      <td>False</td>\n",
       "      <td>8</td>\n",
       "      <td>238.397523</td>\n",
       "      <td>True</td>\n",
       "      <td>False</td>\n",
       "      <td>8</td>\n",
       "      <td>NaN</td>\n",
       "    </tr>\n",
       "    <tr>\n",
       "      <th>518</th>\n",
       "      <td>11</td>\n",
       "      <td>3533.17</td>\n",
       "      <td>1603.15</td>\n",
       "      <td>14.25</td>\n",
       "      <td>0.048647</td>\n",
       "      <td>-1.378373</td>\n",
       "      <td>0.028081</td>\n",
       "      <td>1693.0</td>\n",
       "      <td>-10838.5</td>\n",
       "      <td>327.5</td>\n",
       "      <td>...</td>\n",
       "      <td>255.0</td>\n",
       "      <td>128.0</td>\n",
       "      <td>False</td>\n",
       "      <td>False</td>\n",
       "      <td>8</td>\n",
       "      <td>235.530065</td>\n",
       "      <td>True</td>\n",
       "      <td>False</td>\n",
       "      <td>8</td>\n",
       "      <td>NaN</td>\n",
       "    </tr>\n",
       "    <tr>\n",
       "      <th>519</th>\n",
       "      <td>11</td>\n",
       "      <td>3533.17</td>\n",
       "      <td>1603.15</td>\n",
       "      <td>14.25</td>\n",
       "      <td>0.048647</td>\n",
       "      <td>-1.378373</td>\n",
       "      <td>0.028081</td>\n",
       "      <td>1693.0</td>\n",
       "      <td>-10838.5</td>\n",
       "      <td>327.5</td>\n",
       "      <td>...</td>\n",
       "      <td>224.0</td>\n",
       "      <td>128.0</td>\n",
       "      <td>False</td>\n",
       "      <td>False</td>\n",
       "      <td>8</td>\n",
       "      <td>237.000000</td>\n",
       "      <td>False</td>\n",
       "      <td>False</td>\n",
       "      <td>8</td>\n",
       "      <td>NaN</td>\n",
       "    </tr>\n",
       "    <tr>\n",
       "      <th>520</th>\n",
       "      <td>11</td>\n",
       "      <td>3533.17</td>\n",
       "      <td>1603.15</td>\n",
       "      <td>14.25</td>\n",
       "      <td>0.048647</td>\n",
       "      <td>-1.378373</td>\n",
       "      <td>0.028081</td>\n",
       "      <td>1693.0</td>\n",
       "      <td>-10838.5</td>\n",
       "      <td>327.5</td>\n",
       "      <td>...</td>\n",
       "      <td>135.0</td>\n",
       "      <td>154.0</td>\n",
       "      <td>False</td>\n",
       "      <td>False</td>\n",
       "      <td>8</td>\n",
       "      <td>237.000000</td>\n",
       "      <td>False</td>\n",
       "      <td>False</td>\n",
       "      <td>8</td>\n",
       "      <td>NaN</td>\n",
       "    </tr>\n",
       "  </tbody>\n",
       "</table>\n",
       "<p>20 rows × 23 columns</p>\n",
       "</div>"
      ],
      "text/plain": [
       "     ping    pos_x    pos_y  pos_z     rot_x     rot_y     rot_z   vel_x  \\\n",
       "501    11  3572.09  2502.15  17.04  0.016772 -1.673791  0.000052 -1743.9   \n",
       "502    11  3557.59  2361.35  17.04  0.016772 -1.673791  0.000052 -1745.2   \n",
       "503    11  3557.59  2361.35  17.04  0.016772 -1.673791  0.000052 -1745.2   \n",
       "504    11  3557.59  2361.35  17.04  0.016772 -1.673791  0.000052 -1745.2   \n",
       "505    11  3541.64  2206.49  17.04  0.016772 -1.673791  0.000052 -1745.2   \n",
       "506    11  3541.64  2206.49  17.04  0.016772 -1.673791  0.000052 -1745.2   \n",
       "507    11  3527.30  2067.74  17.04  0.016808 -1.673791  0.000012 -1700.2   \n",
       "508    11  3527.30  2067.74  17.04  0.016808 -1.673791  0.000012 -1700.2   \n",
       "509    11  3527.30  2067.74  17.04  0.016808 -1.673791  0.000012 -1700.2   \n",
       "510    11  3514.46  1932.57  17.04  0.016820 -1.649212  0.000188 -1215.8   \n",
       "511    11  3514.46  1932.57  17.04  0.016820 -1.649212  0.000188 -1215.8   \n",
       "512    11  3510.05  1805.42  17.04  0.017005 -1.533971  0.000206   116.6   \n",
       "513    11  3510.05  1805.42  17.04  0.017005 -1.533971  0.000206   116.6   \n",
       "514    11  3510.05  1805.42  17.04  0.017005 -1.533971  0.000206   116.6   \n",
       "515    11  3518.63  1693.46  17.04  0.017210 -1.390029 -0.000041  1427.7   \n",
       "516    11  3518.63  1693.46  17.04  0.017210 -1.390029 -0.000041  1427.7   \n",
       "517    11  3533.17  1603.15  14.25  0.048647 -1.378373  0.028081  1693.0   \n",
       "518    11  3533.17  1603.15  14.25  0.048647 -1.378373  0.028081  1693.0   \n",
       "519    11  3533.17  1603.15  14.25  0.048647 -1.378373  0.028081  1693.0   \n",
       "520    11  3533.17  1603.15  14.25  0.048647 -1.378373  0.028081  1693.0   \n",
       "\n",
       "       vel_y  vel_z  ...  throttle  steer  handbrake  ball_cam  dodge_active  \\\n",
       "501 -16890.8    0.0  ...     166.0  128.0      False     False             8   \n",
       "502 -16890.0    3.7  ...     128.0  128.0      False     False             8   \n",
       "503 -16890.0    3.7  ...     128.0  128.0      False     False             8   \n",
       "504 -16890.0    3.7  ...     128.0  128.0      False     False             8   \n",
       "505 -16890.0    3.7  ...     128.0  130.0      False     False             8   \n",
       "506 -16890.0    3.7  ...     128.0  194.0      False     False             8   \n",
       "507 -16454.0    3.7  ...     128.0  255.0      False     False             8   \n",
       "508 -16454.0    3.7  ...      96.0  255.0      False     False             8   \n",
       "509 -16454.0    3.7  ...       0.0  255.0      False     False             8   \n",
       "510 -16030.7    4.1  ...       0.0  252.0      False     False             8   \n",
       "511 -16030.7    4.1  ...       8.0  202.0      False     False             8   \n",
       "512 -14062.9    4.3  ...     130.0  128.0      False     False             8   \n",
       "513 -14062.9    4.3  ...     134.0   69.0      False     False             8   \n",
       "514 -14062.9    4.3  ...     173.0    0.0      False     False             8   \n",
       "515 -10928.7    4.0  ...     221.0    0.0      False     False             8   \n",
       "516 -10928.7    4.0  ...     255.0    0.0      False     False             8   \n",
       "517 -10838.5  327.5  ...     255.0   74.0      False     False             8   \n",
       "518 -10838.5  327.5  ...     255.0  128.0      False     False             8   \n",
       "519 -10838.5  327.5  ...     224.0  128.0      False     False             8   \n",
       "520 -10838.5  327.5  ...     135.0  154.0      False     False             8   \n",
       "\n",
       "          boost boost_active double_jump_active  jump_active boost_collect  \n",
       "501  247.000000        False              False            8           NaN  \n",
       "502  247.000000        False              False            8           NaN  \n",
       "503  247.000000        False              False            8           NaN  \n",
       "504  247.000000        False              False            8           NaN  \n",
       "505  247.000000        False              False            8           NaN  \n",
       "506  247.000000        False              False            8           NaN  \n",
       "507  247.000000        False              False            8           NaN  \n",
       "508  247.000000        False              False            8           NaN  \n",
       "509  247.000000        False              False            8           NaN  \n",
       "510  247.000000        False              False            8           NaN  \n",
       "511  247.000000        False              False            8           NaN  \n",
       "512  247.000000        False              False            8           NaN  \n",
       "513  247.000000        False              False            8           NaN  \n",
       "514  247.000000        False              False            8           NaN  \n",
       "515  244.132482         True              False            8           NaN  \n",
       "516  241.265006         True              False            8           NaN  \n",
       "517  238.397523         True              False            8           NaN  \n",
       "518  235.530065         True              False            8           NaN  \n",
       "519  237.000000        False              False            8           NaN  \n",
       "520  237.000000        False              False            8           NaN  \n",
       "\n",
       "[20 rows x 23 columns]"
      ]
     },
     "execution_count": 13,
     "metadata": {},
     "output_type": "execute_result"
    }
   ],
   "source": [
    "player_0_data = game.players[0].data\n",
    "player_0_data.head(10)\n",
    "player_0_data.iloc[500:520]"
   ]
  },
  {
   "cell_type": "code",
   "execution_count": 14,
   "metadata": {
    "colab": {},
    "colab_type": "code",
    "id": "QQboajadl308"
   },
   "outputs": [],
   "source": [
    "def get_game_state_columns():\n",
    "    return [ # built-in columns only - no added data\n",
    "        'pos_x',\n",
    "        'pos_y',\n",
    "        'pos_z',\n",
    "        'rot_x',\n",
    "        'rot_y',\n",
    "        'rot_z',\n",
    "        'vel_x',\n",
    "        'vel_y',\n",
    "        'vel_z',\n",
    "        'ang_vel_x',\n",
    "        'ang_vel_y',\n",
    "        'ang_vel_z',\n",
    "        'active',\n",
    "        'boost',\n",
    "    ]\n",
    "\n",
    "def get_controller_input_columns():\n",
    "    return [\n",
    "        'throttle',\n",
    "        'steer',\n",
    "        'handbrake',\n",
    "        'dodge_active',\n",
    "        'double_jump_active',\n",
    "        'jump_active',\n",
    "        'boost_active',\n",
    "    ]\n",
    "\n",
    "def get_ball_columns():\n",
    "    return [\n",
    "        'pos_x',\n",
    "        'pos_y',\n",
    "        'pos_z',\n",
    "        'vel_x',\n",
    "        'vel_y',\n",
    "        'vel_z',\n",
    "    ]"
   ]
  },
  {
   "cell_type": "code",
   "execution_count": 15,
   "metadata": {
    "colab": {},
    "colab_type": "code",
    "id": "tm9RKHuel30-"
   },
   "outputs": [],
   "source": [
    "def add_active_column(df):\n",
    "    '''Returns a new dataframe with an extra 'action' column.\n",
    "    '''\n",
    "    dataframe = df.assign(active=(~np.isnan(df['steer'])).astype(int))\n",
    "    return dataframe"
   ]
  },
  {
   "cell_type": "code",
   "execution_count": 16,
   "metadata": {
    "colab": {},
    "colab_type": "code",
    "id": "oRNplzlel30_"
   },
   "outputs": [],
   "source": [
    "def clean_player_data(player_df, main_player=False, team=None):\n",
    "    '''Handles cleaning, copying, etc. of a player dataframe.\n",
    "    '''\n",
    "#     [get_controller_input_columns()]\n",
    "    with_active = add_active_column(player_df)\n",
    "    str_bool_to_int = { 'True': 1, 'False': 0, np.nan: 0, None: 0 }\n",
    "    # bool_to_int = { True: 1, False: 0, np.nan: 0, None: 0 }\n",
    "    \n",
    "    # convert odd-number based activations to 0 and 1\n",
    "    def odd_num_to_bool(num):\n",
    "        return int(num % 2 == 1)\n",
    "    with_active['dodge_active'] = with_active['dodge_active'].apply(odd_num_to_bool)\n",
    "    with_active['jump_active'] = with_active['jump_active'].apply(odd_num_to_bool)\n",
    "    with_active['double_jump_active'] = with_active['double_jump_active'].apply(odd_num_to_bool)\n",
    "\n",
    "    cleaned = with_active.replace({\n",
    "        'handbrake': str_bool_to_int,\n",
    "        'ball_cam': str_bool_to_int,\n",
    "        'boost_active': str_bool_to_int,\n",
    "    })\n",
    "\n",
    "    columns_to_fill = get_game_state_columns() + ['steer', 'throttle']\n",
    "    cleaned[columns_to_fill] = cleaned[columns_to_fill].fillna(0)\n",
    "\n",
    "    if not main_player:\n",
    "        cleaned = cleaned[get_game_state_columns()]\n",
    "\n",
    "    # @TODO This feels hacky - find a better way!\n",
    "    cols_to_normalize = get_game_state_columns()\n",
    "    if main_player:\n",
    "      cols_to_normalize += get_controller_input_columns()\n",
    "    if 'active' in cols_to_normalize:\n",
    "      cols_to_normalize.remove('active')\n",
    "    cols = cleaned[cols_to_normalize]\n",
    "    cleaned[cols_to_normalize] = (cols - cols.min()) / (cols.max() - cols.min())\n",
    "    # cleaned[cols_to_normalize] = (cols - cols.mean()) / (cols.max() - cols.min())\n",
    "\n",
    "    return cleaned"
   ]
  },
  {
   "cell_type": "code",
   "execution_count": 17,
   "metadata": {
    "colab": {},
    "colab_type": "code",
    "id": "6Ch9F05klMae"
   },
   "outputs": [],
   "source": [
    "def clean_ball_data(ball):\n",
    "  ball = ball[get_ball_columns()].copy()\n",
    "  ball = ball.fillna(0)\n",
    "  ball = (ball - ball.min()) / (ball.max() - ball.min())\n",
    "  return ball"
   ]
  },
  {
   "cell_type": "code",
   "execution_count": 18,
   "metadata": {
    "colab": {},
    "colab_type": "code",
    "id": "KQhGutxcl31B"
   },
   "outputs": [],
   "source": [
    "# INCOMPLETE/WIP\n",
    "def flip_y_values(df):\n",
    "#     pos_y, rot_y, vel_y, ang_vel_y\n",
    "    df['pos_y'] = -df['pos_y']\n",
    "    df['rot_y'] = -df['rot_y']\n",
    "    df['vel_y'] = -df['vel_y']\n",
    "    df['ang_vel_y'] = -df['ang_vel_y']"
   ]
  },
  {
   "cell_type": "code",
   "execution_count": 19,
   "metadata": {
    "colab": {},
    "colab_type": "code",
    "id": "zjAkjRNWl31D"
   },
   "outputs": [],
   "source": [
    "def get_stadium_number(stadium):\n",
    "  stadiums = [\n",
    "    'cs_day_p',\n",
    "    'NeoTokyo_Standard_P',\n",
    "    'UtopiaStadium_Dusk_P',\n",
    "    'Stadium_P',\n",
    "    'EuroStadium_Night_P',\n",
    "    'TrainStation_Dawn_P',\n",
    "    'cs_p',\n",
    "    'EuroStadium_P',\n",
    "    'Underwater_P',\n",
    "    'arc_standard_p',\n",
    "    'stadium_day_p',\n",
    "    'wasteland_Night_S_P',\n",
    "    'beach_P',\n",
    "    'wasteland_s_p',\n",
    "    'beach_night_p',\n",
    "    'Farm_Night_P',\n",
    "    'Farm_UpsideDown_P',\n",
    "    'EuroStadium_Rainy_P',\n",
    "    'UtopiaStadium_P',\n",
    "  ]\n",
    "\n",
    "  try:\n",
    "    index = stadiums.index(stadium)\n",
    "  except ValueError:\n",
    "    print(f\"WARNING: Stadium {stadium} does not have a numeric mapping.\")\n",
    "    return 0\n",
    "  return (index + 1) / (len(stadiums) + 1)"
   ]
  },
  {
   "cell_type": "code",
   "execution_count": 20,
   "metadata": {
    "colab": {},
    "colab_type": "code",
    "id": "k8cln729l31E"
   },
   "outputs": [],
   "source": [
    "def get_X_and_y(player, team, opponents, ball, game, team_num):\n",
    "    # Copy and save each separate dataframe for modification\n",
    "    game_state_columns = get_game_state_columns()\n",
    "    controller_input_columns = get_controller_input_columns()\n",
    "\n",
    "    player = clean_player_data(player.data, main_player=True)\n",
    "    player = player[player['active'] == 1]\n",
    "    # teammate1 = clean_player_data(team[0].data)\n",
    "    # teammate2 = clean_player_data(team[1].data)\n",
    "    opponent1 = clean_player_data(opponents[0].data)\n",
    "    # opponent2 = clean_player_data(opponents[1].data)\n",
    "    # opponent3 = clean_player_data(opponents[2].data)\n",
    "    ball = clean_ball_data(ball)\n",
    "    \n",
    "    # @TODO Flip x/y values of opponents: pos_y, rot_y, vel_y, ang_vel_y\n",
    "    # This ensures all training happens in the same direction (eg. opponent's goal is positive)\n",
    "    # NOTE: Need to think about what is required for this to make sense. Will try without.\n",
    "    # But, this is a potential MAJOR issue, and will likely require a bigger neural network.\n",
    "\n",
    "    y = player[controller_input_columns]\n",
    "    X = player[game_state_columns]\n",
    "\n",
    "    # X = pd.merge(X, teammate1, left_index=True, right_index=True, suffixes=('', '_team1'))\n",
    "    # X = pd.merge(X, teammate2, left_index=True, right_index=True, suffixes=('', '_team2'))\n",
    "    X = pd.merge(X, opponent1, left_index=True, right_index=True, suffixes=('', '_op1'))\n",
    "    # X = pd.merge(X, opponent2, left_index=True, right_index=True, suffixes=('', '_op2'))\n",
    "    # X = pd.merge(X, opponent3, left_index=True, right_index=True, suffixes=('', '_op3'))\n",
    "    X = pd.merge(X, ball, left_index=True, right_index=True, suffixes=('', '_ball'))\n",
    "\n",
    "    # normalize data (min-max)\n",
    "    y = (y - y.min()) / (y.max() - y.min())\n",
    "    \n",
    "    # add any extra fields (must normalize these separately)\n",
    "    X['map'] = get_stadium_number(game.map)\n",
    "    X['team'] = team_num\n",
    "\n",
    "    # @TODO [OPTIONAL] Loop over opponent dataframes. Build up new frames based on closest-to-ball\n",
    "    return X, y"
   ]
  },
  {
   "cell_type": "code",
   "execution_count": 21,
   "metadata": {},
   "outputs": [
    {
     "name": "stdout",
     "output_type": "stream",
     "text": [
      "1\n"
     ]
    }
   ],
   "source": [
    "games = map(get_game, game_files)\n",
    "max_games = 1\n",
    "print(max_games)"
   ]
  },
  {
   "cell_type": "code",
   "execution_count": 26,
   "metadata": {
    "colab": {
     "base_uri": "https://localhost:8080/",
     "height": 391
    },
    "colab_type": "code",
    "id": "WyRn1Bbql31G",
    "outputId": "43d6b627-b46b-4fc2-be15-27da87e9102b",
    "scrolled": true
   },
   "outputs": [
    {
     "name": "stdout",
     "output_type": "stream",
     "text": [
      "Parsing and concatenating 1 game(s). -----\n",
      "2019-11-22.01.55 TallieS Ranked Duel Loss: None vs None (5:6)\n",
      "Stopping at 1 max games.\n",
      "Completed game intake. -----\n"
     ]
    }
   ],
   "source": [
    "games = map(get_game, game_files)\n",
    "max_games = 1\n",
    "\n",
    "def get_game_data(game):\n",
    "  Xs = []\n",
    "  ys = []\n",
    "  print(game)\n",
    "  for i, team in enumerate(game.teams):\n",
    "      if i > 0: break # hack to skip second team\n",
    "      team_num = int(team.is_orange)\n",
    "      team = list(team.players)\n",
    "      opponents = list(game.teams[1 - i].players)\n",
    "      for j, player in enumerate(team):\n",
    "          if j > 0: continue # hack to skip other players\n",
    "          teammates = []\n",
    "          if len(team) == 2:\n",
    "            teammates = [team[(j + 1) % 3]]\n",
    "          elif len(team) == 3:\n",
    "            teammates = [team[(j + 1) % 3], team[(j + 2) % 3]]\n",
    "\n",
    "  #         print('Me:', player)\n",
    "  #         print('Teammates:', teammates[0].name, 'and', teammates[1].name)\n",
    "  #         print('Opponents:', opponents[0].name, opponents[1].name, opponents[2].name)\n",
    "  #         print('---')\n",
    "          new_X, new_y = get_X_and_y(player, teammates, opponents, game.ball, game, team_num)\n",
    "          Xs.append(new_X)\n",
    "          ys.append(new_y)\n",
    "  X = pd.concat(Xs)\n",
    "  y = pd.concat(ys)\n",
    "  return X, y\n",
    "\n",
    "\n",
    "num_games = len(list(games)) if max_games < 0 else max_games\n",
    "print(f'Parsing and concatenating {num_games} game(s). -----')\n",
    "\n",
    "all_Xs = []\n",
    "all_ys = []\n",
    "for i, game in enumerate(games):\n",
    "  if max_games >= 1 and i >= max_games:\n",
    "    print(f'Stopping at {max_games} max games.')\n",
    "    break\n",
    "  try:\n",
    "    new_X, new_y = get_game_data(game)\n",
    "  except TypeError:\n",
    "    print(f'ERROR: Game invalid. Skipping. ({game})')\n",
    "    continue\n",
    "  all_Xs.append(new_X)\n",
    "  all_ys.append(new_y)\n",
    "  # X = pd.concat(X, new_X)\n",
    "  # y = pd.concat(y, new_y)\n",
    "if len(all_Xs) == 0:\n",
    "  raise ValueError('all_Xs is empty. Should have at least one data set.')\n",
    "elif len(all_Xs) == 1:\n",
    "  X = all_Xs[0]\n",
    "  y = all_ys[0]\n",
    "else:\n",
    "  X = pd.concat(all_Xs)\n",
    "  y = pd.concat(all_ys)\n",
    "\n",
    "y = y[['steer']]\n",
    "# throttle, steer, handbrake, dodge_active, double_jump_active, jump_active, boost_active\n",
    "\n",
    "print(f'Completed game intake. -----')"
   ]
  },
  {
   "cell_type": "code",
   "execution_count": 27,
   "metadata": {
    "colab": {},
    "colab_type": "code",
    "id": "zubzoYJshQGG"
   },
   "outputs": [
    {
     "name": "stdout",
     "output_type": "stream",
     "text": [
      "Index(['pos_x', 'pos_y', 'pos_z', 'rot_x', 'rot_y', 'rot_z', 'vel_x', 'vel_y',\n",
      "       'vel_z', 'ang_vel_x', 'ang_vel_y', 'ang_vel_z', 'active', 'boost',\n",
      "       'pos_x_op1', 'pos_y_op1', 'pos_z_op1', 'rot_x_op1', 'rot_y_op1',\n",
      "       'rot_z_op1', 'vel_x_op1', 'vel_y_op1', 'vel_z_op1', 'ang_vel_x_op1',\n",
      "       'ang_vel_y_op1', 'ang_vel_z_op1', 'active_op1', 'boost_op1',\n",
      "       'pos_x_ball', 'pos_y_ball', 'pos_z_ball', 'vel_x_ball', 'vel_y_ball',\n",
      "       'vel_z_ball', 'map', 'team'],\n",
      "      dtype='object')\n"
     ]
    },
    {
     "data": {
      "text/html": [
       "<div>\n",
       "<style scoped>\n",
       "    .dataframe tbody tr th:only-of-type {\n",
       "        vertical-align: middle;\n",
       "    }\n",
       "\n",
       "    .dataframe tbody tr th {\n",
       "        vertical-align: top;\n",
       "    }\n",
       "\n",
       "    .dataframe thead th {\n",
       "        text-align: right;\n",
       "    }\n",
       "</style>\n",
       "<table border=\"1\" class=\"dataframe\">\n",
       "  <thead>\n",
       "    <tr style=\"text-align: right;\">\n",
       "      <th></th>\n",
       "      <th>pos_x</th>\n",
       "      <th>pos_y</th>\n",
       "      <th>pos_z</th>\n",
       "      <th>rot_x</th>\n",
       "      <th>rot_y</th>\n",
       "      <th>rot_z</th>\n",
       "      <th>vel_x</th>\n",
       "      <th>vel_y</th>\n",
       "      <th>vel_z</th>\n",
       "      <th>ang_vel_x</th>\n",
       "      <th>...</th>\n",
       "      <th>active_op1</th>\n",
       "      <th>boost_op1</th>\n",
       "      <th>pos_x_ball</th>\n",
       "      <th>pos_y_ball</th>\n",
       "      <th>pos_z_ball</th>\n",
       "      <th>vel_x_ball</th>\n",
       "      <th>vel_y_ball</th>\n",
       "      <th>vel_z_ball</th>\n",
       "      <th>map</th>\n",
       "      <th>team</th>\n",
       "    </tr>\n",
       "  </thead>\n",
       "  <tbody>\n",
       "    <tr>\n",
       "      <th>112</th>\n",
       "      <td>0.468229</td>\n",
       "      <td>0.820997</td>\n",
       "      <td>0.011022</td>\n",
       "      <td>0.548936</td>\n",
       "      <td>0.250033</td>\n",
       "      <td>0.499987</td>\n",
       "      <td>0.503852</td>\n",
       "      <td>0.500101</td>\n",
       "      <td>0.499899</td>\n",
       "      <td>0.499859</td>\n",
       "      <td>...</td>\n",
       "      <td>1</td>\n",
       "      <td>0.333333</td>\n",
       "      <td>0.49993</td>\n",
       "      <td>0.499832</td>\n",
       "      <td>0.003055</td>\n",
       "      <td>0.530484</td>\n",
       "      <td>0.4882</td>\n",
       "      <td>0.504461</td>\n",
       "      <td>0.2</td>\n",
       "      <td>1</td>\n",
       "    </tr>\n",
       "  </tbody>\n",
       "</table>\n",
       "<p>1 rows × 36 columns</p>\n",
       "</div>"
      ],
      "text/plain": [
       "        pos_x     pos_y     pos_z     rot_x     rot_y     rot_z     vel_x  \\\n",
       "112  0.468229  0.820997  0.011022  0.548936  0.250033  0.499987  0.503852   \n",
       "\n",
       "        vel_y     vel_z  ang_vel_x  ...  active_op1  boost_op1  pos_x_ball  \\\n",
       "112  0.500101  0.499899   0.499859  ...           1   0.333333     0.49993   \n",
       "\n",
       "     pos_y_ball  pos_z_ball  vel_x_ball  vel_y_ball  vel_z_ball  map  team  \n",
       "112    0.499832    0.003055    0.530484      0.4882    0.504461  0.2     1  \n",
       "\n",
       "[1 rows x 36 columns]"
      ]
     },
     "execution_count": 27,
     "metadata": {},
     "output_type": "execute_result"
    }
   ],
   "source": [
    "print(X.columns)\n",
    "X.head(1)"
   ]
  },
  {
   "cell_type": "code",
   "execution_count": 28,
   "metadata": {
    "colab": {},
    "colab_type": "code",
    "id": "RymtARcshRls"
   },
   "outputs": [
    {
     "data": {
      "text/html": [
       "<div>\n",
       "<style scoped>\n",
       "    .dataframe tbody tr th:only-of-type {\n",
       "        vertical-align: middle;\n",
       "    }\n",
       "\n",
       "    .dataframe tbody tr th {\n",
       "        vertical-align: top;\n",
       "    }\n",
       "\n",
       "    .dataframe thead th {\n",
       "        text-align: right;\n",
       "    }\n",
       "</style>\n",
       "<table border=\"1\" class=\"dataframe\">\n",
       "  <thead>\n",
       "    <tr style=\"text-align: right;\">\n",
       "      <th></th>\n",
       "      <th>steer</th>\n",
       "    </tr>\n",
       "  </thead>\n",
       "  <tbody>\n",
       "    <tr>\n",
       "      <th>112</th>\n",
       "      <td>0.533333</td>\n",
       "    </tr>\n",
       "  </tbody>\n",
       "</table>\n",
       "</div>"
      ],
      "text/plain": [
       "        steer\n",
       "112  0.533333"
      ]
     },
     "execution_count": 28,
     "metadata": {},
     "output_type": "execute_result"
    }
   ],
   "source": [
    "y.head(1)"
   ]
  },
  {
   "cell_type": "code",
   "execution_count": 29,
   "metadata": {
    "colab": {},
    "colab_type": "code",
    "id": "qWbkLtb5l31I"
   },
   "outputs": [
    {
     "name": "stdout",
     "output_type": "stream",
     "text": [
      "(6547, 36)\n",
      "(2182, 36)\n",
      "(2182, 36)\n",
      "(6547, 1)\n",
      "(2182, 1)\n",
      "(2182, 1)\n",
      "10911\n",
      "10911\n",
      "We have 10911 rows in X. We have 10911 in all sub-matrices combined (which should be the same).\n"
     ]
    }
   ],
   "source": [
    "def take_sample(X, y, quantity):\n",
    "  if quantity == None: return X, y\n",
    "  return X[0:quantity], y[0:quantity]\n",
    "\n",
    "\n",
    "X_shuffled = X.sample(frac=1)\n",
    "y_shuffled = y.sample(frac=1)\n",
    "# X_shuffled, y_shuffled = take_sample(X_shuffled, y_shuffled, 3000)\n",
    "m = X_shuffled.shape[0]\n",
    "\n",
    "size_val_set = min(int(m * 0.2), 20000)\n",
    "size_test_set = min(int(m * 0.2), 20000)\n",
    "end_test_set = size_val_set + size_test_set\n",
    "X_val = X_shuffled[0:size_val_set]\n",
    "y_val = y_shuffled[0:size_val_set]\n",
    "X_test = X_shuffled[size_val_set:end_test_set]\n",
    "y_test = y_shuffled[size_val_set:end_test_set]\n",
    "X_train = X_shuffled[end_test_set:]\n",
    "y_train = y_shuffled[end_test_set:]\n",
    "\n",
    "print(X_train.shape)\n",
    "print(X_val.shape)\n",
    "print(X_test.shape)\n",
    "\n",
    "print(y_train.shape)\n",
    "print(y_val.shape)\n",
    "print(y_test.shape)\n",
    "\n",
    "sum_rows = X_train.shape[0] + X_val.shape[0] + X_test.shape[0]\n",
    "print(X_train.shape[0] + X_val.shape[0] + X_test.shape[0])\n",
    "print(X.shape[0])\n",
    "print(f\"We have {X_shuffled.shape[0]} rows in X. We have {sum_rows} in all sub-matrices combined (which should be the same).\")\n",
    "assert(sum_rows == X_shuffled.shape[0])"
   ]
  },
  {
   "cell_type": "code",
   "execution_count": 30,
   "metadata": {
    "colab": {},
    "colab_type": "code",
    "id": "L-bQPIIMxWl_"
   },
   "outputs": [
    {
     "data": {
      "text/html": [
       "<div>\n",
       "<style scoped>\n",
       "    .dataframe tbody tr th:only-of-type {\n",
       "        vertical-align: middle;\n",
       "    }\n",
       "\n",
       "    .dataframe tbody tr th {\n",
       "        vertical-align: top;\n",
       "    }\n",
       "\n",
       "    .dataframe thead th {\n",
       "        text-align: right;\n",
       "    }\n",
       "</style>\n",
       "<table border=\"1\" class=\"dataframe\">\n",
       "  <thead>\n",
       "    <tr style=\"text-align: right;\">\n",
       "      <th></th>\n",
       "      <th>pos_x</th>\n",
       "      <th>pos_y</th>\n",
       "      <th>pos_z</th>\n",
       "      <th>rot_x</th>\n",
       "      <th>rot_y</th>\n",
       "      <th>rot_z</th>\n",
       "      <th>vel_x</th>\n",
       "      <th>vel_y</th>\n",
       "      <th>vel_z</th>\n",
       "      <th>ang_vel_x</th>\n",
       "      <th>...</th>\n",
       "      <th>active_op1</th>\n",
       "      <th>boost_op1</th>\n",
       "      <th>pos_x_ball</th>\n",
       "      <th>pos_y_ball</th>\n",
       "      <th>pos_z_ball</th>\n",
       "      <th>vel_x_ball</th>\n",
       "      <th>vel_y_ball</th>\n",
       "      <th>vel_z_ball</th>\n",
       "      <th>map</th>\n",
       "      <th>team</th>\n",
       "    </tr>\n",
       "  </thead>\n",
       "  <tbody>\n",
       "    <tr>\n",
       "      <th>112</th>\n",
       "      <td>0.468229</td>\n",
       "      <td>0.820997</td>\n",
       "      <td>0.011022</td>\n",
       "      <td>0.548936</td>\n",
       "      <td>0.250033</td>\n",
       "      <td>0.499987</td>\n",
       "      <td>0.503852</td>\n",
       "      <td>0.500101</td>\n",
       "      <td>0.499899</td>\n",
       "      <td>0.499859</td>\n",
       "      <td>...</td>\n",
       "      <td>1</td>\n",
       "      <td>0.333333</td>\n",
       "      <td>0.49993</td>\n",
       "      <td>0.499832</td>\n",
       "      <td>0.003055</td>\n",
       "      <td>0.530484</td>\n",
       "      <td>0.4882</td>\n",
       "      <td>0.504461</td>\n",
       "      <td>0.2</td>\n",
       "      <td>1</td>\n",
       "    </tr>\n",
       "  </tbody>\n",
       "</table>\n",
       "<p>1 rows × 36 columns</p>\n",
       "</div>"
      ],
      "text/plain": [
       "        pos_x     pos_y     pos_z     rot_x     rot_y     rot_z     vel_x  \\\n",
       "112  0.468229  0.820997  0.011022  0.548936  0.250033  0.499987  0.503852   \n",
       "\n",
       "        vel_y     vel_z  ang_vel_x  ...  active_op1  boost_op1  pos_x_ball  \\\n",
       "112  0.500101  0.499899   0.499859  ...           1   0.333333     0.49993   \n",
       "\n",
       "     pos_y_ball  pos_z_ball  vel_x_ball  vel_y_ball  vel_z_ball  map  team  \n",
       "112    0.499832    0.003055    0.530484      0.4882    0.504461  0.2     1  \n",
       "\n",
       "[1 rows x 36 columns]"
      ]
     },
     "execution_count": 30,
     "metadata": {},
     "output_type": "execute_result"
    }
   ],
   "source": [
    "X.head(1)"
   ]
  },
  {
   "cell_type": "code",
   "execution_count": 31,
   "metadata": {
    "colab": {},
    "colab_type": "code",
    "id": "dLcSKiUdxyCP"
   },
   "outputs": [
    {
     "data": {
      "text/html": [
       "<div>\n",
       "<style scoped>\n",
       "    .dataframe tbody tr th:only-of-type {\n",
       "        vertical-align: middle;\n",
       "    }\n",
       "\n",
       "    .dataframe tbody tr th {\n",
       "        vertical-align: top;\n",
       "    }\n",
       "\n",
       "    .dataframe thead th {\n",
       "        text-align: right;\n",
       "    }\n",
       "</style>\n",
       "<table border=\"1\" class=\"dataframe\">\n",
       "  <thead>\n",
       "    <tr style=\"text-align: right;\">\n",
       "      <th></th>\n",
       "      <th>steer</th>\n",
       "    </tr>\n",
       "  </thead>\n",
       "  <tbody>\n",
       "    <tr>\n",
       "      <th>112</th>\n",
       "      <td>0.533333</td>\n",
       "    </tr>\n",
       "  </tbody>\n",
       "</table>\n",
       "</div>"
      ],
      "text/plain": [
       "        steer\n",
       "112  0.533333"
      ]
     },
     "execution_count": 31,
     "metadata": {},
     "output_type": "execute_result"
    }
   ],
   "source": [
    "y.head(1)"
   ]
  },
  {
   "cell_type": "markdown",
   "metadata": {
    "colab_type": "text",
    "id": "VZ9JLpxul31K"
   },
   "source": [
    "## Distributions of controller inputs"
   ]
  },
  {
   "cell_type": "code",
   "execution_count": 32,
   "metadata": {
    "colab": {},
    "colab_type": "code",
    "id": "0boYgE0Hl31L",
    "scrolled": false
   },
   "outputs": [
    {
     "data": {
      "text/plain": [
       "array([[<matplotlib.axes._subplots.AxesSubplot object at 0x13a40a780>]],\n",
       "      dtype=object)"
      ]
     },
     "execution_count": 32,
     "metadata": {},
     "output_type": "execute_result"
    },
    {
     "data": {
      "image/png": "[encoded data removed]",
      "text/plain": [
       "<Figure size 864x576 with 1 Axes>"
      ]
     },
     "metadata": {
      "needs_background": "light"
     },
     "output_type": "display_data"
    }
   ],
   "source": [
    "y.hist(figsize=(12, 8))"
   ]
  },
  {
   "cell_type": "code",
   "execution_count": 33,
   "metadata": {
    "colab": {},
    "colab_type": "code",
    "id": "NOlDWFQjr_U5"
   },
   "outputs": [
    {
     "data": {
      "text/plain": [
       "Series([], dtype: bool)"
      ]
     },
     "execution_count": 33,
     "metadata": {},
     "output_type": "execute_result"
    }
   ],
   "source": [
    "x_nulls = X.isnull().any()\n",
    "x_nulls[x_nulls == True]"
   ]
  },
  {
   "cell_type": "code",
   "execution_count": 34,
   "metadata": {
    "colab": {},
    "colab_type": "code",
    "id": "pfCQHx85Qs3S"
   },
   "outputs": [],
   "source": [
    "from tensorflow.keras.models import Sequential\n",
    "from tensorflow.keras.layers import Dense\n",
    "from tensorflow.keras.layers import Dropout\n",
    "\n",
    "classifier = Sequential()\n",
    "\n",
    "classifier.add(Dense(units=400, activation='relu', input_dim=X.shape[1]))\n",
    "\n",
    "# for i in range(1):\n",
    "#     classifier.add(Dense(units=400, activation='relu'))\n",
    "#     classifier.add(Dropout(0.5))\n",
    "#     classifier.add(Dense(units=400, activation='relu'))\n",
    "\n",
    "classifier.add(Dense(units=y.shape[1], activation='linear'))"
   ]
  },
  {
   "cell_type": "code",
   "execution_count": 35,
   "metadata": {
    "colab": {},
    "colab_type": "code",
    "id": "ysVqCe13VjaM"
   },
   "outputs": [],
   "source": [
    "# losses to try: binary_crossentropy, categorical_crossentropy, mean_squared_error, poisson, mean_squared_logarithmic_error, mean_absolute_error\n",
    "# optimizer = 'adam' # or rmsprop\n",
    "learning_rate = 0.0001\n",
    "optimizer = tf.keras.optimizers.Adam(learning_rate=learning_rate, beta_1=0.9, beta_2=0.999, amsgrad=False)\n",
    "loss = 'mean_absolute_error'\n",
    "metrics = ['accuracy']\n",
    "classifier.compile(optimizer=optimizer, loss=loss, metrics=metrics)"
   ]
  },
  {
   "cell_type": "code",
   "execution_count": 36,
   "metadata": {
    "colab": {},
    "colab_type": "code",
    "id": "Wh0WC0EJWJmV",
    "scrolled": true
   },
   "outputs": [
    {
     "name": "stdout",
     "output_type": "stream",
     "text": [
      "Series([], dtype: bool)\n",
      "Series([], dtype: bool)\n",
      "(6547, 36)\n",
      "WARNING:tensorflow:Falling back from v2 loop because of error: Failed to find data adapter that can handle input: <class 'pandas.core.frame.DataFrame'>, <class 'NoneType'>\n",
      "Train on 6547 samples, validate on 2182 samples\n",
      "Epoch 1/50\n",
      "6547/6547 [==============================] - 0s 29us/sample - loss: 0.4332 - accuracy: 0.1234 - val_loss: 0.2770 - val_accuracy: 0.1352\n",
      "Epoch 2/50\n",
      "6547/6547 [==============================] - 0s 9us/sample - loss: 0.2568 - accuracy: 0.1210 - val_loss: 0.2639 - val_accuracy: 0.1256\n",
      "Epoch 3/50\n",
      "6547/6547 [==============================] - 0s 9us/sample - loss: 0.2467 - accuracy: 0.1233 - val_loss: 0.2565 - val_accuracy: 0.1251\n",
      "Epoch 4/50\n",
      "6547/6547 [==============================] - 0s 8us/sample - loss: 0.2411 - accuracy: 0.1193 - val_loss: 0.2520 - val_accuracy: 0.1247\n",
      "Epoch 5/50\n",
      "6547/6547 [==============================] - 0s 9us/sample - loss: 0.2381 - accuracy: 0.1231 - val_loss: 0.2493 - val_accuracy: 0.1214\n",
      "Epoch 6/50\n",
      "6547/6547 [==============================] - 0s 10us/sample - loss: 0.2363 - accuracy: 0.1217 - val_loss: 0.2475 - val_accuracy: 0.1201\n",
      "Epoch 7/50\n",
      "6547/6547 [==============================] - 0s 9us/sample - loss: 0.2347 - accuracy: 0.1242 - val_loss: 0.2465 - val_accuracy: 0.1210\n",
      "Epoch 8/50\n",
      "6547/6547 [==============================] - 0s 9us/sample - loss: 0.2339 - accuracy: 0.1257 - val_loss: 0.2461 - val_accuracy: 0.1178\n",
      "Epoch 9/50\n",
      "6547/6547 [==============================] - 0s 8us/sample - loss: 0.2327 - accuracy: 0.1245 - val_loss: 0.2450 - val_accuracy: 0.1192\n",
      "Epoch 10/50\n",
      "6547/6547 [==============================] - 0s 9us/sample - loss: 0.2321 - accuracy: 0.1245 - val_loss: 0.2444 - val_accuracy: 0.1237\n",
      "Epoch 11/50\n",
      "6547/6547 [==============================] - 0s 9us/sample - loss: 0.2316 - accuracy: 0.1275 - val_loss: 0.2440 - val_accuracy: 0.1169\n",
      "Epoch 12/50\n",
      "6547/6547 [==============================] - 0s 9us/sample - loss: 0.2310 - accuracy: 0.1263 - val_loss: 0.2433 - val_accuracy: 0.1205\n",
      "Epoch 13/50\n",
      "6547/6547 [==============================] - 0s 9us/sample - loss: 0.2306 - accuracy: 0.1315 - val_loss: 0.2439 - val_accuracy: 0.1334\n",
      "Epoch 14/50\n",
      "6547/6547 [==============================] - 0s 9us/sample - loss: 0.2305 - accuracy: 0.1285 - val_loss: 0.2430 - val_accuracy: 0.1237\n",
      "Epoch 15/50\n",
      "6547/6547 [==============================] - 0s 9us/sample - loss: 0.2302 - accuracy: 0.1280 - val_loss: 0.2426 - val_accuracy: 0.1297\n",
      "Epoch 16/50\n",
      "6547/6547 [==============================] - 0s 9us/sample - loss: 0.2300 - accuracy: 0.1295 - val_loss: 0.2427 - val_accuracy: 0.1265\n",
      "Epoch 17/50\n",
      "6547/6547 [==============================] - 0s 9us/sample - loss: 0.2301 - accuracy: 0.1324 - val_loss: 0.2425 - val_accuracy: 0.1315\n",
      "Epoch 18/50\n",
      "6547/6547 [==============================] - 0s 9us/sample - loss: 0.2296 - accuracy: 0.1321 - val_loss: 0.2421 - val_accuracy: 0.1302\n",
      "Epoch 19/50\n",
      "6547/6547 [==============================] - 0s 9us/sample - loss: 0.2297 - accuracy: 0.1318 - val_loss: 0.2420 - val_accuracy: 0.1320\n",
      "Epoch 20/50\n",
      "6547/6547 [==============================] - 0s 8us/sample - loss: 0.2295 - accuracy: 0.1340 - val_loss: 0.2420 - val_accuracy: 0.1375\n",
      "Epoch 21/50\n",
      "6547/6547 [==============================] - 0s 9us/sample - loss: 0.2295 - accuracy: 0.1323 - val_loss: 0.2421 - val_accuracy: 0.1315\n",
      "Epoch 22/50\n",
      "6547/6547 [==============================] - 0s 9us/sample - loss: 0.2291 - accuracy: 0.1367 - val_loss: 0.2421 - val_accuracy: 0.1288\n",
      "Epoch 23/50\n",
      "6547/6547 [==============================] - 0s 9us/sample - loss: 0.2295 - accuracy: 0.1340 - val_loss: 0.2419 - val_accuracy: 0.1370\n",
      "Epoch 24/50\n",
      "6547/6547 [==============================] - 0s 9us/sample - loss: 0.2292 - accuracy: 0.1327 - val_loss: 0.2418 - val_accuracy: 0.1357\n",
      "Epoch 25/50\n",
      "6547/6547 [==============================] - 0s 9us/sample - loss: 0.2289 - accuracy: 0.1347 - val_loss: 0.2416 - val_accuracy: 0.1357\n",
      "Epoch 26/50\n",
      "6547/6547 [==============================] - 0s 9us/sample - loss: 0.2290 - accuracy: 0.1367 - val_loss: 0.2417 - val_accuracy: 0.1347\n",
      "Epoch 27/50\n",
      "6547/6547 [==============================] - 0s 9us/sample - loss: 0.2286 - accuracy: 0.1376 - val_loss: 0.2422 - val_accuracy: 0.1425\n",
      "Epoch 28/50\n",
      "6547/6547 [==============================] - 0s 9us/sample - loss: 0.2286 - accuracy: 0.1393 - val_loss: 0.2422 - val_accuracy: 0.1311\n",
      "Epoch 29/50\n",
      "6547/6547 [==============================] - 0s 9us/sample - loss: 0.2288 - accuracy: 0.1393 - val_loss: 0.2417 - val_accuracy: 0.1343\n",
      "Epoch 30/50\n",
      "6547/6547 [==============================] - 0s 9us/sample - loss: 0.2289 - accuracy: 0.1373 - val_loss: 0.2425 - val_accuracy: 0.1425\n",
      "Epoch 31/50\n",
      "6547/6547 [==============================] - 0s 9us/sample - loss: 0.2290 - accuracy: 0.1312 - val_loss: 0.2422 - val_accuracy: 0.1467\n",
      "Epoch 32/50\n",
      "6547/6547 [==============================] - 0s 9us/sample - loss: 0.2287 - accuracy: 0.1381 - val_loss: 0.2415 - val_accuracy: 0.1347\n",
      "Epoch 33/50\n",
      "6547/6547 [==============================] - 0s 9us/sample - loss: 0.2282 - accuracy: 0.1398 - val_loss: 0.2422 - val_accuracy: 0.1283\n",
      "Epoch 34/50\n",
      "6547/6547 [==============================] - 0s 9us/sample - loss: 0.2282 - accuracy: 0.1399 - val_loss: 0.2416 - val_accuracy: 0.1352\n",
      "Epoch 35/50\n",
      "6547/6547 [==============================] - 0s 9us/sample - loss: 0.2292 - accuracy: 0.1355 - val_loss: 0.2435 - val_accuracy: 0.1389\n",
      "Epoch 36/50\n",
      "6547/6547 [==============================] - 0s 9us/sample - loss: 0.2294 - accuracy: 0.1324 - val_loss: 0.2453 - val_accuracy: 0.1274\n",
      "Epoch 37/50\n",
      "6547/6547 [==============================] - 0s 9us/sample - loss: 0.2287 - accuracy: 0.1414 - val_loss: 0.2416 - val_accuracy: 0.1430\n",
      "Epoch 38/50\n",
      "6547/6547 [==============================] - 0s 9us/sample - loss: 0.2283 - accuracy: 0.1402 - val_loss: 0.2414 - val_accuracy: 0.1347\n",
      "Epoch 39/50\n",
      "6547/6547 [==============================] - 0s 9us/sample - loss: 0.2280 - accuracy: 0.1419 - val_loss: 0.2414 - val_accuracy: 0.1361\n",
      "Epoch 40/50\n",
      "6547/6547 [==============================] - 0s 9us/sample - loss: 0.2285 - accuracy: 0.1381 - val_loss: 0.2426 - val_accuracy: 0.1421\n",
      "Epoch 41/50\n",
      "6547/6547 [==============================] - 0s 8us/sample - loss: 0.2296 - accuracy: 0.1373 - val_loss: 0.2420 - val_accuracy: 0.1384\n",
      "Epoch 42/50\n",
      "6547/6547 [==============================] - 0s 9us/sample - loss: 0.2281 - accuracy: 0.1384 - val_loss: 0.2412 - val_accuracy: 0.1366\n",
      "Epoch 43/50\n",
      "6547/6547 [==============================] - 0s 8us/sample - loss: 0.2280 - accuracy: 0.1376 - val_loss: 0.2415 - val_accuracy: 0.1343\n",
      "Epoch 44/50\n",
      "6547/6547 [==============================] - 0s 9us/sample - loss: 0.2278 - accuracy: 0.1405 - val_loss: 0.2413 - val_accuracy: 0.1375\n",
      "Epoch 45/50\n",
      "6547/6547 [==============================] - 0s 9us/sample - loss: 0.2282 - accuracy: 0.1405 - val_loss: 0.2415 - val_accuracy: 0.1425\n",
      "Epoch 46/50\n",
      "6547/6547 [==============================] - 0s 9us/sample - loss: 0.2281 - accuracy: 0.1427 - val_loss: 0.2414 - val_accuracy: 0.1393\n",
      "Epoch 47/50\n",
      "6547/6547 [==============================] - 0s 9us/sample - loss: 0.2282 - accuracy: 0.1434 - val_loss: 0.2419 - val_accuracy: 0.1467\n",
      "Epoch 48/50\n",
      "6547/6547 [==============================] - 0s 9us/sample - loss: 0.2280 - accuracy: 0.1372 - val_loss: 0.2412 - val_accuracy: 0.1384\n",
      "Epoch 49/50\n",
      "6547/6547 [==============================] - 0s 9us/sample - loss: 0.2278 - accuracy: 0.1437 - val_loss: 0.2412 - val_accuracy: 0.1412\n",
      "Epoch 50/50\n",
      "6547/6547 [==============================] - 0s 10us/sample - loss: 0.2277 - accuracy: 0.1434 - val_loss: 0.2410 - val_accuracy: 0.1393\n"
     ]
    }
   ],
   "source": [
    "x_nulls = X.isnull().any()\n",
    "print(x_nulls[x_nulls == True])\n",
    "y_nulls = y.isnull().any()\n",
    "print(y_nulls[y_nulls == True])\n",
    "print(X_train.shape)\n",
    "\n",
    "history = classifier.fit(X_train, y_train, batch_size = 128, epochs = 50, validation_data=(X_val, y_val))"
   ]
  },
  {
   "cell_type": "code",
   "execution_count": 37,
   "metadata": {
    "colab": {},
    "colab_type": "code",
    "id": "WKFSDL3Am-1o"
   },
   "outputs": [
    {
     "data": {
      "image/png": "[encoded data removed]",
      "text/plain": [
       "<Figure size 432x288 with 1 Axes>"
      ]
     },
     "metadata": {
      "needs_background": "light"
     },
     "output_type": "display_data"
    },
    {
     "data": {
      "image/png": "[encoded data removed]",
      "text/plain": [
       "<Figure size 432x288 with 1 Axes>"
      ]
     },
     "metadata": {
      "needs_background": "light"
     },
     "output_type": "display_data"
    }
   ],
   "source": [
    "plt.plot(history.history['loss'])\n",
    "plt.plot(history.history['val_loss'])\n",
    "plt.title('Model loss')\n",
    "plt.ylabel('Loss')\n",
    "plt.xlabel('Epoch')\n",
    "plt.legend(['Train', 'Dev'], loc='best')\n",
    "plt.show()\n",
    "\n",
    "plt.plot(history.history['accuracy'])\n",
    "plt.plot(history.history['val_accuracy'])\n",
    "plt.title('Model accuracy')\n",
    "plt.ylabel('Accuracy')\n",
    "plt.xlabel('Epoch')\n",
    "plt.legend(['Train', 'Dev'], loc='best')\n",
    "plt.show()"
   ]
  },
  {
   "cell_type": "code",
   "execution_count": 38,
   "metadata": {
    "colab": {},
    "colab_type": "code",
    "id": "E7Dg_ISgWiEM"
   },
   "outputs": [
    {
     "name": "stdout",
     "output_type": "stream",
     "text": [
      "WARNING:tensorflow:Falling back from v2 loop because of error: Failed to find data adapter that can handle input: <class 'pandas.core.frame.DataFrame'>, <class 'NoneType'>\n",
      "(2182, 1)\n"
     ]
    }
   ],
   "source": [
    "y_pred = classifier.predict(X_val)\n",
    "print(y_pred.shape)"
   ]
  },
  {
   "cell_type": "code",
   "execution_count": 39,
   "metadata": {
    "colab": {},
    "colab_type": "code",
    "id": "4ojXbWvnFVTF"
   },
   "outputs": [
    {
     "name": "stdout",
     "output_type": "stream",
     "text": [
      "(36,)\n",
      "<class 'pandas.core.series.Series'>\n",
      "[[0.04469543 0.51967403 0.61571877 0.25338593 0.45163532 0.50001813\n",
      "  0.62539399 0.1734889  0.61761378 0.84998407 0.47937764 0.8551324\n",
      "  1.         0.90980392 0.21814852 0.41458824 0.00818376 0.50722609\n",
      "  0.21823169 0.49972993 0.40575994 0.01220703 0.50592017 0.49860879\n",
      "  0.49637553 0.43963123 1.         0.11867213 0.08710952 0.49167408\n",
      "  0.57315983 0.61279283 0.22817278 0.61245733 0.2        1.        ]]\n",
      "(1, 36)\n"
     ]
    }
   ],
   "source": [
    "first_row = X_val.iloc[0]\n",
    "print(first_row.shape)\n",
    "print(type(first_row))\n",
    "arr = np.ndarray((1, first_row.shape[0]), buffer=np.array(first_row))\n",
    "print(arr)\n",
    "print(arr.shape)\n",
    "output = classifier.predict(arr)"
   ]
  },
  {
   "cell_type": "code",
   "execution_count": 40,
   "metadata": {
    "colab": {},
    "colab_type": "code",
    "id": "jgxj2FNyRghm"
   },
   "outputs": [],
   "source": [
    "try:\n",
    "  print(output.flatten()[1])\n",
    "except IndexError as e:\n",
    "  pass"
   ]
  },
  {
   "cell_type": "code",
   "execution_count": 41,
   "metadata": {
    "colab": {},
    "colab_type": "code",
    "id": "WSvBp3NtFPTQ"
   },
   "outputs": [
    {
     "data": {
      "text/html": [
       "<div>\n",
       "<style scoped>\n",
       "    .dataframe tbody tr th:only-of-type {\n",
       "        vertical-align: middle;\n",
       "    }\n",
       "\n",
       "    .dataframe tbody tr th {\n",
       "        vertical-align: top;\n",
       "    }\n",
       "\n",
       "    .dataframe thead th {\n",
       "        text-align: right;\n",
       "    }\n",
       "</style>\n",
       "<table border=\"1\" class=\"dataframe\">\n",
       "  <thead>\n",
       "    <tr style=\"text-align: right;\">\n",
       "      <th></th>\n",
       "      <th>pos_x</th>\n",
       "      <th>pos_y</th>\n",
       "      <th>pos_z</th>\n",
       "      <th>rot_x</th>\n",
       "      <th>rot_y</th>\n",
       "      <th>rot_z</th>\n",
       "      <th>vel_x</th>\n",
       "      <th>vel_y</th>\n",
       "      <th>vel_z</th>\n",
       "      <th>ang_vel_x</th>\n",
       "      <th>...</th>\n",
       "      <th>active_op1</th>\n",
       "      <th>boost_op1</th>\n",
       "      <th>pos_x_ball</th>\n",
       "      <th>pos_y_ball</th>\n",
       "      <th>pos_z_ball</th>\n",
       "      <th>vel_x_ball</th>\n",
       "      <th>vel_y_ball</th>\n",
       "      <th>vel_z_ball</th>\n",
       "      <th>map</th>\n",
       "      <th>team</th>\n",
       "    </tr>\n",
       "  </thead>\n",
       "  <tbody>\n",
       "    <tr>\n",
       "      <th>1696</th>\n",
       "      <td>0.044695</td>\n",
       "      <td>0.519674</td>\n",
       "      <td>0.615719</td>\n",
       "      <td>0.253386</td>\n",
       "      <td>0.451635</td>\n",
       "      <td>0.500018</td>\n",
       "      <td>0.625394</td>\n",
       "      <td>0.173489</td>\n",
       "      <td>0.617614</td>\n",
       "      <td>0.849984</td>\n",
       "      <td>...</td>\n",
       "      <td>1</td>\n",
       "      <td>0.118672</td>\n",
       "      <td>0.08711</td>\n",
       "      <td>0.491674</td>\n",
       "      <td>0.57316</td>\n",
       "      <td>0.612793</td>\n",
       "      <td>0.228173</td>\n",
       "      <td>0.612457</td>\n",
       "      <td>0.2</td>\n",
       "      <td>1</td>\n",
       "    </tr>\n",
       "  </tbody>\n",
       "</table>\n",
       "<p>1 rows × 36 columns</p>\n",
       "</div>"
      ],
      "text/plain": [
       "         pos_x     pos_y     pos_z     rot_x     rot_y     rot_z     vel_x  \\\n",
       "1696  0.044695  0.519674  0.615719  0.253386  0.451635  0.500018  0.625394   \n",
       "\n",
       "         vel_y     vel_z  ang_vel_x  ...  active_op1  boost_op1  pos_x_ball  \\\n",
       "1696  0.173489  0.617614   0.849984  ...           1   0.118672     0.08711   \n",
       "\n",
       "      pos_y_ball  pos_z_ball  vel_x_ball  vel_y_ball  vel_z_ball  map  team  \n",
       "1696    0.491674     0.57316    0.612793    0.228173    0.612457  0.2     1  \n",
       "\n",
       "[1 rows x 36 columns]"
      ]
     },
     "execution_count": 41,
     "metadata": {},
     "output_type": "execute_result"
    }
   ],
   "source": [
    "X_val.head(1)"
   ]
  },
  {
   "cell_type": "code",
   "execution_count": 42,
   "metadata": {
    "colab": {},
    "colab_type": "code",
    "id": "zE8GNKgtXqFO"
   },
   "outputs": [
    {
     "name": "stdout",
     "output_type": "stream",
     "text": [
      "WARNING:tensorflow:Falling back from v2 loop because of error: Failed to find data adapter that can handle input: <class 'pandas.core.frame.DataFrame'>, <class 'NoneType'>\n"
     ]
    },
    {
     "data": {
      "text/plain": [
       "{'steer': 0.5008552}"
      ]
     },
     "execution_count": 42,
     "metadata": {},
     "output_type": "execute_result"
    }
   ],
   "source": [
    "one_prediction = classifier.predict(X_test.head(1))\n",
    "\n",
    "def get_value_dict(y, value):\n",
    "  return dict(zip(y.columns, value))\n",
    "\n",
    "initial_values = get_value_dict(y, one_prediction[0])\n",
    "initial_values\n"
   ]
  },
  {
   "cell_type": "code",
   "execution_count": 43,
   "metadata": {
    "colab": {},
    "colab_type": "code",
    "id": "2JA3r1peqTE0"
   },
   "outputs": [
    {
     "data": {
      "text/plain": [
       "array([[<matplotlib.axes._subplots.AxesSubplot object at 0x13d75a208>]],\n",
       "      dtype=object)"
      ]
     },
     "execution_count": 43,
     "metadata": {},
     "output_type": "execute_result"
    },
    {
     "data": {
      "image/png": "[encoded data removed]",
      "text/plain": [
       "<Figure size 1008x360 with 1 Axes>"
      ]
     },
     "metadata": {
      "needs_background": "light"
     },
     "output_type": "display_data"
    }
   ],
   "source": [
    "def interpret_result(result):\n",
    "  final_values = result.copy()\n",
    "  # for action in ['handbrake', 'boost_active', 'dodge_active', 'double_jump_active', 'jump_active']:\n",
    "  #   final_values[action] = 1 if initial_values[action] >= 0.5 else 0\n",
    "  return final_values\n",
    "\n",
    "\n",
    "# m_val = y_pred.shape[0]\n",
    "# for i in range(500, 520): #m_val):\n",
    "#   result = y_pred[i]\n",
    "#   prediction = interpret_result(get_value_dict(y_val, y_pred[i]))\n",
    "#   print('Predict:', prediction)\n",
    "#   actual = interpret_result(get_value_dict(y_val, y_val.iloc[i]))\n",
    "#   print('Actual: ', actual)\n",
    "#   print('--')\n",
    "\n",
    "output_df = pd.DataFrame(y_pred)\n",
    "output_df.columns = y.columns[0:y_pred.shape[1]]\n",
    "output_df.hist(figsize=(14, 5))"
   ]
  },
  {
   "cell_type": "code",
   "execution_count": 44,
   "metadata": {
    "colab": {},
    "colab_type": "code",
    "id": "QMGShpGo_pkn"
   },
   "outputs": [
    {
     "data": {
      "image/png": "[encoded data removed]",
      "text/plain": [
       "<Figure size 1008x360 with 1 Axes>"
      ]
     },
     "metadata": {
      "needs_background": "light"
     },
     "output_type": "display_data"
    }
   ],
   "source": [
    "y_val.hist(figsize=(14, 5));"
   ]
  },
  {
   "cell_type": "code",
   "execution_count": 45,
   "metadata": {
    "colab": {},
    "colab_type": "code",
    "id": "HX_3pw74S70x"
   },
   "outputs": [],
   "source": [
    "classifier.save('model.h5')"
   ]
  },
  {
   "cell_type": "code",
   "execution_count": 46,
   "metadata": {
    "colab": {},
    "colab_type": "code",
    "id": "vZTuFvfxDBNq"
   },
   "outputs": [
    {
     "name": "stdout",
     "output_type": "stream",
     "text": [
      "WARNING:tensorflow:From /Users/daniel/.pyenv/versions/3.6.8/lib/python3.6/site-packages/tensorflow_core/python/ops/resource_variable_ops.py:1781: calling BaseResourceVariable.__init__ (from tensorflow.python.ops.resource_variable_ops) with constraint is deprecated and will be removed in a future version.\n",
      "Instructions for updating:\n",
      "If using Keras pass *_constraint arguments to layers.\n",
      "INFO:tensorflow:Assets written to: frankenbot/saved_model/1/assets\n"
     ]
    }
   ],
   "source": [
    "!mkdir -p frankenbot/saved_model/\n",
    "classifier.save('frankenbot/saved_model/1')"
   ]
  },
  {
   "cell_type": "code",
   "execution_count": 63,
   "metadata": {},
   "outputs": [
    {
     "data": {
      "text/plain": [
       "<matplotlib.axes._subplots.AxesSubplot at 0x13dc85b00>"
      ]
     },
     "execution_count": 63,
     "metadata": {},
     "output_type": "execute_result"
    },
    {
     "data": {
      "image/png": "[encoded data removed]",
      "text/plain": [
       "<Figure size 432x288 with 1 Axes>"
      ]
     },
     "metadata": {
      "needs_background": "light"
     },
     "output_type": "display_data"
    }
   ],
   "source": [
    "output_df['steer'].hist()"
   ]
  },
  {
   "cell_type": "code",
   "execution_count": 62,
   "metadata": {},
   "outputs": [
    {
     "data": {
      "text/plain": [
       "<matplotlib.axes._subplots.AxesSubplot at 0x13b9f7358>"
      ]
     },
     "execution_count": 62,
     "metadata": {},
     "output_type": "execute_result"
    },
    {
     "data": {
      "image/png": "[encoded data removed]",
      "text/plain": [
       "<Figure size 432x288 with 1 Axes>"
      ]
     },
     "metadata": {
      "needs_background": "light"
     },
     "output_type": "display_data"
    }
   ],
   "source": [
    "radius = 0.0045\n",
    "low_steer = 0.5 - radius\n",
    "high_steer = 0.5 + radius + 0.004\n",
    "\n",
    "def move_to_edges(value):\n",
    "    if value < low_steer: return 0\n",
    "    if value > high_steer: return 1\n",
    "    return value\n",
    "\n",
    "output_df['steer'].apply(move_to_edges).hist()"
   ]
  }
 ],
 "metadata": {
  "accelerator": "TPU",
  "colab": {
   "collapsed_sections": [],
   "name": "parse_replay_carball.ipynb",
   "provenance": [],
   "toc_visible": true
  },
  "kernelspec": {
   "display_name": "Python 3",
   "language": "python",
   "name": "python3"
  },
  "language_info": {
   "codemirror_mode": {
    "name": "ipython",
    "version": 3
   },
   "file_extension": ".py",
   "mimetype": "text/x-python",
   "name": "python",
   "nbconvert_exporter": "python",
   "pygments_lexer": "ipython3",
   "version": "3.6.8"
  }
 },
 "nbformat": 4,
 "nbformat_minor": 1
}
