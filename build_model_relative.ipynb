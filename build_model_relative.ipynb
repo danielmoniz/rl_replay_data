{
 "cells": [
  {
   "cell_type": "markdown",
   "metadata": {
    "colab_type": "text",
    "id": "G34-UD4N7-3t"
   },
   "source": [
    "## Import dependencies"
   ]
  },
  {
   "cell_type": "code",
   "execution_count": 77,
   "metadata": {
    "colab": {},
    "colab_type": "code",
    "id": "ALUxsk0-7_oz"
   },
   "outputs": [],
   "source": [
    "import json\n",
    "import os\n",
    "\n",
    "from timeit import default_timer as timer\n",
    "import tensorflow as tf\n",
    "import tensorflow.keras\n",
    "import pandas as pd\n",
    "import numpy as np\n",
    "import matplotlib.pyplot as plt\n",
    "import carball\n",
    "import carball.json_parser.game as game_module\n",
    "Game = game_module.Game\n",
    "\n",
    "# pd.set_option('display.max_rows', 20)\n",
    "pd.set_option('display.max_columns', 70)\n",
    "# pd.set_option('display.width', 1000)"
   ]
  },
  {
   "cell_type": "code",
   "execution_count": 78,
   "metadata": {
    "colab": {
     "base_uri": "https://localhost:8080/",
     "height": 68
    },
    "colab_type": "code",
    "id": "_-PUuJZHjR_C",
    "outputId": "51875c15-c9d1-4616-f9e8-f9ab3c51227c"
   },
   "outputs": [
    {
     "name": "stdout",
     "output_type": "stream",
     "text": [
      "2.0.1\n",
      "True\n",
      "/device:GPU:0\n"
     ]
    }
   ],
   "source": [
    "print(tf.__version__)\n",
    "print(tf.test.is_gpu_available()) # tells if the gpu is available\n",
    "print(tf.test.gpu_device_name()) # returns the name of the gpu device"
   ]
  },
  {
   "cell_type": "code",
   "execution_count": 79,
   "metadata": {
    "colab": {
     "base_uri": "https://localhost:8080/",
     "height": 34
    },
    "colab_type": "code",
    "id": "e9dL1D2snHtL",
    "outputId": "07f07e09-06cb-4b92-b6b7-f400fdfa8344",
    "scrolled": true
   },
   "outputs": [
    {
     "name": "stdout",
     "output_type": "stream",
     "text": [
      "'temp (1).json'   'temp (16).json'  'temp (22).json'  'temp (4).json'\r\n",
      "'temp (10).json'  'temp (17).json'  'temp (23).json'  'temp (5).json'\r\n",
      "'temp (11).json'  'temp (18).json'  'temp (24).json'  'temp (6).json'\r\n",
      "'temp (12).json'  'temp (19).json'  'temp (25).json'  'temp (7).json'\r\n",
      "'temp (13).json'  'temp (2).json'   'temp (26).json'  'temp (8).json'\r\n",
      "'temp (14).json'  'temp (20).json'  'temp (27).json'  'temp (9).json'\r\n",
      "'temp (15).json'  'temp (21).json'  'temp (3).json'    temp.json\r\n"
     ]
    }
   ],
   "source": [
    "# replay_path = './parsed_replays/rlcs_season_7/'\n",
    "replay_path = './parsed_replays/'\n",
    "!ls parsed_replays/"
   ]
  },
  {
   "cell_type": "code",
   "execution_count": 80,
   "metadata": {
    "colab": {
     "base_uri": "https://localhost:8080/",
     "height": 51
    },
    "colab_type": "code",
    "id": "vDgT2Z9m54tW",
    "outputId": "3682e011-94b6-42c2-aeda-c7d4c5a98bfb"
   },
   "outputs": [
    {
     "name": "stdout",
     "output_type": "stream",
     "text": [
      "28\n",
      "['./parsed_replays/temp (17).json', './parsed_replays/temp (11).json', './parsed_replays/temp (22).json', './parsed_replays/temp (13).json', './parsed_replays/temp (1).json', './parsed_replays/temp (14).json', './parsed_replays/temp (23).json', './parsed_replays/temp (3).json', './parsed_replays/temp.json', './parsed_replays/temp (9).json', './parsed_replays/temp (5).json', './parsed_replays/temp (10).json', './parsed_replays/temp (2).json', './parsed_replays/temp (4).json', './parsed_replays/temp (8).json', './parsed_replays/temp (24).json', './parsed_replays/temp (16).json', './parsed_replays/temp (7).json', './parsed_replays/temp (12).json', './parsed_replays/temp (26).json', './parsed_replays/temp (6).json', './parsed_replays/temp (27).json', './parsed_replays/temp (19).json', './parsed_replays/temp (15).json', './parsed_replays/temp (25).json', './parsed_replays/temp (18).json', './parsed_replays/temp (20).json', './parsed_replays/temp (21).json']\n"
     ]
    }
   ],
   "source": [
    "game_files = []\n",
    "path = './replays/rlcs_season_7/'\n",
    "for filename in os.listdir(replay_path):\n",
    "  if filename.endswith('.json'):\n",
    "    game_files.append(replay_path + filename)\n",
    "# game_files = game_files[0:8] # TEST - use subset of games for now\n",
    "print(len(game_files))\n",
    "print(list(game_files))"
   ]
  },
  {
   "cell_type": "code",
   "execution_count": 81,
   "metadata": {
    "colab": {
     "base_uri": "https://localhost:8080/",
     "height": 136
    },
    "colab_type": "code",
    "id": "WsgAibzYl30w",
    "outputId": "8fe8b925-a6ad-496e-ca2f-89c1d9b96b91"
   },
   "outputs": [],
   "source": [
    "def get_game(file_path):\n",
    "  game = game_module.Game()\n",
    "  game.initialize(file_path=file_path)\n",
    "  return game\n",
    "\n",
    "if len(game_files) > 0:\n",
    "  game = game_module.Game()\n",
    "  game.initialize(\n",
    "      file_path=game_files[0])\n",
    "else:\n",
    "  raise IndexError('No game_files to parse.')"
   ]
  },
  {
   "cell_type": "code",
   "execution_count": 82,
   "metadata": {
    "colab": {
     "base_uri": "https://localhost:8080/",
     "height": 34
    },
    "colab_type": "code",
    "id": "DaEqUkzHl30y",
    "outputId": "5e1fa45a-9a51-4eea-b654-5a7738c2d70b"
   },
   "outputs": [
    {
     "data": {
      "text/plain": [
       "'Park_Rainy_P'"
      ]
     },
     "execution_count": 82,
     "metadata": {},
     "output_type": "execute_result"
    }
   ],
   "source": [
    "game.map"
   ]
  },
  {
   "cell_type": "code",
   "execution_count": 83,
   "metadata": {
    "colab": {
     "base_uri": "https://localhost:8080/",
     "height": 34
    },
    "colab_type": "code",
    "id": "G9Un0B-Sl300",
    "outputId": "47e15aeb-61cd-490c-f52b-f14b5305f476"
   },
   "outputs": [
    {
     "data": {
      "text/plain": [
       "[Player: Kevpert on Team: Blue, Player: IsThatEvoh on Team: Orange]"
      ]
     },
     "execution_count": 83,
     "metadata": {},
     "output_type": "execute_result"
    }
   ],
   "source": [
    "game.players"
   ]
  },
  {
   "cell_type": "code",
   "execution_count": 84,
   "metadata": {
    "colab": {
     "base_uri": "https://localhost:8080/",
     "height": 179
    },
    "colab_type": "code",
    "id": "9tsx5SIwKJp0",
    "outputId": "94d6c5e3-d3c5-4b91-fa9a-ee90153e6a1a"
   },
   "outputs": [
    {
     "name": "stdout",
     "output_type": "stream",
     "text": [
      "(11447, 13)\n"
     ]
    },
    {
     "data": {
      "text/html": [
       "<div>\n",
       "<style scoped>\n",
       "    .dataframe tbody tr th:only-of-type {\n",
       "        vertical-align: middle;\n",
       "    }\n",
       "\n",
       "    .dataframe tbody tr th {\n",
       "        vertical-align: top;\n",
       "    }\n",
       "\n",
       "    .dataframe thead th {\n",
       "        text-align: right;\n",
       "    }\n",
       "</style>\n",
       "<table border=\"1\" class=\"dataframe\">\n",
       "  <thead>\n",
       "    <tr style=\"text-align: right;\">\n",
       "      <th></th>\n",
       "      <th>pos_x</th>\n",
       "      <th>pos_y</th>\n",
       "      <th>pos_z</th>\n",
       "      <th>rot_x</th>\n",
       "      <th>rot_y</th>\n",
       "      <th>rot_z</th>\n",
       "      <th>vel_x</th>\n",
       "      <th>vel_y</th>\n",
       "      <th>vel_z</th>\n",
       "      <th>ang_vel_x</th>\n",
       "      <th>ang_vel_y</th>\n",
       "      <th>ang_vel_z</th>\n",
       "      <th>hit_team_no</th>\n",
       "    </tr>\n",
       "  </thead>\n",
       "  <tbody>\n",
       "    <tr>\n",
       "      <th>1</th>\n",
       "      <td>0.0</td>\n",
       "      <td>0.0</td>\n",
       "      <td>92.74</td>\n",
       "      <td>0.000005</td>\n",
       "      <td>0.000005</td>\n",
       "      <td>0.000005</td>\n",
       "      <td>NaN</td>\n",
       "      <td>NaN</td>\n",
       "      <td>NaN</td>\n",
       "      <td>NaN</td>\n",
       "      <td>NaN</td>\n",
       "      <td>NaN</td>\n",
       "      <td>NaN</td>\n",
       "    </tr>\n",
       "    <tr>\n",
       "      <th>2</th>\n",
       "      <td>0.0</td>\n",
       "      <td>0.0</td>\n",
       "      <td>92.74</td>\n",
       "      <td>0.000005</td>\n",
       "      <td>0.000005</td>\n",
       "      <td>0.000005</td>\n",
       "      <td>NaN</td>\n",
       "      <td>NaN</td>\n",
       "      <td>NaN</td>\n",
       "      <td>NaN</td>\n",
       "      <td>NaN</td>\n",
       "      <td>NaN</td>\n",
       "      <td>NaN</td>\n",
       "    </tr>\n",
       "    <tr>\n",
       "      <th>3</th>\n",
       "      <td>0.0</td>\n",
       "      <td>0.0</td>\n",
       "      <td>92.74</td>\n",
       "      <td>0.000005</td>\n",
       "      <td>0.000005</td>\n",
       "      <td>0.000005</td>\n",
       "      <td>NaN</td>\n",
       "      <td>NaN</td>\n",
       "      <td>NaN</td>\n",
       "      <td>NaN</td>\n",
       "      <td>NaN</td>\n",
       "      <td>NaN</td>\n",
       "      <td>NaN</td>\n",
       "    </tr>\n",
       "  </tbody>\n",
       "</table>\n",
       "</div>"
      ],
      "text/plain": [
       "   pos_x  pos_y  pos_z     rot_x     rot_y     rot_z  vel_x  vel_y  vel_z  \\\n",
       "1    0.0    0.0  92.74  0.000005  0.000005  0.000005    NaN    NaN    NaN   \n",
       "2    0.0    0.0  92.74  0.000005  0.000005  0.000005    NaN    NaN    NaN   \n",
       "3    0.0    0.0  92.74  0.000005  0.000005  0.000005    NaN    NaN    NaN   \n",
       "\n",
       "   ang_vel_x  ang_vel_y  ang_vel_z  hit_team_no  \n",
       "1        NaN        NaN        NaN          NaN  \n",
       "2        NaN        NaN        NaN          NaN  \n",
       "3        NaN        NaN        NaN          NaN  "
      ]
     },
     "execution_count": 84,
     "metadata": {},
     "output_type": "execute_result"
    }
   ],
   "source": [
    "print(game.ball.shape)\n",
    "game.ball.head(3)"
   ]
  },
  {
   "cell_type": "code",
   "execution_count": 85,
   "metadata": {
    "colab": {
     "base_uri": "https://localhost:8080/",
     "height": 34
    },
    "colab_type": "code",
    "id": "MEfqwJbcl304",
    "outputId": "10c8ac57-7865-4f4f-b109-713b44039b8c"
   },
   "outputs": [
    {
     "data": {
      "text/plain": [
       "'Kevpert'"
      ]
     },
     "execution_count": 85,
     "metadata": {},
     "output_type": "execute_result"
    }
   ],
   "source": [
    "game.players[0].name"
   ]
  },
  {
   "cell_type": "code",
   "execution_count": 86,
   "metadata": {
    "colab": {
     "base_uri": "https://localhost:8080/",
     "height": 54
    },
    "colab_type": "code",
    "id": "CPX3KNrrpXmm",
    "outputId": "5b0eb4f4-e2a0-439f-bf6e-457d86fdf726"
   },
   "outputs": [
    {
     "data": {
      "text/plain": [
       "dict_keys(['file_path', 'properties', 'replay_id', 'map', 'name', 'id', 'datetime', 'replay_version', 'teams', 'players', 'goals', 'primary_player', 'frames', 'kickoff_frames', 'ball', 'ball_type', 'demos', 'parties', 'dropshot', 'match_type', 'team_size', 'game_info'])"
      ]
     },
     "execution_count": 86,
     "metadata": {},
     "output_type": "execute_result"
    }
   ],
   "source": [
    "game.__dict__.keys()"
   ]
  },
  {
   "cell_type": "code",
   "execution_count": 87,
   "metadata": {
    "colab": {
     "base_uri": "https://localhost:8080/",
     "height": 54
    },
    "colab_type": "code",
    "id": "c1a35LngrXXM",
    "outputId": "abd73fa6-f606-457e-880b-280d34f2f2d3"
   },
   "outputs": [
    {
     "data": {
      "text/plain": [
       "dict_keys(['MaxChannels', 'GameVersion', 'BuildVersion', 'Team1Score', 'KeyframeDelay', 'ReserveMegabytes', 'PlayerStats', 'MaxReplaySizeMB', 'NumFrames', 'MatchType', 'MapName', 'BuildID', 'Goals', 'ReplayVersion', 'Changelist', 'Date', 'ReplayName', 'UnfairTeamSize', 'ReplayLastSaveVersion', 'Id', 'Team0Score', 'TeamSize', 'RecordFPS', 'HighLights'])"
      ]
     },
     "execution_count": 87,
     "metadata": {},
     "output_type": "execute_result"
    }
   ],
   "source": [
    "game.properties.keys()\n",
    "# game.game_info.__dict__.keys()"
   ]
  },
  {
   "cell_type": "code",
   "execution_count": 88,
   "metadata": {
    "colab": {
     "base_uri": "https://localhost:8080/",
     "height": 34
    },
    "colab_type": "code",
    "id": "BFHmS48jl305",
    "outputId": "79ee70eb-45e4-4bef-f58c-3b302ebb14a5",
    "scrolled": true
   },
   "outputs": [
    {
     "name": "stdout",
     "output_type": "stream",
     "text": [
      "(11447, 23)\n"
     ]
    }
   ],
   "source": [
    "player_0_data = game.players[0].data\n",
    "print(player_0_data.shape)\n",
    "player_0_data.head(10)\n",
    "start = 0\n",
    "data = player_0_data.iloc[start:start + 10]"
   ]
  },
  {
   "cell_type": "code",
   "execution_count": 89,
   "metadata": {
    "colab": {},
    "colab_type": "code",
    "id": "qYs_PtZeokPY"
   },
   "outputs": [],
   "source": [
    "def equalize_player_data_rows(game):\n",
    "  '''\n",
    "  Updates the game data to ensure all player data lines up.\n",
    "  Modifies the game object in place.\n",
    "  '''\n",
    "  # @TODO Update this for efficiency using the following:\n",
    "    # https://stackoverflow.com/questions/48864923/pythonpandas-select-certain-rows-by-index-of-another-dataframe\n",
    "\n",
    "  # @TODO Merge ball data as well!\n",
    "\n",
    "  player1 = game.players[0]\n",
    "  other_players = game.players[1:]\n",
    "  columns = player1.data.columns\n",
    "  ball_columns = game.ball.columns\n",
    "  changed_ball_columns = list(map(lambda x: x + '_ball', ball_columns))\n",
    "  merged_player_data = player1.data\n",
    "\n",
    "  game.ball.columns = changed_ball_columns\n",
    "\n",
    "  for i, player in enumerate(other_players):\n",
    "    suffix = f'_p{i + 2}'\n",
    "    merged_player_data = merged_player_data.merge(player.data, left_index=True, right_index=True, suffixes=('', suffix))\n",
    "  merged_player_data = merged_player_data.merge(game.ball, left_index=True, right_index=True)\n",
    "\n",
    "  game.ball = merged_player_data[changed_ball_columns]\n",
    "  game.ball.columns = ball_columns\n",
    "\n",
    "  game.players[0].data = merged_player_data[columns]\n",
    "  for i, player in enumerate(game.players[1:]):\n",
    "    suffixed_columns = list(map(lambda x: x + f'_p{i + 2}', columns))\n",
    "    game.players[i + 1].data = merged_player_data[suffixed_columns]\n",
    "    game.players[i + 1].data.columns = columns"
   ]
  },
  {
   "cell_type": "code",
   "execution_count": 90,
   "metadata": {
    "colab": {
     "base_uri": "https://localhost:8080/",
     "height": 317
    },
    "colab_type": "code",
    "id": "KG7VaNCpSghu",
    "outputId": "fa412610-72ab-4490-8396-90818347b043"
   },
   "outputs": [
    {
     "data": {
      "text/html": [
       "<div>\n",
       "<style scoped>\n",
       "    .dataframe tbody tr th:only-of-type {\n",
       "        vertical-align: middle;\n",
       "    }\n",
       "\n",
       "    .dataframe tbody tr th {\n",
       "        vertical-align: top;\n",
       "    }\n",
       "\n",
       "    .dataframe thead th {\n",
       "        text-align: right;\n",
       "    }\n",
       "</style>\n",
       "<table border=\"1\" class=\"dataframe\">\n",
       "  <thead>\n",
       "    <tr style=\"text-align: right;\">\n",
       "      <th></th>\n",
       "      <th>pos_x</th>\n",
       "      <th>pos_y</th>\n",
       "      <th>pos_z</th>\n",
       "      <th>rot_x</th>\n",
       "      <th>rot_y</th>\n",
       "      <th>rot_z</th>\n",
       "      <th>vel_x</th>\n",
       "      <th>vel_y</th>\n",
       "      <th>vel_z</th>\n",
       "      <th>ang_vel_x</th>\n",
       "      <th>ang_vel_y</th>\n",
       "      <th>ang_vel_z</th>\n",
       "      <th>hit_team_no</th>\n",
       "    </tr>\n",
       "  </thead>\n",
       "  <tbody>\n",
       "    <tr>\n",
       "      <th>count</th>\n",
       "      <td>11447.000000</td>\n",
       "      <td>11447.000000</td>\n",
       "      <td>11447.000000</td>\n",
       "      <td>11447.000000</td>\n",
       "      <td>11447.000000</td>\n",
       "      <td>11447.000000</td>\n",
       "      <td>8957.000000</td>\n",
       "      <td>8957.000000</td>\n",
       "      <td>8957.000000</td>\n",
       "      <td>8957.000000</td>\n",
       "      <td>8957.000000</td>\n",
       "      <td>8957.000000</td>\n",
       "      <td>9257.000000</td>\n",
       "    </tr>\n",
       "    <tr>\n",
       "      <th>mean</th>\n",
       "      <td>38.639223</td>\n",
       "      <td>-623.701651</td>\n",
       "      <td>438.345531</td>\n",
       "      <td>0.034437</td>\n",
       "      <td>-0.046171</td>\n",
       "      <td>-0.075512</td>\n",
       "      <td>-3.720118</td>\n",
       "      <td>-321.538093</td>\n",
       "      <td>67.441241</td>\n",
       "      <td>-748.144557</td>\n",
       "      <td>182.279480</td>\n",
       "      <td>-164.727476</td>\n",
       "      <td>0.410500</td>\n",
       "    </tr>\n",
       "    <tr>\n",
       "      <th>std</th>\n",
       "      <td>2017.732600</td>\n",
       "      <td>2765.117175</td>\n",
       "      <td>459.880790</td>\n",
       "      <td>0.609304</td>\n",
       "      <td>1.583335</td>\n",
       "      <td>1.571549</td>\n",
       "      <td>10392.586580</td>\n",
       "      <td>9909.386582</td>\n",
       "      <td>5507.798967</td>\n",
       "      <td>3153.259199</td>\n",
       "      <td>3122.351839</td>\n",
       "      <td>2621.458350</td>\n",
       "      <td>0.491951</td>\n",
       "    </tr>\n",
       "    <tr>\n",
       "      <th>min</th>\n",
       "      <td>-4009.450000</td>\n",
       "      <td>-5213.090000</td>\n",
       "      <td>81.060000</td>\n",
       "      <td>-1.549564</td>\n",
       "      <td>-3.141090</td>\n",
       "      <td>-3.141537</td>\n",
       "      <td>-30331.000000</td>\n",
       "      <td>-30837.900000</td>\n",
       "      <td>-20238.500000</td>\n",
       "      <td>-5953.200000</td>\n",
       "      <td>-5994.700000</td>\n",
       "      <td>-5980.600000</td>\n",
       "      <td>0.000000</td>\n",
       "    </tr>\n",
       "    <tr>\n",
       "      <th>25%</th>\n",
       "      <td>-1057.045000</td>\n",
       "      <td>-2915.555000</td>\n",
       "      <td>93.430000</td>\n",
       "      <td>-0.340481</td>\n",
       "      <td>-1.164760</td>\n",
       "      <td>-1.129488</td>\n",
       "      <td>-6140.000000</td>\n",
       "      <td>-6841.200000</td>\n",
       "      <td>-2604.200000</td>\n",
       "      <td>-3268.000000</td>\n",
       "      <td>-2052.300000</td>\n",
       "      <td>-1968.100000</td>\n",
       "      <td>0.000000</td>\n",
       "    </tr>\n",
       "    <tr>\n",
       "      <th>50%</th>\n",
       "      <td>0.000000</td>\n",
       "      <td>-46.530000</td>\n",
       "      <td>219.500000</td>\n",
       "      <td>0.000005</td>\n",
       "      <td>0.000005</td>\n",
       "      <td>0.000005</td>\n",
       "      <td>-64.700000</td>\n",
       "      <td>0.000000</td>\n",
       "      <td>0.000000</td>\n",
       "      <td>-857.500000</td>\n",
       "      <td>0.000000</td>\n",
       "      <td>-7.500000</td>\n",
       "      <td>0.000000</td>\n",
       "    </tr>\n",
       "    <tr>\n",
       "      <th>75%</th>\n",
       "      <td>1195.080000</td>\n",
       "      <td>602.855000</td>\n",
       "      <td>612.440000</td>\n",
       "      <td>0.436516</td>\n",
       "      <td>0.894198</td>\n",
       "      <td>0.906953</td>\n",
       "      <td>5480.300000</td>\n",
       "      <td>5731.000000</td>\n",
       "      <td>2552.700000</td>\n",
       "      <td>1575.600000</td>\n",
       "      <td>2849.100000</td>\n",
       "      <td>1540.400000</td>\n",
       "      <td>1.000000</td>\n",
       "    </tr>\n",
       "    <tr>\n",
       "      <th>max</th>\n",
       "      <td>4020.290000</td>\n",
       "      <td>5215.190000</td>\n",
       "      <td>1956.120000</td>\n",
       "      <td>1.555548</td>\n",
       "      <td>3.140372</td>\n",
       "      <td>3.141474</td>\n",
       "      <td>37077.700000</td>\n",
       "      <td>29826.200000</td>\n",
       "      <td>21362.100000</td>\n",
       "      <td>5950.000000</td>\n",
       "      <td>5988.700000</td>\n",
       "      <td>5841.700000</td>\n",
       "      <td>1.000000</td>\n",
       "    </tr>\n",
       "  </tbody>\n",
       "</table>\n",
       "</div>"
      ],
      "text/plain": [
       "              pos_x         pos_y         pos_z         rot_x         rot_y  \\\n",
       "count  11447.000000  11447.000000  11447.000000  11447.000000  11447.000000   \n",
       "mean      38.639223   -623.701651    438.345531      0.034437     -0.046171   \n",
       "std     2017.732600   2765.117175    459.880790      0.609304      1.583335   \n",
       "min    -4009.450000  -5213.090000     81.060000     -1.549564     -3.141090   \n",
       "25%    -1057.045000  -2915.555000     93.430000     -0.340481     -1.164760   \n",
       "50%        0.000000    -46.530000    219.500000      0.000005      0.000005   \n",
       "75%     1195.080000    602.855000    612.440000      0.436516      0.894198   \n",
       "max     4020.290000   5215.190000   1956.120000      1.555548      3.140372   \n",
       "\n",
       "              rot_z         vel_x         vel_y         vel_z    ang_vel_x  \\\n",
       "count  11447.000000   8957.000000   8957.000000   8957.000000  8957.000000   \n",
       "mean      -0.075512     -3.720118   -321.538093     67.441241  -748.144557   \n",
       "std        1.571549  10392.586580   9909.386582   5507.798967  3153.259199   \n",
       "min       -3.141537 -30331.000000 -30837.900000 -20238.500000 -5953.200000   \n",
       "25%       -1.129488  -6140.000000  -6841.200000  -2604.200000 -3268.000000   \n",
       "50%        0.000005    -64.700000      0.000000      0.000000  -857.500000   \n",
       "75%        0.906953   5480.300000   5731.000000   2552.700000  1575.600000   \n",
       "max        3.141474  37077.700000  29826.200000  21362.100000  5950.000000   \n",
       "\n",
       "         ang_vel_y    ang_vel_z  hit_team_no  \n",
       "count  8957.000000  8957.000000  9257.000000  \n",
       "mean    182.279480  -164.727476     0.410500  \n",
       "std    3122.351839  2621.458350     0.491951  \n",
       "min   -5994.700000 -5980.600000     0.000000  \n",
       "25%   -2052.300000 -1968.100000     0.000000  \n",
       "50%       0.000000    -7.500000     0.000000  \n",
       "75%    2849.100000  1540.400000     1.000000  \n",
       "max    5988.700000  5841.700000     1.000000  "
      ]
     },
     "execution_count": 90,
     "metadata": {},
     "output_type": "execute_result"
    }
   ],
   "source": [
    "game.ball.describe()"
   ]
  },
  {
   "cell_type": "code",
   "execution_count": 91,
   "metadata": {
    "colab": {},
    "colab_type": "code",
    "id": "QQboajadl308"
   },
   "outputs": [],
   "source": [
    "def get_game_state_columns():\n",
    "    return [ # built-in columns only - no added data\n",
    "        'pos_x',\n",
    "        'pos_y',\n",
    "        'pos_z',\n",
    "        'rot_x',\n",
    "        'rot_y',\n",
    "        'rot_z',\n",
    "        'vel_x',\n",
    "        'vel_y',\n",
    "        'vel_z',\n",
    "        'ang_vel_x',\n",
    "        'ang_vel_y',\n",
    "        'ang_vel_z',\n",
    "        'active',\n",
    "        'boost',\n",
    "    ]\n",
    "\n",
    "def get_controller_input_columns():\n",
    "    return [\n",
    "        'throttle',\n",
    "        'steer',\n",
    "        'handbrake',\n",
    "        'dodge_active',\n",
    "        'double_jump_active',\n",
    "        'jump_active',\n",
    "        'boost_active',\n",
    "    ]\n",
    "\n",
    "def get_ball_columns():\n",
    "    return [\n",
    "        'pos_x',\n",
    "        'pos_y',\n",
    "        'pos_z',\n",
    "        'vel_x',\n",
    "        'vel_y',\n",
    "        'vel_z',\n",
    "    ]"
   ]
  },
  {
   "cell_type": "code",
   "execution_count": 92,
   "metadata": {
    "colab": {},
    "colab_type": "code",
    "id": "tm9RKHuel30-"
   },
   "outputs": [],
   "source": [
    "def add_active_column(df):\n",
    "    '''Returns a new dataframe with an extra 'action' column.\n",
    "    '''\n",
    "    dataframe = df.assign(active=(~np.isnan(df['steer'])).astype(int))\n",
    "    return dataframe"
   ]
  },
  {
   "cell_type": "code",
   "execution_count": 93,
   "metadata": {
    "colab": {},
    "colab_type": "code",
    "id": "1Z45Wv2oeijR"
   },
   "outputs": [],
   "source": [
    "def squeeze_value(value, fudge_factor=0.10):\n",
    "  '''Squeezes 0-1 values between, say, 0.05-0.95 for sigmoid activations.\n",
    "  '''\n",
    "  return value # hack - do not squeeze value if not using sigmoid activations.\n",
    "  return value * (1 - fudge_factor) + (fudge_factor / 2)\n",
    "\n",
    "def normalize_data(dataframe, fudge_factor=0.10):\n",
    "  '''\n",
    "  Returns a normalized copy of a dataframe.\n",
    "  Fudges the data to place it between (say) 0.025-0.975 instead of 0-1.\n",
    "  The dataframe provided should contain only numerical data.\n",
    "  Provides simple min-max normalization.\n",
    "  '''\n",
    "  normalized = (dataframe - dataframe.min()) / (dataframe.max() - dataframe.min())\n",
    "  # return normalized * (1 - fudge_factor) + (fudge_factor / 2)\n",
    "  return squeeze_value(normalized, fudge_factor)\n",
    "\n",
    "def normalize_player_data(player_df, main_player=False):\n",
    "  '''\n",
    "  Returns a normalized dataframe of player data. Normalizes only numerical data.\n",
    "  '''\n",
    "  cols_to_normalize = player_df.select_dtypes(include=np.number).columns.tolist()\n",
    "  cols = player_df[cols_to_normalize]\n",
    "  return normalize_data(cols)"
   ]
  },
  {
   "cell_type": "code",
   "execution_count": 94,
   "metadata": {
    "colab": {},
    "colab_type": "code",
    "id": "oRNplzlel30_"
   },
   "outputs": [],
   "source": [
    "def clean_player_data(player_df, main_player=False, team=None):\n",
    "    '''Handles cleaning, copying, etc. of a player dataframe.\n",
    "    '''\n",
    "    with_active = add_active_column(player_df)\n",
    "    str_bool_to_int = { 'True': 1, 'False': 0, np.nan: 0, None: 0 }\n",
    "    \n",
    "    # convert odd-number based activations to 0 and 1\n",
    "    def odd_num_to_bool(num):\n",
    "      # if np.isnan(num): return 0\n",
    "      return int(num % 2 == 1)\n",
    "    with_active['dodge_active'] = with_active['dodge_active'].apply(odd_num_to_bool)\n",
    "    with_active['jump_active'] = with_active['jump_active'].apply(odd_num_to_bool)\n",
    "    with_active['double_jump_active'] = with_active['double_jump_active'].apply(odd_num_to_bool)\n",
    "\n",
    "    dtypes_map = dict(with_active.dtypes)\n",
    "    if dtypes_map['ball_cam'] == np.bool:\n",
    "      with_active['ball_cam'] = with_active['ball_cam'].astype(int)\n",
    "    elif dtypes_map['ball_cam'] == np.str:\n",
    "      with_active['ball_cam'] = with_active.replace({ 'ball_cam': str_bool_to_int })\n",
    "\n",
    "    cleaned = with_active.replace({\n",
    "        'handbrake': str_bool_to_int,\n",
    "        # 'ball_cam': str_bool_to_int,\n",
    "        # 'boost_active': str_bool_to_int\n",
    "        # 'double_jump_active': str_bool_to_int,\n",
    "    })\n",
    "\n",
    "    cleaned = cleaned.fillna(0)\n",
    "\n",
    "    if not main_player:\n",
    "        cleaned = cleaned[get_game_state_columns()]\n",
    "\n",
    "    return cleaned"
   ]
  },
  {
   "cell_type": "code",
   "execution_count": 95,
   "metadata": {
    "colab": {},
    "colab_type": "code",
    "id": "6Ch9F05klMae"
   },
   "outputs": [],
   "source": [
    "def clean_ball_data(ball):\n",
    "  ball = ball[get_ball_columns()].copy()\n",
    "  ball = ball.fillna(0)\n",
    "  return ball"
   ]
  },
  {
   "cell_type": "code",
   "execution_count": 128,
   "metadata": {
    "colab": {},
    "colab_type": "code",
    "id": "zjAkjRNWl31D"
   },
   "outputs": [],
   "source": [
    "def get_stadium_number(stadium):\n",
    "  stadiums = [\n",
    "    'cs_day_p',\n",
    "    'NeoTokyo_Standard_P',\n",
    "    'UtopiaStadium_Dusk_P',\n",
    "    'Stadium_P',\n",
    "    'EuroStadium_Night_P',\n",
    "    'TrainStation_Dawn_P',\n",
    "    'cs_p',\n",
    "    'EuroStadium_P',\n",
    "    'Underwater_P',\n",
    "    'arc_standard_p',\n",
    "    'stadium_day_p',\n",
    "    'wasteland_Night_S_P',\n",
    "    'beach_P',\n",
    "    'wasteland_s_p',\n",
    "    'beach_night_p',\n",
    "    'Farm_Night_P',\n",
    "    'Farm_UpsideDown_P',\n",
    "    'EuroStadium_Rainy_P',\n",
    "    'UtopiaStadium_P',\n",
    "    'farm_p',\n",
    "    'Park_Rainy_P',\n",
    "    'UtopiaStadium_Snow_P',\n",
    "    'CHN_Stadium_P',\n",
    "    'TrainStation_Night_P',\n",
    "    'Park_Night_P',\n",
    "    'TrainStation_P',\n",
    "  ]\n",
    "\n",
    "  try:\n",
    "    index = stadiums.index(stadium)\n",
    "  except ValueError:\n",
    "    print(f\"WARNING: Stadium {stadium} does not have a numeric mapping.\")\n",
    "    return 0\n",
    "  return (index + 1) / (len(stadiums) + 1)"
   ]
  },
  {
   "cell_type": "code",
   "execution_count": 129,
   "metadata": {
    "colab": {},
    "colab_type": "code",
    "id": "QK3l2QZRRAKW"
   },
   "outputs": [],
   "source": [
    "# This cell is modified from David Wolever's answer here: https://stackoverflow.com/a/13849249\n",
    "def unit_vector(vector):\n",
    "    \"\"\" Returns the unit vector of the vector.  \"\"\"\n",
    "    return vector / np.linalg.norm(vector)\n",
    "\n",
    "def angle_between(v1, v2):\n",
    "    \"\"\" Returns the angle in radians between vectors 'v1' and 'v2'::\n",
    "\n",
    "            >>> angle_between((1, 0, 0), (0, 1, 0))\n",
    "            1.5707963267948966\n",
    "            >>> angle_between((1, 0, 0), (1, 0, 0))\n",
    "            0.0\n",
    "            >>> angle_between((1, 0, 0), (-1, 0, 0))\n",
    "            3.141592653589793\n",
    "    \"\"\"\n",
    "    v1_u = unit_vector(v1)\n",
    "    v2_u = unit_vector(v2)\n",
    "    return np.arccos(np.clip(np.sum(np.multiply(v1_u, v2_u), axis=1), -1.0, 1.0))"
   ]
  },
  {
   "cell_type": "code",
   "execution_count": 130,
   "metadata": {
    "colab": {
     "base_uri": "https://localhost:8080/",
     "height": 323
    },
    "colab_type": "code",
    "id": "6GNxpZFnd0-o",
    "outputId": "19e62305-9814-4d6a-9090-946028dc365a"
   },
   "outputs": [
    {
     "name": "stdout",
     "output_type": "stream",
     "text": [
      "   x  y  z\n",
      "0 -1 -1  0\n",
      "1 -1 -2  0\n",
      "2 -1 -3  0\n",
      "3 -1 -4  0\n",
      "4 -1 -5  0\n",
      "[1.41421356 2.23606798 3.16227766 4.12310563 5.09901951]\n"
     ]
    },
    {
     "data": {
      "text/html": [
       "<div>\n",
       "<style scoped>\n",
       "    .dataframe tbody tr th:only-of-type {\n",
       "        vertical-align: middle;\n",
       "    }\n",
       "\n",
       "    .dataframe tbody tr th {\n",
       "        vertical-align: top;\n",
       "    }\n",
       "\n",
       "    .dataframe thead th {\n",
       "        text-align: right;\n",
       "    }\n",
       "</style>\n",
       "<table border=\"1\" class=\"dataframe\">\n",
       "  <thead>\n",
       "    <tr style=\"text-align: right;\">\n",
       "      <th></th>\n",
       "      <th>a</th>\n",
       "      <th>b</th>\n",
       "      <th>c</th>\n",
       "    </tr>\n",
       "  </thead>\n",
       "  <tbody>\n",
       "    <tr>\n",
       "      <th>0</th>\n",
       "      <td>1</td>\n",
       "      <td>4</td>\n",
       "      <td>7</td>\n",
       "    </tr>\n",
       "    <tr>\n",
       "      <th>1</th>\n",
       "      <td>2</td>\n",
       "      <td>5</td>\n",
       "      <td>8</td>\n",
       "    </tr>\n",
       "    <tr>\n",
       "      <th>2</th>\n",
       "      <td>3</td>\n",
       "      <td>6</td>\n",
       "      <td>9</td>\n",
       "    </tr>\n",
       "    <tr>\n",
       "      <th>3</th>\n",
       "      <td>4</td>\n",
       "      <td>7</td>\n",
       "      <td>10</td>\n",
       "    </tr>\n",
       "    <tr>\n",
       "      <th>4</th>\n",
       "      <td>5</td>\n",
       "      <td>8</td>\n",
       "      <td>11</td>\n",
       "    </tr>\n",
       "  </tbody>\n",
       "</table>\n",
       "</div>"
      ],
      "text/plain": [
       "   a  b   c\n",
       "0  1  4   7\n",
       "1  2  5   8\n",
       "2  3  6   9\n",
       "3  4  7  10\n",
       "4  5  8  11"
      ]
     },
     "execution_count": 130,
     "metadata": {},
     "output_type": "execute_result"
    }
   ],
   "source": [
    "df = pd.DataFrame({\n",
    "    'x': [1, 2, 3, 4, 5],\n",
    "    'y': [4, 5, 6, 7, 8],\n",
    "    'z': [7, 8, 9, 10, 11],\n",
    "})\n",
    "df2 = pd.DataFrame({\n",
    "    'x': [2, 3, 4, 5, 6],\n",
    "    'y': [5, 7, 9, 11, 13],\n",
    "    'z': [7, 8, 9, 10, 11],\n",
    "})\n",
    "\n",
    "diff = df.subtract(df2, axis=0)\n",
    "print(diff)\n",
    "print(np.linalg.norm(diff.values, axis=1))\n",
    "# player_relative['ball_dist'] = np.linalg.norm(player_position - ball_position)\n",
    "\n",
    "df.set_axis(('a', 'b', 'c'), axis=1, inplace=False)"
   ]
  },
  {
   "cell_type": "code",
   "execution_count": 131,
   "metadata": {
    "colab": {
     "base_uri": "https://localhost:8080/",
     "height": 34
    },
    "colab_type": "code",
    "id": "ZqVh4WdF2FKQ",
    "outputId": "17d873e1-e799-4604-9015-4de9500cf752"
   },
   "outputs": [
    {
     "data": {
      "text/plain": [
       "'f'"
      ]
     },
     "execution_count": 131,
     "metadata": {},
     "output_type": "execute_result"
    }
   ],
   "source": [
    "name = 'asdf'\n",
    "name[-1:]"
   ]
  },
  {
   "cell_type": "code",
   "execution_count": 132,
   "metadata": {
    "colab": {},
    "colab_type": "code",
    "id": "67yjHEp9m1PM"
   },
   "outputs": [],
   "source": [
    "def get_relative_data(player, ball, opponent):\n",
    "  '''\n",
    "  Returns a new set of dataframes with data relative to the player.\n",
    "  '''\n",
    "  print(f\"Player shape (in get_relative_data): {player.shape}\")\n",
    "  print(f\"Opponent shape (in get_relative_data): {opponent.shape}\")\n",
    "  print(f\"Ball shape (in get_relative_data): {ball.shape}\")\n",
    "  # NOTE: should eventually handle a list of teammates and opponents\n",
    "  columns = get_game_state_columns()\n",
    "  ball_columns = get_ball_columns()\n",
    "\n",
    "  player_relative = pd.DataFrame()\n",
    "  opponent_relative = pd.DataFrame()\n",
    "  ball_relative = pd.DataFrame()\n",
    "\n",
    "  player_relative['boost'] = player['boost']\n",
    "  player_relative['active'] = player['active']\n",
    "  player_relative['vel_x'] = player['vel_x']\n",
    "  player_relative['vel_y'] = player['vel_y']\n",
    "  player_relative['vel_z'] = player['vel_z']\n",
    "  # player_relative['ang_vel_x'] = player['ang_vel_x']\n",
    "  # player_relative['ang_vel_y'] = player['ang_vel_y']\n",
    "  # player_relative['ang_vel_z'] = player['ang_vel_z']\n",
    "  player_relative['jump_active'] = player['jump_active']\n",
    "  # player_relative['double_jump_active'] = player['double_jump_active'] # seems to be empty and causes NaNs\n",
    "  player_relative['dodge_active'] = player['dodge_active']\n",
    "\n",
    "  column_names = ('x', 'y', 'z')\n",
    "  player_position = player[['pos_x', 'pos_y', 'pos_z']].set_axis(column_names, axis=1, inplace=False)\n",
    "  player_facing = player[['rot_x', 'rot_y', 'rot_z']].set_axis(column_names, axis=1, inplace=False)\n",
    "  player_vel = player[['vel_x', 'vel_y', 'vel_z']].set_axis(column_names, axis=1, inplace=False)\n",
    "  player_spinning = player[['ang_vel_x', 'ang_vel_y', 'ang_vel_z']].set_axis(column_names, axis=1, inplace=False)\n",
    "  ball_position = ball[['pos_x', 'pos_y', 'pos_z']].set_axis(column_names, axis=1, inplace=False)\n",
    "  ball_vel = ball[['vel_x', 'vel_y', 'vel_z']].set_axis(column_names, axis=1, inplace=False)\n",
    "\n",
    "  goal_height = 642.775\n",
    "  back_wall = 5120\n",
    "  # Floor: 0\n",
    "  # Center field: (0, 0)\n",
    "  # Side wall: 4096\n",
    "  # Back wall: 5120\n",
    "  # Ceiling: 2044\n",
    "  # Goal height: 642.775\n",
    "  # Goal center-to-post: 892.755\n",
    "\n",
    "  player_relative['ball_dist'] = np.linalg.norm(player_position - ball_position, axis=1)\n",
    "  player_relative['angle_to_face_ball'] = angle_between(player_facing, ball_position)\n",
    "  player_relative['angle_to_move_to_ball'] = angle_between(player_vel, ball_position)\n",
    "\n",
    "  player_relative['opposing_goal_x'] = -player_position['x']\n",
    "  # @TODO This needs to be based on the player's 'team' - could have +/- y\n",
    "  player_relative['opposing_goal_y'] = -back_wall - player_position['y']\n",
    "  player_relative['opposing_goal_z'] = (goal_height / 2) - player_position['z']\n",
    "\n",
    "  ball_relative['vel_x'] = ball_vel['x'] - player_vel['x']\n",
    "  ball_relative['vel_y'] = ball_vel['y'] - player_vel['y']\n",
    "  ball_relative['vel_z'] = ball_vel['z'] - player_vel['z']\n",
    "  ball_relative['pos_z'] = ball_position['z']\n",
    "\n",
    "  opponent_relative['pos_x'] = opponent['pos_x'] - player['pos_x']\n",
    "  opponent_relative['pos_y'] = opponent['pos_y'] - player['pos_y']\n",
    "  opponent_relative['pos_z'] = opponent['pos_z'] - player['pos_z']\n",
    "  opponent_relative['vel_x'] = opponent['vel_x'] - player['vel_x']\n",
    "  opponent_relative['vel_y'] = opponent['vel_y'] - player['vel_y']\n",
    "  opponent_relative['vel_z'] = opponent['vel_z'] - player['vel_z']\n",
    "\n",
    "  # @TODO Drop player columns that are now represented by other means\n",
    "    # Eg. player position should now be represented by distance to walls and\n",
    "    # distance & angle to net.\n",
    "  return player_relative, ball_relative, opponent_relative"
   ]
  },
  {
   "cell_type": "code",
   "execution_count": 133,
   "metadata": {
    "colab": {},
    "colab_type": "code",
    "id": "k8cln729l31E"
   },
   "outputs": [],
   "source": [
    "def get_X_and_y(player, team, opponents, ball, game, team_num):\n",
    "    '''\n",
    "    Returns X (input) and y (labels) for a neural network. Accepts arguments\n",
    "    relating to the data from a replay.\n",
    "    '''\n",
    "    player = clean_player_data(player.data, main_player=True)\n",
    "    # player = player[player['active'] == 1] # take only rows where player is active. NOTE: This was causing mis-alignment in relative data.\n",
    "    # teammate1 = clean_player_data(team[0].data)\n",
    "    # teammate2 = clean_player_data(team[1].data)\n",
    "    opponent1 = clean_player_data(opponents[0].data)\n",
    "    # opponent2 = clean_player_data(opponents[1].data)\n",
    "    # opponent3 = clean_player_data(opponents[2].data)\n",
    "    ball = clean_ball_data(ball)\n",
    "\n",
    "    y = player[get_controller_input_columns()]\n",
    "\n",
    "    # @TODO Update player dataframes to be relative to player with ball cam\n",
    "    player, ball, opponent1 = get_relative_data(player, ball, opponent1)\n",
    "    \n",
    "    # @TODO Flip x/y values of opponents: pos_y, rot_y, vel_y, ang_vel_y\n",
    "    # This ensures all training happens in the same direction (eg. opponent's goal is positive)\n",
    "    # OR, simply assign each player a Team input set to 0 or 1.\n",
    "    # NOTE: Need to think about what is required for this to make sense. Will try without.\n",
    "\n",
    "    player = normalize_player_data(player, main_player=True)\n",
    "\n",
    "    X = player#[get_game_state_columns()]\n",
    "\n",
    "    # Normalize remainder of data\n",
    "    opponent1 = normalize_player_data(opponent1)\n",
    "    ball = normalize_data(ball)\n",
    "    y = normalize_data(y, fudge_factor=0) # do not fudge predictions!\n",
    "\n",
    "    # X = pd.merge(X, teammate1, left_index=True, right_index=True, suffixes=('', '_team1'))\n",
    "    # X = pd.merge(X, teammate2, left_index=True, right_index=True, suffixes=('', '_team2'))\n",
    "    X = pd.merge(X, opponent1, left_index=True, right_index=True, suffixes=('', '_op1'))\n",
    "    # X = pd.merge(X, opponent2, left_index=True, right_index=True, suffixes=('', '_op2'))\n",
    "    # X = pd.merge(X, opponent3, left_index=True, right_index=True, suffixes=('', '_op3'))\n",
    "    X = pd.merge(X, ball, left_index=True, right_index=True, suffixes=('', '_ball'))\n",
    "\n",
    "    assert X.shape[0] == y.shape[0], f\"X has {X.shape[0]} rows, but y has {y.shape[0]}.\"\n",
    "    \n",
    "    # add any extra fields (must normalize these separately)\n",
    "    X['map'] = squeeze_value(get_stadium_number(game.map))\n",
    "    X['team'] = squeeze_value(team_num)\n",
    "\n",
    "    # @TODO [OPTIONAL] Loop over opponent dataframes. Build up new frames based on closest-to-ball\n",
    "    return X, y"
   ]
  },
  {
   "cell_type": "code",
   "execution_count": 134,
   "metadata": {
    "colab": {
     "base_uri": "https://localhost:8080/",
     "height": 34
    },
    "colab_type": "code",
    "id": "I4hdqC9U69_j",
    "outputId": "79e9e512-43de-4366-cff0-8e55f089d8b6"
   },
   "outputs": [
    {
     "name": "stdout",
     "output_type": "stream",
     "text": [
      "28\n"
     ]
    }
   ],
   "source": [
    "games = map(get_game, game_files)\n",
    "print(len(game_files))"
   ]
  },
  {
   "cell_type": "code",
   "execution_count": 135,
   "metadata": {
    "colab": {},
    "colab_type": "code",
    "id": "umK9dcbY7lAQ"
   },
   "outputs": [],
   "source": [
    "def get_y_pred_columns():\n",
    "  return ['steer', 'throttle']"
   ]
  },
  {
   "cell_type": "code",
   "execution_count": 162,
   "metadata": {
    "colab": {
     "base_uri": "https://localhost:8080/",
     "height": 408
    },
    "colab_type": "code",
    "id": "WyRn1Bbql31G",
    "outputId": "950ece6e-21c2-441e-fc53-1c058e280c7b",
    "scrolled": true
   },
   "outputs": [
    {
     "name": "stdout",
     "output_type": "stream",
     "text": [
      "Parsing and concatenating 28 game(s). -----\n",
      "Player shape (in get_relative_data): (11447, 24)\n",
      "Opponent shape (in get_relative_data): (11447, 14)\n",
      "Ball shape (in get_relative_data): (11447, 6)\n",
      "Player shape (in get_relative_data): (11447, 24)\n",
      "Opponent shape (in get_relative_data): (11447, 14)\n",
      "Ball shape (in get_relative_data): (11447, 6)\n",
      "Player shape (in get_relative_data): (10944, 24)\n",
      "Opponent shape (in get_relative_data): (10944, 14)\n",
      "Ball shape (in get_relative_data): (10944, 6)\n",
      "Player shape (in get_relative_data): (10944, 24)\n",
      "Opponent shape (in get_relative_data): (10944, 14)\n",
      "Ball shape (in get_relative_data): (10944, 6)\n",
      "Player shape (in get_relative_data): (10960, 24)\n",
      "Opponent shape (in get_relative_data): (10960, 14)\n",
      "Ball shape (in get_relative_data): (10960, 6)\n",
      "Player shape (in get_relative_data): (10960, 24)\n",
      "Opponent shape (in get_relative_data): (10960, 14)\n",
      "Ball shape (in get_relative_data): (10960, 6)\n",
      "Player shape (in get_relative_data): (10709, 24)\n",
      "Opponent shape (in get_relative_data): (10709, 14)\n",
      "Ball shape (in get_relative_data): (10709, 6)\n",
      "Player shape (in get_relative_data): (10709, 24)\n",
      "Opponent shape (in get_relative_data): (10709, 14)\n",
      "Ball shape (in get_relative_data): (10709, 6)\n",
      "Player shape (in get_relative_data): (10510, 24)\n",
      "Opponent shape (in get_relative_data): (10510, 14)\n",
      "Ball shape (in get_relative_data): (10510, 6)\n",
      "Player shape (in get_relative_data): (10510, 24)\n",
      "Opponent shape (in get_relative_data): (10510, 14)\n",
      "Ball shape (in get_relative_data): (10510, 6)\n",
      "Player shape (in get_relative_data): (10692, 24)\n",
      "Opponent shape (in get_relative_data): (10692, 14)\n",
      "Ball shape (in get_relative_data): (10692, 6)\n",
      "Player shape (in get_relative_data): (10692, 24)\n",
      "Opponent shape (in get_relative_data): (10692, 14)\n",
      "Ball shape (in get_relative_data): (10692, 6)\n",
      "Player shape (in get_relative_data): (10287, 24)\n",
      "Opponent shape (in get_relative_data): (10287, 14)\n",
      "Ball shape (in get_relative_data): (10287, 6)\n",
      "Player shape (in get_relative_data): (10287, 24)\n",
      "Opponent shape (in get_relative_data): (10287, 14)\n",
      "Ball shape (in get_relative_data): (10287, 6)\n",
      "Player shape (in get_relative_data): (8786, 24)\n",
      "Opponent shape (in get_relative_data): (8786, 14)\n",
      "Ball shape (in get_relative_data): (8786, 6)\n",
      "Player shape (in get_relative_data): (8786, 24)\n",
      "Opponent shape (in get_relative_data): (8786, 14)\n",
      "Ball shape (in get_relative_data): (8786, 6)\n",
      "Player shape (in get_relative_data): (10147, 24)\n",
      "Opponent shape (in get_relative_data): (10147, 14)\n",
      "Ball shape (in get_relative_data): (10147, 6)\n",
      "Player shape (in get_relative_data): (10147, 24)\n",
      "Opponent shape (in get_relative_data): (10147, 14)\n",
      "Ball shape (in get_relative_data): (10147, 6)\n",
      "Player shape (in get_relative_data): (11736, 24)\n",
      "Opponent shape (in get_relative_data): (11736, 14)\n",
      "Ball shape (in get_relative_data): (11736, 6)\n",
      "Player shape (in get_relative_data): (11736, 24)\n",
      "Opponent shape (in get_relative_data): (11736, 14)\n",
      "Ball shape (in get_relative_data): (11736, 6)\n",
      "Player shape (in get_relative_data): (11807, 24)\n",
      "Opponent shape (in get_relative_data): (11807, 14)\n",
      "Ball shape (in get_relative_data): (11807, 6)\n",
      "Player shape (in get_relative_data): (11807, 24)\n",
      "Opponent shape (in get_relative_data): (11807, 14)\n",
      "Ball shape (in get_relative_data): (11807, 6)\n",
      "Player shape (in get_relative_data): (10703, 24)\n",
      "Opponent shape (in get_relative_data): (10703, 14)\n",
      "Ball shape (in get_relative_data): (10703, 6)\n",
      "Player shape (in get_relative_data): (10703, 24)\n",
      "Opponent shape (in get_relative_data): (10703, 14)\n",
      "Ball shape (in get_relative_data): (10703, 6)\n",
      "Player shape (in get_relative_data): (9997, 24)\n",
      "Opponent shape (in get_relative_data): (9997, 14)\n",
      "Ball shape (in get_relative_data): (9997, 6)\n",
      "Player shape (in get_relative_data): (9997, 24)\n",
      "Opponent shape (in get_relative_data): (9997, 14)\n",
      "Ball shape (in get_relative_data): (9997, 6)\n",
      "Player shape (in get_relative_data): (11864, 24)\n",
      "Opponent shape (in get_relative_data): (11864, 14)\n",
      "Ball shape (in get_relative_data): (11864, 6)\n",
      "Player shape (in get_relative_data): (11864, 24)\n",
      "Opponent shape (in get_relative_data): (11864, 14)\n",
      "Ball shape (in get_relative_data): (11864, 6)\n",
      "Player shape (in get_relative_data): (3537, 24)\n",
      "Opponent shape (in get_relative_data): (3537, 14)\n",
      "Ball shape (in get_relative_data): (3537, 6)\n",
      "Player shape (in get_relative_data): (3537, 24)\n",
      "Opponent shape (in get_relative_data): (3537, 14)\n",
      "Ball shape (in get_relative_data): (3537, 6)\n",
      "Player shape (in get_relative_data): (11842, 24)\n",
      "Opponent shape (in get_relative_data): (11842, 14)\n",
      "Ball shape (in get_relative_data): (11842, 6)\n",
      "Player shape (in get_relative_data): (11842, 24)\n",
      "Opponent shape (in get_relative_data): (11842, 14)\n",
      "Ball shape (in get_relative_data): (11842, 6)\n",
      "Player shape (in get_relative_data): (10511, 24)\n",
      "Opponent shape (in get_relative_data): (10511, 14)\n",
      "Ball shape (in get_relative_data): (10511, 6)\n",
      "Player shape (in get_relative_data): (10511, 24)\n",
      "Opponent shape (in get_relative_data): (10511, 14)\n",
      "Ball shape (in get_relative_data): (10511, 6)\n",
      "Player shape (in get_relative_data): (2348, 24)\n",
      "Opponent shape (in get_relative_data): (2348, 14)\n",
      "Ball shape (in get_relative_data): (2348, 6)\n",
      "Player shape (in get_relative_data): (2348, 24)\n",
      "Opponent shape (in get_relative_data): (2348, 14)\n",
      "Ball shape (in get_relative_data): (2348, 6)\n",
      "Player shape (in get_relative_data): (11363, 24)\n",
      "Opponent shape (in get_relative_data): (11363, 14)\n",
      "Ball shape (in get_relative_data): (11363, 6)\n",
      "Player shape (in get_relative_data): (11363, 24)\n",
      "Opponent shape (in get_relative_data): (11363, 14)\n",
      "Ball shape (in get_relative_data): (11363, 6)\n",
      "Player shape (in get_relative_data): (10697, 24)\n",
      "Opponent shape (in get_relative_data): (10697, 14)\n",
      "Ball shape (in get_relative_data): (10697, 6)\n",
      "Player shape (in get_relative_data): (10697, 24)\n",
      "Opponent shape (in get_relative_data): (10697, 14)\n",
      "Ball shape (in get_relative_data): (10697, 6)\n",
      "Player shape (in get_relative_data): (9887, 24)\n",
      "Opponent shape (in get_relative_data): (9887, 14)\n",
      "Ball shape (in get_relative_data): (9887, 6)\n",
      "Player shape (in get_relative_data): (9887, 24)\n",
      "Opponent shape (in get_relative_data): (9887, 14)\n",
      "Ball shape (in get_relative_data): (9887, 6)\n",
      "Player shape (in get_relative_data): (11349, 24)\n",
      "Opponent shape (in get_relative_data): (11349, 14)\n",
      "Ball shape (in get_relative_data): (11349, 6)\n",
      "Player shape (in get_relative_data): (11349, 24)\n",
      "Opponent shape (in get_relative_data): (11349, 14)\n",
      "Ball shape (in get_relative_data): (11349, 6)\n",
      "Player shape (in get_relative_data): (12047, 24)\n",
      "Opponent shape (in get_relative_data): (12047, 14)\n",
      "Ball shape (in get_relative_data): (12047, 6)\n",
      "Player shape (in get_relative_data): (12047, 24)\n",
      "Opponent shape (in get_relative_data): (12047, 14)\n",
      "Ball shape (in get_relative_data): (12047, 6)\n",
      "Player shape (in get_relative_data): (10435, 24)\n",
      "Opponent shape (in get_relative_data): (10435, 14)\n",
      "Ball shape (in get_relative_data): (10435, 6)\n",
      "Player shape (in get_relative_data): (10435, 24)\n",
      "Opponent shape (in get_relative_data): (10435, 14)\n",
      "Ball shape (in get_relative_data): (10435, 6)\n"
     ]
    },
    {
     "name": "stderr",
     "output_type": "stream",
     "text": [
      "Could not find field_of_view in camera settings for owl.exe\n",
      "Could not find height in camera settings for owl.exe\n",
      "Could not find pitch in camera settings for owl.exe\n",
      "Could not find distance in camera settings for owl.exe\n",
      "Could not find stiffness in camera settings for owl.exe\n",
      "Could not find swivel_speed in camera settings for owl.exe\n",
      "Could not find transition_speed in camera settings for owl.exe\n"
     ]
    },
    {
     "name": "stdout",
     "output_type": "stream",
     "text": [
      "Player shape (in get_relative_data): (5750, 24)\n",
      "Opponent shape (in get_relative_data): (5750, 14)\n",
      "Ball shape (in get_relative_data): (5750, 6)\n",
      "Player shape (in get_relative_data): (5750, 24)\n",
      "Opponent shape (in get_relative_data): (5750, 14)\n",
      "Ball shape (in get_relative_data): (5750, 6)\n",
      "Player shape (in get_relative_data): (10981, 24)\n",
      "Opponent shape (in get_relative_data): (10981, 14)\n",
      "Ball shape (in get_relative_data): (10981, 6)\n",
      "Player shape (in get_relative_data): (10981, 24)\n",
      "Opponent shape (in get_relative_data): (10981, 14)\n",
      "Ball shape (in get_relative_data): (10981, 6)\n",
      "Player shape (in get_relative_data): (11680, 24)\n",
      "Opponent shape (in get_relative_data): (11680, 14)\n",
      "Ball shape (in get_relative_data): (11680, 6)\n",
      "Player shape (in get_relative_data): (11680, 24)\n",
      "Opponent shape (in get_relative_data): (11680, 14)\n",
      "Ball shape (in get_relative_data): (11680, 6)\n",
      "Player shape (in get_relative_data): (10669, 24)\n",
      "Opponent shape (in get_relative_data): (10669, 14)\n",
      "Ball shape (in get_relative_data): (10669, 6)\n",
      "Player shape (in get_relative_data): (10669, 24)\n",
      "Opponent shape (in get_relative_data): (10669, 14)\n",
      "Ball shape (in get_relative_data): (10669, 6)\n",
      "Completed game intake. -----\n"
     ]
    }
   ],
   "source": [
    "games = map(get_game, game_files)\n",
    "max_games = -1\n",
    "\n",
    "def assert_colour(player):\n",
    "    '''\n",
    "    Asserts that a blue player has a negative y starting value. This ensures\n",
    "    that there is consistency between teams and team numbers across replays.\n",
    "    '''\n",
    "    player_start = player.data['pos_y'].iloc[0]\n",
    "    player_colour = 'orange' if player_start > 0 else 'blue'\n",
    "    # print(player_start > 0, player.is_orange)\n",
    "    # print(f\"Player is {player_colour} and has start of {player_start}.\")\n",
    "    assert (player_start > 0) == player.is_orange, f\"Player is {player_colour} but has start of {player_start}.\"\n",
    "\n",
    "def get_game_data(game):\n",
    "  equalize_player_data_rows(game)\n",
    "  Xs = []\n",
    "  ys = []\n",
    "  for i, team in enumerate(game.teams):\n",
    "#       if i > 0: break # hack to skip second team\n",
    "      team_num = int(team.is_orange)\n",
    "      team = list(team.players)\n",
    "      opponents = list(game.teams[1 - i].players)\n",
    "      for j, player in enumerate(team):\n",
    "          assert_colour(player)\n",
    "          if j > 0: continue # hack to skip other players\n",
    "          teammates = []\n",
    "          if len(team) == 2:\n",
    "            teammates = [team[(j + 1) % 3]]\n",
    "          elif len(team) == 3:\n",
    "            teammates = [team[(j + 1) % 3], team[(j + 2) % 3]]\n",
    "\n",
    "  #         print('Me:', player)\n",
    "  #         print('Teammates:', teammates[0].name, 'and', teammates[1].name)\n",
    "  #         print('Opponents:', opponents[0].name, opponents[1].name, opponents[2].name)\n",
    "  #         print('---')\n",
    "          new_X, new_y = get_X_and_y(player, teammates, opponents, game.ball, game, team_num)\n",
    "          Xs.append(new_X)\n",
    "          ys.append(new_y)\n",
    "  X = pd.concat(Xs)\n",
    "  y = pd.concat(ys)\n",
    "  return X, y\n",
    "\n",
    "\n",
    "num_games = len(game_files) if max_games < 0 else max_games\n",
    "print(f'Parsing and concatenating {num_games} game(s). -----')\n",
    "\n",
    "all_Xs = []\n",
    "all_ys = []\n",
    "for i, game in enumerate(games):\n",
    "  if max_games >= 1 and i >= max_games:\n",
    "    print(f'Stopping at {max_games} max games.')\n",
    "    break\n",
    "  # try:\n",
    "  new_X, new_y = get_game_data(game)\n",
    "  # except TypeError:\n",
    "  #   print(f'ERROR: Game invalid. Skipping. ({game})')\n",
    "  #   continue\n",
    "  all_Xs.append(new_X)\n",
    "  all_ys.append(new_y)\n",
    "  # X = pd.concat(X, new_X)\n",
    "  # y = pd.concat(y, new_y)\n",
    "if len(all_Xs) == 0:\n",
    "  raise ValueError('all_Xs is empty. Should have at least one data set.')\n",
    "elif len(all_Xs) == 1:\n",
    "  X = all_Xs[0]\n",
    "  y = all_ys[0]\n",
    "else:\n",
    "  X = pd.concat(all_Xs)\n",
    "  y = pd.concat(all_ys)\n",
    "\n",
    "y = y[get_y_pred_columns()]\n",
    "# throttle, steer, handbrake, dodge_active, double_jump_active, jump_active, boost_active\n",
    "\n",
    "print(f'Completed game intake. -----')"
   ]
  },
  {
   "cell_type": "code",
   "execution_count": 163,
   "metadata": {
    "colab": {
     "base_uri": "https://localhost:8080/",
     "height": 317
    },
    "colab_type": "code",
    "id": "zubzoYJshQGG",
    "outputId": "ba73ca60-45d5-445b-fae6-7f1351ff2152"
   },
   "outputs": [
    {
     "data": {
      "text/html": [
       "<div>\n",
       "<style scoped>\n",
       "    .dataframe tbody tr th:only-of-type {\n",
       "        vertical-align: middle;\n",
       "    }\n",
       "\n",
       "    .dataframe tbody tr th {\n",
       "        vertical-align: top;\n",
       "    }\n",
       "\n",
       "    .dataframe thead th {\n",
       "        text-align: right;\n",
       "    }\n",
       "</style>\n",
       "<table border=\"1\" class=\"dataframe\">\n",
       "  <thead>\n",
       "    <tr style=\"text-align: right;\">\n",
       "      <th></th>\n",
       "      <th>boost</th>\n",
       "      <th>active</th>\n",
       "      <th>vel_x</th>\n",
       "      <th>vel_y</th>\n",
       "      <th>vel_z</th>\n",
       "      <th>jump_active</th>\n",
       "      <th>dodge_active</th>\n",
       "      <th>ball_dist</th>\n",
       "      <th>angle_to_face_ball</th>\n",
       "      <th>angle_to_move_to_ball</th>\n",
       "      <th>opposing_goal_x</th>\n",
       "      <th>opposing_goal_y</th>\n",
       "      <th>opposing_goal_z</th>\n",
       "      <th>pos_x</th>\n",
       "      <th>pos_y</th>\n",
       "      <th>pos_z</th>\n",
       "      <th>vel_x_op1</th>\n",
       "      <th>vel_y_op1</th>\n",
       "      <th>vel_z_op1</th>\n",
       "      <th>vel_x_ball</th>\n",
       "      <th>vel_y_ball</th>\n",
       "      <th>vel_z_ball</th>\n",
       "      <th>pos_z_ball</th>\n",
       "      <th>map</th>\n",
       "      <th>team</th>\n",
       "    </tr>\n",
       "  </thead>\n",
       "  <tbody>\n",
       "    <tr>\n",
       "      <th>count</th>\n",
       "      <td>567370.000000</td>\n",
       "      <td>567370.000000</td>\n",
       "      <td>567370.000000</td>\n",
       "      <td>567370.000000</td>\n",
       "      <td>567370.000000</td>\n",
       "      <td>567370.000000</td>\n",
       "      <td>567370.000000</td>\n",
       "      <td>567370.000000</td>\n",
       "      <td>567370.000000</td>\n",
       "      <td>567370.000000</td>\n",
       "      <td>567370.000000</td>\n",
       "      <td>567370.000000</td>\n",
       "      <td>567370.000000</td>\n",
       "      <td>567370.000000</td>\n",
       "      <td>567370.000000</td>\n",
       "      <td>567370.00000</td>\n",
       "      <td>567370.000000</td>\n",
       "      <td>567370.000000</td>\n",
       "      <td>567370.000000</td>\n",
       "      <td>567370.000000</td>\n",
       "      <td>567370.000000</td>\n",
       "      <td>567370.000000</td>\n",
       "      <td>567370.000000</td>\n",
       "      <td>567370.000000</td>\n",
       "      <td>567370.0</td>\n",
       "    </tr>\n",
       "    <tr>\n",
       "      <th>mean</th>\n",
       "      <td>0.392349</td>\n",
       "      <td>0.915859</td>\n",
       "      <td>0.499740</td>\n",
       "      <td>0.499384</td>\n",
       "      <td>0.459870</td>\n",
       "      <td>0.027841</td>\n",
       "      <td>0.130685</td>\n",
       "      <td>0.205705</td>\n",
       "      <td>0.504811</td>\n",
       "      <td>0.501986</td>\n",
       "      <td>0.507665</td>\n",
       "      <td>0.502165</td>\n",
       "      <td>0.934695</td>\n",
       "      <td>0.500000</td>\n",
       "      <td>0.500000</td>\n",
       "      <td>0.50000</td>\n",
       "      <td>0.500000</td>\n",
       "      <td>0.500000</td>\n",
       "      <td>0.500000</td>\n",
       "      <td>0.497435</td>\n",
       "      <td>0.511254</td>\n",
       "      <td>0.476025</td>\n",
       "      <td>0.153876</td>\n",
       "      <td>0.571876</td>\n",
       "      <td>0.5</td>\n",
       "    </tr>\n",
       "    <tr>\n",
       "      <th>std</th>\n",
       "      <td>0.323683</td>\n",
       "      <td>0.277599</td>\n",
       "      <td>0.208679</td>\n",
       "      <td>0.250212</td>\n",
       "      <td>0.095406</td>\n",
       "      <td>0.164517</td>\n",
       "      <td>0.337056</td>\n",
       "      <td>0.182539</td>\n",
       "      <td>0.158386</td>\n",
       "      <td>0.164687</td>\n",
       "      <td>0.262605</td>\n",
       "      <td>0.272654</td>\n",
       "      <td>0.133207</td>\n",
       "      <td>0.147785</td>\n",
       "      <td>0.190477</td>\n",
       "      <td>0.11357</td>\n",
       "      <td>0.140293</td>\n",
       "      <td>0.153330</td>\n",
       "      <td>0.102058</td>\n",
       "      <td>0.133803</td>\n",
       "      <td>0.162826</td>\n",
       "      <td>0.113059</td>\n",
       "      <td>0.204394</td>\n",
       "      <td>0.271560</td>\n",
       "      <td>0.5</td>\n",
       "    </tr>\n",
       "    <tr>\n",
       "      <th>min</th>\n",
       "      <td>0.000000</td>\n",
       "      <td>0.000000</td>\n",
       "      <td>0.000000</td>\n",
       "      <td>0.000000</td>\n",
       "      <td>0.000000</td>\n",
       "      <td>0.000000</td>\n",
       "      <td>0.000000</td>\n",
       "      <td>0.000000</td>\n",
       "      <td>0.000000</td>\n",
       "      <td>0.000000</td>\n",
       "      <td>0.000000</td>\n",
       "      <td>0.000000</td>\n",
       "      <td>0.000000</td>\n",
       "      <td>0.000000</td>\n",
       "      <td>0.000000</td>\n",
       "      <td>0.00000</td>\n",
       "      <td>0.000000</td>\n",
       "      <td>0.000000</td>\n",
       "      <td>0.000000</td>\n",
       "      <td>0.000000</td>\n",
       "      <td>0.000000</td>\n",
       "      <td>0.000000</td>\n",
       "      <td>0.000000</td>\n",
       "      <td>0.074074</td>\n",
       "      <td>0.0</td>\n",
       "    </tr>\n",
       "    <tr>\n",
       "      <th>25%</th>\n",
       "      <td>0.121569</td>\n",
       "      <td>1.000000</td>\n",
       "      <td>0.366351</td>\n",
       "      <td>0.326739</td>\n",
       "      <td>0.408899</td>\n",
       "      <td>0.000000</td>\n",
       "      <td>0.000000</td>\n",
       "      <td>0.056194</td>\n",
       "      <td>0.436958</td>\n",
       "      <td>0.419134</td>\n",
       "      <td>0.307698</td>\n",
       "      <td>0.266849</td>\n",
       "      <td>0.946494</td>\n",
       "      <td>0.427009</td>\n",
       "      <td>0.379074</td>\n",
       "      <td>0.44279</td>\n",
       "      <td>0.425511</td>\n",
       "      <td>0.419991</td>\n",
       "      <td>0.448724</td>\n",
       "      <td>0.426191</td>\n",
       "      <td>0.392898</td>\n",
       "      <td>0.423311</td>\n",
       "      <td>0.006667</td>\n",
       "      <td>0.333333</td>\n",
       "      <td>0.0</td>\n",
       "    </tr>\n",
       "    <tr>\n",
       "      <th>50%</th>\n",
       "      <td>0.333333</td>\n",
       "      <td>1.000000</td>\n",
       "      <td>0.499989</td>\n",
       "      <td>0.500010</td>\n",
       "      <td>0.458005</td>\n",
       "      <td>0.000000</td>\n",
       "      <td>0.000000</td>\n",
       "      <td>0.143411</td>\n",
       "      <td>0.506782</td>\n",
       "      <td>0.504012</td>\n",
       "      <td>0.500189</td>\n",
       "      <td>0.500373</td>\n",
       "      <td>0.987738</td>\n",
       "      <td>0.500000</td>\n",
       "      <td>0.500000</td>\n",
       "      <td>0.50000</td>\n",
       "      <td>0.500000</td>\n",
       "      <td>0.500000</td>\n",
       "      <td>0.500000</td>\n",
       "      <td>0.497061</td>\n",
       "      <td>0.507100</td>\n",
       "      <td>0.478574</td>\n",
       "      <td>0.066093</td>\n",
       "      <td>0.555556</td>\n",
       "      <td>0.5</td>\n",
       "    </tr>\n",
       "    <tr>\n",
       "      <th>75%</th>\n",
       "      <td>0.658824</td>\n",
       "      <td>1.000000</td>\n",
       "      <td>0.631672</td>\n",
       "      <td>0.672631</td>\n",
       "      <td>0.507883</td>\n",
       "      <td>0.000000</td>\n",
       "      <td>0.000000</td>\n",
       "      <td>0.330513</td>\n",
       "      <td>0.570088</td>\n",
       "      <td>0.575930</td>\n",
       "      <td>0.718484</td>\n",
       "      <td>0.743312</td>\n",
       "      <td>0.991000</td>\n",
       "      <td>0.572991</td>\n",
       "      <td>0.620926</td>\n",
       "      <td>0.55721</td>\n",
       "      <td>0.574489</td>\n",
       "      <td>0.580009</td>\n",
       "      <td>0.551276</td>\n",
       "      <td>0.567337</td>\n",
       "      <td>0.634257</td>\n",
       "      <td>0.528502</td>\n",
       "      <td>0.218810</td>\n",
       "      <td>0.814815</td>\n",
       "      <td>1.0</td>\n",
       "    </tr>\n",
       "    <tr>\n",
       "      <th>max</th>\n",
       "      <td>1.000000</td>\n",
       "      <td>1.000000</td>\n",
       "      <td>1.000000</td>\n",
       "      <td>1.000000</td>\n",
       "      <td>1.000000</td>\n",
       "      <td>1.000000</td>\n",
       "      <td>1.000000</td>\n",
       "      <td>1.000000</td>\n",
       "      <td>1.000000</td>\n",
       "      <td>1.000000</td>\n",
       "      <td>1.000000</td>\n",
       "      <td>1.000000</td>\n",
       "      <td>1.000000</td>\n",
       "      <td>1.000000</td>\n",
       "      <td>1.000000</td>\n",
       "      <td>1.00000</td>\n",
       "      <td>1.000000</td>\n",
       "      <td>1.000000</td>\n",
       "      <td>1.000000</td>\n",
       "      <td>1.000000</td>\n",
       "      <td>1.000000</td>\n",
       "      <td>1.000000</td>\n",
       "      <td>1.000000</td>\n",
       "      <td>0.962963</td>\n",
       "      <td>1.0</td>\n",
       "    </tr>\n",
       "  </tbody>\n",
       "</table>\n",
       "</div>"
      ],
      "text/plain": [
       "               boost         active          vel_x          vel_y  \\\n",
       "count  567370.000000  567370.000000  567370.000000  567370.000000   \n",
       "mean        0.392349       0.915859       0.499740       0.499384   \n",
       "std         0.323683       0.277599       0.208679       0.250212   \n",
       "min         0.000000       0.000000       0.000000       0.000000   \n",
       "25%         0.121569       1.000000       0.366351       0.326739   \n",
       "50%         0.333333       1.000000       0.499989       0.500010   \n",
       "75%         0.658824       1.000000       0.631672       0.672631   \n",
       "max         1.000000       1.000000       1.000000       1.000000   \n",
       "\n",
       "               vel_z    jump_active   dodge_active      ball_dist  \\\n",
       "count  567370.000000  567370.000000  567370.000000  567370.000000   \n",
       "mean        0.459870       0.027841       0.130685       0.205705   \n",
       "std         0.095406       0.164517       0.337056       0.182539   \n",
       "min         0.000000       0.000000       0.000000       0.000000   \n",
       "25%         0.408899       0.000000       0.000000       0.056194   \n",
       "50%         0.458005       0.000000       0.000000       0.143411   \n",
       "75%         0.507883       0.000000       0.000000       0.330513   \n",
       "max         1.000000       1.000000       1.000000       1.000000   \n",
       "\n",
       "       angle_to_face_ball  angle_to_move_to_ball  opposing_goal_x  \\\n",
       "count       567370.000000          567370.000000    567370.000000   \n",
       "mean             0.504811               0.501986         0.507665   \n",
       "std              0.158386               0.164687         0.262605   \n",
       "min              0.000000               0.000000         0.000000   \n",
       "25%              0.436958               0.419134         0.307698   \n",
       "50%              0.506782               0.504012         0.500189   \n",
       "75%              0.570088               0.575930         0.718484   \n",
       "max              1.000000               1.000000         1.000000   \n",
       "\n",
       "       opposing_goal_y  opposing_goal_z          pos_x          pos_y  \\\n",
       "count    567370.000000    567370.000000  567370.000000  567370.000000   \n",
       "mean          0.502165         0.934695       0.500000       0.500000   \n",
       "std           0.272654         0.133207       0.147785       0.190477   \n",
       "min           0.000000         0.000000       0.000000       0.000000   \n",
       "25%           0.266849         0.946494       0.427009       0.379074   \n",
       "50%           0.500373         0.987738       0.500000       0.500000   \n",
       "75%           0.743312         0.991000       0.572991       0.620926   \n",
       "max           1.000000         1.000000       1.000000       1.000000   \n",
       "\n",
       "              pos_z      vel_x_op1      vel_y_op1      vel_z_op1  \\\n",
       "count  567370.00000  567370.000000  567370.000000  567370.000000   \n",
       "mean        0.50000       0.500000       0.500000       0.500000   \n",
       "std         0.11357       0.140293       0.153330       0.102058   \n",
       "min         0.00000       0.000000       0.000000       0.000000   \n",
       "25%         0.44279       0.425511       0.419991       0.448724   \n",
       "50%         0.50000       0.500000       0.500000       0.500000   \n",
       "75%         0.55721       0.574489       0.580009       0.551276   \n",
       "max         1.00000       1.000000       1.000000       1.000000   \n",
       "\n",
       "          vel_x_ball     vel_y_ball     vel_z_ball     pos_z_ball  \\\n",
       "count  567370.000000  567370.000000  567370.000000  567370.000000   \n",
       "mean        0.497435       0.511254       0.476025       0.153876   \n",
       "std         0.133803       0.162826       0.113059       0.204394   \n",
       "min         0.000000       0.000000       0.000000       0.000000   \n",
       "25%         0.426191       0.392898       0.423311       0.006667   \n",
       "50%         0.497061       0.507100       0.478574       0.066093   \n",
       "75%         0.567337       0.634257       0.528502       0.218810   \n",
       "max         1.000000       1.000000       1.000000       1.000000   \n",
       "\n",
       "                 map      team  \n",
       "count  567370.000000  567370.0  \n",
       "mean        0.571876       0.5  \n",
       "std         0.271560       0.5  \n",
       "min         0.074074       0.0  \n",
       "25%         0.333333       0.0  \n",
       "50%         0.555556       0.5  \n",
       "75%         0.814815       1.0  \n",
       "max         0.962963       1.0  "
      ]
     },
     "execution_count": 163,
     "metadata": {},
     "output_type": "execute_result"
    }
   ],
   "source": [
    "start = 300\n",
    "X.iloc[start:start + 20]\n",
    "X.describe()"
   ]
  },
  {
   "cell_type": "code",
   "execution_count": 164,
   "metadata": {
    "colab": {
     "base_uri": "https://localhost:8080/",
     "height": 1000
    },
    "colab_type": "code",
    "id": "iRnzzV4J6xw9",
    "outputId": "7a490498-7359-49ee-b29b-335afc8aa864"
   },
   "outputs": [
    {
     "data": {
      "text/plain": [
       "array([[<matplotlib.axes._subplots.AxesSubplot object at 0x7ff4c02d4128>,\n",
       "        <matplotlib.axes._subplots.AxesSubplot object at 0x7ff4a0f4d860>,\n",
       "        <matplotlib.axes._subplots.AxesSubplot object at 0x7ff6efc72470>,\n",
       "        <matplotlib.axes._subplots.AxesSubplot object at 0x7ff48031bcc0>,\n",
       "        <matplotlib.axes._subplots.AxesSubplot object at 0x7ff4823ca6d8>],\n",
       "       [<matplotlib.axes._subplots.AxesSubplot object at 0x7ff73d5d3908>,\n",
       "        <matplotlib.axes._subplots.AxesSubplot object at 0x7ff4c02bf908>,\n",
       "        <matplotlib.axes._subplots.AxesSubplot object at 0x7ff4c0311b38>,\n",
       "        <matplotlib.axes._subplots.AxesSubplot object at 0x7ff4c0311a58>,\n",
       "        <matplotlib.axes._subplots.AxesSubplot object at 0x7ff481153c18>],\n",
       "       [<matplotlib.axes._subplots.AxesSubplot object at 0x7ff480ca7780>,\n",
       "        <matplotlib.axes._subplots.AxesSubplot object at 0x7ff481141b00>,\n",
       "        <matplotlib.axes._subplots.AxesSubplot object at 0x7ff48305da58>,\n",
       "        <matplotlib.axes._subplots.AxesSubplot object at 0x7ff6e84be470>,\n",
       "        <matplotlib.axes._subplots.AxesSubplot object at 0x7ff4835be160>],\n",
       "       [<matplotlib.axes._subplots.AxesSubplot object at 0x7ff48007c0b8>,\n",
       "        <matplotlib.axes._subplots.AxesSubplot object at 0x7ff6efb04668>,\n",
       "        <matplotlib.axes._subplots.AxesSubplot object at 0x7ff6efb37c18>,\n",
       "        <matplotlib.axes._subplots.AxesSubplot object at 0x7ff47b719208>,\n",
       "        <matplotlib.axes._subplots.AxesSubplot object at 0x7ff6ef7217b8>],\n",
       "       [<matplotlib.axes._subplots.AxesSubplot object at 0x7ff6ef726d68>,\n",
       "        <matplotlib.axes._subplots.AxesSubplot object at 0x7ff4c0100358>,\n",
       "        <matplotlib.axes._subplots.AxesSubplot object at 0x7ff483cd4908>,\n",
       "        <matplotlib.axes._subplots.AxesSubplot object at 0x7ff483cfaeb8>,\n",
       "        <matplotlib.axes._subplots.AxesSubplot object at 0x7ff6ecc2a4a8>]],\n",
       "      dtype=object)"
      ]
     },
     "execution_count": 164,
     "metadata": {},
     "output_type": "execute_result"
    },
    {
     "data": {
      "image/png": "[encoded data removed]",
      "text/plain": [
       "<Figure size 1440x864 with 25 Axes>"
      ]
     },
     "metadata": {
      "needs_background": "light"
     },
     "output_type": "display_data"
    }
   ],
   "source": [
    "X.hist(figsize=(20, 12))"
   ]
  },
  {
   "cell_type": "code",
   "execution_count": 165,
   "metadata": {
    "colab": {
     "base_uri": "https://localhost:8080/",
     "height": 170
    },
    "colab_type": "code",
    "id": "qWbkLtb5l31I",
    "outputId": "f470281f-6488-4c68-b2ee-1779ee474172"
   },
   "outputs": [
    {
     "name": "stdout",
     "output_type": "stream",
     "text": [
      "(527370, 25)\n",
      "(20000, 25)\n",
      "(20000, 25)\n",
      "(527370, 2)\n",
      "(20000, 2)\n",
      "(20000, 2)\n",
      "567370\n",
      "567370\n",
      "We have 567370 rows in X. We have 567370 in all sub-matrices combined (which should be the same).\n"
     ]
    }
   ],
   "source": [
    "def take_sample(X, y, quantity):\n",
    "  if quantity == None: return X, y\n",
    "  return X[0:quantity], y[0:quantity]\n",
    "\n",
    "\n",
    "# def split_data(dataframe, shuffle=True, max_val_size=20000, max_test_size=20000):\n",
    "#   '''\n",
    "#   Returns the data split into train, val, and test sets.\n",
    "#   '''\n",
    "#   if shuffle:\n",
    "#     dataframe = dataframe.sample(frac=1)\n",
    "#   m = shuffled.shape[0]\n",
    "#   size_val_set = min(int(m * 0.2), max_val_size)\n",
    "#   size_test_set = min(int(m * 0.2), max_test_size)\n",
    "#   end_test_set = size_val_set + size_test_set\n",
    "\n",
    "#   val_set = dataframe[0:size_val_set]\n",
    "#   test_set = dataframe[size_val_set:end_test_set]\n",
    "#   train_set = dataframe[end_test_set:]\n",
    "#   return train_set, val_set, test_set\n",
    "\n",
    "# X_train, X_val, X_test = split_data(X, shuffle=False)\n",
    "\n",
    "X_shuffled = X#.sample(frac=1)\n",
    "y_shuffled = y#.sample(frac=1)\n",
    "assert X_shuffled.shape[0] == y_shuffled.shape[0], f\"X has {X_shuffled.shape[0]} rows, but y has {y_shuffled.shape[0]}.\"\n",
    "# X_shuffled, y_shuffled = take_sample(X_shuffled, y_shuffled, 3000)\n",
    "m = X_shuffled.shape[0]\n",
    "\n",
    "size_val_set = min(int(m * 0.2), 20000)\n",
    "size_test_set = min(int(m * 0.2), 20000)\n",
    "end_test_set = size_val_set + size_test_set\n",
    "X_val = X_shuffled[0:size_val_set]\n",
    "y_val = y_shuffled[0:size_val_set]\n",
    "X_test = X_shuffled[size_val_set:end_test_set]\n",
    "y_test = y_shuffled[size_val_set:end_test_set]\n",
    "X_train = X_shuffled[end_test_set:]\n",
    "y_train = y_shuffled[end_test_set:]\n",
    "\n",
    "print(X_train.shape)\n",
    "print(X_val.shape)\n",
    "print(X_test.shape)\n",
    "\n",
    "print(y_train.shape)\n",
    "print(y_val.shape)\n",
    "print(y_test.shape)\n",
    "\n",
    "sum_rows = X_train.shape[0] + X_val.shape[0] + X_test.shape[0]\n",
    "print(X_train.shape[0] + X_val.shape[0] + X_test.shape[0])\n",
    "print(X.shape[0])\n",
    "print(f\"We have {X_shuffled.shape[0]} rows in X. We have {sum_rows} in all sub-matrices combined (which should be the same).\")\n",
    "assert(sum_rows == X_shuffled.shape[0])\n",
    "assert(X_train.shape[0] == y_train.shape[0])"
   ]
  },
  {
   "cell_type": "code",
   "execution_count": 166,
   "metadata": {
    "colab": {
     "base_uri": "https://localhost:8080/",
     "height": 100
    },
    "colab_type": "code",
    "id": "L-bQPIIMxWl_",
    "outputId": "b3c87cb9-0f32-428c-dd46-974e3a70c2f1"
   },
   "outputs": [
    {
     "data": {
      "text/html": [
       "<div>\n",
       "<style scoped>\n",
       "    .dataframe tbody tr th:only-of-type {\n",
       "        vertical-align: middle;\n",
       "    }\n",
       "\n",
       "    .dataframe tbody tr th {\n",
       "        vertical-align: top;\n",
       "    }\n",
       "\n",
       "    .dataframe thead th {\n",
       "        text-align: right;\n",
       "    }\n",
       "</style>\n",
       "<table border=\"1\" class=\"dataframe\">\n",
       "  <thead>\n",
       "    <tr style=\"text-align: right;\">\n",
       "      <th></th>\n",
       "      <th>boost</th>\n",
       "      <th>active</th>\n",
       "      <th>vel_x</th>\n",
       "      <th>vel_y</th>\n",
       "      <th>vel_z</th>\n",
       "      <th>jump_active</th>\n",
       "      <th>dodge_active</th>\n",
       "      <th>ball_dist</th>\n",
       "      <th>angle_to_face_ball</th>\n",
       "      <th>angle_to_move_to_ball</th>\n",
       "      <th>opposing_goal_x</th>\n",
       "      <th>opposing_goal_y</th>\n",
       "      <th>opposing_goal_z</th>\n",
       "      <th>pos_x</th>\n",
       "      <th>pos_y</th>\n",
       "      <th>pos_z</th>\n",
       "      <th>vel_x_op1</th>\n",
       "      <th>vel_y_op1</th>\n",
       "      <th>vel_z_op1</th>\n",
       "      <th>vel_x_ball</th>\n",
       "      <th>vel_y_ball</th>\n",
       "      <th>vel_z_ball</th>\n",
       "      <th>pos_z_ball</th>\n",
       "      <th>map</th>\n",
       "      <th>team</th>\n",
       "    </tr>\n",
       "  </thead>\n",
       "  <tbody>\n",
       "    <tr>\n",
       "      <th>1</th>\n",
       "      <td>0.333333</td>\n",
       "      <td>0.0</td>\n",
       "      <td>0.501364</td>\n",
       "      <td>0.499984</td>\n",
       "      <td>0.445806</td>\n",
       "      <td>0.0</td>\n",
       "      <td>0.0</td>\n",
       "      <td>0.428689</td>\n",
       "      <td>0.539826</td>\n",
       "      <td>0.502525</td>\n",
       "      <td>0.249113</td>\n",
       "      <td>0.697136</td>\n",
       "      <td>0.990995</td>\n",
       "      <td>0.300982</td>\n",
       "      <td>0.716819</td>\n",
       "      <td>0.526512</td>\n",
       "      <td>0.481795</td>\n",
       "      <td>0.590314</td>\n",
       "      <td>0.530085</td>\n",
       "      <td>0.468382</td>\n",
       "      <td>0.703649</td>\n",
       "      <td>0.465932</td>\n",
       "      <td>0.006229</td>\n",
       "      <td>0.777778</td>\n",
       "      <td>0</td>\n",
       "    </tr>\n",
       "  </tbody>\n",
       "</table>\n",
       "</div>"
      ],
      "text/plain": [
       "      boost  active     vel_x     vel_y     vel_z  jump_active  dodge_active  \\\n",
       "1  0.333333     0.0  0.501364  0.499984  0.445806          0.0           0.0   \n",
       "\n",
       "   ball_dist  angle_to_face_ball  angle_to_move_to_ball  opposing_goal_x  \\\n",
       "1   0.428689            0.539826               0.502525         0.249113   \n",
       "\n",
       "   opposing_goal_y  opposing_goal_z     pos_x     pos_y     pos_z  vel_x_op1  \\\n",
       "1         0.697136         0.990995  0.300982  0.716819  0.526512   0.481795   \n",
       "\n",
       "   vel_y_op1  vel_z_op1  vel_x_ball  vel_y_ball  vel_z_ball  pos_z_ball  \\\n",
       "1   0.590314   0.530085    0.468382    0.703649    0.465932    0.006229   \n",
       "\n",
       "        map  team  \n",
       "1  0.777778     0  "
      ]
     },
     "execution_count": 166,
     "metadata": {},
     "output_type": "execute_result"
    }
   ],
   "source": [
    "X.head(1)"
   ]
  },
  {
   "cell_type": "code",
   "execution_count": 167,
   "metadata": {
    "colab": {
     "base_uri": "https://localhost:8080/",
     "height": 80
    },
    "colab_type": "code",
    "id": "dLcSKiUdxyCP",
    "outputId": "80bb9730-1030-4f63-b8fe-6f3275a794db"
   },
   "outputs": [
    {
     "data": {
      "text/html": [
       "<div>\n",
       "<style scoped>\n",
       "    .dataframe tbody tr th:only-of-type {\n",
       "        vertical-align: middle;\n",
       "    }\n",
       "\n",
       "    .dataframe tbody tr th {\n",
       "        vertical-align: top;\n",
       "    }\n",
       "\n",
       "    .dataframe thead th {\n",
       "        text-align: right;\n",
       "    }\n",
       "</style>\n",
       "<table border=\"1\" class=\"dataframe\">\n",
       "  <thead>\n",
       "    <tr style=\"text-align: right;\">\n",
       "      <th></th>\n",
       "      <th>steer</th>\n",
       "      <th>throttle</th>\n",
       "    </tr>\n",
       "  </thead>\n",
       "  <tbody>\n",
       "    <tr>\n",
       "      <th>1</th>\n",
       "      <td>0.0</td>\n",
       "      <td>0.956863</td>\n",
       "    </tr>\n",
       "  </tbody>\n",
       "</table>\n",
       "</div>"
      ],
      "text/plain": [
       "   steer  throttle\n",
       "1    0.0  0.956863"
      ]
     },
     "execution_count": 167,
     "metadata": {},
     "output_type": "execute_result"
    }
   ],
   "source": [
    "y.head(1)"
   ]
  },
  {
   "cell_type": "markdown",
   "metadata": {
    "colab_type": "text",
    "id": "VZ9JLpxul31K"
   },
   "source": [
    "## Distributions of controller inputs"
   ]
  },
  {
   "cell_type": "code",
   "execution_count": 168,
   "metadata": {
    "colab": {
     "base_uri": "https://localhost:8080/",
     "height": 550
    },
    "colab_type": "code",
    "id": "0boYgE0Hl31L",
    "outputId": "fc4388b6-86d7-4004-de47-0c4aa3759a93",
    "scrolled": false
   },
   "outputs": [
    {
     "data": {
      "text/plain": [
       "array([[<matplotlib.axes._subplots.AxesSubplot object at 0x7ff6ef672e48>,\n",
       "        <matplotlib.axes._subplots.AxesSubplot object at 0x7ff4a1a48748>]],\n",
       "      dtype=object)"
      ]
     },
     "execution_count": 168,
     "metadata": {},
     "output_type": "execute_result"
    },
    {
     "data": {
      "image/png": "[encoded data removed]",
      "text/plain": [
       "<Figure size 864x576 with 2 Axes>"
      ]
     },
     "metadata": {
      "needs_background": "light"
     },
     "output_type": "display_data"
    }
   ],
   "source": [
    "y.hist(figsize=(12, 8))"
   ]
  },
  {
   "cell_type": "code",
   "execution_count": 169,
   "metadata": {
    "colab": {
     "base_uri": "https://localhost:8080/",
     "height": 34
    },
    "colab_type": "code",
    "id": "NOlDWFQjr_U5",
    "outputId": "78df6290-24ad-460a-ad47-b1beb160f250"
   },
   "outputs": [
    {
     "data": {
      "text/plain": [
       "Series([], dtype: bool)"
      ]
     },
     "execution_count": 169,
     "metadata": {},
     "output_type": "execute_result"
    }
   ],
   "source": [
    "x_nulls = X.isnull().any()\n",
    "x_nulls[x_nulls == True]"
   ]
  },
  {
   "cell_type": "code",
   "execution_count": 170,
   "metadata": {
    "colab": {
     "base_uri": "https://localhost:8080/",
     "height": 317
    },
    "colab_type": "code",
    "id": "wPisg3jC2U3j",
    "outputId": "a90d0090-e1ef-4178-f0c7-b725536fe2c7"
   },
   "outputs": [
    {
     "data": {
      "text/html": [
       "<div>\n",
       "<style scoped>\n",
       "    .dataframe tbody tr th:only-of-type {\n",
       "        vertical-align: middle;\n",
       "    }\n",
       "\n",
       "    .dataframe tbody tr th {\n",
       "        vertical-align: top;\n",
       "    }\n",
       "\n",
       "    .dataframe thead th {\n",
       "        text-align: right;\n",
       "    }\n",
       "</style>\n",
       "<table border=\"1\" class=\"dataframe\">\n",
       "  <thead>\n",
       "    <tr style=\"text-align: right;\">\n",
       "      <th></th>\n",
       "      <th>boost</th>\n",
       "      <th>active</th>\n",
       "      <th>vel_x</th>\n",
       "      <th>vel_y</th>\n",
       "      <th>vel_z</th>\n",
       "      <th>jump_active</th>\n",
       "      <th>dodge_active</th>\n",
       "      <th>ball_dist</th>\n",
       "      <th>angle_to_face_ball</th>\n",
       "      <th>angle_to_move_to_ball</th>\n",
       "      <th>opposing_goal_x</th>\n",
       "      <th>opposing_goal_y</th>\n",
       "      <th>opposing_goal_z</th>\n",
       "      <th>pos_x</th>\n",
       "      <th>pos_y</th>\n",
       "      <th>pos_z</th>\n",
       "      <th>vel_x_op1</th>\n",
       "      <th>vel_y_op1</th>\n",
       "      <th>vel_z_op1</th>\n",
       "      <th>vel_x_ball</th>\n",
       "      <th>vel_y_ball</th>\n",
       "      <th>vel_z_ball</th>\n",
       "      <th>pos_z_ball</th>\n",
       "      <th>map</th>\n",
       "      <th>team</th>\n",
       "    </tr>\n",
       "  </thead>\n",
       "  <tbody>\n",
       "    <tr>\n",
       "      <th>count</th>\n",
       "      <td>527370.000000</td>\n",
       "      <td>527370.000000</td>\n",
       "      <td>527370.000000</td>\n",
       "      <td>527370.000000</td>\n",
       "      <td>527370.000000</td>\n",
       "      <td>527370.000000</td>\n",
       "      <td>527370.000000</td>\n",
       "      <td>527370.000000</td>\n",
       "      <td>527370.000000</td>\n",
       "      <td>527370.000000</td>\n",
       "      <td>527370.000000</td>\n",
       "      <td>527370.000000</td>\n",
       "      <td>527370.000000</td>\n",
       "      <td>527370.000000</td>\n",
       "      <td>527370.000000</td>\n",
       "      <td>527370.000000</td>\n",
       "      <td>527370.000000</td>\n",
       "      <td>527370.000000</td>\n",
       "      <td>527370.000000</td>\n",
       "      <td>527370.000000</td>\n",
       "      <td>527370.000000</td>\n",
       "      <td>527370.000000</td>\n",
       "      <td>527370.000000</td>\n",
       "      <td>527370.000000</td>\n",
       "      <td>527370.000000</td>\n",
       "    </tr>\n",
       "    <tr>\n",
       "      <th>mean</th>\n",
       "      <td>0.393713</td>\n",
       "      <td>0.918232</td>\n",
       "      <td>0.499416</td>\n",
       "      <td>0.499219</td>\n",
       "      <td>0.457329</td>\n",
       "      <td>0.027823</td>\n",
       "      <td>0.130098</td>\n",
       "      <td>0.205067</td>\n",
       "      <td>0.504395</td>\n",
       "      <td>0.502191</td>\n",
       "      <td>0.507688</td>\n",
       "      <td>0.502400</td>\n",
       "      <td>0.935277</td>\n",
       "      <td>0.499216</td>\n",
       "      <td>0.499211</td>\n",
       "      <td>0.500473</td>\n",
       "      <td>0.499604</td>\n",
       "      <td>0.499808</td>\n",
       "      <td>0.500102</td>\n",
       "      <td>0.498882</td>\n",
       "      <td>0.509089</td>\n",
       "      <td>0.477010</td>\n",
       "      <td>0.153267</td>\n",
       "      <td>0.576681</td>\n",
       "      <td>0.504534</td>\n",
       "    </tr>\n",
       "    <tr>\n",
       "      <th>std</th>\n",
       "      <td>0.323750</td>\n",
       "      <td>0.274011</td>\n",
       "      <td>0.209065</td>\n",
       "      <td>0.250105</td>\n",
       "      <td>0.094690</td>\n",
       "      <td>0.164466</td>\n",
       "      <td>0.336412</td>\n",
       "      <td>0.182771</td>\n",
       "      <td>0.158478</td>\n",
       "      <td>0.164376</td>\n",
       "      <td>0.263616</td>\n",
       "      <td>0.271919</td>\n",
       "      <td>0.132626</td>\n",
       "      <td>0.145210</td>\n",
       "      <td>0.190861</td>\n",
       "      <td>0.114631</td>\n",
       "      <td>0.141278</td>\n",
       "      <td>0.152055</td>\n",
       "      <td>0.102820</td>\n",
       "      <td>0.133817</td>\n",
       "      <td>0.161044</td>\n",
       "      <td>0.112676</td>\n",
       "      <td>0.202747</td>\n",
       "      <td>0.267677</td>\n",
       "      <td>0.499980</td>\n",
       "    </tr>\n",
       "    <tr>\n",
       "      <th>min</th>\n",
       "      <td>0.000000</td>\n",
       "      <td>0.000000</td>\n",
       "      <td>0.000000</td>\n",
       "      <td>0.000000</td>\n",
       "      <td>0.000000</td>\n",
       "      <td>0.000000</td>\n",
       "      <td>0.000000</td>\n",
       "      <td>0.000000</td>\n",
       "      <td>0.000000</td>\n",
       "      <td>0.000000</td>\n",
       "      <td>0.000000</td>\n",
       "      <td>0.000000</td>\n",
       "      <td>0.000000</td>\n",
       "      <td>0.000000</td>\n",
       "      <td>0.000000</td>\n",
       "      <td>0.000000</td>\n",
       "      <td>0.000000</td>\n",
       "      <td>0.000000</td>\n",
       "      <td>0.000000</td>\n",
       "      <td>0.000000</td>\n",
       "      <td>0.000000</td>\n",
       "      <td>0.000000</td>\n",
       "      <td>0.000000</td>\n",
       "      <td>0.074074</td>\n",
       "      <td>0.000000</td>\n",
       "    </tr>\n",
       "    <tr>\n",
       "      <th>25%</th>\n",
       "      <td>0.121569</td>\n",
       "      <td>1.000000</td>\n",
       "      <td>0.365574</td>\n",
       "      <td>0.326634</td>\n",
       "      <td>0.407597</td>\n",
       "      <td>0.000000</td>\n",
       "      <td>0.000000</td>\n",
       "      <td>0.055985</td>\n",
       "      <td>0.436282</td>\n",
       "      <td>0.418892</td>\n",
       "      <td>0.305776</td>\n",
       "      <td>0.268088</td>\n",
       "      <td>0.946889</td>\n",
       "      <td>0.429577</td>\n",
       "      <td>0.377778</td>\n",
       "      <td>0.442274</td>\n",
       "      <td>0.424617</td>\n",
       "      <td>0.422054</td>\n",
       "      <td>0.447433</td>\n",
       "      <td>0.428339</td>\n",
       "      <td>0.392622</td>\n",
       "      <td>0.423939</td>\n",
       "      <td>0.006667</td>\n",
       "      <td>0.333333</td>\n",
       "      <td>0.000000</td>\n",
       "    </tr>\n",
       "    <tr>\n",
       "      <th>50%</th>\n",
       "      <td>0.333333</td>\n",
       "      <td>1.000000</td>\n",
       "      <td>0.499965</td>\n",
       "      <td>0.500005</td>\n",
       "      <td>0.456657</td>\n",
       "      <td>0.000000</td>\n",
       "      <td>0.000000</td>\n",
       "      <td>0.141807</td>\n",
       "      <td>0.505786</td>\n",
       "      <td>0.505486</td>\n",
       "      <td>0.500155</td>\n",
       "      <td>0.500661</td>\n",
       "      <td>0.987680</td>\n",
       "      <td>0.499362</td>\n",
       "      <td>0.498754</td>\n",
       "      <td>0.500691</td>\n",
       "      <td>0.499108</td>\n",
       "      <td>0.499454</td>\n",
       "      <td>0.500899</td>\n",
       "      <td>0.498448</td>\n",
       "      <td>0.504741</td>\n",
       "      <td>0.479727</td>\n",
       "      <td>0.066715</td>\n",
       "      <td>0.555556</td>\n",
       "      <td>1.000000</td>\n",
       "    </tr>\n",
       "    <tr>\n",
       "      <th>75%</th>\n",
       "      <td>0.658824</td>\n",
       "      <td>1.000000</td>\n",
       "      <td>0.631994</td>\n",
       "      <td>0.672636</td>\n",
       "      <td>0.503387</td>\n",
       "      <td>0.000000</td>\n",
       "      <td>0.000000</td>\n",
       "      <td>0.330511</td>\n",
       "      <td>0.569691</td>\n",
       "      <td>0.575857</td>\n",
       "      <td>0.720840</td>\n",
       "      <td>0.741371</td>\n",
       "      <td>0.991002</td>\n",
       "      <td>0.568051</td>\n",
       "      <td>0.621097</td>\n",
       "      <td>0.558708</td>\n",
       "      <td>0.574621</td>\n",
       "      <td>0.577301</td>\n",
       "      <td>0.552591</td>\n",
       "      <td>0.568233</td>\n",
       "      <td>0.629109</td>\n",
       "      <td>0.529786</td>\n",
       "      <td>0.218194</td>\n",
       "      <td>0.814815</td>\n",
       "      <td>1.000000</td>\n",
       "    </tr>\n",
       "    <tr>\n",
       "      <th>max</th>\n",
       "      <td>1.000000</td>\n",
       "      <td>1.000000</td>\n",
       "      <td>1.000000</td>\n",
       "      <td>1.000000</td>\n",
       "      <td>1.000000</td>\n",
       "      <td>1.000000</td>\n",
       "      <td>1.000000</td>\n",
       "      <td>1.000000</td>\n",
       "      <td>1.000000</td>\n",
       "      <td>1.000000</td>\n",
       "      <td>1.000000</td>\n",
       "      <td>1.000000</td>\n",
       "      <td>1.000000</td>\n",
       "      <td>1.000000</td>\n",
       "      <td>1.000000</td>\n",
       "      <td>1.000000</td>\n",
       "      <td>1.000000</td>\n",
       "      <td>1.000000</td>\n",
       "      <td>1.000000</td>\n",
       "      <td>1.000000</td>\n",
       "      <td>1.000000</td>\n",
       "      <td>1.000000</td>\n",
       "      <td>1.000000</td>\n",
       "      <td>0.962963</td>\n",
       "      <td>1.000000</td>\n",
       "    </tr>\n",
       "  </tbody>\n",
       "</table>\n",
       "</div>"
      ],
      "text/plain": [
       "               boost         active          vel_x          vel_y  \\\n",
       "count  527370.000000  527370.000000  527370.000000  527370.000000   \n",
       "mean        0.393713       0.918232       0.499416       0.499219   \n",
       "std         0.323750       0.274011       0.209065       0.250105   \n",
       "min         0.000000       0.000000       0.000000       0.000000   \n",
       "25%         0.121569       1.000000       0.365574       0.326634   \n",
       "50%         0.333333       1.000000       0.499965       0.500005   \n",
       "75%         0.658824       1.000000       0.631994       0.672636   \n",
       "max         1.000000       1.000000       1.000000       1.000000   \n",
       "\n",
       "               vel_z    jump_active   dodge_active      ball_dist  \\\n",
       "count  527370.000000  527370.000000  527370.000000  527370.000000   \n",
       "mean        0.457329       0.027823       0.130098       0.205067   \n",
       "std         0.094690       0.164466       0.336412       0.182771   \n",
       "min         0.000000       0.000000       0.000000       0.000000   \n",
       "25%         0.407597       0.000000       0.000000       0.055985   \n",
       "50%         0.456657       0.000000       0.000000       0.141807   \n",
       "75%         0.503387       0.000000       0.000000       0.330511   \n",
       "max         1.000000       1.000000       1.000000       1.000000   \n",
       "\n",
       "       angle_to_face_ball  angle_to_move_to_ball  opposing_goal_x  \\\n",
       "count       527370.000000          527370.000000    527370.000000   \n",
       "mean             0.504395               0.502191         0.507688   \n",
       "std              0.158478               0.164376         0.263616   \n",
       "min              0.000000               0.000000         0.000000   \n",
       "25%              0.436282               0.418892         0.305776   \n",
       "50%              0.505786               0.505486         0.500155   \n",
       "75%              0.569691               0.575857         0.720840   \n",
       "max              1.000000               1.000000         1.000000   \n",
       "\n",
       "       opposing_goal_y  opposing_goal_z          pos_x          pos_y  \\\n",
       "count    527370.000000    527370.000000  527370.000000  527370.000000   \n",
       "mean          0.502400         0.935277       0.499216       0.499211   \n",
       "std           0.271919         0.132626       0.145210       0.190861   \n",
       "min           0.000000         0.000000       0.000000       0.000000   \n",
       "25%           0.268088         0.946889       0.429577       0.377778   \n",
       "50%           0.500661         0.987680       0.499362       0.498754   \n",
       "75%           0.741371         0.991002       0.568051       0.621097   \n",
       "max           1.000000         1.000000       1.000000       1.000000   \n",
       "\n",
       "               pos_z      vel_x_op1      vel_y_op1      vel_z_op1  \\\n",
       "count  527370.000000  527370.000000  527370.000000  527370.000000   \n",
       "mean        0.500473       0.499604       0.499808       0.500102   \n",
       "std         0.114631       0.141278       0.152055       0.102820   \n",
       "min         0.000000       0.000000       0.000000       0.000000   \n",
       "25%         0.442274       0.424617       0.422054       0.447433   \n",
       "50%         0.500691       0.499108       0.499454       0.500899   \n",
       "75%         0.558708       0.574621       0.577301       0.552591   \n",
       "max         1.000000       1.000000       1.000000       1.000000   \n",
       "\n",
       "          vel_x_ball     vel_y_ball     vel_z_ball     pos_z_ball  \\\n",
       "count  527370.000000  527370.000000  527370.000000  527370.000000   \n",
       "mean        0.498882       0.509089       0.477010       0.153267   \n",
       "std         0.133817       0.161044       0.112676       0.202747   \n",
       "min         0.000000       0.000000       0.000000       0.000000   \n",
       "25%         0.428339       0.392622       0.423939       0.006667   \n",
       "50%         0.498448       0.504741       0.479727       0.066715   \n",
       "75%         0.568233       0.629109       0.529786       0.218194   \n",
       "max         1.000000       1.000000       1.000000       1.000000   \n",
       "\n",
       "                 map           team  \n",
       "count  527370.000000  527370.000000  \n",
       "mean        0.576681       0.504534  \n",
       "std         0.267677       0.499980  \n",
       "min         0.074074       0.000000  \n",
       "25%         0.333333       0.000000  \n",
       "50%         0.555556       1.000000  \n",
       "75%         0.814815       1.000000  \n",
       "max         0.962963       1.000000  "
      ]
     },
     "execution_count": 170,
     "metadata": {},
     "output_type": "execute_result"
    }
   ],
   "source": [
    "X_train.describe()"
   ]
  },
  {
   "cell_type": "markdown",
   "metadata": {
    "colab_type": "text",
    "id": "pKLPXYMl61W-"
   },
   "source": [
    "## Model"
   ]
  },
  {
   "cell_type": "code",
   "execution_count": 185,
   "metadata": {
    "colab": {
     "base_uri": "https://localhost:8080/",
     "height": 493
    },
    "colab_type": "code",
    "id": "eIS_Mee28leY",
    "outputId": "ff4cde45-bad3-4d9a-d151-030cb6101bd3"
   },
   "outputs": [
    {
     "name": "stdout",
     "output_type": "stream",
     "text": [
      "Model: \"BittyBot\"\n",
      "_________________________________________________________________\n",
      "Layer (type)                 Output Shape              Param #   \n",
      "=================================================================\n",
      "input_9 (InputLayer)         [(None, 25)]              0         \n",
      "_________________________________________________________________\n",
      "dense_72 (Dense)             (None, 1600)              41600     \n",
      "_________________________________________________________________\n",
      "dense_73 (Dense)             (None, 800)               1280800   \n",
      "_________________________________________________________________\n",
      "dense_74 (Dense)             (None, 400)               320400    \n",
      "_________________________________________________________________\n",
      "dense_75 (Dense)             (None, 200)               80200     \n",
      "_________________________________________________________________\n",
      "dense_76 (Dense)             (None, 100)               20100     \n",
      "_________________________________________________________________\n",
      "dense_77 (Dense)             (None, 50)                5050      \n",
      "_________________________________________________________________\n",
      "dense_78 (Dense)             (None, 25)                1275      \n",
      "_________________________________________________________________\n",
      "dense_79 (Dense)             (None, 10)                260       \n",
      "_________________________________________________________________\n",
      "dense_80 (Dense)             (None, 2)                 22        \n",
      "=================================================================\n",
      "Total params: 1,749,707\n",
      "Trainable params: 1,749,707\n",
      "Non-trainable params: 0\n",
      "_________________________________________________________________\n"
     ]
    }
   ],
   "source": [
    "from tensorflow.keras import Input, Model\n",
    "from tensorflow.keras.layers import Dense, Dropout, BatchNormalization, Conv2D\n",
    "\n",
    "inputs = Input(shape=X_train.shape[1])\n",
    "\n",
    "x = Dense(1600, activation='relu')(inputs)\n",
    "\n",
    "x = Dense(800, activation='relu')(x)\n",
    "x = Dense(400, activation='relu')(x)\n",
    "x = Dense(200, activation='relu')(x)\n",
    "x = Dense(100, activation='relu')(x)\n",
    "x = Dense(50, activation='relu')(x)\n",
    "x = Dense(25, activation='relu')(x)\n",
    "x = Dense(10, activation='relu')(x)\n",
    "\n",
    "outputs = Dense(y.shape[1], activation='sigmoid')(x)\n",
    "\n",
    "model = Model(inputs=inputs, outputs=outputs, name='BittyBot')\n",
    "\n",
    "model.summary()\n",
    "\n",
    "learning_rate = 0.0001\n",
    "optimizer = tf.keras.optimizers.Adam(learning_rate=learning_rate, beta_1=0.9, beta_2=0.999, amsgrad=False)\n",
    "# losses to try: binary_crossentropy, categorical_crossentropy, mean_squared_error, poisson, mean_squared_logarithmic_error, mean_absolute_error\n",
    "loss = 'mean_absolute_error'\n",
    "metrics = ['accuracy']\n",
    "batch_size = 128\n",
    "epochs = 100\n",
    "model.compile(optimizer=optimizer, loss=loss, metrics=metrics)"
   ]
  },
  {
   "cell_type": "code",
   "execution_count": 186,
   "metadata": {
    "colab": {
     "base_uri": "https://localhost:8080/",
     "height": 1000
    },
    "colab_type": "code",
    "id": "Wh0WC0EJWJmV",
    "outputId": "d8b42f7e-7b77-4b90-fbe9-6154991f8e5e",
    "scrolled": true
   },
   "outputs": [
    {
     "name": "stdout",
     "output_type": "stream",
     "text": [
      "Series([], dtype: bool)\n",
      "Series([], dtype: bool)\n",
      "Train on 527370 samples, validate on 20000 samples\n",
      "Epoch 1/100\n",
      "527370/527370 [==============================] - 14s 26us/sample - loss: 0.2032 - accuracy: 0.7085 - val_loss: 0.1872 - val_accuracy: 0.7204\n",
      "Epoch 2/100\n",
      "527370/527370 [==============================] - 13s 25us/sample - loss: 0.1981 - accuracy: 0.7091 - val_loss: 0.1864 - val_accuracy: 0.7221\n",
      "Epoch 3/100\n",
      "527370/527370 [==============================] - 13s 25us/sample - loss: 0.1947 - accuracy: 0.7104 - val_loss: 0.1854 - val_accuracy: 0.7196\n",
      "Epoch 4/100\n",
      "527370/527370 [==============================] - 13s 25us/sample - loss: 0.1918 - accuracy: 0.7117 - val_loss: 0.1854 - val_accuracy: 0.7193\n",
      "Epoch 5/100\n",
      "527370/527370 [==============================] - 13s 25us/sample - loss: 0.1885 - accuracy: 0.7134 - val_loss: 0.1841 - val_accuracy: 0.7193\n",
      "Epoch 6/100\n",
      "527370/527370 [==============================] - 13s 25us/sample - loss: 0.1834 - accuracy: 0.7153 - val_loss: 0.1842 - val_accuracy: 0.7204\n",
      "Epoch 7/100\n",
      "527370/527370 [==============================] - 13s 25us/sample - loss: 0.1772 - accuracy: 0.7168 - val_loss: 0.1851 - val_accuracy: 0.7207\n",
      "Epoch 8/100\n",
      "527370/527370 [==============================] - 13s 25us/sample - loss: 0.1728 - accuracy: 0.7209 - val_loss: 0.1856 - val_accuracy: 0.7211\n",
      "Epoch 9/100\n",
      "527370/527370 [==============================] - 13s 25us/sample - loss: 0.1690 - accuracy: 0.7256 - val_loss: 0.1882 - val_accuracy: 0.7217\n",
      "Epoch 10/100\n",
      "527370/527370 [==============================] - 13s 25us/sample - loss: 0.1654 - accuracy: 0.7307 - val_loss: 0.1861 - val_accuracy: 0.7224\n",
      "Epoch 11/100\n",
      "527370/527370 [==============================] - 13s 25us/sample - loss: 0.1620 - accuracy: 0.7355 - val_loss: 0.1863 - val_accuracy: 0.7215\n",
      "Epoch 12/100\n",
      "527370/527370 [==============================] - 13s 25us/sample - loss: 0.1589 - accuracy: 0.7398 - val_loss: 0.1886 - val_accuracy: 0.7237\n",
      "Epoch 13/100\n",
      "527370/527370 [==============================] - 13s 25us/sample - loss: 0.1562 - accuracy: 0.7431 - val_loss: 0.1889 - val_accuracy: 0.7215\n",
      "Epoch 14/100\n",
      "527370/527370 [==============================] - 13s 25us/sample - loss: 0.1537 - accuracy: 0.7478 - val_loss: 0.1886 - val_accuracy: 0.7201\n",
      "Epoch 15/100\n",
      "527370/527370 [==============================] - 13s 25us/sample - loss: 0.1512 - accuracy: 0.7507 - val_loss: 0.1905 - val_accuracy: 0.7169\n",
      "Epoch 16/100\n",
      "527370/527370 [==============================] - 13s 25us/sample - loss: 0.1488 - accuracy: 0.7536 - val_loss: 0.1906 - val_accuracy: 0.7297\n",
      "Epoch 17/100\n",
      "527370/527370 [==============================] - 13s 25us/sample - loss: 0.1470 - accuracy: 0.7565 - val_loss: 0.1908 - val_accuracy: 0.7154\n",
      "Epoch 18/100\n",
      "527370/527370 [==============================] - 13s 25us/sample - loss: 0.1450 - accuracy: 0.7590 - val_loss: 0.1908 - val_accuracy: 0.7238\n",
      "Epoch 19/100\n",
      "527370/527370 [==============================] - 13s 25us/sample - loss: 0.1428 - accuracy: 0.7617 - val_loss: 0.1923 - val_accuracy: 0.7193\n",
      "Epoch 20/100\n",
      "527370/527370 [==============================] - 13s 25us/sample - loss: 0.1409 - accuracy: 0.7630 - val_loss: 0.1930 - val_accuracy: 0.7201\n",
      "Epoch 21/100\n",
      "527370/527370 [==============================] - 13s 25us/sample - loss: 0.1391 - accuracy: 0.7642 - val_loss: 0.1943 - val_accuracy: 0.7207\n",
      "Epoch 22/100\n",
      "527370/527370 [==============================] - 13s 25us/sample - loss: 0.1374 - accuracy: 0.7667 - val_loss: 0.1917 - val_accuracy: 0.7205\n",
      "Epoch 23/100\n",
      "527370/527370 [==============================] - 13s 25us/sample - loss: 0.1358 - accuracy: 0.7697 - val_loss: 0.1944 - val_accuracy: 0.7216\n",
      "Epoch 24/100\n",
      "527370/527370 [==============================] - 13s 25us/sample - loss: 0.1342 - accuracy: 0.7710 - val_loss: 0.1961 - val_accuracy: 0.7236\n",
      "Epoch 25/100\n",
      "527370/527370 [==============================] - 13s 25us/sample - loss: 0.1330 - accuracy: 0.7733 - val_loss: 0.1961 - val_accuracy: 0.7192\n",
      "Epoch 26/100\n",
      "527370/527370 [==============================] - 13s 25us/sample - loss: 0.1303 - accuracy: 0.7748 - val_loss: 0.1940 - val_accuracy: 0.7178\n",
      "Epoch 27/100\n",
      "527370/527370 [==============================] - 13s 25us/sample - loss: 0.1280 - accuracy: 0.7760 - val_loss: 0.1941 - val_accuracy: 0.7205\n",
      "Epoch 28/100\n",
      "527370/527370 [==============================] - 13s 25us/sample - loss: 0.1257 - accuracy: 0.7779 - val_loss: 0.1976 - val_accuracy: 0.7212\n",
      "Epoch 29/100\n",
      "527370/527370 [==============================] - 13s 25us/sample - loss: 0.1246 - accuracy: 0.7792 - val_loss: 0.1931 - val_accuracy: 0.7210\n",
      "Epoch 30/100\n",
      "527370/527370 [==============================] - 13s 25us/sample - loss: 0.1236 - accuracy: 0.7802 - val_loss: 0.1934 - val_accuracy: 0.7190\n",
      "Epoch 31/100\n",
      "527370/527370 [==============================] - 13s 25us/sample - loss: 0.1221 - accuracy: 0.7816 - val_loss: 0.1952 - val_accuracy: 0.7182\n",
      "Epoch 32/100\n",
      "527370/527370 [==============================] - 13s 25us/sample - loss: 0.1217 - accuracy: 0.7827 - val_loss: 0.1946 - val_accuracy: 0.7208\n",
      "Epoch 33/100\n",
      "527370/527370 [==============================] - 13s 25us/sample - loss: 0.1206 - accuracy: 0.7842 - val_loss: 0.1966 - val_accuracy: 0.7153\n",
      "Epoch 34/100\n",
      "527370/527370 [==============================] - 13s 25us/sample - loss: 0.1190 - accuracy: 0.7855 - val_loss: 0.1926 - val_accuracy: 0.7206\n",
      "Epoch 35/100\n",
      "527370/527370 [==============================] - 13s 25us/sample - loss: 0.1181 - accuracy: 0.7873 - val_loss: 0.2074 - val_accuracy: 0.7018\n",
      "Epoch 36/100\n",
      "527370/527370 [==============================] - 13s 25us/sample - loss: 0.1174 - accuracy: 0.7880 - val_loss: 0.1928 - val_accuracy: 0.7175\n",
      "Epoch 37/100\n",
      "527370/527370 [==============================] - 13s 25us/sample - loss: 0.1164 - accuracy: 0.7900 - val_loss: 0.1947 - val_accuracy: 0.7193\n",
      "Epoch 38/100\n",
      "527370/527370 [==============================] - 13s 25us/sample - loss: 0.1158 - accuracy: 0.7911 - val_loss: 0.1944 - val_accuracy: 0.7175\n",
      "Epoch 39/100\n",
      "527370/527370 [==============================] - 13s 25us/sample - loss: 0.1152 - accuracy: 0.7916 - val_loss: 0.1953 - val_accuracy: 0.7194\n",
      "Epoch 40/100\n",
      "527370/527370 [==============================] - 13s 25us/sample - loss: 0.1144 - accuracy: 0.7933 - val_loss: 0.1936 - val_accuracy: 0.7213\n",
      "Epoch 41/100\n",
      "527370/527370 [==============================] - 13s 25us/sample - loss: 0.1133 - accuracy: 0.7950 - val_loss: 0.1946 - val_accuracy: 0.7178\n",
      "Epoch 42/100\n",
      "527370/527370 [==============================] - 13s 25us/sample - loss: 0.1132 - accuracy: 0.7956 - val_loss: 0.1941 - val_accuracy: 0.7177\n",
      "Epoch 43/100\n",
      "527370/527370 [==============================] - 13s 25us/sample - loss: 0.1116 - accuracy: 0.7986 - val_loss: 0.1933 - val_accuracy: 0.7190\n",
      "Epoch 44/100\n",
      "527370/527370 [==============================] - 13s 25us/sample - loss: 0.1107 - accuracy: 0.7995 - val_loss: 0.2012 - val_accuracy: 0.7101\n",
      "Epoch 45/100\n",
      "527370/527370 [==============================] - 13s 25us/sample - loss: 0.1090 - accuracy: 0.8010 - val_loss: 0.1994 - val_accuracy: 0.7142\n",
      "Epoch 46/100\n",
      "527370/527370 [==============================] - 13s 25us/sample - loss: 0.1085 - accuracy: 0.8019 - val_loss: 0.1983 - val_accuracy: 0.7216\n",
      "Epoch 47/100\n",
      "527370/527370 [==============================] - 13s 25us/sample - loss: 0.1072 - accuracy: 0.8025 - val_loss: 0.1981 - val_accuracy: 0.7212\n",
      "Epoch 48/100\n",
      "527370/527370 [==============================] - 13s 25us/sample - loss: 0.1065 - accuracy: 0.8032 - val_loss: 0.2019 - val_accuracy: 0.7132\n",
      "Epoch 49/100\n",
      "527370/527370 [==============================] - 13s 25us/sample - loss: 0.1059 - accuracy: 0.8044 - val_loss: 0.1943 - val_accuracy: 0.7189\n",
      "Epoch 50/100\n",
      "527370/527370 [==============================] - 13s 25us/sample - loss: 0.1049 - accuracy: 0.8058 - val_loss: 0.1995 - val_accuracy: 0.7192\n",
      "Epoch 51/100\n",
      "527370/527370 [==============================] - 13s 25us/sample - loss: 0.1042 - accuracy: 0.8065 - val_loss: 0.1949 - val_accuracy: 0.7199\n",
      "Epoch 52/100\n",
      "527370/527370 [==============================] - 13s 25us/sample - loss: 0.1037 - accuracy: 0.8065 - val_loss: 0.1967 - val_accuracy: 0.7162\n",
      "Epoch 53/100\n"
     ]
    },
    {
     "name": "stdout",
     "output_type": "stream",
     "text": [
      "527370/527370 [==============================] - 13s 25us/sample - loss: 0.1029 - accuracy: 0.8075 - val_loss: 0.1948 - val_accuracy: 0.7226\n",
      "Epoch 54/100\n",
      "527370/527370 [==============================] - 13s 25us/sample - loss: 0.1027 - accuracy: 0.8080 - val_loss: 0.1971 - val_accuracy: 0.7174\n",
      "Epoch 55/100\n",
      "527370/527370 [==============================] - 13s 25us/sample - loss: 0.1022 - accuracy: 0.8080 - val_loss: 0.1954 - val_accuracy: 0.7117\n",
      "Epoch 56/100\n",
      "527370/527370 [==============================] - 13s 25us/sample - loss: 0.1015 - accuracy: 0.8094 - val_loss: 0.1957 - val_accuracy: 0.7178\n",
      "Epoch 57/100\n",
      "527370/527370 [==============================] - 13s 25us/sample - loss: 0.1011 - accuracy: 0.8093 - val_loss: 0.1983 - val_accuracy: 0.7200\n",
      "Epoch 58/100\n",
      "527370/527370 [==============================] - 13s 25us/sample - loss: 0.1006 - accuracy: 0.8097 - val_loss: 0.1965 - val_accuracy: 0.7140\n",
      "Epoch 59/100\n",
      "527370/527370 [==============================] - 13s 25us/sample - loss: 0.1004 - accuracy: 0.8093 - val_loss: 0.1977 - val_accuracy: 0.7154\n",
      "Epoch 60/100\n",
      "527370/527370 [==============================] - 13s 25us/sample - loss: 0.0996 - accuracy: 0.8122 - val_loss: 0.1962 - val_accuracy: 0.7214\n",
      "Epoch 61/100\n",
      "527370/527370 [==============================] - 13s 25us/sample - loss: 0.0990 - accuracy: 0.8121 - val_loss: 0.1984 - val_accuracy: 0.7141\n",
      "Epoch 62/100\n",
      "527370/527370 [==============================] - 13s 25us/sample - loss: 0.0984 - accuracy: 0.8123 - val_loss: 0.1969 - val_accuracy: 0.7110\n",
      "Epoch 63/100\n",
      "527370/527370 [==============================] - 13s 25us/sample - loss: 0.0978 - accuracy: 0.8134 - val_loss: 0.1982 - val_accuracy: 0.7169\n",
      "Epoch 64/100\n",
      "527370/527370 [==============================] - 13s 25us/sample - loss: 0.0975 - accuracy: 0.8142 - val_loss: 0.2031 - val_accuracy: 0.7039\n",
      "Epoch 65/100\n",
      "527370/527370 [==============================] - 13s 25us/sample - loss: 0.0967 - accuracy: 0.8155 - val_loss: 0.1959 - val_accuracy: 0.7165\n",
      "Epoch 66/100\n",
      "527370/527370 [==============================] - 13s 25us/sample - loss: 0.0965 - accuracy: 0.8156 - val_loss: 0.1987 - val_accuracy: 0.7158\n",
      "Epoch 67/100\n",
      "527370/527370 [==============================] - 13s 25us/sample - loss: 0.0959 - accuracy: 0.8164 - val_loss: 0.1977 - val_accuracy: 0.7176\n",
      "Epoch 68/100\n",
      "527370/527370 [==============================] - 13s 25us/sample - loss: 0.0960 - accuracy: 0.8169 - val_loss: 0.2031 - val_accuracy: 0.7050\n",
      "Epoch 69/100\n",
      "527370/527370 [==============================] - 13s 25us/sample - loss: 0.0949 - accuracy: 0.8175 - val_loss: 0.1998 - val_accuracy: 0.7096\n",
      "Epoch 70/100\n",
      "527370/527370 [==============================] - 13s 25us/sample - loss: 0.0946 - accuracy: 0.8178 - val_loss: 0.2007 - val_accuracy: 0.7103\n",
      "Epoch 71/100\n",
      "527370/527370 [==============================] - 13s 24us/sample - loss: 0.0943 - accuracy: 0.8186 - val_loss: 0.2020 - val_accuracy: 0.7105\n",
      "Epoch 72/100\n",
      "527370/527370 [==============================] - 13s 24us/sample - loss: 0.0937 - accuracy: 0.8192 - val_loss: 0.2072 - val_accuracy: 0.7059\n",
      "Epoch 73/100\n",
      "527370/527370 [==============================] - 13s 25us/sample - loss: 0.0934 - accuracy: 0.8197 - val_loss: 0.2003 - val_accuracy: 0.7115\n",
      "Epoch 74/100\n",
      "527370/527370 [==============================] - 13s 25us/sample - loss: 0.0930 - accuracy: 0.8192 - val_loss: 0.2032 - val_accuracy: 0.7061\n",
      "Epoch 75/100\n",
      "527370/527370 [==============================] - 13s 24us/sample - loss: 0.0927 - accuracy: 0.8201 - val_loss: 0.1999 - val_accuracy: 0.7110\n",
      "Epoch 76/100\n",
      "527370/527370 [==============================] - 13s 24us/sample - loss: 0.0921 - accuracy: 0.8218 - val_loss: 0.2043 - val_accuracy: 0.7008\n",
      "Epoch 77/100\n",
      "527370/527370 [==============================] - 13s 24us/sample - loss: 0.0922 - accuracy: 0.8221 - val_loss: 0.1989 - val_accuracy: 0.7077\n",
      "Epoch 78/100\n",
      "527370/527370 [==============================] - 13s 24us/sample - loss: 0.0915 - accuracy: 0.8228 - val_loss: 0.2045 - val_accuracy: 0.6979\n",
      "Epoch 79/100\n",
      "527370/527370 [==============================] - 13s 24us/sample - loss: 0.0913 - accuracy: 0.8226 - val_loss: 0.2018 - val_accuracy: 0.7009\n",
      "Epoch 80/100\n",
      "527370/527370 [==============================] - 13s 24us/sample - loss: 0.0911 - accuracy: 0.8224 - val_loss: 0.2040 - val_accuracy: 0.7081\n",
      "Epoch 81/100\n",
      "527370/527370 [==============================] - 13s 24us/sample - loss: 0.0907 - accuracy: 0.8231 - val_loss: 0.1993 - val_accuracy: 0.7156\n",
      "Epoch 82/100\n",
      "527370/527370 [==============================] - 13s 24us/sample - loss: 0.0905 - accuracy: 0.8234 - val_loss: 0.2001 - val_accuracy: 0.7099\n",
      "Epoch 83/100\n",
      "527370/527370 [==============================] - 13s 25us/sample - loss: 0.0904 - accuracy: 0.8242 - val_loss: 0.1988 - val_accuracy: 0.7033\n",
      "Epoch 84/100\n",
      "527370/527370 [==============================] - 13s 24us/sample - loss: 0.0898 - accuracy: 0.8240 - val_loss: 0.1976 - val_accuracy: 0.7104\n",
      "Epoch 85/100\n",
      "527370/527370 [==============================] - 13s 25us/sample - loss: 0.0894 - accuracy: 0.8246 - val_loss: 0.2037 - val_accuracy: 0.7074\n",
      "Epoch 86/100\n",
      "527370/527370 [==============================] - 13s 24us/sample - loss: 0.0889 - accuracy: 0.8256 - val_loss: 0.2032 - val_accuracy: 0.7067\n",
      "Epoch 87/100\n",
      "527370/527370 [==============================] - 13s 24us/sample - loss: 0.0891 - accuracy: 0.8258 - val_loss: 0.2007 - val_accuracy: 0.7043\n",
      "Epoch 88/100\n",
      "527370/527370 [==============================] - 13s 25us/sample - loss: 0.0885 - accuracy: 0.8259 - val_loss: 0.1997 - val_accuracy: 0.7015\n",
      "Epoch 89/100\n",
      "527370/527370 [==============================] - 13s 24us/sample - loss: 0.0884 - accuracy: 0.8263 - val_loss: 0.1993 - val_accuracy: 0.7118\n",
      "Epoch 90/100\n",
      "527370/527370 [==============================] - 13s 24us/sample - loss: 0.0879 - accuracy: 0.8276 - val_loss: 0.2004 - val_accuracy: 0.7114\n",
      "Epoch 91/100\n",
      "527370/527370 [==============================] - 13s 24us/sample - loss: 0.0876 - accuracy: 0.8281 - val_loss: 0.1992 - val_accuracy: 0.7124\n",
      "Epoch 92/100\n",
      "527370/527370 [==============================] - 13s 24us/sample - loss: 0.0874 - accuracy: 0.8285 - val_loss: 0.2011 - val_accuracy: 0.7129\n",
      "Epoch 93/100\n",
      "527370/527370 [==============================] - 13s 25us/sample - loss: 0.0871 - accuracy: 0.8289 - val_loss: 0.2015 - val_accuracy: 0.7089\n",
      "Epoch 94/100\n",
      "527370/527370 [==============================] - 13s 25us/sample - loss: 0.0869 - accuracy: 0.8286 - val_loss: 0.2022 - val_accuracy: 0.7133\n",
      "Epoch 95/100\n",
      "527370/527370 [==============================] - 13s 25us/sample - loss: 0.0865 - accuracy: 0.8284 - val_loss: 0.2023 - val_accuracy: 0.7030\n",
      "Epoch 96/100\n",
      "527370/527370 [==============================] - 13s 24us/sample - loss: 0.0862 - accuracy: 0.8292 - val_loss: 0.2049 - val_accuracy: 0.7042\n",
      "Epoch 97/100\n",
      "527370/527370 [==============================] - 13s 25us/sample - loss: 0.0864 - accuracy: 0.8298 - val_loss: 0.1996 - val_accuracy: 0.7125\n",
      "Epoch 98/100\n",
      "527370/527370 [==============================] - 13s 24us/sample - loss: 0.0861 - accuracy: 0.8299 - val_loss: 0.1999 - val_accuracy: 0.7083\n",
      "Epoch 99/100\n",
      "527370/527370 [==============================] - 13s 25us/sample - loss: 0.0859 - accuracy: 0.8298 - val_loss: 0.2003 - val_accuracy: 0.7096\n",
      "Epoch 100/100\n",
      "527370/527370 [==============================] - 13s 25us/sample - loss: 0.0855 - accuracy: 0.8301 - val_loss: 0.1984 - val_accuracy: 0.7067\n",
      "The model took 1309.5764166769986s to train.\n"
     ]
    }
   ],
   "source": [
    "x_nulls = X.isnull().any()\n",
    "print(x_nulls[x_nulls == True])\n",
    "y_nulls = y.isnull().any()\n",
    "print(y_nulls[y_nulls == True])\n",
    "# print(X_train.shape)\n",
    "# print(y_train.shape)\n",
    "# print(X_val.shape)\n",
    "# print(y_val.shape)\n",
    "\n",
    "def train(model, X_train, y_train, X_val, y_val, batch_size=32, epochs=25):\n",
    "    X_train, y_train, X_val, y_val = np.asarray(X_train), np.asarray(y_train), np.asarray(X_val), np.asarray(y_val)\n",
    "    start = timer()\n",
    "    history = model.fit(X_train, y_train, batch_size=batch_size, epochs=epochs, validation_data=(X_val, y_val))\n",
    "    end = timer()\n",
    "    print(f\"The model took {end - start}s to train.\")\n",
    "    return history\n",
    "    \n",
    "history = train(model, X_train, y_train, X_val, y_val, batch_size, epochs)"
   ]
  },
  {
   "cell_type": "markdown",
   "metadata": {
    "colab_type": "text",
    "id": "u7XyZuPsh6FH"
   },
   "source": [
    "## Loss and Accuracy"
   ]
  },
  {
   "cell_type": "code",
   "execution_count": 187,
   "metadata": {
    "colab": {
     "base_uri": "https://localhost:8080/",
     "height": 573
    },
    "colab_type": "code",
    "id": "WKFSDL3Am-1o",
    "outputId": "f737c43a-c7ab-4c06-fd35-5679b970588e"
   },
   "outputs": [
    {
     "data": {
      "image/png": "[encoded data removed]",
      "text/plain": [
       "<Figure size 432x288 with 1 Axes>"
      ]
     },
     "metadata": {
      "needs_background": "light"
     },
     "output_type": "display_data"
    },
    {
     "data": {
      "image/png": "[encoded data removed]",
      "text/plain": [
       "<Figure size 432x288 with 1 Axes>"
      ]
     },
     "metadata": {
      "needs_background": "light"
     },
     "output_type": "display_data"
    }
   ],
   "source": [
    "plt.plot(history.history['loss'])\n",
    "plt.plot(history.history['val_loss'])\n",
    "plt.title('Model loss')\n",
    "plt.ylabel('Loss')\n",
    "plt.xlabel('Epoch')\n",
    "plt.legend(['Train', 'Dev'], loc='best')\n",
    "plt.show()\n",
    "\n",
    "plt.plot(history.history['accuracy'])\n",
    "plt.plot(history.history['val_accuracy'])\n",
    "plt.title('Model accuracy')\n",
    "plt.ylabel('Accuracy')\n",
    "plt.xlabel('Epoch')\n",
    "plt.legend(['Train', 'Dev'], loc='best')\n",
    "plt.show()"
   ]
  },
  {
   "cell_type": "code",
   "execution_count": 188,
   "metadata": {
    "colab": {
     "base_uri": "https://localhost:8080/",
     "height": 71
    },
    "colab_type": "code",
    "id": "E7Dg_ISgWiEM",
    "outputId": "220f7d09-93ed-469b-becd-089f50f5f970"
   },
   "outputs": [
    {
     "name": "stdout",
     "output_type": "stream",
     "text": [
      "(20000, 2)\n"
     ]
    }
   ],
   "source": [
    "y_pred = model.predict(np.asarray(X_val))\n",
    "print(y_pred.shape)"
   ]
  },
  {
   "cell_type": "code",
   "execution_count": 189,
   "metadata": {
    "colab": {
     "base_uri": "https://localhost:8080/"
    },
    "colab_type": "code",
    "id": "4ojXbWvnFVTF",
    "outputId": "01826a0f-9f40-4a94-8545-3e6144383979"
   },
   "outputs": [
    {
     "name": "stdout",
     "output_type": "stream",
     "text": [
      "(25,)\n",
      "<class 'pandas.core.series.Series'>\n",
      "[[0.33333333 0.         0.50136381 0.49998369 0.4458055  0.\n",
      "  0.         0.42868878 0.53982556 0.50252503 0.24911269 0.69713624\n",
      "  0.99099466 0.30098237 0.71681905 0.5265116  0.48179494 0.5903139\n",
      "  0.53008499 0.46838185 0.70364895 0.46593177 0.00622913 0.77777778\n",
      "  0.        ]]\n",
      "(1, 25)\n"
     ]
    }
   ],
   "source": [
    "first_row = X_val.iloc[0]\n",
    "print(first_row.shape)\n",
    "print(type(first_row))\n",
    "arr = np.ndarray((1, first_row.shape[0]), buffer=np.array(first_row))\n",
    "print(arr)\n",
    "print(arr.shape)\n",
    "output = model.predict(arr)"
   ]
  },
  {
   "cell_type": "code",
   "execution_count": 190,
   "metadata": {
    "colab": {
     "base_uri": "https://localhost:8080/"
    },
    "colab_type": "code",
    "id": "jgxj2FNyRghm",
    "outputId": "73840d8d-2a82-489c-860d-c70f32e887be"
   },
   "outputs": [
    {
     "name": "stdout",
     "output_type": "stream",
     "text": [
      "1.0\n"
     ]
    }
   ],
   "source": [
    "try:\n",
    "  print(output.flatten()[1])\n",
    "except IndexError as e:\n",
    "  pass"
   ]
  },
  {
   "cell_type": "code",
   "execution_count": 191,
   "metadata": {
    "colab": {
     "base_uri": "https://localhost:8080/"
    },
    "colab_type": "code",
    "id": "WSvBp3NtFPTQ",
    "outputId": "7ee6019d-0352-4e3b-d586-6afafbd8bdfc"
   },
   "outputs": [
    {
     "data": {
      "text/html": [
       "<div>\n",
       "<style scoped>\n",
       "    .dataframe tbody tr th:only-of-type {\n",
       "        vertical-align: middle;\n",
       "    }\n",
       "\n",
       "    .dataframe tbody tr th {\n",
       "        vertical-align: top;\n",
       "    }\n",
       "\n",
       "    .dataframe thead th {\n",
       "        text-align: right;\n",
       "    }\n",
       "</style>\n",
       "<table border=\"1\" class=\"dataframe\">\n",
       "  <thead>\n",
       "    <tr style=\"text-align: right;\">\n",
       "      <th></th>\n",
       "      <th>boost</th>\n",
       "      <th>active</th>\n",
       "      <th>vel_x</th>\n",
       "      <th>vel_y</th>\n",
       "      <th>vel_z</th>\n",
       "      <th>jump_active</th>\n",
       "      <th>dodge_active</th>\n",
       "      <th>ball_dist</th>\n",
       "      <th>angle_to_face_ball</th>\n",
       "      <th>angle_to_move_to_ball</th>\n",
       "      <th>opposing_goal_x</th>\n",
       "      <th>opposing_goal_y</th>\n",
       "      <th>opposing_goal_z</th>\n",
       "      <th>pos_x</th>\n",
       "      <th>pos_y</th>\n",
       "      <th>pos_z</th>\n",
       "      <th>vel_x_op1</th>\n",
       "      <th>vel_y_op1</th>\n",
       "      <th>vel_z_op1</th>\n",
       "      <th>vel_x_ball</th>\n",
       "      <th>vel_y_ball</th>\n",
       "      <th>vel_z_ball</th>\n",
       "      <th>pos_z_ball</th>\n",
       "      <th>map</th>\n",
       "      <th>team</th>\n",
       "    </tr>\n",
       "  </thead>\n",
       "  <tbody>\n",
       "    <tr>\n",
       "      <th>1</th>\n",
       "      <td>0.333333</td>\n",
       "      <td>0.0</td>\n",
       "      <td>0.501364</td>\n",
       "      <td>0.499984</td>\n",
       "      <td>0.445806</td>\n",
       "      <td>0.0</td>\n",
       "      <td>0.0</td>\n",
       "      <td>0.428689</td>\n",
       "      <td>0.539826</td>\n",
       "      <td>0.502525</td>\n",
       "      <td>0.249113</td>\n",
       "      <td>0.697136</td>\n",
       "      <td>0.990995</td>\n",
       "      <td>0.300982</td>\n",
       "      <td>0.716819</td>\n",
       "      <td>0.526512</td>\n",
       "      <td>0.481795</td>\n",
       "      <td>0.590314</td>\n",
       "      <td>0.530085</td>\n",
       "      <td>0.468382</td>\n",
       "      <td>0.703649</td>\n",
       "      <td>0.465932</td>\n",
       "      <td>0.006229</td>\n",
       "      <td>0.777778</td>\n",
       "      <td>0</td>\n",
       "    </tr>\n",
       "  </tbody>\n",
       "</table>\n",
       "</div>"
      ],
      "text/plain": [
       "      boost  active     vel_x     vel_y     vel_z  jump_active  dodge_active  \\\n",
       "1  0.333333     0.0  0.501364  0.499984  0.445806          0.0           0.0   \n",
       "\n",
       "   ball_dist  angle_to_face_ball  angle_to_move_to_ball  opposing_goal_x  \\\n",
       "1   0.428689            0.539826               0.502525         0.249113   \n",
       "\n",
       "   opposing_goal_y  opposing_goal_z     pos_x     pos_y     pos_z  vel_x_op1  \\\n",
       "1         0.697136         0.990995  0.300982  0.716819  0.526512   0.481795   \n",
       "\n",
       "   vel_y_op1  vel_z_op1  vel_x_ball  vel_y_ball  vel_z_ball  pos_z_ball  \\\n",
       "1   0.590314   0.530085    0.468382    0.703649    0.465932    0.006229   \n",
       "\n",
       "        map  team  \n",
       "1  0.777778     0  "
      ]
     },
     "execution_count": 191,
     "metadata": {},
     "output_type": "execute_result"
    }
   ],
   "source": [
    "X_val.head(1)"
   ]
  },
  {
   "cell_type": "code",
   "execution_count": 192,
   "metadata": {
    "colab": {
     "base_uri": "https://localhost:8080/",
     "height": 71
    },
    "colab_type": "code",
    "id": "zE8GNKgtXqFO",
    "outputId": "177780b5-be9b-402e-b13f-eb74a5242e0b"
   },
   "outputs": [
    {
     "data": {
      "text/plain": [
       "{'steer': 1.0, 'throttle': 0.63749206}"
      ]
     },
     "execution_count": 192,
     "metadata": {},
     "output_type": "execute_result"
    }
   ],
   "source": [
    "one_prediction = model.predict(np.asarray(X_test.head(1)))\n",
    "\n",
    "def get_value_dict(y, value):\n",
    "  return dict(zip(y.columns, value))\n",
    "\n",
    "initial_values = get_value_dict(y, one_prediction[0])\n",
    "initial_values\n"
   ]
  },
  {
   "cell_type": "code",
   "execution_count": 193,
   "metadata": {
    "colab": {
     "base_uri": "https://localhost:8080/",
     "height": 297
    },
    "colab_type": "code",
    "id": "dbW6imPo65Vu",
    "outputId": "72674789-cc7a-4927-acbe-20c13607ea17"
   },
   "outputs": [
    {
     "data": {
      "text/html": [
       "<div>\n",
       "<style scoped>\n",
       "    .dataframe tbody tr th:only-of-type {\n",
       "        vertical-align: middle;\n",
       "    }\n",
       "\n",
       "    .dataframe tbody tr th {\n",
       "        vertical-align: top;\n",
       "    }\n",
       "\n",
       "    .dataframe thead th {\n",
       "        text-align: right;\n",
       "    }\n",
       "</style>\n",
       "<table border=\"1\" class=\"dataframe\">\n",
       "  <thead>\n",
       "    <tr style=\"text-align: right;\">\n",
       "      <th></th>\n",
       "      <th>steer</th>\n",
       "      <th>throttle</th>\n",
       "    </tr>\n",
       "  </thead>\n",
       "  <tbody>\n",
       "    <tr>\n",
       "      <th>count</th>\n",
       "      <td>20000.000000</td>\n",
       "      <td>20000.000000</td>\n",
       "    </tr>\n",
       "    <tr>\n",
       "      <th>mean</th>\n",
       "      <td>0.479067</td>\n",
       "      <td>0.925007</td>\n",
       "    </tr>\n",
       "    <tr>\n",
       "      <th>std</th>\n",
       "      <td>0.295193</td>\n",
       "      <td>0.157487</td>\n",
       "    </tr>\n",
       "    <tr>\n",
       "      <th>min</th>\n",
       "      <td>0.000000</td>\n",
       "      <td>0.000000</td>\n",
       "    </tr>\n",
       "    <tr>\n",
       "      <th>25%</th>\n",
       "      <td>0.439919</td>\n",
       "      <td>0.935380</td>\n",
       "    </tr>\n",
       "    <tr>\n",
       "      <th>50%</th>\n",
       "      <td>0.501860</td>\n",
       "      <td>0.999899</td>\n",
       "    </tr>\n",
       "    <tr>\n",
       "      <th>75%</th>\n",
       "      <td>0.504985</td>\n",
       "      <td>1.000000</td>\n",
       "    </tr>\n",
       "    <tr>\n",
       "      <th>max</th>\n",
       "      <td>1.000000</td>\n",
       "      <td>1.000000</td>\n",
       "    </tr>\n",
       "  </tbody>\n",
       "</table>\n",
       "</div>"
      ],
      "text/plain": [
       "              steer      throttle\n",
       "count  20000.000000  20000.000000\n",
       "mean       0.479067      0.925007\n",
       "std        0.295193      0.157487\n",
       "min        0.000000      0.000000\n",
       "25%        0.439919      0.935380\n",
       "50%        0.501860      0.999899\n",
       "75%        0.504985      1.000000\n",
       "max        1.000000      1.000000"
      ]
     },
     "execution_count": 193,
     "metadata": {},
     "output_type": "execute_result"
    }
   ],
   "source": [
    "predictions = pd.DataFrame(y_pred)\n",
    "predictions.columns = get_y_pred_columns()\n",
    "predictions.describe()"
   ]
  },
  {
   "cell_type": "code",
   "execution_count": null,
   "metadata": {
    "colab": {},
    "colab_type": "code",
    "id": "CUyEZ8SmhfGl"
   },
   "outputs": [],
   "source": []
  },
  {
   "cell_type": "markdown",
   "metadata": {
    "colab_type": "text",
    "id": "chP9F6kOhgk3"
   },
   "source": [
    "## Prediction Distributions"
   ]
  },
  {
   "cell_type": "code",
   "execution_count": 194,
   "metadata": {
    "colab": {
     "base_uri": "https://localhost:8080/",
     "height": 387
    },
    "colab_type": "code",
    "id": "2JA3r1peqTE0",
    "outputId": "447155a4-c2fa-40cf-d332-fcc7f4fab322"
   },
   "outputs": [
    {
     "data": {
      "text/plain": [
       "array([[<matplotlib.axes._subplots.AxesSubplot object at 0x7ff45fdd5940>,\n",
       "        <matplotlib.axes._subplots.AxesSubplot object at 0x7ff4a18e4a20>]],\n",
       "      dtype=object)"
      ]
     },
     "execution_count": 194,
     "metadata": {},
     "output_type": "execute_result"
    },
    {
     "data": {
      "image/png": "[encoded data removed]",
      "text/plain": [
       "<Figure size 1008x360 with 2 Axes>"
      ]
     },
     "metadata": {
      "needs_background": "light"
     },
     "output_type": "display_data"
    }
   ],
   "source": [
    "def interpret_result(result):\n",
    "  final_values = result.copy()\n",
    "  # for action in ['handbrake', 'boost_active', 'dodge_active', 'double_jump_active', 'jump_active']:\n",
    "  #   final_values[action] = 1 if initial_values[action] >= 0.5 else 0\n",
    "  return final_values\n",
    "\n",
    "\n",
    "# m_val = y_pred.shape[0]\n",
    "# start = 700\n",
    "# to_show = 50\n",
    "# for i in range(start, start + to_show): #m_val):\n",
    "#   result = y_pred[i]\n",
    "#   prediction = interpret_result(get_value_dict(y_val, y_pred[i]))\n",
    "#   print('Predict:', prediction)\n",
    "#   actual = interpret_result(get_value_dict(y_val, y_val.iloc[i]))\n",
    "#   print('Actual: ', actual)\n",
    "#   print('--')\n",
    "\n",
    "output_df = pd.DataFrame(y_pred)\n",
    "output_df.columns = y.columns[0:y_pred.shape[1]]\n",
    "output_df.hist(figsize=(14, 5))"
   ]
  },
  {
   "cell_type": "code",
   "execution_count": 195,
   "metadata": {
    "colab": {
     "base_uri": "https://localhost:8080/"
    },
    "colab_type": "code",
    "id": "QMGShpGo_pkn",
    "outputId": "4cb57d12-2b13-4d76-8014-a4a4f13de318"
   },
   "outputs": [
    {
     "data": {
      "image/png": "[encoded data removed]",
      "text/plain": [
       "<Figure size 1008x360 with 2 Axes>"
      ]
     },
     "metadata": {
      "needs_background": "light"
     },
     "output_type": "display_data"
    }
   ],
   "source": [
    "y_val.hist(figsize=(14, 5));"
   ]
  },
  {
   "cell_type": "code",
   "execution_count": 196,
   "metadata": {
    "colab": {},
    "colab_type": "code",
    "id": "vZTuFvfxDBNq"
   },
   "outputs": [],
   "source": [
    "model.save('model_relative.h5')\n",
    "\n",
    "# @TODO Make this work on Windows.\n",
    "# !mkdir -p frankenbot/saved_model_relative/\n",
    "# classifier.save('frankenbot/saved_model_relative/1')"
   ]
  },
  {
   "cell_type": "code",
   "execution_count": 197,
   "metadata": {
    "colab": {
     "base_uri": "https://localhost:8080/",
     "height": 282
    },
    "colab_type": "code",
    "id": "0nKXbX386-At",
    "outputId": "d8f09408-c63e-4b14-be2b-a59dc12dee4a"
   },
   "outputs": [
    {
     "data": {
      "text/plain": [
       "<matplotlib.axes._subplots.AxesSubplot at 0x7ff4a0de59b0>"
      ]
     },
     "execution_count": 197,
     "metadata": {},
     "output_type": "execute_result"
    },
    {
     "data": {
      "image/png": "[encoded data removed]",
      "text/plain": [
       "<Figure size 432x288 with 1 Axes>"
      ]
     },
     "metadata": {
      "needs_background": "light"
     },
     "output_type": "display_data"
    }
   ],
   "source": [
    "output_df['steer'].hist()"
   ]
  },
  {
   "cell_type": "code",
   "execution_count": 198,
   "metadata": {
    "colab": {
     "base_uri": "https://localhost:8080/",
     "height": 282
    },
    "colab_type": "code",
    "id": "THeM_sJz6-Av",
    "outputId": "3e1cf9e7-0a1f-4473-d797-9727ec1baeb1"
   },
   "outputs": [
    {
     "data": {
      "text/plain": [
       "<matplotlib.axes._subplots.AxesSubplot at 0x7ff6ebd82e48>"
      ]
     },
     "execution_count": 198,
     "metadata": {},
     "output_type": "execute_result"
    },
    {
     "data": {
      "image/png": "[encoded data removed]",
      "text/plain": [
       "<Figure size 432x288 with 1 Axes>"
      ]
     },
     "metadata": {
      "needs_background": "light"
     },
     "output_type": "display_data"
    }
   ],
   "source": [
    "def round_outliers(value):\n",
    "    if value < 0: return 0\n",
    "    if value > 1: return 1\n",
    "    return value\n",
    "\n",
    "output_df['steer'].apply(round_outliers).hist()"
   ]
  },
  {
   "cell_type": "code",
   "execution_count": null,
   "metadata": {
    "colab": {},
    "colab_type": "code",
    "id": "zSLZtGTSgbqj"
   },
   "outputs": [],
   "source": []
  },
  {
   "cell_type": "code",
   "execution_count": null,
   "metadata": {
    "colab": {},
    "colab_type": "code",
    "id": "W0G33PLBcEMW"
   },
   "outputs": [],
   "source": []
  }
 ],
 "metadata": {
  "accelerator": "GPU",
  "colab": {
   "collapsed_sections": [],
   "name": "build_model_relative.ipynb",
   "provenance": [],
   "toc_visible": true
  },
  "kernelspec": {
   "display_name": "Python 3",
   "language": "python",
   "name": "python3"
  },
  "language_info": {
   "codemirror_mode": {
    "name": "ipython",
    "version": 3
   },
   "file_extension": ".py",
   "mimetype": "text/x-python",
   "name": "python",
   "nbconvert_exporter": "python",
   "pygments_lexer": "ipython3",
   "version": "3.6.9"
  }
 },
 "nbformat": 4,
 "nbformat_minor": 1
}
