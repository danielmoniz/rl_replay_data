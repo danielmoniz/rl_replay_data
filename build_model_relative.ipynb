{
 "cells": [
  {
   "cell_type": "markdown",
   "metadata": {
    "colab_type": "text",
    "id": "G34-UD4N7-3t"
   },
   "source": [
    "## Import dependencies"
   ]
  },
  {
   "cell_type": "code",
   "execution_count": 44,
   "metadata": {
    "colab": {},
    "colab_type": "code",
    "id": "ALUxsk0-7_oz"
   },
   "outputs": [],
   "source": [
    "import os\n",
    "\n",
    "import tensorflow as tf\n",
    "# import tensorflow.keras\n",
    "import pandas as pd\n",
    "import numpy as np\n",
    "import carball.json_parser.game as game_module\n",
    "Game = game_module.Game\n",
    "\n",
    "# pd.set_option('display.max_rows', 20)\n",
    "pd.set_option('display.max_columns', 70)\n",
    "# pd.set_option('display.width', 1000)"
   ]
  },
  {
   "cell_type": "code",
   "execution_count": 45,
   "metadata": {
    "colab": {
     "base_uri": "https://localhost:8080/",
     "height": 68
    },
    "colab_type": "code",
    "id": "_-PUuJZHjR_C",
    "outputId": "51875c15-c9d1-4616-f9e8-f9ab3c51227c"
   },
   "outputs": [
    {
     "name": "stdout",
     "output_type": "stream",
     "text": [
      "2.0.1\n",
      "True\n",
      "/device:GPU:0\n"
     ]
    }
   ],
   "source": [
    "print(tf.__version__)\n",
    "print(tf.test.is_gpu_available()) # tells if the gpu is available\n",
    "print(tf.test.gpu_device_name()) # returns the name of the gpu device"
   ]
  },
  {
   "cell_type": "code",
   "execution_count": 46,
   "metadata": {},
   "outputs": [],
   "source": [
    "# defaults\n",
    "def should_parse_replays(): return False\n",
    "X_path = './data/X.csv'\n",
    "y_path = './data/y.csv'"
   ]
  },
  {
   "cell_type": "code",
   "execution_count": 47,
   "metadata": {
    "colab": {
     "base_uri": "https://localhost:8080/",
     "height": 34
    },
    "colab_type": "code",
    "id": "e9dL1D2snHtL",
    "outputId": "07f07e09-06cb-4b92-b6b7-f400fdfa8344",
    "scrolled": true
   },
   "outputs": [
    {
     "name": "stdout",
     "output_type": "stream",
     "text": [
      "'Kevpert_temp (1).json'   'Kevpert_temp (23).json'  'Syracks_temp (12).json'\r\n",
      "'Kevpert_temp (10).json'  'Kevpert_temp (24).json'  'Syracks_temp (14).json'\r\n",
      "'Kevpert_temp (11).json'  'Kevpert_temp (25).json'  'Syracks_temp (16).json'\r\n",
      "'Kevpert_temp (12).json'  'Kevpert_temp (26).json'  'Syracks_temp (17).json'\r\n",
      "'Kevpert_temp (13).json'  'Kevpert_temp (27).json'  'Syracks_temp (2).json'\r\n",
      "'Kevpert_temp (14).json'  'Kevpert_temp (3).json'   'Syracks_temp (3).json'\r\n",
      "'Kevpert_temp (15).json'  'Kevpert_temp (4).json'   'Syracks_temp (4).json'\r\n",
      "'Kevpert_temp (16).json'  'Kevpert_temp (5).json'   'Syracks_temp (5).json'\r\n",
      "'Kevpert_temp (17).json'  'Kevpert_temp (6).json'   'Syracks_temp (6).json'\r\n",
      "'Kevpert_temp (18).json'  'Kevpert_temp (7).json'   'Syracks_temp (7).json'\r\n",
      "'Kevpert_temp (19).json'  'Kevpert_temp (8).json'   'Syracks_temp (8).json'\r\n",
      "'Kevpert_temp (2).json'   'Kevpert_temp (9).json'   'Syracks_temp (9).json'\r\n",
      "'Kevpert_temp (20).json'   Kevpert_temp.json\t     Syracks_temp.json\r\n",
      "'Kevpert_temp (21).json'  'Syracks_temp (1).json'\r\n",
      "'Kevpert_temp (22).json'  'Syracks_temp (11).json'\r\n"
     ]
    }
   ],
   "source": [
    "# replay_path = './parsed_replays/rlcs_season_7/'\n",
    "replay_path = './parsed_replays/'\n",
    "!ls parsed_replays/"
   ]
  },
  {
   "cell_type": "code",
   "execution_count": 48,
   "metadata": {
    "colab": {
     "base_uri": "https://localhost:8080/",
     "height": 51
    },
    "colab_type": "code",
    "id": "vDgT2Z9m54tW",
    "outputId": "3682e011-94b6-42c2-aeda-c7d4c5a98bfb"
   },
   "outputs": [
    {
     "name": "stdout",
     "output_type": "stream",
     "text": [
      "43\n",
      "['./parsed_replays/Syracks_temp (12).json', './parsed_replays/Kevpert_temp (27).json', './parsed_replays/Syracks_temp (6).json', './parsed_replays/Kevpert_temp (16).json', './parsed_replays/Syracks_temp (17).json', './parsed_replays/Syracks_temp (11).json', './parsed_replays/Kevpert_temp (5).json', './parsed_replays/Syracks_temp (4).json', './parsed_replays/Syracks_temp (5).json', './parsed_replays/Syracks_temp.json', './parsed_replays/Kevpert_temp (17).json', './parsed_replays/Kevpert_temp (24).json', './parsed_replays/Kevpert_temp (12).json', './parsed_replays/Kevpert_temp (14).json', './parsed_replays/Syracks_temp (7).json', './parsed_replays/Kevpert_temp (23).json', './parsed_replays/Kevpert_temp (26).json', './parsed_replays/Kevpert_temp (18).json', './parsed_replays/Syracks_temp (2).json', './parsed_replays/Kevpert_temp (2).json', './parsed_replays/Kevpert_temp.json', './parsed_replays/Kevpert_temp (22).json', './parsed_replays/Kevpert_temp (7).json', './parsed_replays/Syracks_temp (14).json', './parsed_replays/Kevpert_temp (11).json', './parsed_replays/Kevpert_temp (13).json', './parsed_replays/Kevpert_temp (25).json', './parsed_replays/Kevpert_temp (1).json', './parsed_replays/Syracks_temp (3).json', './parsed_replays/Syracks_temp (9).json', './parsed_replays/Syracks_temp (1).json', './parsed_replays/Kevpert_temp (9).json', './parsed_replays/Kevpert_temp (15).json', './parsed_replays/Kevpert_temp (6).json', './parsed_replays/Syracks_temp (8).json', './parsed_replays/Kevpert_temp (21).json', './parsed_replays/Syracks_temp (16).json', './parsed_replays/Kevpert_temp (20).json', './parsed_replays/Kevpert_temp (8).json', './parsed_replays/Kevpert_temp (3).json', './parsed_replays/Kevpert_temp (10).json', './parsed_replays/Kevpert_temp (4).json', './parsed_replays/Kevpert_temp (19).json']\n"
     ]
    }
   ],
   "source": [
    "game_files = []\n",
    "path = './replays/rlcs_season_7/'\n",
    "for filename in os.listdir(replay_path):\n",
    "  if filename.endswith('.json'):\n",
    "    game_files.append(replay_path + filename)\n",
    "# game_files = game_files[0:8] # TEST - use subset of games for now\n",
    "print(len(game_files))\n",
    "print(list(game_files))"
   ]
  },
  {
   "cell_type": "code",
   "execution_count": 49,
   "metadata": {
    "colab": {
     "base_uri": "https://localhost:8080/",
     "height": 136
    },
    "colab_type": "code",
    "id": "WsgAibzYl30w",
    "outputId": "8fe8b925-a6ad-496e-ca2f-89c1d9b96b91"
   },
   "outputs": [],
   "source": [
    "def get_game(file_path):\n",
    "  game = game_module.Game()\n",
    "  game.initialize(file_path=file_path)\n",
    "  return game\n",
    "\n",
    "if len(game_files) > 0:\n",
    "  game = game_module.Game()\n",
    "  game.initialize(\n",
    "      file_path=game_files[0])\n",
    "else:\n",
    "  raise IndexError('No game_files to parse.')"
   ]
  },
  {
   "cell_type": "code",
   "execution_count": 50,
   "metadata": {
    "colab": {
     "base_uri": "https://localhost:8080/",
     "height": 34
    },
    "colab_type": "code",
    "id": "DaEqUkzHl30y",
    "outputId": "5e1fa45a-9a51-4eea-b654-5a7738c2d70b"
   },
   "outputs": [
    {
     "data": {
      "text/plain": [
       "'Underwater_P'"
      ]
     },
     "execution_count": 50,
     "metadata": {},
     "output_type": "execute_result"
    }
   ],
   "source": [
    "game.map"
   ]
  },
  {
   "cell_type": "code",
   "execution_count": 51,
   "metadata": {
    "colab": {
     "base_uri": "https://localhost:8080/",
     "height": 34
    },
    "colab_type": "code",
    "id": "G9Un0B-Sl300",
    "outputId": "47e15aeb-61cd-490c-f52b-f14b5305f476"
   },
   "outputs": [
    {
     "data": {
      "text/plain": [
       "[Player: Syracks on Team: Orange, Player: Ekon on Team: Blue]"
      ]
     },
     "execution_count": 51,
     "metadata": {},
     "output_type": "execute_result"
    }
   ],
   "source": [
    "game.players"
   ]
  },
  {
   "cell_type": "code",
   "execution_count": 52,
   "metadata": {
    "colab": {
     "base_uri": "https://localhost:8080/",
     "height": 179
    },
    "colab_type": "code",
    "id": "9tsx5SIwKJp0",
    "outputId": "94d6c5e3-d3c5-4b91-fa9a-ee90153e6a1a"
   },
   "outputs": [
    {
     "name": "stdout",
     "output_type": "stream",
     "text": [
      "(5256, 13)\n"
     ]
    },
    {
     "data": {
      "text/html": [
       "<div>\n",
       "<style scoped>\n",
       "    .dataframe tbody tr th:only-of-type {\n",
       "        vertical-align: middle;\n",
       "    }\n",
       "\n",
       "    .dataframe tbody tr th {\n",
       "        vertical-align: top;\n",
       "    }\n",
       "\n",
       "    .dataframe thead th {\n",
       "        text-align: right;\n",
       "    }\n",
       "</style>\n",
       "<table border=\"1\" class=\"dataframe\">\n",
       "  <thead>\n",
       "    <tr style=\"text-align: right;\">\n",
       "      <th></th>\n",
       "      <th>pos_x</th>\n",
       "      <th>pos_y</th>\n",
       "      <th>pos_z</th>\n",
       "      <th>rot_x</th>\n",
       "      <th>rot_y</th>\n",
       "      <th>rot_z</th>\n",
       "      <th>vel_x</th>\n",
       "      <th>vel_y</th>\n",
       "      <th>vel_z</th>\n",
       "      <th>ang_vel_x</th>\n",
       "      <th>ang_vel_y</th>\n",
       "      <th>ang_vel_z</th>\n",
       "      <th>hit_team_no</th>\n",
       "    </tr>\n",
       "  </thead>\n",
       "  <tbody>\n",
       "    <tr>\n",
       "      <th>1</th>\n",
       "      <td>0.0</td>\n",
       "      <td>0.0</td>\n",
       "      <td>92.74</td>\n",
       "      <td>0.000005</td>\n",
       "      <td>0.000005</td>\n",
       "      <td>0.000005</td>\n",
       "      <td>NaN</td>\n",
       "      <td>NaN</td>\n",
       "      <td>NaN</td>\n",
       "      <td>NaN</td>\n",
       "      <td>NaN</td>\n",
       "      <td>NaN</td>\n",
       "      <td>NaN</td>\n",
       "    </tr>\n",
       "    <tr>\n",
       "      <th>2</th>\n",
       "      <td>0.0</td>\n",
       "      <td>0.0</td>\n",
       "      <td>92.74</td>\n",
       "      <td>0.000005</td>\n",
       "      <td>0.000005</td>\n",
       "      <td>0.000005</td>\n",
       "      <td>NaN</td>\n",
       "      <td>NaN</td>\n",
       "      <td>NaN</td>\n",
       "      <td>NaN</td>\n",
       "      <td>NaN</td>\n",
       "      <td>NaN</td>\n",
       "      <td>NaN</td>\n",
       "    </tr>\n",
       "    <tr>\n",
       "      <th>3</th>\n",
       "      <td>0.0</td>\n",
       "      <td>0.0</td>\n",
       "      <td>92.74</td>\n",
       "      <td>0.000005</td>\n",
       "      <td>0.000005</td>\n",
       "      <td>0.000005</td>\n",
       "      <td>NaN</td>\n",
       "      <td>NaN</td>\n",
       "      <td>NaN</td>\n",
       "      <td>NaN</td>\n",
       "      <td>NaN</td>\n",
       "      <td>NaN</td>\n",
       "      <td>NaN</td>\n",
       "    </tr>\n",
       "  </tbody>\n",
       "</table>\n",
       "</div>"
      ],
      "text/plain": [
       "   pos_x  pos_y  pos_z     rot_x     rot_y     rot_z  vel_x  vel_y  vel_z  \\\n",
       "1    0.0    0.0  92.74  0.000005  0.000005  0.000005    NaN    NaN    NaN   \n",
       "2    0.0    0.0  92.74  0.000005  0.000005  0.000005    NaN    NaN    NaN   \n",
       "3    0.0    0.0  92.74  0.000005  0.000005  0.000005    NaN    NaN    NaN   \n",
       "\n",
       "   ang_vel_x  ang_vel_y  ang_vel_z  hit_team_no  \n",
       "1        NaN        NaN        NaN          NaN  \n",
       "2        NaN        NaN        NaN          NaN  \n",
       "3        NaN        NaN        NaN          NaN  "
      ]
     },
     "execution_count": 52,
     "metadata": {},
     "output_type": "execute_result"
    }
   ],
   "source": [
    "print(game.ball.shape)\n",
    "game.ball.head(3)"
   ]
  },
  {
   "cell_type": "code",
   "execution_count": 53,
   "metadata": {
    "colab": {
     "base_uri": "https://localhost:8080/",
     "height": 34
    },
    "colab_type": "code",
    "id": "MEfqwJbcl304",
    "outputId": "10c8ac57-7865-4f4f-b109-713b44039b8c"
   },
   "outputs": [
    {
     "data": {
      "text/plain": [
       "'Syracks'"
      ]
     },
     "execution_count": 53,
     "metadata": {},
     "output_type": "execute_result"
    }
   ],
   "source": [
    "game.players[0].name"
   ]
  },
  {
   "cell_type": "code",
   "execution_count": 54,
   "metadata": {
    "colab": {
     "base_uri": "https://localhost:8080/",
     "height": 54
    },
    "colab_type": "code",
    "id": "CPX3KNrrpXmm",
    "outputId": "5b0eb4f4-e2a0-439f-bf6e-457d86fdf726"
   },
   "outputs": [
    {
     "data": {
      "text/plain": [
       "dict_keys(['file_path', 'properties', 'replay_id', 'map', 'name', 'id', 'datetime', 'replay_version', 'teams', 'players', 'goals', 'primary_player', 'frames', 'kickoff_frames', 'ball', 'ball_type', 'demos', 'parties', 'dropshot', 'match_type', 'team_size', 'game_info'])"
      ]
     },
     "execution_count": 54,
     "metadata": {},
     "output_type": "execute_result"
    }
   ],
   "source": [
    "game.__dict__.keys()"
   ]
  },
  {
   "cell_type": "code",
   "execution_count": 55,
   "metadata": {
    "colab": {
     "base_uri": "https://localhost:8080/",
     "height": 54
    },
    "colab_type": "code",
    "id": "c1a35LngrXXM",
    "outputId": "abd73fa6-f606-457e-880b-280d34f2f2d3"
   },
   "outputs": [
    {
     "data": {
      "text/plain": [
       "dict_keys(['MaxChannels', 'GameVersion', 'BuildVersion', 'Team1Score', 'KeyframeDelay', 'ReserveMegabytes', 'PlayerStats', 'MaxReplaySizeMB', 'NumFrames', 'MatchType', 'MapName', 'BuildID', 'Goals', 'ReplayVersion', 'Changelist', 'Date', 'ReplayName', 'UnfairTeamSize', 'PrimaryPlayerTeam', 'ReplayLastSaveVersion', 'Id', 'Team0Score', 'TeamSize', 'RecordFPS', 'HighLights'])"
      ]
     },
     "execution_count": 55,
     "metadata": {},
     "output_type": "execute_result"
    }
   ],
   "source": [
    "game.properties.keys()\n",
    "# game.game_info.__dict__.keys()"
   ]
  },
  {
   "cell_type": "code",
   "execution_count": 56,
   "metadata": {
    "colab": {
     "base_uri": "https://localhost:8080/",
     "height": 34
    },
    "colab_type": "code",
    "id": "BFHmS48jl305",
    "outputId": "79ee70eb-45e4-4bef-f58c-3b302ebb14a5",
    "scrolled": true
   },
   "outputs": [
    {
     "name": "stdout",
     "output_type": "stream",
     "text": [
      "(5256, 23)\n"
     ]
    }
   ],
   "source": [
    "player_0_data = game.players[0].data\n",
    "print(player_0_data.shape)\n",
    "player_0_data.head(10)\n",
    "start = 0\n",
    "data = player_0_data.iloc[start:start + 10]"
   ]
  },
  {
   "cell_type": "code",
   "execution_count": 57,
   "metadata": {
    "colab": {},
    "colab_type": "code",
    "id": "qYs_PtZeokPY"
   },
   "outputs": [],
   "source": [
    "def equalize_player_data_rows(game):\n",
    "  '''\n",
    "  Updates the game data to ensure all player data lines up.\n",
    "  Modifies the game object in place.\n",
    "  '''\n",
    "  # @TODO Update this for efficiency using the following:\n",
    "    # https://stackoverflow.com/questions/48864923/pythonpandas-select-certain-rows-by-index-of-another-dataframe\n",
    "\n",
    "  # @TODO Merge ball data as well!\n",
    "\n",
    "  player1 = game.players[0]\n",
    "  other_players = game.players[1:]\n",
    "  columns = player1.data.columns\n",
    "  ball_columns = game.ball.columns\n",
    "  changed_ball_columns = list(map(lambda x: x + '_ball', ball_columns))\n",
    "  merged_player_data = player1.data\n",
    "\n",
    "  game.ball.columns = changed_ball_columns\n",
    "\n",
    "  for i, player in enumerate(other_players):\n",
    "    suffix = f'_p{i + 2}'\n",
    "    merged_player_data = merged_player_data.merge(player.data, left_index=True, right_index=True, suffixes=('', suffix))\n",
    "  merged_player_data = merged_player_data.merge(game.ball, left_index=True, right_index=True)\n",
    "\n",
    "  game.ball = merged_player_data[changed_ball_columns]\n",
    "  game.ball.columns = ball_columns\n",
    "\n",
    "  game.players[0].data = merged_player_data[columns]\n",
    "  for i, player in enumerate(game.players[1:]):\n",
    "    suffixed_columns = list(map(lambda x: x + f'_p{i + 2}', columns))\n",
    "    game.players[i + 1].data = merged_player_data[suffixed_columns]\n",
    "    game.players[i + 1].data.columns = columns"
   ]
  },
  {
   "cell_type": "code",
   "execution_count": 58,
   "metadata": {
    "colab": {
     "base_uri": "https://localhost:8080/",
     "height": 317
    },
    "colab_type": "code",
    "id": "KG7VaNCpSghu",
    "outputId": "fa412610-72ab-4490-8396-90818347b043"
   },
   "outputs": [
    {
     "data": {
      "text/html": [
       "<div>\n",
       "<style scoped>\n",
       "    .dataframe tbody tr th:only-of-type {\n",
       "        vertical-align: middle;\n",
       "    }\n",
       "\n",
       "    .dataframe tbody tr th {\n",
       "        vertical-align: top;\n",
       "    }\n",
       "\n",
       "    .dataframe thead th {\n",
       "        text-align: right;\n",
       "    }\n",
       "</style>\n",
       "<table border=\"1\" class=\"dataframe\">\n",
       "  <thead>\n",
       "    <tr style=\"text-align: right;\">\n",
       "      <th></th>\n",
       "      <th>pos_x</th>\n",
       "      <th>pos_y</th>\n",
       "      <th>pos_z</th>\n",
       "      <th>rot_x</th>\n",
       "      <th>rot_y</th>\n",
       "      <th>rot_z</th>\n",
       "      <th>vel_x</th>\n",
       "      <th>vel_y</th>\n",
       "      <th>vel_z</th>\n",
       "      <th>ang_vel_x</th>\n",
       "      <th>ang_vel_y</th>\n",
       "      <th>ang_vel_z</th>\n",
       "      <th>hit_team_no</th>\n",
       "    </tr>\n",
       "  </thead>\n",
       "  <tbody>\n",
       "    <tr>\n",
       "      <th>count</th>\n",
       "      <td>5256.000000</td>\n",
       "      <td>5256.000000</td>\n",
       "      <td>5256.000000</td>\n",
       "      <td>5256.000000</td>\n",
       "      <td>5256.000000</td>\n",
       "      <td>5256.000000</td>\n",
       "      <td>3996.000000</td>\n",
       "      <td>3996.000000</td>\n",
       "      <td>3996.000000</td>\n",
       "      <td>3996.000000</td>\n",
       "      <td>3996.000000</td>\n",
       "      <td>3996.000000</td>\n",
       "      <td>4202.000000</td>\n",
       "    </tr>\n",
       "    <tr>\n",
       "      <th>mean</th>\n",
       "      <td>-49.628590</td>\n",
       "      <td>-203.195344</td>\n",
       "      <td>397.690373</td>\n",
       "      <td>0.073363</td>\n",
       "      <td>0.018239</td>\n",
       "      <td>-0.052731</td>\n",
       "      <td>15.628704</td>\n",
       "      <td>27.050025</td>\n",
       "      <td>64.881832</td>\n",
       "      <td>-190.464965</td>\n",
       "      <td>-764.295295</td>\n",
       "      <td>271.473473</td>\n",
       "      <td>0.437649</td>\n",
       "    </tr>\n",
       "    <tr>\n",
       "      <th>std</th>\n",
       "      <td>1932.421555</td>\n",
       "      <td>2993.208009</td>\n",
       "      <td>423.016474</td>\n",
       "      <td>0.645472</td>\n",
       "      <td>1.566474</td>\n",
       "      <td>1.524223</td>\n",
       "      <td>9884.393140</td>\n",
       "      <td>10229.627418</td>\n",
       "      <td>5264.383116</td>\n",
       "      <td>3023.495107</td>\n",
       "      <td>2724.825551</td>\n",
       "      <td>2787.034662</td>\n",
       "      <td>0.496156</td>\n",
       "    </tr>\n",
       "    <tr>\n",
       "      <th>min</th>\n",
       "      <td>-4002.880000</td>\n",
       "      <td>-5213.380000</td>\n",
       "      <td>81.760000</td>\n",
       "      <td>-1.551841</td>\n",
       "      <td>-3.140201</td>\n",
       "      <td>-3.138239</td>\n",
       "      <td>-21323.100000</td>\n",
       "      <td>-30712.000000</td>\n",
       "      <td>-17357.200000</td>\n",
       "      <td>-5924.900000</td>\n",
       "      <td>-5985.300000</td>\n",
       "      <td>-5983.000000</td>\n",
       "      <td>0.000000</td>\n",
       "    </tr>\n",
       "    <tr>\n",
       "      <th>25%</th>\n",
       "      <td>-1044.942500</td>\n",
       "      <td>-2743.270000</td>\n",
       "      <td>93.150000</td>\n",
       "      <td>-0.365331</td>\n",
       "      <td>-0.973011</td>\n",
       "      <td>-1.168169</td>\n",
       "      <td>-6466.150000</td>\n",
       "      <td>-7116.650000</td>\n",
       "      <td>-2185.100000</td>\n",
       "      <td>-2538.200000</td>\n",
       "      <td>-2865.400000</td>\n",
       "      <td>-2077.250000</td>\n",
       "      <td>0.000000</td>\n",
       "    </tr>\n",
       "    <tr>\n",
       "      <th>50%</th>\n",
       "      <td>0.000000</td>\n",
       "      <td>0.000000</td>\n",
       "      <td>168.010000</td>\n",
       "      <td>0.000005</td>\n",
       "      <td>0.000005</td>\n",
       "      <td>0.000005</td>\n",
       "      <td>-314.500000</td>\n",
       "      <td>350.500000</td>\n",
       "      <td>0.000000</td>\n",
       "      <td>0.000000</td>\n",
       "      <td>-285.200000</td>\n",
       "      <td>0.000000</td>\n",
       "      <td>0.000000</td>\n",
       "    </tr>\n",
       "    <tr>\n",
       "      <th>75%</th>\n",
       "      <td>785.870000</td>\n",
       "      <td>1774.097500</td>\n",
       "      <td>533.480000</td>\n",
       "      <td>0.510718</td>\n",
       "      <td>1.089568</td>\n",
       "      <td>0.995632</td>\n",
       "      <td>5127.475000</td>\n",
       "      <td>5783.800000</td>\n",
       "      <td>2252.575000</td>\n",
       "      <td>2128.300000</td>\n",
       "      <td>967.100000</td>\n",
       "      <td>2193.775000</td>\n",
       "      <td>1.000000</td>\n",
       "    </tr>\n",
       "    <tr>\n",
       "      <th>max</th>\n",
       "      <td>4001.870000</td>\n",
       "      <td>5214.440000</td>\n",
       "      <td>1965.310000</td>\n",
       "      <td>1.564324</td>\n",
       "      <td>3.140724</td>\n",
       "      <td>3.140767</td>\n",
       "      <td>33756.300000</td>\n",
       "      <td>26763.300000</td>\n",
       "      <td>21292.000000</td>\n",
       "      <td>5798.300000</td>\n",
       "      <td>5682.300000</td>\n",
       "      <td>5951.000000</td>\n",
       "      <td>1.000000</td>\n",
       "    </tr>\n",
       "  </tbody>\n",
       "</table>\n",
       "</div>"
      ],
      "text/plain": [
       "             pos_x        pos_y        pos_z        rot_x        rot_y  \\\n",
       "count  5256.000000  5256.000000  5256.000000  5256.000000  5256.000000   \n",
       "mean    -49.628590  -203.195344   397.690373     0.073363     0.018239   \n",
       "std    1932.421555  2993.208009   423.016474     0.645472     1.566474   \n",
       "min   -4002.880000 -5213.380000    81.760000    -1.551841    -3.140201   \n",
       "25%   -1044.942500 -2743.270000    93.150000    -0.365331    -0.973011   \n",
       "50%       0.000000     0.000000   168.010000     0.000005     0.000005   \n",
       "75%     785.870000  1774.097500   533.480000     0.510718     1.089568   \n",
       "max    4001.870000  5214.440000  1965.310000     1.564324     3.140724   \n",
       "\n",
       "             rot_z         vel_x         vel_y         vel_z    ang_vel_x  \\\n",
       "count  5256.000000   3996.000000   3996.000000   3996.000000  3996.000000   \n",
       "mean     -0.052731     15.628704     27.050025     64.881832  -190.464965   \n",
       "std       1.524223   9884.393140  10229.627418   5264.383116  3023.495107   \n",
       "min      -3.138239 -21323.100000 -30712.000000 -17357.200000 -5924.900000   \n",
       "25%      -1.168169  -6466.150000  -7116.650000  -2185.100000 -2538.200000   \n",
       "50%       0.000005   -314.500000    350.500000      0.000000     0.000000   \n",
       "75%       0.995632   5127.475000   5783.800000   2252.575000  2128.300000   \n",
       "max       3.140767  33756.300000  26763.300000  21292.000000  5798.300000   \n",
       "\n",
       "         ang_vel_y    ang_vel_z  hit_team_no  \n",
       "count  3996.000000  3996.000000  4202.000000  \n",
       "mean   -764.295295   271.473473     0.437649  \n",
       "std    2724.825551  2787.034662     0.496156  \n",
       "min   -5985.300000 -5983.000000     0.000000  \n",
       "25%   -2865.400000 -2077.250000     0.000000  \n",
       "50%    -285.200000     0.000000     0.000000  \n",
       "75%     967.100000  2193.775000     1.000000  \n",
       "max    5682.300000  5951.000000     1.000000  "
      ]
     },
     "execution_count": 58,
     "metadata": {},
     "output_type": "execute_result"
    }
   ],
   "source": [
    "game.ball.describe()"
   ]
  },
  {
   "cell_type": "code",
   "execution_count": 59,
   "metadata": {
    "colab": {},
    "colab_type": "code",
    "id": "QQboajadl308"
   },
   "outputs": [],
   "source": [
    "def get_game_state_columns():\n",
    "    return [ # built-in columns only - no added data\n",
    "        'pos_x',\n",
    "        'pos_y',\n",
    "        'pos_z',\n",
    "        'rot_x',\n",
    "        'rot_y',\n",
    "        'rot_z',\n",
    "        'vel_x',\n",
    "        'vel_y',\n",
    "        'vel_z',\n",
    "        'ang_vel_x',\n",
    "        'ang_vel_y',\n",
    "        'ang_vel_z',\n",
    "        'active',\n",
    "        'boost',\n",
    "    ]\n",
    "\n",
    "def get_controller_input_columns():\n",
    "    return [\n",
    "        'throttle',\n",
    "        'steer',\n",
    "        'handbrake',\n",
    "        'dodge_active',\n",
    "        'double_jump_active',\n",
    "        'jump_active',\n",
    "        'boost_active',\n",
    "    ]\n",
    "\n",
    "def get_ball_columns():\n",
    "    return [\n",
    "        'pos_x',\n",
    "        'pos_y',\n",
    "        'pos_z',\n",
    "        'vel_x',\n",
    "        'vel_y',\n",
    "        'vel_z',\n",
    "    ]"
   ]
  },
  {
   "cell_type": "code",
   "execution_count": 60,
   "metadata": {
    "colab": {},
    "colab_type": "code",
    "id": "tm9RKHuel30-"
   },
   "outputs": [],
   "source": [
    "def add_active_column(df):\n",
    "    '''Returns a new dataframe with an extra 'action' column.\n",
    "    '''\n",
    "    dataframe = df.assign(active=(~np.isnan(df['steer'])).astype(int))\n",
    "    return dataframe"
   ]
  },
  {
   "cell_type": "code",
   "execution_count": 61,
   "metadata": {
    "colab": {},
    "colab_type": "code",
    "id": "1Z45Wv2oeijR"
   },
   "outputs": [],
   "source": [
    "def squeeze_value(value, fudge_factor=0.10):\n",
    "  '''Squeezes 0-1 values between, say, 0.05-0.95 for sigmoid activations.\n",
    "  '''\n",
    "  return value # hack - do not squeeze value if not using sigmoid activations.\n",
    "  return value * (1 - fudge_factor) + (fudge_factor / 2)\n",
    "\n",
    "def normalize_data(dataframe, fudge_factor=0.10):\n",
    "  '''\n",
    "  Returns a normalized copy of a dataframe.\n",
    "  Fudges the data to place it between (say) 0.025-0.975 instead of 0-1.\n",
    "  The dataframe provided should contain only numerical data.\n",
    "  Provides simple min-max normalization.\n",
    "  '''\n",
    "  normalized = (dataframe - dataframe.min()) / (dataframe.max() - dataframe.min())\n",
    "  # return normalized * (1 - fudge_factor) + (fudge_factor / 2)\n",
    "  return squeeze_value(normalized, fudge_factor)\n",
    "\n",
    "def normalize_player_data(player_df, main_player=False):\n",
    "  '''\n",
    "  Returns a normalized dataframe of player data. Normalizes only numerical data.\n",
    "  '''\n",
    "  cols_to_normalize = player_df.select_dtypes(include=np.number).columns.tolist()\n",
    "  cols = player_df[cols_to_normalize]\n",
    "  return normalize_data(cols)"
   ]
  },
  {
   "cell_type": "code",
   "execution_count": 62,
   "metadata": {
    "colab": {},
    "colab_type": "code",
    "id": "oRNplzlel30_"
   },
   "outputs": [],
   "source": [
    "def clean_player_data(player_df, main_player=False, team=None):\n",
    "    '''Handles cleaning, copying, etc. of a player dataframe.\n",
    "    '''\n",
    "    with_active = add_active_column(player_df)\n",
    "    str_bool_to_int = { 'True': 1, 'False': 0, np.nan: 0, None: 0 }\n",
    "    \n",
    "    # convert odd-number based activations to 0 and 1\n",
    "    def odd_num_to_bool(num):\n",
    "      # if np.isnan(num): return 0\n",
    "      return int(num % 2 == 1)\n",
    "    with_active['dodge_active'] = with_active['dodge_active'].apply(odd_num_to_bool)\n",
    "    with_active['jump_active'] = with_active['jump_active'].apply(odd_num_to_bool)\n",
    "    with_active['double_jump_active'] = with_active['double_jump_active'].apply(odd_num_to_bool)\n",
    "\n",
    "    dtypes_map = dict(with_active.dtypes)\n",
    "    if dtypes_map['ball_cam'] == np.bool:\n",
    "      with_active['ball_cam'] = with_active['ball_cam'].astype(int)\n",
    "    elif dtypes_map['ball_cam'] == np.str:\n",
    "      with_active['ball_cam'] = with_active.replace({ 'ball_cam': str_bool_to_int })\n",
    "\n",
    "    cleaned = with_active.replace({\n",
    "        'handbrake': str_bool_to_int,\n",
    "        # 'ball_cam': str_bool_to_int,\n",
    "        # 'boost_active': str_bool_to_int\n",
    "        # 'double_jump_active': str_bool_to_int,\n",
    "    })\n",
    "\n",
    "    cleaned = cleaned.fillna(0)\n",
    "\n",
    "    if not main_player:\n",
    "        cleaned = cleaned[get_game_state_columns()]\n",
    "\n",
    "    return cleaned"
   ]
  },
  {
   "cell_type": "code",
   "execution_count": 63,
   "metadata": {
    "colab": {},
    "colab_type": "code",
    "id": "6Ch9F05klMae"
   },
   "outputs": [],
   "source": [
    "def clean_ball_data(ball):\n",
    "  ball = ball[get_ball_columns()].copy()\n",
    "  ball = ball.fillna(0)\n",
    "  return ball"
   ]
  },
  {
   "cell_type": "code",
   "execution_count": 64,
   "metadata": {
    "colab": {},
    "colab_type": "code",
    "id": "zjAkjRNWl31D"
   },
   "outputs": [],
   "source": [
    "def get_stadium_number(stadium):\n",
    "  stadiums = [\n",
    "    'cs_day_p',\n",
    "    'NeoTokyo_Standard_P',\n",
    "    'UtopiaStadium_Dusk_P',\n",
    "    'Stadium_P',\n",
    "    'EuroStadium_Night_P',\n",
    "    'TrainStation_Dawn_P',\n",
    "    'cs_p',\n",
    "    'EuroStadium_P',\n",
    "    'Underwater_P',\n",
    "    'arc_standard_p',\n",
    "    'stadium_day_p',\n",
    "    'wasteland_Night_S_P',\n",
    "    'beach_P',\n",
    "    'wasteland_s_p',\n",
    "    'beach_night_p',\n",
    "    'Farm_Night_P',\n",
    "    'Farm_UpsideDown_P',\n",
    "    'EuroStadium_Rainy_P',\n",
    "    'UtopiaStadium_P',\n",
    "    'farm_p',\n",
    "    'Park_Rainy_P',\n",
    "    'UtopiaStadium_Snow_P',\n",
    "    'CHN_Stadium_P',\n",
    "    'TrainStation_Night_P',\n",
    "    'Park_Night_P',\n",
    "    'TrainStation_P',\n",
    "  ]\n",
    "\n",
    "  try:\n",
    "    index = stadiums.index(stadium)\n",
    "  except ValueError:\n",
    "    print(f\"WARNING: Stadium {stadium} does not have a numeric mapping.\")\n",
    "    return 0\n",
    "  return (index + 1) / (len(stadiums) + 1)"
   ]
  },
  {
   "cell_type": "code",
   "execution_count": 65,
   "metadata": {
    "colab": {},
    "colab_type": "code",
    "id": "QK3l2QZRRAKW"
   },
   "outputs": [],
   "source": [
    "# This cell is modified from David Wolever's answer here: https://stackoverflow.com/a/13849249\n",
    "def unit_vector(vector):\n",
    "    \"\"\" Returns the unit vector of the vector.  \"\"\"\n",
    "    return vector / np.linalg.norm(vector)\n",
    "\n",
    "def angle_between(v1, v2):\n",
    "    \"\"\" Returns the angle in radians between vectors 'v1' and 'v2'::\n",
    "\n",
    "            >>> angle_between((1, 0, 0), (0, 1, 0))\n",
    "            1.5707963267948966\n",
    "            >>> angle_between((1, 0, 0), (1, 0, 0))\n",
    "            0.0\n",
    "            >>> angle_between((1, 0, 0), (-1, 0, 0))\n",
    "            3.141592653589793\n",
    "    \"\"\"\n",
    "    v1_u = unit_vector(v1)\n",
    "    v2_u = unit_vector(v2)\n",
    "    return np.arccos(np.clip(np.sum(np.multiply(v1_u, v2_u), axis=1), -1.0, 1.0))"
   ]
  },
  {
   "cell_type": "code",
   "execution_count": 66,
   "metadata": {
    "colab": {
     "base_uri": "https://localhost:8080/",
     "height": 323
    },
    "colab_type": "code",
    "id": "6GNxpZFnd0-o",
    "outputId": "19e62305-9814-4d6a-9090-946028dc365a"
   },
   "outputs": [
    {
     "name": "stdout",
     "output_type": "stream",
     "text": [
      "   x  y  z\n",
      "0 -1 -1  0\n",
      "1 -1 -2  0\n",
      "2 -1 -3  0\n",
      "3 -1 -4  0\n",
      "4 -1 -5  0\n",
      "[1.41421356 2.23606798 3.16227766 4.12310563 5.09901951]\n"
     ]
    },
    {
     "data": {
      "text/html": [
       "<div>\n",
       "<style scoped>\n",
       "    .dataframe tbody tr th:only-of-type {\n",
       "        vertical-align: middle;\n",
       "    }\n",
       "\n",
       "    .dataframe tbody tr th {\n",
       "        vertical-align: top;\n",
       "    }\n",
       "\n",
       "    .dataframe thead th {\n",
       "        text-align: right;\n",
       "    }\n",
       "</style>\n",
       "<table border=\"1\" class=\"dataframe\">\n",
       "  <thead>\n",
       "    <tr style=\"text-align: right;\">\n",
       "      <th></th>\n",
       "      <th>a</th>\n",
       "      <th>b</th>\n",
       "      <th>c</th>\n",
       "    </tr>\n",
       "  </thead>\n",
       "  <tbody>\n",
       "    <tr>\n",
       "      <th>0</th>\n",
       "      <td>1</td>\n",
       "      <td>4</td>\n",
       "      <td>7</td>\n",
       "    </tr>\n",
       "    <tr>\n",
       "      <th>1</th>\n",
       "      <td>2</td>\n",
       "      <td>5</td>\n",
       "      <td>8</td>\n",
       "    </tr>\n",
       "    <tr>\n",
       "      <th>2</th>\n",
       "      <td>3</td>\n",
       "      <td>6</td>\n",
       "      <td>9</td>\n",
       "    </tr>\n",
       "    <tr>\n",
       "      <th>3</th>\n",
       "      <td>4</td>\n",
       "      <td>7</td>\n",
       "      <td>10</td>\n",
       "    </tr>\n",
       "    <tr>\n",
       "      <th>4</th>\n",
       "      <td>5</td>\n",
       "      <td>8</td>\n",
       "      <td>11</td>\n",
       "    </tr>\n",
       "  </tbody>\n",
       "</table>\n",
       "</div>"
      ],
      "text/plain": [
       "   a  b   c\n",
       "0  1  4   7\n",
       "1  2  5   8\n",
       "2  3  6   9\n",
       "3  4  7  10\n",
       "4  5  8  11"
      ]
     },
     "execution_count": 66,
     "metadata": {},
     "output_type": "execute_result"
    }
   ],
   "source": [
    "df = pd.DataFrame({\n",
    "    'x': [1, 2, 3, 4, 5],\n",
    "    'y': [4, 5, 6, 7, 8],\n",
    "    'z': [7, 8, 9, 10, 11],\n",
    "})\n",
    "df2 = pd.DataFrame({\n",
    "    'x': [2, 3, 4, 5, 6],\n",
    "    'y': [5, 7, 9, 11, 13],\n",
    "    'z': [7, 8, 9, 10, 11],\n",
    "})\n",
    "\n",
    "diff = df.subtract(df2, axis=0)\n",
    "print(diff)\n",
    "print(np.linalg.norm(diff.values, axis=1))\n",
    "# player_relative['ball_dist'] = np.linalg.norm(player_position - ball_position)\n",
    "\n",
    "df.set_axis(('a', 'b', 'c'), axis=1, inplace=False)"
   ]
  },
  {
   "cell_type": "code",
   "execution_count": 67,
   "metadata": {
    "colab": {
     "base_uri": "https://localhost:8080/",
     "height": 34
    },
    "colab_type": "code",
    "id": "ZqVh4WdF2FKQ",
    "outputId": "17d873e1-e799-4604-9015-4de9500cf752"
   },
   "outputs": [
    {
     "data": {
      "text/plain": [
       "'f'"
      ]
     },
     "execution_count": 67,
     "metadata": {},
     "output_type": "execute_result"
    }
   ],
   "source": [
    "name = 'asdf'\n",
    "name[-1:]"
   ]
  },
  {
   "cell_type": "code",
   "execution_count": 68,
   "metadata": {
    "colab": {},
    "colab_type": "code",
    "id": "67yjHEp9m1PM"
   },
   "outputs": [],
   "source": [
    "def get_relative_data(player, ball, opponent):\n",
    "  '''\n",
    "  Returns a new set of dataframes with data relative to the player.\n",
    "  '''\n",
    "#   print(f\"Player shape (in get_relative_data): {player.shape}\")\n",
    "#   print(f\"Opponent shape (in get_relative_data): {opponent.shape}\")\n",
    "#   print(f\"Ball shape (in get_relative_data): {ball.shape}\")\n",
    "  # NOTE: should eventually handle a list of teammates and opponents\n",
    "  columns = get_game_state_columns()\n",
    "  ball_columns = get_ball_columns()\n",
    "\n",
    "  player_relative = pd.DataFrame()\n",
    "  opponent_relative = pd.DataFrame()\n",
    "  ball_relative = pd.DataFrame()\n",
    "\n",
    "  player_relative['boost'] = player['boost']\n",
    "  player_relative['active'] = player['active']\n",
    "  player_relative['vel_x'] = player['vel_x']\n",
    "  player_relative['vel_y'] = player['vel_y']\n",
    "  player_relative['vel_z'] = player['vel_z']\n",
    "  # player_relative['ang_vel_x'] = player['ang_vel_x']\n",
    "  # player_relative['ang_vel_y'] = player['ang_vel_y']\n",
    "  # player_relative['ang_vel_z'] = player['ang_vel_z']\n",
    "  player_relative['jump_active'] = player['jump_active']\n",
    "  # player_relative['double_jump_active'] = player['double_jump_active'] # seems to be empty and causes NaNs\n",
    "  player_relative['dodge_active'] = player['dodge_active']\n",
    "\n",
    "  column_names = ('x', 'y', 'z')\n",
    "  player_position = player[['pos_x', 'pos_y', 'pos_z']].set_axis(column_names, axis=1, inplace=False)\n",
    "  player_facing = player[['rot_x', 'rot_y', 'rot_z']].set_axis(column_names, axis=1, inplace=False)\n",
    "  player_vel = player[['vel_x', 'vel_y', 'vel_z']].set_axis(column_names, axis=1, inplace=False)\n",
    "  player_spinning = player[['ang_vel_x', 'ang_vel_y', 'ang_vel_z']].set_axis(column_names, axis=1, inplace=False)\n",
    "  ball_position = ball[['pos_x', 'pos_y', 'pos_z']].set_axis(column_names, axis=1, inplace=False)\n",
    "  ball_vel = ball[['vel_x', 'vel_y', 'vel_z']].set_axis(column_names, axis=1, inplace=False)\n",
    "\n",
    "  goal_height = 642.775\n",
    "  back_wall = 5120\n",
    "  # Floor: 0\n",
    "  # Center field: (0, 0)\n",
    "  # Side wall: 4096\n",
    "  # Back wall: 5120\n",
    "  # Ceiling: 2044\n",
    "  # Goal height: 642.775\n",
    "  # Goal center-to-post: 892.755\n",
    "\n",
    "  player_relative['ball_dist'] = np.linalg.norm(player_position - ball_position, axis=1)\n",
    "  player_relative['angle_to_face_ball'] = angle_between(player_facing, ball_position)\n",
    "  player_relative['angle_to_move_to_ball'] = angle_between(player_vel, ball_position)\n",
    "\n",
    "  player_relative['opposing_goal_x'] = -player_position['x']\n",
    "  # @TODO This needs to be based on the player's 'team' - could have +/- y\n",
    "  player_relative['opposing_goal_y'] = -back_wall - player_position['y']\n",
    "  player_relative['opposing_goal_z'] = (goal_height / 2) - player_position['z']\n",
    "\n",
    "  ball_relative['vel_x'] = ball_vel['x'] - player_vel['x']\n",
    "  ball_relative['vel_y'] = ball_vel['y'] - player_vel['y']\n",
    "  ball_relative['vel_z'] = ball_vel['z'] - player_vel['z']\n",
    "  ball_relative['pos_z'] = ball_position['z']\n",
    "\n",
    "  opponent_relative['pos_x'] = opponent['pos_x'] - player['pos_x']\n",
    "  opponent_relative['pos_y'] = opponent['pos_y'] - player['pos_y']\n",
    "  opponent_relative['pos_z'] = opponent['pos_z'] - player['pos_z']\n",
    "  opponent_relative['vel_x'] = opponent['vel_x'] - player['vel_x']\n",
    "  opponent_relative['vel_y'] = opponent['vel_y'] - player['vel_y']\n",
    "  opponent_relative['vel_z'] = opponent['vel_z'] - player['vel_z']\n",
    "\n",
    "  # @TODO Drop player columns that are now represented by other means\n",
    "    # Eg. player position should now be represented by distance to walls and\n",
    "    # distance & angle to net.\n",
    "  return player_relative, ball_relative, opponent_relative"
   ]
  },
  {
   "cell_type": "code",
   "execution_count": 69,
   "metadata": {
    "colab": {},
    "colab_type": "code",
    "id": "k8cln729l31E"
   },
   "outputs": [],
   "source": [
    "def get_X_and_y(player, team, opponents, ball, game, team_num):\n",
    "    '''\n",
    "    Returns X (input) and y (labels) for a neural network. Accepts arguments\n",
    "    relating to the data from a replay.\n",
    "    '''\n",
    "    player = clean_player_data(player.data, main_player=True)\n",
    "    # player = player[player['active'] == 1] # take only rows where player is active. NOTE: This was causing mis-alignment in relative data.\n",
    "    # teammate1 = clean_player_data(team[0].data)\n",
    "    # teammate2 = clean_player_data(team[1].data)\n",
    "    opponent1 = clean_player_data(opponents[0].data)\n",
    "    # opponent2 = clean_player_data(opponents[1].data)\n",
    "    # opponent3 = clean_player_data(opponents[2].data)\n",
    "    ball = clean_ball_data(ball)\n",
    "\n",
    "    y = player[get_controller_input_columns()]\n",
    "\n",
    "    # @TODO Update player dataframes to be relative to player with ball cam\n",
    "    player, ball, opponent1 = get_relative_data(player, ball, opponent1)\n",
    "    \n",
    "    # @TODO Flip x/y values of opponents: pos_y, rot_y, vel_y, ang_vel_y\n",
    "    # This ensures all training happens in the same direction (eg. opponent's goal is positive)\n",
    "    # OR, simply assign each player a Team input set to 0 or 1.\n",
    "    # NOTE: Need to think about what is required for this to make sense. Will try without.\n",
    "\n",
    "    player = normalize_player_data(player, main_player=True)\n",
    "\n",
    "    X = player#[get_game_state_columns()]\n",
    "\n",
    "    # Normalize remainder of data\n",
    "    opponent1 = normalize_player_data(opponent1)\n",
    "    ball = normalize_data(ball)\n",
    "    y = normalize_data(y, fudge_factor=0) # do not fudge predictions!\n",
    "\n",
    "    # X = pd.merge(X, teammate1, left_index=True, right_index=True, suffixes=('', '_team1'))\n",
    "    # X = pd.merge(X, teammate2, left_index=True, right_index=True, suffixes=('', '_team2'))\n",
    "    X = pd.merge(X, opponent1, left_index=True, right_index=True, suffixes=('', '_op1'))\n",
    "    # X = pd.merge(X, opponent2, left_index=True, right_index=True, suffixes=('', '_op2'))\n",
    "    # X = pd.merge(X, opponent3, left_index=True, right_index=True, suffixes=('', '_op3'))\n",
    "    X = pd.merge(X, ball, left_index=True, right_index=True, suffixes=('', '_ball'))\n",
    "\n",
    "    assert X.shape[0] == y.shape[0], f\"X has {X.shape[0]} rows, but y has {y.shape[0]}.\"\n",
    "    \n",
    "    # add any extra fields (must normalize these separately)\n",
    "    X['map'] = squeeze_value(get_stadium_number(game.map))\n",
    "    X['team'] = squeeze_value(team_num)\n",
    "\n",
    "    # @TODO [OPTIONAL] Loop over opponent dataframes. Build up new frames based on closest-to-ball\n",
    "    return X, y"
   ]
  },
  {
   "cell_type": "code",
   "execution_count": 70,
   "metadata": {
    "colab": {
     "base_uri": "https://localhost:8080/",
     "height": 408
    },
    "colab_type": "code",
    "id": "WyRn1Bbql31G",
    "outputId": "950ece6e-21c2-441e-fc53-1c058e280c7b",
    "scrolled": true
   },
   "outputs": [],
   "source": [
    "def assert_colour(player):\n",
    "    '''\n",
    "    Asserts that a blue player has a negative y starting value. This ensures\n",
    "    that there is consistency between teams and team numbers across replays.\n",
    "    '''\n",
    "    player_start = player.data['pos_y'].iloc[0]\n",
    "    player_colour = 'orange' if player_start > 0 else 'blue'\n",
    "    # print(player_start > 0, player.is_orange)\n",
    "    # print(f\"Player is {player_colour} and has start of {player_start}.\")\n",
    "    assert (player_start > 0) == player.is_orange, f\"Player is {player_colour} but has start of {player_start}.\"\n",
    "\n",
    "def get_game_data(game):\n",
    "  equalize_player_data_rows(game)\n",
    "  Xs = []\n",
    "  ys = []\n",
    "  for i, team in enumerate(game.teams):\n",
    "#       if i > 0: break # hack to skip second team\n",
    "      team_num = int(team.is_orange)\n",
    "      team = list(team.players)\n",
    "      opponents = list(game.teams[1 - i].players)\n",
    "      for j, player in enumerate(team):\n",
    "          assert_colour(player)\n",
    "          if j > 0: continue # hack to skip other players\n",
    "          teammates = []\n",
    "          if len(team) == 2:\n",
    "            teammates = [team[(j + 1) % 3]]\n",
    "          elif len(team) == 3:\n",
    "            teammates = [team[(j + 1) % 3], team[(j + 2) % 3]]\n",
    "\n",
    "  #         print('Me:', player)\n",
    "  #         print('Teammates:', teammates[0].name, 'and', teammates[1].name)\n",
    "  #         print('Opponents:', opponents[0].name, opponents[1].name, opponents[2].name)\n",
    "  #         print('---')\n",
    "          new_X, new_y = get_X_and_y(player, teammates, opponents, game.ball, game, team_num)\n",
    "          Xs.append(new_X)\n",
    "          ys.append(new_y)\n",
    "  X = pd.concat(Xs)\n",
    "  y = pd.concat(ys)\n",
    "  return X, y\n",
    "\n",
    "\n",
    "def parse_games(game_files, max_games=-1):\n",
    "    games = map(get_game, game_files)\n",
    "    num_games = len(game_files) if max_games < 0 else max_games\n",
    "    print(f'Parsing and concatenating {num_games} game(s). -----')\n",
    "\n",
    "    all_Xs = []\n",
    "    all_ys = []\n",
    "    for i, game in enumerate(games):\n",
    "      print(f\"Intaking game {i + 1}\")\n",
    "      if max_games >= 1 and i >= max_games:\n",
    "        print(f'Stopping at {max_games} max games.')\n",
    "        break\n",
    "      # try:\n",
    "      new_X, new_y = get_game_data(game)\n",
    "      # except TypeError:\n",
    "      #   print(f'ERROR: Game invalid. Skipping. ({game})')\n",
    "      #   continue\n",
    "      all_Xs.append(new_X)\n",
    "      all_ys.append(new_y)\n",
    "      # X = pd.concat(X, new_X)\n",
    "      # y = pd.concat(y, new_y)\n",
    "    if len(all_Xs) == 0:\n",
    "      raise ValueError('all_Xs is empty. Should have at least one data set.')\n",
    "    elif len(all_Xs) == 1:\n",
    "      X_full = all_Xs[0]\n",
    "      y_full = all_ys[0]\n",
    "    else:\n",
    "      X_full = pd.concat(all_Xs)\n",
    "      y_full = pd.concat(all_ys)\n",
    "\n",
    "    print(f'Completed game intake. -----')\n",
    "    \n",
    "    return X_full, y_full"
   ]
  },
  {
   "cell_type": "markdown",
   "metadata": {},
   "source": [
    "## Parse and save data, or load data"
   ]
  },
  {
   "cell_type": "code",
   "execution_count": 71,
   "metadata": {},
   "outputs": [
    {
     "name": "stdout",
     "output_type": "stream",
     "text": [
      "Number of game files: 43\n",
      "Parsing replays: ------------------\n",
      "Parsing and concatenating 43 game(s). -----\n",
      "Intaking game 1\n",
      "Intaking game 2\n",
      "Intaking game 3\n",
      "Intaking game 4\n",
      "Intaking game 5\n",
      "Intaking game 6\n",
      "Intaking game 7\n",
      "Intaking game 8\n",
      "Intaking game 9\n",
      "Intaking game 10\n",
      "Intaking game 11\n",
      "Intaking game 12\n",
      "Intaking game 13\n",
      "Intaking game 14\n",
      "Intaking game 15\n",
      "Intaking game 16\n",
      "Intaking game 17\n",
      "Intaking game 18\n",
      "Intaking game 19\n",
      "Intaking game 20\n",
      "Intaking game 21\n",
      "Intaking game 22\n",
      "Intaking game 23\n",
      "Intaking game 24\n",
      "Intaking game 25\n",
      "Intaking game 26\n"
     ]
    },
    {
     "name": "stderr",
     "output_type": "stream",
     "text": [
      "Could not find field_of_view in camera settings for owl.exe\n",
      "Could not find height in camera settings for owl.exe\n",
      "Could not find pitch in camera settings for owl.exe\n",
      "Could not find distance in camera settings for owl.exe\n",
      "Could not find stiffness in camera settings for owl.exe\n",
      "Could not find swivel_speed in camera settings for owl.exe\n",
      "Could not find transition_speed in camera settings for owl.exe\n"
     ]
    },
    {
     "name": "stdout",
     "output_type": "stream",
     "text": [
      "Intaking game 27\n",
      "Intaking game 28\n",
      "Intaking game 29\n",
      "Intaking game 30\n",
      "Intaking game 31\n",
      "Intaking game 32\n",
      "Intaking game 33\n",
      "Intaking game 34\n",
      "Intaking game 35\n",
      "Intaking game 36\n",
      "Intaking game 37\n",
      "Intaking game 38\n",
      "Intaking game 39\n",
      "Intaking game 40\n",
      "Intaking game 41\n",
      "Intaking game 42\n",
      "Intaking game 43\n",
      "Completed game intake. -----\n",
      "Saving replay data: ---------------\n"
     ]
    }
   ],
   "source": [
    "print(f\"Number of game files: {len(game_files)}\")\n",
    "max_games = -1\n",
    "\n",
    "if should_parse_replays():\n",
    "    print(\"Parsing replays: ------------------\")\n",
    "    X_full, y_full = parse_games(game_files, max_games)\n",
    "    print(\"Saving replay data: ---------------\")\n",
    "    X_full.to_csv(X_path, index=False)\n",
    "    y_full.to_csv(y_path, index=False)\n",
    "else:\n",
    "    print(\"Loading existing replay data: -----\")\n",
    "    X_full = pd.read_csv(X_path)\n",
    "    y_full = pd.read_csv(y_path)"
   ]
  },
  {
   "cell_type": "code",
   "execution_count": 72,
   "metadata": {},
   "outputs": [],
   "source": [
    "# load packages useful for building/running the model\n",
    "from timeit import default_timer as timer\n",
    "import tensorflow as tf\n",
    "import pandas as pd\n",
    "import numpy as np\n",
    "import matplotlib.pyplot as plt"
   ]
  },
  {
   "cell_type": "code",
   "execution_count": 73,
   "metadata": {},
   "outputs": [
    {
     "data": {
      "text/html": [
       "<div>\n",
       "<style scoped>\n",
       "    .dataframe tbody tr th:only-of-type {\n",
       "        vertical-align: middle;\n",
       "    }\n",
       "\n",
       "    .dataframe tbody tr th {\n",
       "        vertical-align: top;\n",
       "    }\n",
       "\n",
       "    .dataframe thead th {\n",
       "        text-align: right;\n",
       "    }\n",
       "</style>\n",
       "<table border=\"1\" class=\"dataframe\">\n",
       "  <thead>\n",
       "    <tr style=\"text-align: right;\">\n",
       "      <th></th>\n",
       "      <th>steer</th>\n",
       "      <th>throttle</th>\n",
       "    </tr>\n",
       "  </thead>\n",
       "  <tbody>\n",
       "    <tr>\n",
       "      <th>1</th>\n",
       "      <td>0.0</td>\n",
       "      <td>0.0</td>\n",
       "    </tr>\n",
       "    <tr>\n",
       "      <th>2</th>\n",
       "      <td>0.0</td>\n",
       "      <td>0.0</td>\n",
       "    </tr>\n",
       "    <tr>\n",
       "      <th>3</th>\n",
       "      <td>0.0</td>\n",
       "      <td>0.0</td>\n",
       "    </tr>\n",
       "  </tbody>\n",
       "</table>\n",
       "</div>"
      ],
      "text/plain": [
       "   steer  throttle\n",
       "1    0.0       0.0\n",
       "2    0.0       0.0\n",
       "3    0.0       0.0"
      ]
     },
     "execution_count": 73,
     "metadata": {},
     "output_type": "execute_result"
    }
   ],
   "source": [
    "def get_y_pred_columns():\n",
    "    return ['steer', 'throttle']#, 'boost_active', 'handbrake', 'jump_active', 'double_jump_active', 'dodge_active']\n",
    "\n",
    "y = y_full[get_y_pred_columns()]\n",
    "y.head(3)"
   ]
  },
  {
   "cell_type": "code",
   "execution_count": 74,
   "metadata": {},
   "outputs": [
    {
     "data": {
      "text/html": [
       "<div>\n",
       "<style scoped>\n",
       "    .dataframe tbody tr th:only-of-type {\n",
       "        vertical-align: middle;\n",
       "    }\n",
       "\n",
       "    .dataframe tbody tr th {\n",
       "        vertical-align: top;\n",
       "    }\n",
       "\n",
       "    .dataframe thead th {\n",
       "        text-align: right;\n",
       "    }\n",
       "</style>\n",
       "<table border=\"1\" class=\"dataframe\">\n",
       "  <thead>\n",
       "    <tr style=\"text-align: right;\">\n",
       "      <th></th>\n",
       "      <th>boost</th>\n",
       "      <th>active</th>\n",
       "      <th>vel_x</th>\n",
       "      <th>vel_y</th>\n",
       "      <th>vel_z</th>\n",
       "      <th>jump_active</th>\n",
       "      <th>dodge_active</th>\n",
       "      <th>ball_dist</th>\n",
       "      <th>angle_to_face_ball</th>\n",
       "      <th>angle_to_move_to_ball</th>\n",
       "      <th>opposing_goal_x</th>\n",
       "      <th>opposing_goal_y</th>\n",
       "      <th>opposing_goal_z</th>\n",
       "      <th>pos_x</th>\n",
       "      <th>pos_y</th>\n",
       "      <th>pos_z</th>\n",
       "      <th>vel_x_op1</th>\n",
       "      <th>vel_y_op1</th>\n",
       "      <th>vel_z_op1</th>\n",
       "      <th>vel_x_ball</th>\n",
       "      <th>vel_y_ball</th>\n",
       "      <th>vel_z_ball</th>\n",
       "      <th>pos_z_ball</th>\n",
       "      <th>map</th>\n",
       "      <th>team</th>\n",
       "    </tr>\n",
       "  </thead>\n",
       "  <tbody>\n",
       "    <tr>\n",
       "      <th>1</th>\n",
       "      <td>0.333333</td>\n",
       "      <td>0.0</td>\n",
       "      <td>0.511038</td>\n",
       "      <td>0.500762</td>\n",
       "      <td>0.412835</td>\n",
       "      <td>0.0</td>\n",
       "      <td>0.0</td>\n",
       "      <td>0.483498</td>\n",
       "      <td>0.535974</td>\n",
       "      <td>0.468108</td>\n",
       "      <td>0.520464</td>\n",
       "      <td>0.166431</td>\n",
       "      <td>0.991607</td>\n",
       "      <td>0.392922</td>\n",
       "      <td>0.110689</td>\n",
       "      <td>0.435351</td>\n",
       "      <td>0.530336</td>\n",
       "      <td>0.480822</td>\n",
       "      <td>0.483624</td>\n",
       "      <td>0.527998</td>\n",
       "      <td>0.457423</td>\n",
       "      <td>0.449038</td>\n",
       "      <td>0.005829</td>\n",
       "      <td>0.333333</td>\n",
       "      <td>1</td>\n",
       "    </tr>\n",
       "    <tr>\n",
       "      <th>2</th>\n",
       "      <td>0.333333</td>\n",
       "      <td>0.0</td>\n",
       "      <td>0.511038</td>\n",
       "      <td>0.500762</td>\n",
       "      <td>0.412835</td>\n",
       "      <td>0.0</td>\n",
       "      <td>0.0</td>\n",
       "      <td>0.483498</td>\n",
       "      <td>0.535974</td>\n",
       "      <td>0.468108</td>\n",
       "      <td>0.520464</td>\n",
       "      <td>0.166431</td>\n",
       "      <td>0.991607</td>\n",
       "      <td>0.392922</td>\n",
       "      <td>0.110689</td>\n",
       "      <td>0.435351</td>\n",
       "      <td>0.530336</td>\n",
       "      <td>0.480822</td>\n",
       "      <td>0.483624</td>\n",
       "      <td>0.527998</td>\n",
       "      <td>0.457423</td>\n",
       "      <td>0.449038</td>\n",
       "      <td>0.005829</td>\n",
       "      <td>0.333333</td>\n",
       "      <td>1</td>\n",
       "    </tr>\n",
       "    <tr>\n",
       "      <th>3</th>\n",
       "      <td>0.333333</td>\n",
       "      <td>0.0</td>\n",
       "      <td>0.511038</td>\n",
       "      <td>0.500762</td>\n",
       "      <td>0.412835</td>\n",
       "      <td>0.0</td>\n",
       "      <td>0.0</td>\n",
       "      <td>0.483498</td>\n",
       "      <td>0.535974</td>\n",
       "      <td>0.468108</td>\n",
       "      <td>0.520464</td>\n",
       "      <td>0.166431</td>\n",
       "      <td>0.991607</td>\n",
       "      <td>0.392922</td>\n",
       "      <td>0.110689</td>\n",
       "      <td>0.435351</td>\n",
       "      <td>0.530336</td>\n",
       "      <td>0.480822</td>\n",
       "      <td>0.483624</td>\n",
       "      <td>0.527998</td>\n",
       "      <td>0.457423</td>\n",
       "      <td>0.449038</td>\n",
       "      <td>0.005829</td>\n",
       "      <td>0.333333</td>\n",
       "      <td>1</td>\n",
       "    </tr>\n",
       "  </tbody>\n",
       "</table>\n",
       "</div>"
      ],
      "text/plain": [
       "      boost  active     vel_x     vel_y     vel_z  jump_active  dodge_active  \\\n",
       "1  0.333333     0.0  0.511038  0.500762  0.412835          0.0           0.0   \n",
       "2  0.333333     0.0  0.511038  0.500762  0.412835          0.0           0.0   \n",
       "3  0.333333     0.0  0.511038  0.500762  0.412835          0.0           0.0   \n",
       "\n",
       "   ball_dist  angle_to_face_ball  angle_to_move_to_ball  opposing_goal_x  \\\n",
       "1   0.483498            0.535974               0.468108         0.520464   \n",
       "2   0.483498            0.535974               0.468108         0.520464   \n",
       "3   0.483498            0.535974               0.468108         0.520464   \n",
       "\n",
       "   opposing_goal_y  opposing_goal_z     pos_x     pos_y     pos_z  vel_x_op1  \\\n",
       "1         0.166431         0.991607  0.392922  0.110689  0.435351   0.530336   \n",
       "2         0.166431         0.991607  0.392922  0.110689  0.435351   0.530336   \n",
       "3         0.166431         0.991607  0.392922  0.110689  0.435351   0.530336   \n",
       "\n",
       "   vel_y_op1  vel_z_op1  vel_x_ball  vel_y_ball  vel_z_ball  pos_z_ball  \\\n",
       "1   0.480822   0.483624    0.527998    0.457423    0.449038    0.005829   \n",
       "2   0.480822   0.483624    0.527998    0.457423    0.449038    0.005829   \n",
       "3   0.480822   0.483624    0.527998    0.457423    0.449038    0.005829   \n",
       "\n",
       "        map  team  \n",
       "1  0.333333     1  \n",
       "2  0.333333     1  \n",
       "3  0.333333     1  "
      ]
     },
     "execution_count": 74,
     "metadata": {},
     "output_type": "execute_result"
    }
   ],
   "source": [
    "X = X_full[X_full.columns]\n",
    "X.head(3)"
   ]
  },
  {
   "cell_type": "code",
   "execution_count": 75,
   "metadata": {
    "colab": {
     "base_uri": "https://localhost:8080/",
     "height": 317
    },
    "colab_type": "code",
    "id": "zubzoYJshQGG",
    "outputId": "ba73ca60-45d5-445b-fae6-7f1351ff2152"
   },
   "outputs": [
    {
     "data": {
      "text/html": [
       "<div>\n",
       "<style scoped>\n",
       "    .dataframe tbody tr th:only-of-type {\n",
       "        vertical-align: middle;\n",
       "    }\n",
       "\n",
       "    .dataframe tbody tr th {\n",
       "        vertical-align: top;\n",
       "    }\n",
       "\n",
       "    .dataframe thead th {\n",
       "        text-align: right;\n",
       "    }\n",
       "</style>\n",
       "<table border=\"1\" class=\"dataframe\">\n",
       "  <thead>\n",
       "    <tr style=\"text-align: right;\">\n",
       "      <th></th>\n",
       "      <th>boost</th>\n",
       "      <th>active</th>\n",
       "      <th>vel_x</th>\n",
       "      <th>vel_y</th>\n",
       "      <th>vel_z</th>\n",
       "      <th>jump_active</th>\n",
       "      <th>dodge_active</th>\n",
       "      <th>ball_dist</th>\n",
       "      <th>angle_to_face_ball</th>\n",
       "      <th>angle_to_move_to_ball</th>\n",
       "      <th>opposing_goal_x</th>\n",
       "      <th>opposing_goal_y</th>\n",
       "      <th>opposing_goal_z</th>\n",
       "      <th>pos_x</th>\n",
       "      <th>pos_y</th>\n",
       "      <th>pos_z</th>\n",
       "      <th>vel_x_op1</th>\n",
       "      <th>vel_y_op1</th>\n",
       "      <th>vel_z_op1</th>\n",
       "      <th>vel_x_ball</th>\n",
       "      <th>vel_y_ball</th>\n",
       "      <th>vel_z_ball</th>\n",
       "      <th>pos_z_ball</th>\n",
       "      <th>map</th>\n",
       "      <th>team</th>\n",
       "    </tr>\n",
       "  </thead>\n",
       "  <tbody>\n",
       "    <tr>\n",
       "      <th>count</th>\n",
       "      <td>811120.000000</td>\n",
       "      <td>811120.00000</td>\n",
       "      <td>811120.000000</td>\n",
       "      <td>811120.000000</td>\n",
       "      <td>811120.000000</td>\n",
       "      <td>811120.000000</td>\n",
       "      <td>811120.000000</td>\n",
       "      <td>811120.000000</td>\n",
       "      <td>811120.000000</td>\n",
       "      <td>811120.000000</td>\n",
       "      <td>811120.000000</td>\n",
       "      <td>811120.000000</td>\n",
       "      <td>811120.000000</td>\n",
       "      <td>811120.000000</td>\n",
       "      <td>811120.000000</td>\n",
       "      <td>811120.000000</td>\n",
       "      <td>811120.000000</td>\n",
       "      <td>811120.000000</td>\n",
       "      <td>811120.000000</td>\n",
       "      <td>811120.000000</td>\n",
       "      <td>811120.000000</td>\n",
       "      <td>811120.000000</td>\n",
       "      <td>811120.000000</td>\n",
       "      <td>811120.000000</td>\n",
       "      <td>811120.0</td>\n",
       "    </tr>\n",
       "    <tr>\n",
       "      <th>mean</th>\n",
       "      <td>0.385731</td>\n",
       "      <td>0.91258</td>\n",
       "      <td>0.500186</td>\n",
       "      <td>0.499072</td>\n",
       "      <td>0.462706</td>\n",
       "      <td>0.029087</td>\n",
       "      <td>0.137353</td>\n",
       "      <td>0.213391</td>\n",
       "      <td>0.505414</td>\n",
       "      <td>0.500883</td>\n",
       "      <td>0.507002</td>\n",
       "      <td>0.501769</td>\n",
       "      <td>0.932752</td>\n",
       "      <td>0.500000</td>\n",
       "      <td>0.500000</td>\n",
       "      <td>0.500000</td>\n",
       "      <td>0.500000</td>\n",
       "      <td>0.500000</td>\n",
       "      <td>0.500000</td>\n",
       "      <td>0.494089</td>\n",
       "      <td>0.513899</td>\n",
       "      <td>0.473666</td>\n",
       "      <td>0.155582</td>\n",
       "      <td>0.472188</td>\n",
       "      <td>0.5</td>\n",
       "    </tr>\n",
       "    <tr>\n",
       "      <th>std</th>\n",
       "      <td>0.323856</td>\n",
       "      <td>0.28245</td>\n",
       "      <td>0.207561</td>\n",
       "      <td>0.254110</td>\n",
       "      <td>0.097704</td>\n",
       "      <td>0.168050</td>\n",
       "      <td>0.344220</td>\n",
       "      <td>0.186016</td>\n",
       "      <td>0.158712</td>\n",
       "      <td>0.168393</td>\n",
       "      <td>0.259100</td>\n",
       "      <td>0.273998</td>\n",
       "      <td>0.136307</td>\n",
       "      <td>0.149923</td>\n",
       "      <td>0.195453</td>\n",
       "      <td>0.118070</td>\n",
       "      <td>0.142755</td>\n",
       "      <td>0.155153</td>\n",
       "      <td>0.102245</td>\n",
       "      <td>0.135605</td>\n",
       "      <td>0.161771</td>\n",
       "      <td>0.116013</td>\n",
       "      <td>0.206502</td>\n",
       "      <td>0.280595</td>\n",
       "      <td>0.5</td>\n",
       "    </tr>\n",
       "    <tr>\n",
       "      <th>min</th>\n",
       "      <td>0.000000</td>\n",
       "      <td>0.00000</td>\n",
       "      <td>0.000000</td>\n",
       "      <td>0.000000</td>\n",
       "      <td>0.000000</td>\n",
       "      <td>0.000000</td>\n",
       "      <td>0.000000</td>\n",
       "      <td>0.000000</td>\n",
       "      <td>0.000000</td>\n",
       "      <td>0.000000</td>\n",
       "      <td>0.000000</td>\n",
       "      <td>0.000000</td>\n",
       "      <td>0.000000</td>\n",
       "      <td>0.000000</td>\n",
       "      <td>0.000000</td>\n",
       "      <td>0.000000</td>\n",
       "      <td>0.000000</td>\n",
       "      <td>0.000000</td>\n",
       "      <td>0.000000</td>\n",
       "      <td>0.000000</td>\n",
       "      <td>0.000000</td>\n",
       "      <td>0.000000</td>\n",
       "      <td>0.000000</td>\n",
       "      <td>0.037037</td>\n",
       "      <td>0.0</td>\n",
       "    </tr>\n",
       "    <tr>\n",
       "      <th>25%</th>\n",
       "      <td>0.121569</td>\n",
       "      <td>1.00000</td>\n",
       "      <td>0.368016</td>\n",
       "      <td>0.321417</td>\n",
       "      <td>0.409851</td>\n",
       "      <td>0.000000</td>\n",
       "      <td>0.000000</td>\n",
       "      <td>0.058827</td>\n",
       "      <td>0.438414</td>\n",
       "      <td>0.416227</td>\n",
       "      <td>0.312624</td>\n",
       "      <td>0.262878</td>\n",
       "      <td>0.945071</td>\n",
       "      <td>0.425624</td>\n",
       "      <td>0.373460</td>\n",
       "      <td>0.445216</td>\n",
       "      <td>0.424515</td>\n",
       "      <td>0.419390</td>\n",
       "      <td>0.450115</td>\n",
       "      <td>0.423071</td>\n",
       "      <td>0.395863</td>\n",
       "      <td>0.417656</td>\n",
       "      <td>0.006437</td>\n",
       "      <td>0.259259</td>\n",
       "      <td>0.0</td>\n",
       "    </tr>\n",
       "    <tr>\n",
       "      <th>50%</th>\n",
       "      <td>0.333333</td>\n",
       "      <td>1.00000</td>\n",
       "      <td>0.499949</td>\n",
       "      <td>0.500005</td>\n",
       "      <td>0.457185</td>\n",
       "      <td>0.000000</td>\n",
       "      <td>0.000000</td>\n",
       "      <td>0.153613</td>\n",
       "      <td>0.505710</td>\n",
       "      <td>0.500913</td>\n",
       "      <td>0.500188</td>\n",
       "      <td>0.499810</td>\n",
       "      <td>0.987070</td>\n",
       "      <td>0.500000</td>\n",
       "      <td>0.500000</td>\n",
       "      <td>0.500000</td>\n",
       "      <td>0.500000</td>\n",
       "      <td>0.500000</td>\n",
       "      <td>0.500000</td>\n",
       "      <td>0.493417</td>\n",
       "      <td>0.508469</td>\n",
       "      <td>0.472966</td>\n",
       "      <td>0.066037</td>\n",
       "      <td>0.407407</td>\n",
       "      <td>0.5</td>\n",
       "    </tr>\n",
       "    <tr>\n",
       "      <th>75%</th>\n",
       "      <td>0.650980</td>\n",
       "      <td>1.00000</td>\n",
       "      <td>0.631616</td>\n",
       "      <td>0.677161</td>\n",
       "      <td>0.510748</td>\n",
       "      <td>0.000000</td>\n",
       "      <td>0.000000</td>\n",
       "      <td>0.345221</td>\n",
       "      <td>0.569610</td>\n",
       "      <td>0.575077</td>\n",
       "      <td>0.711270</td>\n",
       "      <td>0.745103</td>\n",
       "      <td>0.991302</td>\n",
       "      <td>0.574376</td>\n",
       "      <td>0.626540</td>\n",
       "      <td>0.554784</td>\n",
       "      <td>0.575485</td>\n",
       "      <td>0.580610</td>\n",
       "      <td>0.549885</td>\n",
       "      <td>0.563929</td>\n",
       "      <td>0.634625</td>\n",
       "      <td>0.530585</td>\n",
       "      <td>0.220900</td>\n",
       "      <td>0.777778</td>\n",
       "      <td>1.0</td>\n",
       "    </tr>\n",
       "    <tr>\n",
       "      <th>max</th>\n",
       "      <td>1.000000</td>\n",
       "      <td>1.00000</td>\n",
       "      <td>1.000000</td>\n",
       "      <td>1.000000</td>\n",
       "      <td>1.000000</td>\n",
       "      <td>1.000000</td>\n",
       "      <td>1.000000</td>\n",
       "      <td>1.000000</td>\n",
       "      <td>1.000000</td>\n",
       "      <td>1.000000</td>\n",
       "      <td>1.000000</td>\n",
       "      <td>1.000000</td>\n",
       "      <td>1.000000</td>\n",
       "      <td>1.000000</td>\n",
       "      <td>1.000000</td>\n",
       "      <td>1.000000</td>\n",
       "      <td>1.000000</td>\n",
       "      <td>1.000000</td>\n",
       "      <td>1.000000</td>\n",
       "      <td>1.000000</td>\n",
       "      <td>1.000000</td>\n",
       "      <td>1.000000</td>\n",
       "      <td>1.000000</td>\n",
       "      <td>0.962963</td>\n",
       "      <td>1.0</td>\n",
       "    </tr>\n",
       "  </tbody>\n",
       "</table>\n",
       "</div>"
      ],
      "text/plain": [
       "               boost        active          vel_x          vel_y  \\\n",
       "count  811120.000000  811120.00000  811120.000000  811120.000000   \n",
       "mean        0.385731       0.91258       0.500186       0.499072   \n",
       "std         0.323856       0.28245       0.207561       0.254110   \n",
       "min         0.000000       0.00000       0.000000       0.000000   \n",
       "25%         0.121569       1.00000       0.368016       0.321417   \n",
       "50%         0.333333       1.00000       0.499949       0.500005   \n",
       "75%         0.650980       1.00000       0.631616       0.677161   \n",
       "max         1.000000       1.00000       1.000000       1.000000   \n",
       "\n",
       "               vel_z    jump_active   dodge_active      ball_dist  \\\n",
       "count  811120.000000  811120.000000  811120.000000  811120.000000   \n",
       "mean        0.462706       0.029087       0.137353       0.213391   \n",
       "std         0.097704       0.168050       0.344220       0.186016   \n",
       "min         0.000000       0.000000       0.000000       0.000000   \n",
       "25%         0.409851       0.000000       0.000000       0.058827   \n",
       "50%         0.457185       0.000000       0.000000       0.153613   \n",
       "75%         0.510748       0.000000       0.000000       0.345221   \n",
       "max         1.000000       1.000000       1.000000       1.000000   \n",
       "\n",
       "       angle_to_face_ball  angle_to_move_to_ball  opposing_goal_x  \\\n",
       "count       811120.000000          811120.000000    811120.000000   \n",
       "mean             0.505414               0.500883         0.507002   \n",
       "std              0.158712               0.168393         0.259100   \n",
       "min              0.000000               0.000000         0.000000   \n",
       "25%              0.438414               0.416227         0.312624   \n",
       "50%              0.505710               0.500913         0.500188   \n",
       "75%              0.569610               0.575077         0.711270   \n",
       "max              1.000000               1.000000         1.000000   \n",
       "\n",
       "       opposing_goal_y  opposing_goal_z          pos_x          pos_y  \\\n",
       "count    811120.000000    811120.000000  811120.000000  811120.000000   \n",
       "mean          0.501769         0.932752       0.500000       0.500000   \n",
       "std           0.273998         0.136307       0.149923       0.195453   \n",
       "min           0.000000         0.000000       0.000000       0.000000   \n",
       "25%           0.262878         0.945071       0.425624       0.373460   \n",
       "50%           0.499810         0.987070       0.500000       0.500000   \n",
       "75%           0.745103         0.991302       0.574376       0.626540   \n",
       "max           1.000000         1.000000       1.000000       1.000000   \n",
       "\n",
       "               pos_z      vel_x_op1      vel_y_op1      vel_z_op1  \\\n",
       "count  811120.000000  811120.000000  811120.000000  811120.000000   \n",
       "mean        0.500000       0.500000       0.500000       0.500000   \n",
       "std         0.118070       0.142755       0.155153       0.102245   \n",
       "min         0.000000       0.000000       0.000000       0.000000   \n",
       "25%         0.445216       0.424515       0.419390       0.450115   \n",
       "50%         0.500000       0.500000       0.500000       0.500000   \n",
       "75%         0.554784       0.575485       0.580610       0.549885   \n",
       "max         1.000000       1.000000       1.000000       1.000000   \n",
       "\n",
       "          vel_x_ball     vel_y_ball     vel_z_ball     pos_z_ball  \\\n",
       "count  811120.000000  811120.000000  811120.000000  811120.000000   \n",
       "mean        0.494089       0.513899       0.473666       0.155582   \n",
       "std         0.135605       0.161771       0.116013       0.206502   \n",
       "min         0.000000       0.000000       0.000000       0.000000   \n",
       "25%         0.423071       0.395863       0.417656       0.006437   \n",
       "50%         0.493417       0.508469       0.472966       0.066037   \n",
       "75%         0.563929       0.634625       0.530585       0.220900   \n",
       "max         1.000000       1.000000       1.000000       1.000000   \n",
       "\n",
       "                 map      team  \n",
       "count  811120.000000  811120.0  \n",
       "mean        0.472188       0.5  \n",
       "std         0.280595       0.5  \n",
       "min         0.037037       0.0  \n",
       "25%         0.259259       0.0  \n",
       "50%         0.407407       0.5  \n",
       "75%         0.777778       1.0  \n",
       "max         0.962963       1.0  "
      ]
     },
     "execution_count": 75,
     "metadata": {},
     "output_type": "execute_result"
    }
   ],
   "source": [
    "start = 300\n",
    "X.iloc[start:start + 20]\n",
    "X.describe()"
   ]
  },
  {
   "cell_type": "code",
   "execution_count": 76,
   "metadata": {
    "colab": {
     "base_uri": "https://localhost:8080/",
     "height": 1000
    },
    "colab_type": "code",
    "id": "iRnzzV4J6xw9",
    "outputId": "7a490498-7359-49ee-b29b-335afc8aa864"
   },
   "outputs": [
    {
     "data": {
      "text/plain": [
       "array([[<matplotlib.axes._subplots.AxesSubplot object at 0x7ff5d0ad26d8>,\n",
       "        <matplotlib.axes._subplots.AxesSubplot object at 0x7ff5d0a945f8>,\n",
       "        <matplotlib.axes._subplots.AxesSubplot object at 0x7ff5ce292470>,\n",
       "        <matplotlib.axes._subplots.AxesSubplot object at 0x7ff56c14f240>,\n",
       "        <matplotlib.axes._subplots.AxesSubplot object at 0x7ff56c168668>],\n",
       "       [<matplotlib.axes._subplots.AxesSubplot object at 0x7ff56c1a14a8>,\n",
       "        <matplotlib.axes._subplots.AxesSubplot object at 0x7ff57d429d68>,\n",
       "        <matplotlib.axes._subplots.AxesSubplot object at 0x7ff57d5a0f60>,\n",
       "        <matplotlib.axes._subplots.AxesSubplot object at 0x7ff57d5a0eb8>,\n",
       "        <matplotlib.axes._subplots.AxesSubplot object at 0x7ff24bcf0d30>],\n",
       "       [<matplotlib.axes._subplots.AxesSubplot object at 0x7ff24e99b320>,\n",
       "        <matplotlib.axes._subplots.AxesSubplot object at 0x7ff24ada68d0>,\n",
       "        <matplotlib.axes._subplots.AxesSubplot object at 0x7ff24e9f0e80>,\n",
       "        <matplotlib.axes._subplots.AxesSubplot object at 0x7ff24a7cf470>,\n",
       "        <matplotlib.axes._subplots.AxesSubplot object at 0x7ff24a7fea20>],\n",
       "       [<matplotlib.axes._subplots.AxesSubplot object at 0x7ff24eeabfd0>,\n",
       "        <matplotlib.axes._subplots.AxesSubplot object at 0x7ff24ed325c0>,\n",
       "        <matplotlib.axes._subplots.AxesSubplot object at 0x7ff24e5a4b70>,\n",
       "        <matplotlib.axes._subplots.AxesSubplot object at 0x7ff468061160>,\n",
       "        <matplotlib.axes._subplots.AxesSubplot object at 0x7ff24ad41710>],\n",
       "       [<matplotlib.axes._subplots.AxesSubplot object at 0x7ff24ad11cc0>,\n",
       "        <matplotlib.axes._subplots.AxesSubplot object at 0x7ff24ba972b0>,\n",
       "        <matplotlib.axes._subplots.AxesSubplot object at 0x7ff24ba9f860>,\n",
       "        <matplotlib.axes._subplots.AxesSubplot object at 0x7ff24ac55e10>,\n",
       "        <matplotlib.axes._subplots.AxesSubplot object at 0x7ff24cb484a8>]],\n",
       "      dtype=object)"
      ]
     },
     "execution_count": 76,
     "metadata": {},
     "output_type": "execute_result"
    },
    {
     "data": {
      "image/png": "[encoded data removed]",
      "text/plain": [
       "<Figure size 1440x864 with 25 Axes>"
      ]
     },
     "metadata": {
      "needs_background": "light"
     },
     "output_type": "display_data"
    }
   ],
   "source": [
    "X.hist(figsize=(20, 12))"
   ]
  },
  {
   "cell_type": "code",
   "execution_count": 77,
   "metadata": {
    "colab": {
     "base_uri": "https://localhost:8080/",
     "height": 170
    },
    "colab_type": "code",
    "id": "qWbkLtb5l31I",
    "outputId": "f470281f-6488-4c68-b2ee-1779ee474172"
   },
   "outputs": [
    {
     "name": "stdout",
     "output_type": "stream",
     "text": [
      "(771120, 25)\n",
      "(20000, 25)\n",
      "(20000, 25)\n",
      "(771120, 2)\n",
      "(20000, 2)\n",
      "(20000, 2)\n",
      "811120\n",
      "811120\n",
      "We have 811120 rows in X. We have 811120 in all sub-matrices combined (which should be the same).\n"
     ]
    }
   ],
   "source": [
    "def take_sample(X, y, quantity):\n",
    "  if quantity == None: return X, y\n",
    "  return X[0:quantity], y[0:quantity]\n",
    "\n",
    "\n",
    "# def split_data(dataframe, shuffle=True, max_val_size=20000, max_test_size=20000):\n",
    "#   '''\n",
    "#   Returns the data split into train, val, and test sets.\n",
    "#   '''\n",
    "#   if shuffle:\n",
    "#     dataframe = dataframe.sample(frac=1)\n",
    "#   m = shuffled.shape[0]\n",
    "#   size_val_set = min(int(m * 0.2), max_val_size)\n",
    "#   size_test_set = min(int(m * 0.2), max_test_size)\n",
    "#   end_test_set = size_val_set + size_test_set\n",
    "\n",
    "#   val_set = dataframe[0:size_val_set]\n",
    "#   test_set = dataframe[size_val_set:end_test_set]\n",
    "#   train_set = dataframe[end_test_set:]\n",
    "#   return train_set, val_set, test_set\n",
    "\n",
    "# X_train, X_val, X_test = split_data(X, shuffle=False)\n",
    "\n",
    "X_shuffled = X#.sample(frac=1)\n",
    "y_shuffled = y#.sample(frac=1)\n",
    "assert X_shuffled.shape[0] == y_shuffled.shape[0], f\"X has {X_shuffled.shape[0]} rows, but y has {y_shuffled.shape[0]}.\"\n",
    "# X_shuffled, y_shuffled = take_sample(X_shuffled, y_shuffled, 3000)\n",
    "m = X_shuffled.shape[0]\n",
    "\n",
    "size_val_set = min(int(m * 0.2), 20000)\n",
    "size_test_set = min(int(m * 0.2), 20000)\n",
    "end_test_set = size_val_set + size_test_set\n",
    "X_val = X_shuffled[0:size_val_set]\n",
    "y_val = y_shuffled[0:size_val_set]\n",
    "X_test = X_shuffled[size_val_set:end_test_set]\n",
    "y_test = y_shuffled[size_val_set:end_test_set]\n",
    "X_train = X_shuffled[end_test_set:]\n",
    "y_train = y_shuffled[end_test_set:]\n",
    "\n",
    "print(X_train.shape)\n",
    "print(X_val.shape)\n",
    "print(X_test.shape)\n",
    "\n",
    "print(y_train.shape)\n",
    "print(y_val.shape)\n",
    "print(y_test.shape)\n",
    "\n",
    "sum_rows = X_train.shape[0] + X_val.shape[0] + X_test.shape[0]\n",
    "print(X_train.shape[0] + X_val.shape[0] + X_test.shape[0])\n",
    "print(X.shape[0])\n",
    "print(f\"We have {X_shuffled.shape[0]} rows in X. We have {sum_rows} in all sub-matrices combined (which should be the same).\")\n",
    "assert(sum_rows == X_shuffled.shape[0])\n",
    "assert(X_train.shape[0] == y_train.shape[0])"
   ]
  },
  {
   "cell_type": "code",
   "execution_count": 78,
   "metadata": {
    "colab": {
     "base_uri": "https://localhost:8080/",
     "height": 100
    },
    "colab_type": "code",
    "id": "L-bQPIIMxWl_",
    "outputId": "b3c87cb9-0f32-428c-dd46-974e3a70c2f1"
   },
   "outputs": [
    {
     "data": {
      "text/html": [
       "<div>\n",
       "<style scoped>\n",
       "    .dataframe tbody tr th:only-of-type {\n",
       "        vertical-align: middle;\n",
       "    }\n",
       "\n",
       "    .dataframe tbody tr th {\n",
       "        vertical-align: top;\n",
       "    }\n",
       "\n",
       "    .dataframe thead th {\n",
       "        text-align: right;\n",
       "    }\n",
       "</style>\n",
       "<table border=\"1\" class=\"dataframe\">\n",
       "  <thead>\n",
       "    <tr style=\"text-align: right;\">\n",
       "      <th></th>\n",
       "      <th>boost</th>\n",
       "      <th>active</th>\n",
       "      <th>vel_x</th>\n",
       "      <th>vel_y</th>\n",
       "      <th>vel_z</th>\n",
       "      <th>jump_active</th>\n",
       "      <th>dodge_active</th>\n",
       "      <th>ball_dist</th>\n",
       "      <th>angle_to_face_ball</th>\n",
       "      <th>angle_to_move_to_ball</th>\n",
       "      <th>opposing_goal_x</th>\n",
       "      <th>opposing_goal_y</th>\n",
       "      <th>opposing_goal_z</th>\n",
       "      <th>pos_x</th>\n",
       "      <th>pos_y</th>\n",
       "      <th>pos_z</th>\n",
       "      <th>vel_x_op1</th>\n",
       "      <th>vel_y_op1</th>\n",
       "      <th>vel_z_op1</th>\n",
       "      <th>vel_x_ball</th>\n",
       "      <th>vel_y_ball</th>\n",
       "      <th>vel_z_ball</th>\n",
       "      <th>pos_z_ball</th>\n",
       "      <th>map</th>\n",
       "      <th>team</th>\n",
       "    </tr>\n",
       "  </thead>\n",
       "  <tbody>\n",
       "    <tr>\n",
       "      <th>1</th>\n",
       "      <td>0.333333</td>\n",
       "      <td>0.0</td>\n",
       "      <td>0.511038</td>\n",
       "      <td>0.500762</td>\n",
       "      <td>0.412835</td>\n",
       "      <td>0.0</td>\n",
       "      <td>0.0</td>\n",
       "      <td>0.483498</td>\n",
       "      <td>0.535974</td>\n",
       "      <td>0.468108</td>\n",
       "      <td>0.520464</td>\n",
       "      <td>0.166431</td>\n",
       "      <td>0.991607</td>\n",
       "      <td>0.392922</td>\n",
       "      <td>0.110689</td>\n",
       "      <td>0.435351</td>\n",
       "      <td>0.530336</td>\n",
       "      <td>0.480822</td>\n",
       "      <td>0.483624</td>\n",
       "      <td>0.527998</td>\n",
       "      <td>0.457423</td>\n",
       "      <td>0.449038</td>\n",
       "      <td>0.005829</td>\n",
       "      <td>0.333333</td>\n",
       "      <td>1</td>\n",
       "    </tr>\n",
       "  </tbody>\n",
       "</table>\n",
       "</div>"
      ],
      "text/plain": [
       "      boost  active     vel_x     vel_y     vel_z  jump_active  dodge_active  \\\n",
       "1  0.333333     0.0  0.511038  0.500762  0.412835          0.0           0.0   \n",
       "\n",
       "   ball_dist  angle_to_face_ball  angle_to_move_to_ball  opposing_goal_x  \\\n",
       "1   0.483498            0.535974               0.468108         0.520464   \n",
       "\n",
       "   opposing_goal_y  opposing_goal_z     pos_x     pos_y     pos_z  vel_x_op1  \\\n",
       "1         0.166431         0.991607  0.392922  0.110689  0.435351   0.530336   \n",
       "\n",
       "   vel_y_op1  vel_z_op1  vel_x_ball  vel_y_ball  vel_z_ball  pos_z_ball  \\\n",
       "1   0.480822   0.483624    0.527998    0.457423    0.449038    0.005829   \n",
       "\n",
       "        map  team  \n",
       "1  0.333333     1  "
      ]
     },
     "execution_count": 78,
     "metadata": {},
     "output_type": "execute_result"
    }
   ],
   "source": [
    "X.head(1)"
   ]
  },
  {
   "cell_type": "code",
   "execution_count": 79,
   "metadata": {
    "colab": {
     "base_uri": "https://localhost:8080/",
     "height": 80
    },
    "colab_type": "code",
    "id": "dLcSKiUdxyCP",
    "outputId": "80bb9730-1030-4f63-b8fe-6f3275a794db"
   },
   "outputs": [
    {
     "data": {
      "text/html": [
       "<div>\n",
       "<style scoped>\n",
       "    .dataframe tbody tr th:only-of-type {\n",
       "        vertical-align: middle;\n",
       "    }\n",
       "\n",
       "    .dataframe tbody tr th {\n",
       "        vertical-align: top;\n",
       "    }\n",
       "\n",
       "    .dataframe thead th {\n",
       "        text-align: right;\n",
       "    }\n",
       "</style>\n",
       "<table border=\"1\" class=\"dataframe\">\n",
       "  <thead>\n",
       "    <tr style=\"text-align: right;\">\n",
       "      <th></th>\n",
       "      <th>steer</th>\n",
       "      <th>throttle</th>\n",
       "    </tr>\n",
       "  </thead>\n",
       "  <tbody>\n",
       "    <tr>\n",
       "      <th>1</th>\n",
       "      <td>0.0</td>\n",
       "      <td>0.0</td>\n",
       "    </tr>\n",
       "  </tbody>\n",
       "</table>\n",
       "</div>"
      ],
      "text/plain": [
       "   steer  throttle\n",
       "1    0.0       0.0"
      ]
     },
     "execution_count": 79,
     "metadata": {},
     "output_type": "execute_result"
    }
   ],
   "source": [
    "y.head(1)"
   ]
  },
  {
   "cell_type": "markdown",
   "metadata": {
    "colab_type": "text",
    "id": "VZ9JLpxul31K"
   },
   "source": [
    "## Distributions of controller inputs"
   ]
  },
  {
   "cell_type": "code",
   "execution_count": 80,
   "metadata": {
    "colab": {
     "base_uri": "https://localhost:8080/",
     "height": 550
    },
    "colab_type": "code",
    "id": "0boYgE0Hl31L",
    "outputId": "fc4388b6-86d7-4004-de47-0c4aa3759a93",
    "scrolled": false
   },
   "outputs": [
    {
     "data": {
      "text/plain": [
       "array([[<matplotlib.axes._subplots.AxesSubplot object at 0x7ff24edc1828>,\n",
       "        <matplotlib.axes._subplots.AxesSubplot object at 0x7ff24edd66a0>]],\n",
       "      dtype=object)"
      ]
     },
     "execution_count": 80,
     "metadata": {},
     "output_type": "execute_result"
    },
    {
     "data": {
      "image/png": "[encoded data removed]",
      "text/plain": [
       "<Figure size 864x576 with 2 Axes>"
      ]
     },
     "metadata": {
      "needs_background": "light"
     },
     "output_type": "display_data"
    }
   ],
   "source": [
    "y.hist(figsize=(12, 8))"
   ]
  },
  {
   "cell_type": "code",
   "execution_count": 81,
   "metadata": {
    "colab": {
     "base_uri": "https://localhost:8080/",
     "height": 34
    },
    "colab_type": "code",
    "id": "NOlDWFQjr_U5",
    "outputId": "78df6290-24ad-460a-ad47-b1beb160f250"
   },
   "outputs": [
    {
     "data": {
      "text/plain": [
       "Series([], dtype: bool)"
      ]
     },
     "execution_count": 81,
     "metadata": {},
     "output_type": "execute_result"
    }
   ],
   "source": [
    "x_nulls = X.isnull().any()\n",
    "x_nulls[x_nulls == True]"
   ]
  },
  {
   "cell_type": "code",
   "execution_count": 82,
   "metadata": {
    "colab": {
     "base_uri": "https://localhost:8080/",
     "height": 317
    },
    "colab_type": "code",
    "id": "wPisg3jC2U3j",
    "outputId": "a90d0090-e1ef-4178-f0c7-b725536fe2c7"
   },
   "outputs": [
    {
     "data": {
      "text/html": [
       "<div>\n",
       "<style scoped>\n",
       "    .dataframe tbody tr th:only-of-type {\n",
       "        vertical-align: middle;\n",
       "    }\n",
       "\n",
       "    .dataframe tbody tr th {\n",
       "        vertical-align: top;\n",
       "    }\n",
       "\n",
       "    .dataframe thead th {\n",
       "        text-align: right;\n",
       "    }\n",
       "</style>\n",
       "<table border=\"1\" class=\"dataframe\">\n",
       "  <thead>\n",
       "    <tr style=\"text-align: right;\">\n",
       "      <th></th>\n",
       "      <th>boost</th>\n",
       "      <th>active</th>\n",
       "      <th>vel_x</th>\n",
       "      <th>vel_y</th>\n",
       "      <th>vel_z</th>\n",
       "      <th>jump_active</th>\n",
       "      <th>dodge_active</th>\n",
       "      <th>ball_dist</th>\n",
       "      <th>angle_to_face_ball</th>\n",
       "      <th>angle_to_move_to_ball</th>\n",
       "      <th>opposing_goal_x</th>\n",
       "      <th>opposing_goal_y</th>\n",
       "      <th>opposing_goal_z</th>\n",
       "      <th>pos_x</th>\n",
       "      <th>pos_y</th>\n",
       "      <th>pos_z</th>\n",
       "      <th>vel_x_op1</th>\n",
       "      <th>vel_y_op1</th>\n",
       "      <th>vel_z_op1</th>\n",
       "      <th>vel_x_ball</th>\n",
       "      <th>vel_y_ball</th>\n",
       "      <th>vel_z_ball</th>\n",
       "      <th>pos_z_ball</th>\n",
       "      <th>map</th>\n",
       "      <th>team</th>\n",
       "    </tr>\n",
       "  </thead>\n",
       "  <tbody>\n",
       "    <tr>\n",
       "      <th>count</th>\n",
       "      <td>771120.000000</td>\n",
       "      <td>771120.000000</td>\n",
       "      <td>771120.000000</td>\n",
       "      <td>771120.000000</td>\n",
       "      <td>771120.000000</td>\n",
       "      <td>771120.000000</td>\n",
       "      <td>771120.000000</td>\n",
       "      <td>771120.000000</td>\n",
       "      <td>771120.000000</td>\n",
       "      <td>771120.000000</td>\n",
       "      <td>771120.000000</td>\n",
       "      <td>771120.000000</td>\n",
       "      <td>771120.000000</td>\n",
       "      <td>771120.000000</td>\n",
       "      <td>771120.000000</td>\n",
       "      <td>771120.000000</td>\n",
       "      <td>771120.000000</td>\n",
       "      <td>771120.000000</td>\n",
       "      <td>771120.000000</td>\n",
       "      <td>771120.000000</td>\n",
       "      <td>771120.000000</td>\n",
       "      <td>771120.000000</td>\n",
       "      <td>771120.000000</td>\n",
       "      <td>771120.000000</td>\n",
       "      <td>771120.000000</td>\n",
       "    </tr>\n",
       "    <tr>\n",
       "      <th>mean</th>\n",
       "      <td>0.386018</td>\n",
       "      <td>0.913261</td>\n",
       "      <td>0.499645</td>\n",
       "      <td>0.499507</td>\n",
       "      <td>0.463802</td>\n",
       "      <td>0.029102</td>\n",
       "      <td>0.136804</td>\n",
       "      <td>0.213243</td>\n",
       "      <td>0.505201</td>\n",
       "      <td>0.501281</td>\n",
       "      <td>0.508388</td>\n",
       "      <td>0.501466</td>\n",
       "      <td>0.932953</td>\n",
       "      <td>0.500061</td>\n",
       "      <td>0.499964</td>\n",
       "      <td>0.499540</td>\n",
       "      <td>0.499988</td>\n",
       "      <td>0.499882</td>\n",
       "      <td>0.500011</td>\n",
       "      <td>0.495588</td>\n",
       "      <td>0.514333</td>\n",
       "      <td>0.473023</td>\n",
       "      <td>0.155187</td>\n",
       "      <td>0.477639</td>\n",
       "      <td>0.495597</td>\n",
       "    </tr>\n",
       "    <tr>\n",
       "      <th>std</th>\n",
       "      <td>0.323654</td>\n",
       "      <td>0.281452</td>\n",
       "      <td>0.207468</td>\n",
       "      <td>0.253938</td>\n",
       "      <td>0.097744</td>\n",
       "      <td>0.168092</td>\n",
       "      <td>0.343640</td>\n",
       "      <td>0.186097</td>\n",
       "      <td>0.158555</td>\n",
       "      <td>0.168315</td>\n",
       "      <td>0.259159</td>\n",
       "      <td>0.274306</td>\n",
       "      <td>0.135874</td>\n",
       "      <td>0.149675</td>\n",
       "      <td>0.195273</td>\n",
       "      <td>0.117649</td>\n",
       "      <td>0.143347</td>\n",
       "      <td>0.155435</td>\n",
       "      <td>0.102625</td>\n",
       "      <td>0.135497</td>\n",
       "      <td>0.162520</td>\n",
       "      <td>0.116076</td>\n",
       "      <td>0.206089</td>\n",
       "      <td>0.284350</td>\n",
       "      <td>0.499981</td>\n",
       "    </tr>\n",
       "    <tr>\n",
       "      <th>min</th>\n",
       "      <td>0.000000</td>\n",
       "      <td>0.000000</td>\n",
       "      <td>0.000000</td>\n",
       "      <td>0.000000</td>\n",
       "      <td>0.000000</td>\n",
       "      <td>0.000000</td>\n",
       "      <td>0.000000</td>\n",
       "      <td>0.000000</td>\n",
       "      <td>0.000000</td>\n",
       "      <td>0.000000</td>\n",
       "      <td>0.000000</td>\n",
       "      <td>0.000000</td>\n",
       "      <td>0.000000</td>\n",
       "      <td>0.000000</td>\n",
       "      <td>0.000000</td>\n",
       "      <td>0.000000</td>\n",
       "      <td>0.000000</td>\n",
       "      <td>0.000000</td>\n",
       "      <td>0.000000</td>\n",
       "      <td>0.000000</td>\n",
       "      <td>0.000000</td>\n",
       "      <td>0.000000</td>\n",
       "      <td>0.000000</td>\n",
       "      <td>0.037037</td>\n",
       "      <td>0.000000</td>\n",
       "    </tr>\n",
       "    <tr>\n",
       "      <th>25%</th>\n",
       "      <td>0.121569</td>\n",
       "      <td>1.000000</td>\n",
       "      <td>0.367292</td>\n",
       "      <td>0.322151</td>\n",
       "      <td>0.411163</td>\n",
       "      <td>0.000000</td>\n",
       "      <td>0.000000</td>\n",
       "      <td>0.058845</td>\n",
       "      <td>0.437991</td>\n",
       "      <td>0.416648</td>\n",
       "      <td>0.314565</td>\n",
       "      <td>0.262109</td>\n",
       "      <td>0.945177</td>\n",
       "      <td>0.425532</td>\n",
       "      <td>0.374262</td>\n",
       "      <td>0.447739</td>\n",
       "      <td>0.423628</td>\n",
       "      <td>0.418983</td>\n",
       "      <td>0.448672</td>\n",
       "      <td>0.424779</td>\n",
       "      <td>0.395478</td>\n",
       "      <td>0.417051</td>\n",
       "      <td>0.006442</td>\n",
       "      <td>0.259259</td>\n",
       "      <td>0.000000</td>\n",
       "    </tr>\n",
       "    <tr>\n",
       "      <th>50%</th>\n",
       "      <td>0.333333</td>\n",
       "      <td>1.000000</td>\n",
       "      <td>0.499900</td>\n",
       "      <td>0.500004</td>\n",
       "      <td>0.458006</td>\n",
       "      <td>0.000000</td>\n",
       "      <td>0.000000</td>\n",
       "      <td>0.153210</td>\n",
       "      <td>0.505299</td>\n",
       "      <td>0.501552</td>\n",
       "      <td>0.500201</td>\n",
       "      <td>0.499392</td>\n",
       "      <td>0.987015</td>\n",
       "      <td>0.499896</td>\n",
       "      <td>0.499375</td>\n",
       "      <td>0.499702</td>\n",
       "      <td>0.499812</td>\n",
       "      <td>0.500217</td>\n",
       "      <td>0.499527</td>\n",
       "      <td>0.494640</td>\n",
       "      <td>0.509456</td>\n",
       "      <td>0.471447</td>\n",
       "      <td>0.066065</td>\n",
       "      <td>0.407407</td>\n",
       "      <td>0.000000</td>\n",
       "    </tr>\n",
       "    <tr>\n",
       "      <th>75%</th>\n",
       "      <td>0.650980</td>\n",
       "      <td>1.000000</td>\n",
       "      <td>0.630627</td>\n",
       "      <td>0.677857</td>\n",
       "      <td>0.512448</td>\n",
       "      <td>0.000000</td>\n",
       "      <td>0.000000</td>\n",
       "      <td>0.343961</td>\n",
       "      <td>0.569733</td>\n",
       "      <td>0.575723</td>\n",
       "      <td>0.713415</td>\n",
       "      <td>0.745257</td>\n",
       "      <td>0.991296</td>\n",
       "      <td>0.574550</td>\n",
       "      <td>0.625533</td>\n",
       "      <td>0.551776</td>\n",
       "      <td>0.576333</td>\n",
       "      <td>0.580953</td>\n",
       "      <td>0.551339</td>\n",
       "      <td>0.564737</td>\n",
       "      <td>0.636073</td>\n",
       "      <td>0.530501</td>\n",
       "      <td>0.219921</td>\n",
       "      <td>0.777778</td>\n",
       "      <td>1.000000</td>\n",
       "    </tr>\n",
       "    <tr>\n",
       "      <th>max</th>\n",
       "      <td>1.000000</td>\n",
       "      <td>1.000000</td>\n",
       "      <td>1.000000</td>\n",
       "      <td>1.000000</td>\n",
       "      <td>1.000000</td>\n",
       "      <td>1.000000</td>\n",
       "      <td>1.000000</td>\n",
       "      <td>1.000000</td>\n",
       "      <td>1.000000</td>\n",
       "      <td>1.000000</td>\n",
       "      <td>1.000000</td>\n",
       "      <td>1.000000</td>\n",
       "      <td>1.000000</td>\n",
       "      <td>1.000000</td>\n",
       "      <td>1.000000</td>\n",
       "      <td>1.000000</td>\n",
       "      <td>1.000000</td>\n",
       "      <td>1.000000</td>\n",
       "      <td>1.000000</td>\n",
       "      <td>1.000000</td>\n",
       "      <td>1.000000</td>\n",
       "      <td>1.000000</td>\n",
       "      <td>1.000000</td>\n",
       "      <td>0.962963</td>\n",
       "      <td>1.000000</td>\n",
       "    </tr>\n",
       "  </tbody>\n",
       "</table>\n",
       "</div>"
      ],
      "text/plain": [
       "               boost         active          vel_x          vel_y  \\\n",
       "count  771120.000000  771120.000000  771120.000000  771120.000000   \n",
       "mean        0.386018       0.913261       0.499645       0.499507   \n",
       "std         0.323654       0.281452       0.207468       0.253938   \n",
       "min         0.000000       0.000000       0.000000       0.000000   \n",
       "25%         0.121569       1.000000       0.367292       0.322151   \n",
       "50%         0.333333       1.000000       0.499900       0.500004   \n",
       "75%         0.650980       1.000000       0.630627       0.677857   \n",
       "max         1.000000       1.000000       1.000000       1.000000   \n",
       "\n",
       "               vel_z    jump_active   dodge_active      ball_dist  \\\n",
       "count  771120.000000  771120.000000  771120.000000  771120.000000   \n",
       "mean        0.463802       0.029102       0.136804       0.213243   \n",
       "std         0.097744       0.168092       0.343640       0.186097   \n",
       "min         0.000000       0.000000       0.000000       0.000000   \n",
       "25%         0.411163       0.000000       0.000000       0.058845   \n",
       "50%         0.458006       0.000000       0.000000       0.153210   \n",
       "75%         0.512448       0.000000       0.000000       0.343961   \n",
       "max         1.000000       1.000000       1.000000       1.000000   \n",
       "\n",
       "       angle_to_face_ball  angle_to_move_to_ball  opposing_goal_x  \\\n",
       "count       771120.000000          771120.000000    771120.000000   \n",
       "mean             0.505201               0.501281         0.508388   \n",
       "std              0.158555               0.168315         0.259159   \n",
       "min              0.000000               0.000000         0.000000   \n",
       "25%              0.437991               0.416648         0.314565   \n",
       "50%              0.505299               0.501552         0.500201   \n",
       "75%              0.569733               0.575723         0.713415   \n",
       "max              1.000000               1.000000         1.000000   \n",
       "\n",
       "       opposing_goal_y  opposing_goal_z          pos_x          pos_y  \\\n",
       "count    771120.000000    771120.000000  771120.000000  771120.000000   \n",
       "mean          0.501466         0.932953       0.500061       0.499964   \n",
       "std           0.274306         0.135874       0.149675       0.195273   \n",
       "min           0.000000         0.000000       0.000000       0.000000   \n",
       "25%           0.262109         0.945177       0.425532       0.374262   \n",
       "50%           0.499392         0.987015       0.499896       0.499375   \n",
       "75%           0.745257         0.991296       0.574550       0.625533   \n",
       "max           1.000000         1.000000       1.000000       1.000000   \n",
       "\n",
       "               pos_z      vel_x_op1      vel_y_op1      vel_z_op1  \\\n",
       "count  771120.000000  771120.000000  771120.000000  771120.000000   \n",
       "mean        0.499540       0.499988       0.499882       0.500011   \n",
       "std         0.117649       0.143347       0.155435       0.102625   \n",
       "min         0.000000       0.000000       0.000000       0.000000   \n",
       "25%         0.447739       0.423628       0.418983       0.448672   \n",
       "50%         0.499702       0.499812       0.500217       0.499527   \n",
       "75%         0.551776       0.576333       0.580953       0.551339   \n",
       "max         1.000000       1.000000       1.000000       1.000000   \n",
       "\n",
       "          vel_x_ball     vel_y_ball     vel_z_ball     pos_z_ball  \\\n",
       "count  771120.000000  771120.000000  771120.000000  771120.000000   \n",
       "mean        0.495588       0.514333       0.473023       0.155187   \n",
       "std         0.135497       0.162520       0.116076       0.206089   \n",
       "min         0.000000       0.000000       0.000000       0.000000   \n",
       "25%         0.424779       0.395478       0.417051       0.006442   \n",
       "50%         0.494640       0.509456       0.471447       0.066065   \n",
       "75%         0.564737       0.636073       0.530501       0.219921   \n",
       "max         1.000000       1.000000       1.000000       1.000000   \n",
       "\n",
       "                 map           team  \n",
       "count  771120.000000  771120.000000  \n",
       "mean        0.477639       0.495597  \n",
       "std         0.284350       0.499981  \n",
       "min         0.037037       0.000000  \n",
       "25%         0.259259       0.000000  \n",
       "50%         0.407407       0.000000  \n",
       "75%         0.777778       1.000000  \n",
       "max         0.962963       1.000000  "
      ]
     },
     "execution_count": 82,
     "metadata": {},
     "output_type": "execute_result"
    }
   ],
   "source": [
    "X_train.describe()"
   ]
  },
  {
   "cell_type": "markdown",
   "metadata": {
    "colab_type": "text",
    "id": "pKLPXYMl61W-"
   },
   "source": [
    "## Model"
   ]
  },
  {
   "cell_type": "code",
   "execution_count": 83,
   "metadata": {
    "colab": {
     "base_uri": "https://localhost:8080/",
     "height": 493
    },
    "colab_type": "code",
    "id": "eIS_Mee28leY",
    "outputId": "ff4cde45-bad3-4d9a-d151-030cb6101bd3"
   },
   "outputs": [
    {
     "name": "stdout",
     "output_type": "stream",
     "text": [
      "Model: \"BittyBot\"\n",
      "__________________________________________________________________________________________________\n",
      "Layer (type)                    Output Shape         Param #     Connected to                     \n",
      "==================================================================================================\n",
      "input_2 (InputLayer)            [(None, 25)]         0                                            \n",
      "__________________________________________________________________________________________________\n",
      "dense_11 (Dense)                (None, 1600)         41600       input_2[0][0]                    \n",
      "__________________________________________________________________________________________________\n",
      "dense_12 (Dense)                (None, 800)          1280800     dense_11[0][0]                   \n",
      "__________________________________________________________________________________________________\n",
      "dense_13 (Dense)                (None, 400)          320400      dense_12[0][0]                   \n",
      "__________________________________________________________________________________________________\n",
      "dense_14 (Dense)                (None, 200)          80200       dense_13[0][0]                   \n",
      "__________________________________________________________________________________________________\n",
      "dense_15 (Dense)                (None, 100)          20100       dense_14[0][0]                   \n",
      "__________________________________________________________________________________________________\n",
      "dense_16 (Dense)                (None, 50)           5050        dense_15[0][0]                   \n",
      "__________________________________________________________________________________________________\n",
      "dense_19 (Dense)                (None, 50)           5050        dense_15[0][0]                   \n",
      "__________________________________________________________________________________________________\n",
      "dense_17 (Dense)                (None, 25)           1275        dense_16[0][0]                   \n",
      "__________________________________________________________________________________________________\n",
      "dense_20 (Dense)                (None, 25)           1275        dense_19[0][0]                   \n",
      "__________________________________________________________________________________________________\n",
      "dense_18 (Dense)                (None, 10)           260         dense_17[0][0]                   \n",
      "__________________________________________________________________________________________________\n",
      "dense_21 (Dense)                (None, 10)           260         dense_20[0][0]                   \n",
      "__________________________________________________________________________________________________\n",
      "steer (Dense)                   (None, 1)            11          dense_18[0][0]                   \n",
      "__________________________________________________________________________________________________\n",
      "throttle (Dense)                (None, 1)            11          dense_21[0][0]                   \n",
      "==================================================================================================\n",
      "Total params: 1,756,292\n",
      "Trainable params: 1,756,292\n",
      "Non-trainable params: 0\n",
      "__________________________________________________________________________________________________\n"
     ]
    }
   ],
   "source": [
    "from tensorflow.keras import Input, Model\n",
    "from tensorflow.keras.layers import Dense, Dropout, BatchNormalization, Conv2D\n",
    "\n",
    "inputs = Input(shape=X_train.shape[1])\n",
    "\n",
    "x = Dense(1600, activation='relu')(inputs)\n",
    "\n",
    "x = Dense(800, activation='relu')(x)\n",
    "x = Dense(400, activation='relu')(x)\n",
    "x = Dense(200, activation='relu')(x)\n",
    "x = Dense(100, activation='relu')(x)\n",
    "\n",
    "outputs = [] # make one branching output per predicted controller input\n",
    "for column in get_y_pred_columns():\n",
    "    sub_net = Dense(50, activation='relu')(x)\n",
    "    sub_net = Dense(25, activation='relu')(sub_net)\n",
    "    sub_net = Dense(10, activation='relu')(sub_net)\n",
    "    sub_net_output = Dense(1, activation='sigmoid', name=column)(sub_net)\n",
    "    outputs.append(sub_net_output)\n",
    "\n",
    "model = Model(inputs=inputs, outputs=outputs, name='BittyBot')\n",
    "\n",
    "model.summary()\n",
    "\n",
    "learning_rate = 0.0001\n",
    "optimizer = tf.keras.optimizers.Adam(learning_rate=learning_rate, beta_1=0.9, beta_2=0.999, amsgrad=False)\n",
    "# losses to try: binary_crossentropy, categorical_crossentropy, mean_squared_error, poisson, mean_squared_logarithmic_error, mean_absolute_error\n",
    "loss = 'mean_absolute_error'\n",
    "metrics = ['accuracy']\n",
    "batch_size = 128\n",
    "epochs = 2\n",
    "model.compile(optimizer=optimizer, loss=loss, metrics=metrics)"
   ]
  },
  {
   "cell_type": "code",
   "execution_count": 84,
   "metadata": {
    "colab": {
     "base_uri": "https://localhost:8080/",
     "height": 1000
    },
    "colab_type": "code",
    "id": "Wh0WC0EJWJmV",
    "outputId": "d8b42f7e-7b77-4b90-fbe9-6154991f8e5e",
    "scrolled": true
   },
   "outputs": [
    {
     "name": "stdout",
     "output_type": "stream",
     "text": [
      "Series([], dtype: bool)\n",
      "Series([], dtype: bool)\n",
      "(771120, 2)\n",
      "Train on 771120 samples, validate on 20000 samples\n",
      "Epoch 1/100\n",
      "771120/771120 [==============================] - 28s 37us/sample - loss: 0.4086 - steer_loss: 0.2355 - throttle_loss: 0.1731 - steer_accuracy: 0.2731 - throttle_accuracy: 0.4905 - val_loss: 0.3787 - val_steer_loss: 0.2306 - val_throttle_loss: 0.1485 - val_steer_accuracy: 0.2966 - val_throttle_accuracy: 0.4018\n",
      "Epoch 2/100\n",
      "771120/771120 [==============================] - 27s 36us/sample - loss: 0.3920 - steer_loss: 0.2314 - throttle_loss: 0.1606 - steer_accuracy: 0.2791 - throttle_accuracy: 0.4950 - val_loss: 0.3718 - val_steer_loss: 0.2260 - val_throttle_loss: 0.1462 - val_steer_accuracy: 0.2910 - val_throttle_accuracy: 0.4024\n",
      "Epoch 3/100\n",
      "771120/771120 [==============================] - 27s 35us/sample - loss: 0.3775 - steer_loss: 0.2224 - throttle_loss: 0.1551 - steer_accuracy: 0.2832 - throttle_accuracy: 0.4952 - val_loss: 0.3687 - val_steer_loss: 0.2224 - val_throttle_loss: 0.1473 - val_steer_accuracy: 0.2952 - val_throttle_accuracy: 0.4024\n",
      "Epoch 4/100\n",
      "771120/771120 [==============================] - 27s 35us/sample - loss: 0.3648 - steer_loss: 0.2147 - throttle_loss: 0.1502 - steer_accuracy: 0.2875 - throttle_accuracy: 0.4953 - val_loss: 0.3664 - val_steer_loss: 0.2196 - val_throttle_loss: 0.1474 - val_steer_accuracy: 0.2871 - val_throttle_accuracy: 0.4013\n",
      "Epoch 5/100\n",
      "771120/771120 [==============================] - 28s 36us/sample - loss: 0.3546 - steer_loss: 0.2091 - throttle_loss: 0.1455 - steer_accuracy: 0.2900 - throttle_accuracy: 0.4954 - val_loss: 0.3720 - val_steer_loss: 0.2193 - val_throttle_loss: 0.1535 - val_steer_accuracy: 0.2868 - val_throttle_accuracy: 0.3997\n",
      "Epoch 6/100\n",
      "771120/771120 [==============================] - 27s 36us/sample - loss: 0.3453 - steer_loss: 0.2041 - throttle_loss: 0.1412 - steer_accuracy: 0.2933 - throttle_accuracy: 0.4954 - val_loss: 0.3634 - val_steer_loss: 0.2161 - val_throttle_loss: 0.1477 - val_steer_accuracy: 0.2923 - val_throttle_accuracy: 0.4025\n",
      "Epoch 7/100\n",
      "771120/771120 [==============================] - 27s 35us/sample - loss: 0.3370 - steer_loss: 0.1998 - throttle_loss: 0.1372 - steer_accuracy: 0.2960 - throttle_accuracy: 0.4954 - val_loss: 0.3723 - val_steer_loss: 0.2225 - val_throttle_loss: 0.1509 - val_steer_accuracy: 0.2936 - val_throttle_accuracy: 0.4025\n",
      "Epoch 8/100\n",
      "771120/771120 [==============================] - 27s 35us/sample - loss: 0.3297 - steer_loss: 0.1959 - throttle_loss: 0.1338 - steer_accuracy: 0.2984 - throttle_accuracy: 0.4955 - val_loss: 0.3718 - val_steer_loss: 0.2221 - val_throttle_loss: 0.1511 - val_steer_accuracy: 0.2986 - val_throttle_accuracy: 0.4025\n",
      "Epoch 9/100\n",
      "771120/771120 [==============================] - 27s 36us/sample - loss: 0.3228 - steer_loss: 0.1920 - throttle_loss: 0.1308 - steer_accuracy: 0.3012 - throttle_accuracy: 0.4956 - val_loss: 0.3678 - val_steer_loss: 0.2170 - val_throttle_loss: 0.1511 - val_steer_accuracy: 0.2941 - val_throttle_accuracy: 0.4020\n",
      "Epoch 10/100\n",
      "771120/771120 [==============================] - 27s 35us/sample - loss: 0.3166 - steer_loss: 0.1886 - throttle_loss: 0.1281 - steer_accuracy: 0.3039 - throttle_accuracy: 0.4956 - val_loss: 0.3619 - val_steer_loss: 0.2152 - val_throttle_loss: 0.1478 - val_steer_accuracy: 0.2925 - val_throttle_accuracy: 0.4025\n",
      "Epoch 11/100\n",
      "771120/771120 [==============================] - 27s 35us/sample - loss: 0.3104 - steer_loss: 0.1849 - throttle_loss: 0.1256 - steer_accuracy: 0.3063 - throttle_accuracy: 0.4958 - val_loss: 0.3708 - val_steer_loss: 0.2162 - val_throttle_loss: 0.1552 - val_steer_accuracy: 0.2926 - val_throttle_accuracy: 0.4025\n",
      "Epoch 12/100\n",
      "771120/771120 [==============================] - 27s 35us/sample - loss: 0.3050 - steer_loss: 0.1816 - throttle_loss: 0.1234 - steer_accuracy: 0.3085 - throttle_accuracy: 0.4958 - val_loss: 0.3711 - val_steer_loss: 0.2180 - val_throttle_loss: 0.1542 - val_steer_accuracy: 0.2934 - val_throttle_accuracy: 0.4024\n",
      "Epoch 13/100\n",
      "771120/771120 [==============================] - 27s 35us/sample - loss: 0.3001 - steer_loss: 0.1786 - throttle_loss: 0.1215 - steer_accuracy: 0.3111 - throttle_accuracy: 0.4960 - val_loss: 0.3718 - val_steer_loss: 0.2220 - val_throttle_loss: 0.1507 - val_steer_accuracy: 0.2903 - val_throttle_accuracy: 0.4025\n",
      "Epoch 14/100\n",
      "771120/771120 [==============================] - 27s 35us/sample - loss: 0.2957 - steer_loss: 0.1761 - throttle_loss: 0.1196 - steer_accuracy: 0.3127 - throttle_accuracy: 0.4959 - val_loss: 0.3766 - val_steer_loss: 0.2272 - val_throttle_loss: 0.1502 - val_steer_accuracy: 0.2956 - val_throttle_accuracy: 0.4022\n",
      "Epoch 15/100\n",
      "771120/771120 [==============================] - 27s 35us/sample - loss: 0.2909 - steer_loss: 0.1731 - throttle_loss: 0.1179 - steer_accuracy: 0.3147 - throttle_accuracy: 0.4959 - val_loss: 0.3712 - val_steer_loss: 0.2203 - val_throttle_loss: 0.1514 - val_steer_accuracy: 0.2947 - val_throttle_accuracy: 0.4017\n",
      "Epoch 16/100\n",
      "771120/771120 [==============================] - 27s 35us/sample - loss: 0.2872 - steer_loss: 0.1707 - throttle_loss: 0.1165 - steer_accuracy: 0.3160 - throttle_accuracy: 0.4961 - val_loss: 0.3731 - val_steer_loss: 0.2203 - val_throttle_loss: 0.1533 - val_steer_accuracy: 0.2968 - val_throttle_accuracy: 0.4025\n",
      "Epoch 17/100\n",
      "771120/771120 [==============================] - 27s 35us/sample - loss: 0.2835 - steer_loss: 0.1683 - throttle_loss: 0.1151 - steer_accuracy: 0.3176 - throttle_accuracy: 0.4963 - val_loss: 0.3737 - val_steer_loss: 0.2230 - val_throttle_loss: 0.1514 - val_steer_accuracy: 0.2955 - val_throttle_accuracy: 0.4025\n",
      "Epoch 18/100\n",
      "771120/771120 [==============================] - 27s 35us/sample - loss: 0.2799 - steer_loss: 0.1661 - throttle_loss: 0.1139 - steer_accuracy: 0.3192 - throttle_accuracy: 0.4963 - val_loss: 0.3721 - val_steer_loss: 0.2193 - val_throttle_loss: 0.1526 - val_steer_accuracy: 0.2936 - val_throttle_accuracy: 0.4024\n",
      "Epoch 19/100\n",
      "771120/771120 [==============================] - 27s 36us/sample - loss: 0.2763 - steer_loss: 0.1638 - throttle_loss: 0.1125 - steer_accuracy: 0.3213 - throttle_accuracy: 0.4964 - val_loss: 0.3732 - val_steer_loss: 0.2219 - val_throttle_loss: 0.1517 - val_steer_accuracy: 0.2883 - val_throttle_accuracy: 0.4025\n",
      "Epoch 20/100\n",
      "771120/771120 [==============================] - 27s 35us/sample - loss: 0.2731 - steer_loss: 0.1617 - throttle_loss: 0.1115 - steer_accuracy: 0.3231 - throttle_accuracy: 0.4962 - val_loss: 0.3732 - val_steer_loss: 0.2223 - val_throttle_loss: 0.1511 - val_steer_accuracy: 0.2933 - val_throttle_accuracy: 0.4025\n",
      "Epoch 21/100\n",
      "771120/771120 [==============================] - 27s 35us/sample - loss: 0.2694 - steer_loss: 0.1591 - throttle_loss: 0.1103 - steer_accuracy: 0.3248 - throttle_accuracy: 0.4964 - val_loss: 0.3835 - val_steer_loss: 0.2279 - val_throttle_loss: 0.1565 - val_steer_accuracy: 0.2916 - val_throttle_accuracy: 0.4025\n",
      "Epoch 22/100\n",
      "771120/771120 [==============================] - 27s 35us/sample - loss: 0.2667 - steer_loss: 0.1573 - throttle_loss: 0.1094 - steer_accuracy: 0.3263 - throttle_accuracy: 0.4964 - val_loss: 0.3793 - val_steer_loss: 0.2285 - val_throttle_loss: 0.1519 - val_steer_accuracy: 0.2987 - val_throttle_accuracy: 0.4024\n",
      "Epoch 23/100\n",
      "771120/771120 [==============================] - 27s 35us/sample - loss: 0.2636 - steer_loss: 0.1552 - throttle_loss: 0.1084 - steer_accuracy: 0.3274 - throttle_accuracy: 0.4964 - val_loss: 0.3802 - val_steer_loss: 0.2276 - val_throttle_loss: 0.1525 - val_steer_accuracy: 0.2937 - val_throttle_accuracy: 0.4024\n",
      "Epoch 24/100\n",
      "771120/771120 [==============================] - 27s 35us/sample - loss: 0.2610 - steer_loss: 0.1534 - throttle_loss: 0.1075 - steer_accuracy: 0.3288 - throttle_accuracy: 0.4965 - val_loss: 0.3837 - val_steer_loss: 0.2316 - val_throttle_loss: 0.1528 - val_steer_accuracy: 0.2920 - val_throttle_accuracy: 0.4016\n",
      "Epoch 25/100\n",
      "771120/771120 [==============================] - 27s 35us/sample - loss: 0.2582 - steer_loss: 0.1515 - throttle_loss: 0.1067 - steer_accuracy: 0.3303 - throttle_accuracy: 0.4964 - val_loss: 0.3816 - val_steer_loss: 0.2272 - val_throttle_loss: 0.1554 - val_steer_accuracy: 0.2961 - val_throttle_accuracy: 0.4025\n"
     ]
    },
    {
     "name": "stdout",
     "output_type": "stream",
     "text": [
      "Epoch 26/100\n",
      "771120/771120 [==============================] - 27s 35us/sample - loss: 0.2551 - steer_loss: 0.1495 - throttle_loss: 0.1057 - steer_accuracy: 0.3319 - throttle_accuracy: 0.4963 - val_loss: 0.3849 - val_steer_loss: 0.2267 - val_throttle_loss: 0.1589 - val_steer_accuracy: 0.2928 - val_throttle_accuracy: 0.4003\n",
      "Epoch 27/100\n",
      "771120/771120 [==============================] - 27s 35us/sample - loss: 0.2531 - steer_loss: 0.1481 - throttle_loss: 0.1051 - steer_accuracy: 0.3327 - throttle_accuracy: 0.4965 - val_loss: 0.3839 - val_steer_loss: 0.2285 - val_throttle_loss: 0.1557 - val_steer_accuracy: 0.2982 - val_throttle_accuracy: 0.4020\n",
      "Epoch 28/100\n",
      "771120/771120 [==============================] - 27s 35us/sample - loss: 0.2508 - steer_loss: 0.1464 - throttle_loss: 0.1044 - steer_accuracy: 0.3340 - throttle_accuracy: 0.4965 - val_loss: 0.3842 - val_steer_loss: 0.2292 - val_throttle_loss: 0.1557 - val_steer_accuracy: 0.2968 - val_throttle_accuracy: 0.4024\n",
      "Epoch 29/100\n",
      "771120/771120 [==============================] - 27s 35us/sample - loss: 0.2479 - steer_loss: 0.1446 - throttle_loss: 0.1033 - steer_accuracy: 0.3352 - throttle_accuracy: 0.4975 - val_loss: 0.3903 - val_steer_loss: 0.2357 - val_throttle_loss: 0.1554 - val_steer_accuracy: 0.2989 - val_throttle_accuracy: 0.4011\n",
      "Epoch 30/100\n",
      "771120/771120 [==============================] - 27s 35us/sample - loss: 0.2456 - steer_loss: 0.1433 - throttle_loss: 0.1023 - steer_accuracy: 0.3362 - throttle_accuracy: 0.4986 - val_loss: 0.3805 - val_steer_loss: 0.2272 - val_throttle_loss: 0.1536 - val_steer_accuracy: 0.3001 - val_throttle_accuracy: 0.4021\n",
      "Epoch 31/100\n",
      "771120/771120 [==============================] - 27s 35us/sample - loss: 0.2429 - steer_loss: 0.1417 - throttle_loss: 0.1012 - steer_accuracy: 0.3373 - throttle_accuracy: 0.4994 - val_loss: 0.3920 - val_steer_loss: 0.2362 - val_throttle_loss: 0.1563 - val_steer_accuracy: 0.2954 - val_throttle_accuracy: 0.4022\n",
      "Epoch 32/100\n",
      "771120/771120 [==============================] - 27s 35us/sample - loss: 0.2406 - steer_loss: 0.1404 - throttle_loss: 0.1002 - steer_accuracy: 0.3383 - throttle_accuracy: 0.5002 - val_loss: 0.3814 - val_steer_loss: 0.2293 - val_throttle_loss: 0.1532 - val_steer_accuracy: 0.2932 - val_throttle_accuracy: 0.4019\n",
      "Epoch 33/100\n",
      "771120/771120 [==============================] - 27s 35us/sample - loss: 0.2383 - steer_loss: 0.1391 - throttle_loss: 0.0992 - steer_accuracy: 0.3389 - throttle_accuracy: 0.5008 - val_loss: 0.3876 - val_steer_loss: 0.2325 - val_throttle_loss: 0.1553 - val_steer_accuracy: 0.2975 - val_throttle_accuracy: 0.4021\n",
      "Epoch 34/100\n",
      "771120/771120 [==============================] - 27s 35us/sample - loss: 0.2360 - steer_loss: 0.1377 - throttle_loss: 0.0982 - steer_accuracy: 0.3400 - throttle_accuracy: 0.5016 - val_loss: 0.3917 - val_steer_loss: 0.2343 - val_throttle_loss: 0.1581 - val_steer_accuracy: 0.2991 - val_throttle_accuracy: 0.4015\n",
      "Epoch 35/100\n",
      "771120/771120 [==============================] - 27s 35us/sample - loss: 0.2341 - steer_loss: 0.1367 - throttle_loss: 0.0974 - steer_accuracy: 0.3403 - throttle_accuracy: 0.5022 - val_loss: 0.3908 - val_steer_loss: 0.2358 - val_throttle_loss: 0.1560 - val_steer_accuracy: 0.2976 - val_throttle_accuracy: 0.4009\n",
      "Epoch 36/100\n",
      "771120/771120 [==============================] - 27s 35us/sample - loss: 0.2320 - steer_loss: 0.1353 - throttle_loss: 0.0966 - steer_accuracy: 0.3413 - throttle_accuracy: 0.5028 - val_loss: 0.3834 - val_steer_loss: 0.2296 - val_throttle_loss: 0.1542 - val_steer_accuracy: 0.2991 - val_throttle_accuracy: 0.4023\n",
      "Epoch 37/100\n",
      "771120/771120 [==============================] - 27s 35us/sample - loss: 0.2298 - steer_loss: 0.1342 - throttle_loss: 0.0957 - steer_accuracy: 0.3422 - throttle_accuracy: 0.5038 - val_loss: 0.3954 - val_steer_loss: 0.2398 - val_throttle_loss: 0.1566 - val_steer_accuracy: 0.2945 - val_throttle_accuracy: 0.3998\n",
      "Epoch 38/100\n",
      "771120/771120 [==============================] - 27s 35us/sample - loss: 0.2278 - steer_loss: 0.1331 - throttle_loss: 0.0948 - steer_accuracy: 0.3426 - throttle_accuracy: 0.5042 - val_loss: 0.3863 - val_steer_loss: 0.2304 - val_throttle_loss: 0.1567 - val_steer_accuracy: 0.2979 - val_throttle_accuracy: 0.4013\n",
      "Epoch 39/100\n",
      "771120/771120 [==============================] - 27s 35us/sample - loss: 0.2264 - steer_loss: 0.1322 - throttle_loss: 0.0942 - steer_accuracy: 0.3433 - throttle_accuracy: 0.5047 - val_loss: 0.3913 - val_steer_loss: 0.2328 - val_throttle_loss: 0.1586 - val_steer_accuracy: 0.3016 - val_throttle_accuracy: 0.4020\n",
      "Epoch 40/100\n",
      "771120/771120 [==============================] - 27s 35us/sample - loss: 0.2250 - steer_loss: 0.1313 - throttle_loss: 0.0936 - steer_accuracy: 0.3439 - throttle_accuracy: 0.5051 - val_loss: 0.3872 - val_steer_loss: 0.2317 - val_throttle_loss: 0.1566 - val_steer_accuracy: 0.3036 - val_throttle_accuracy: 0.4008\n",
      "Epoch 41/100\n",
      "771120/771120 [==============================] - 27s 35us/sample - loss: 0.2232 - steer_loss: 0.1301 - throttle_loss: 0.0931 - steer_accuracy: 0.3448 - throttle_accuracy: 0.5054 - val_loss: 0.3887 - val_steer_loss: 0.2325 - val_throttle_loss: 0.1579 - val_steer_accuracy: 0.2979 - val_throttle_accuracy: 0.4024\n",
      "Epoch 42/100\n",
      "771120/771120 [==============================] - 27s 35us/sample - loss: 0.2216 - steer_loss: 0.1293 - throttle_loss: 0.0923 - steer_accuracy: 0.3455 - throttle_accuracy: 0.5058 - val_loss: 0.3947 - val_steer_loss: 0.2374 - val_throttle_loss: 0.1584 - val_steer_accuracy: 0.2990 - val_throttle_accuracy: 0.4015\n",
      "Epoch 43/100\n",
      "771120/771120 [==============================] - 27s 35us/sample - loss: 0.2203 - steer_loss: 0.1285 - throttle_loss: 0.0919 - steer_accuracy: 0.3461 - throttle_accuracy: 0.5061 - val_loss: 0.3924 - val_steer_loss: 0.2335 - val_throttle_loss: 0.1591 - val_steer_accuracy: 0.3042 - val_throttle_accuracy: 0.4019\n",
      "Epoch 44/100\n",
      "771120/771120 [==============================] - 27s 35us/sample - loss: 0.2185 - steer_loss: 0.1272 - throttle_loss: 0.0913 - steer_accuracy: 0.3470 - throttle_accuracy: 0.5063 - val_loss: 0.3952 - val_steer_loss: 0.2366 - val_throttle_loss: 0.1590 - val_steer_accuracy: 0.2999 - val_throttle_accuracy: 0.4015\n",
      "Epoch 45/100\n",
      "771120/771120 [==============================] - 27s 35us/sample - loss: 0.2176 - steer_loss: 0.1266 - throttle_loss: 0.0910 - steer_accuracy: 0.3477 - throttle_accuracy: 0.5065 - val_loss: 0.3913 - val_steer_loss: 0.2317 - val_throttle_loss: 0.1596 - val_steer_accuracy: 0.3004 - val_throttle_accuracy: 0.3999\n",
      "Epoch 46/100\n",
      "771120/771120 [==============================] - 27s 35us/sample - loss: 0.2160 - steer_loss: 0.1255 - throttle_loss: 0.0905 - steer_accuracy: 0.3480 - throttle_accuracy: 0.5067 - val_loss: 0.3919 - val_steer_loss: 0.2335 - val_throttle_loss: 0.1589 - val_steer_accuracy: 0.3036 - val_throttle_accuracy: 0.4021\n",
      "Epoch 47/100\n",
      "771120/771120 [==============================] - 27s 35us/sample - loss: 0.2147 - steer_loss: 0.1250 - throttle_loss: 0.0898 - steer_accuracy: 0.3484 - throttle_accuracy: 0.5072 - val_loss: 0.3925 - val_steer_loss: 0.2347 - val_throttle_loss: 0.1588 - val_steer_accuracy: 0.3070 - val_throttle_accuracy: 0.4004\n",
      "Epoch 48/100\n",
      "771120/771120 [==============================] - 27s 35us/sample - loss: 0.2137 - steer_loss: 0.1243 - throttle_loss: 0.0895 - steer_accuracy: 0.3490 - throttle_accuracy: 0.5073 - val_loss: 0.3890 - val_steer_loss: 0.2342 - val_throttle_loss: 0.1564 - val_steer_accuracy: 0.2977 - val_throttle_accuracy: 0.4020\n",
      "Epoch 49/100\n",
      "771120/771120 [==============================] - 27s 35us/sample - loss: 0.2127 - steer_loss: 0.1236 - throttle_loss: 0.0891 - steer_accuracy: 0.3490 - throttle_accuracy: 0.5075 - val_loss: 0.3905 - val_steer_loss: 0.2303 - val_throttle_loss: 0.1607 - val_steer_accuracy: 0.3027 - val_throttle_accuracy: 0.4004\n",
      "Epoch 50/100\n",
      "771120/771120 [==============================] - 27s 35us/sample - loss: 0.2114 - steer_loss: 0.1229 - throttle_loss: 0.0885 - steer_accuracy: 0.3496 - throttle_accuracy: 0.5077 - val_loss: 0.3889 - val_steer_loss: 0.2340 - val_throttle_loss: 0.1558 - val_steer_accuracy: 0.2984 - val_throttle_accuracy: 0.4015\n",
      "Epoch 51/100\n"
     ]
    },
    {
     "name": "stdout",
     "output_type": "stream",
     "text": [
      "771120/771120 [==============================] - 27s 35us/sample - loss: 0.2104 - steer_loss: 0.1223 - throttle_loss: 0.0882 - steer_accuracy: 0.3499 - throttle_accuracy: 0.5081 - val_loss: 0.3912 - val_steer_loss: 0.2319 - val_throttle_loss: 0.1602 - val_steer_accuracy: 0.3021 - val_throttle_accuracy: 0.4004\n",
      "Epoch 52/100\n",
      "771120/771120 [==============================] - 27s 35us/sample - loss: 0.2094 - steer_loss: 0.1216 - throttle_loss: 0.0878 - steer_accuracy: 0.3505 - throttle_accuracy: 0.5081 - val_loss: 0.3905 - val_steer_loss: 0.2317 - val_throttle_loss: 0.1594 - val_steer_accuracy: 0.2978 - val_throttle_accuracy: 0.4010\n",
      "Epoch 53/100\n",
      "771120/771120 [==============================] - 27s 35us/sample - loss: 0.2128 - steer_loss: 0.1210 - throttle_loss: 0.0919 - steer_accuracy: 0.3509 - throttle_accuracy: 0.5049 - val_loss: 0.3945 - val_steer_loss: 0.2367 - val_throttle_loss: 0.1587 - val_steer_accuracy: 0.3039 - val_throttle_accuracy: 0.4014\n",
      "Epoch 54/100\n",
      "771120/771120 [==============================] - 27s 35us/sample - loss: 0.2072 - steer_loss: 0.1200 - throttle_loss: 0.0871 - steer_accuracy: 0.3514 - throttle_accuracy: 0.5084 - val_loss: 0.3943 - val_steer_loss: 0.2329 - val_throttle_loss: 0.1625 - val_steer_accuracy: 0.3009 - val_throttle_accuracy: 0.4010\n",
      "Epoch 55/100\n",
      "771120/771120 [==============================] - 27s 35us/sample - loss: 0.2066 - steer_loss: 0.1197 - throttle_loss: 0.0869 - steer_accuracy: 0.3517 - throttle_accuracy: 0.5083 - val_loss: 0.3916 - val_steer_loss: 0.2347 - val_throttle_loss: 0.1585 - val_steer_accuracy: 0.3035 - val_throttle_accuracy: 0.4022\n",
      "Epoch 56/100\n",
      "771120/771120 [==============================] - 27s 35us/sample - loss: 0.2060 - steer_loss: 0.1194 - throttle_loss: 0.0866 - steer_accuracy: 0.3520 - throttle_accuracy: 0.5085 - val_loss: 0.4001 - val_steer_loss: 0.2391 - val_throttle_loss: 0.1620 - val_steer_accuracy: 0.3013 - val_throttle_accuracy: 0.3997\n",
      "Epoch 57/100\n",
      "771120/771120 [==============================] - 27s 35us/sample - loss: 0.2046 - steer_loss: 0.1185 - throttle_loss: 0.0861 - steer_accuracy: 0.3527 - throttle_accuracy: 0.5088 - val_loss: 0.3925 - val_steer_loss: 0.2351 - val_throttle_loss: 0.1579 - val_steer_accuracy: 0.3004 - val_throttle_accuracy: 0.4015\n",
      "Epoch 58/100\n",
      "771120/771120 [==============================] - 27s 35us/sample - loss: 0.2036 - steer_loss: 0.1179 - throttle_loss: 0.0857 - steer_accuracy: 0.3529 - throttle_accuracy: 0.5089 - val_loss: 0.3998 - val_steer_loss: 0.2379 - val_throttle_loss: 0.1634 - val_steer_accuracy: 0.3032 - val_throttle_accuracy: 0.4004\n",
      "Epoch 59/100\n",
      "771120/771120 [==============================] - 27s 35us/sample - loss: 0.2031 - steer_loss: 0.1174 - throttle_loss: 0.0857 - steer_accuracy: 0.3531 - throttle_accuracy: 0.5088 - val_loss: 0.4000 - val_steer_loss: 0.2389 - val_throttle_loss: 0.1629 - val_steer_accuracy: 0.3027 - val_throttle_accuracy: 0.4004\n",
      "Epoch 60/100\n",
      "771120/771120 [==============================] - 27s 35us/sample - loss: 0.2020 - steer_loss: 0.1169 - throttle_loss: 0.0851 - steer_accuracy: 0.3535 - throttle_accuracy: 0.5090 - val_loss: 0.3905 - val_steer_loss: 0.2329 - val_throttle_loss: 0.1581 - val_steer_accuracy: 0.3016 - val_throttle_accuracy: 0.4011\n",
      "Epoch 61/100\n",
      "771120/771120 [==============================] - 27s 35us/sample - loss: 0.2011 - steer_loss: 0.1162 - throttle_loss: 0.0849 - steer_accuracy: 0.3539 - throttle_accuracy: 0.5090 - val_loss: 0.3927 - val_steer_loss: 0.2345 - val_throttle_loss: 0.1596 - val_steer_accuracy: 0.2978 - val_throttle_accuracy: 0.4008\n",
      "Epoch 62/100\n",
      "771120/771120 [==============================] - 27s 35us/sample - loss: 0.2005 - steer_loss: 0.1159 - throttle_loss: 0.0846 - steer_accuracy: 0.3542 - throttle_accuracy: 0.5093 - val_loss: 0.3929 - val_steer_loss: 0.2336 - val_throttle_loss: 0.1594 - val_steer_accuracy: 0.3021 - val_throttle_accuracy: 0.4010\n",
      "Epoch 63/100\n",
      "771120/771120 [==============================] - 27s 35us/sample - loss: 0.1992 - steer_loss: 0.1155 - throttle_loss: 0.0837 - steer_accuracy: 0.3546 - throttle_accuracy: 0.5098 - val_loss: 0.4164 - val_steer_loss: 0.2372 - val_throttle_loss: 0.1803 - val_steer_accuracy: 0.3033 - val_throttle_accuracy: 0.3871\n",
      "Epoch 64/100\n",
      "771120/771120 [==============================] - 27s 35us/sample - loss: 0.1992 - steer_loss: 0.1152 - throttle_loss: 0.0840 - steer_accuracy: 0.3545 - throttle_accuracy: 0.5096 - val_loss: 0.3942 - val_steer_loss: 0.2345 - val_throttle_loss: 0.1604 - val_steer_accuracy: 0.3005 - val_throttle_accuracy: 0.4017\n",
      "Epoch 65/100\n",
      "771120/771120 [==============================] - 27s 35us/sample - loss: 0.1979 - steer_loss: 0.1145 - throttle_loss: 0.0834 - steer_accuracy: 0.3550 - throttle_accuracy: 0.5099 - val_loss: 0.3981 - val_steer_loss: 0.2373 - val_throttle_loss: 0.1620 - val_steer_accuracy: 0.3026 - val_throttle_accuracy: 0.3999\n",
      "Epoch 66/100\n",
      "771120/771120 [==============================] - 27s 35us/sample - loss: 0.1971 - steer_loss: 0.1138 - throttle_loss: 0.0832 - steer_accuracy: 0.3554 - throttle_accuracy: 0.5099 - val_loss: 0.3949 - val_steer_loss: 0.2345 - val_throttle_loss: 0.1611 - val_steer_accuracy: 0.3015 - val_throttle_accuracy: 0.3998\n",
      "Epoch 67/100\n",
      "771120/771120 [==============================] - 27s 35us/sample - loss: 0.1970 - steer_loss: 0.1136 - throttle_loss: 0.0835 - steer_accuracy: 0.3556 - throttle_accuracy: 0.5097 - val_loss: 0.3912 - val_steer_loss: 0.2347 - val_throttle_loss: 0.1571 - val_steer_accuracy: 0.3014 - val_throttle_accuracy: 0.4022\n",
      "Epoch 68/100\n",
      "771120/771120 [==============================] - 27s 35us/sample - loss: 0.1952 - steer_loss: 0.1129 - throttle_loss: 0.0823 - steer_accuracy: 0.3560 - throttle_accuracy: 0.5103 - val_loss: 0.3900 - val_steer_loss: 0.2321 - val_throttle_loss: 0.1587 - val_steer_accuracy: 0.2985 - val_throttle_accuracy: 0.4000\n",
      "Epoch 69/100\n",
      "771120/771120 [==============================] - 27s 35us/sample - loss: 0.1979 - steer_loss: 0.1132 - throttle_loss: 0.0846 - steer_accuracy: 0.3559 - throttle_accuracy: 0.5087 - val_loss: 0.4048 - val_steer_loss: 0.2370 - val_throttle_loss: 0.1688 - val_steer_accuracy: 0.2982 - val_throttle_accuracy: 0.3954\n",
      "Epoch 70/100\n",
      "771120/771120 [==============================] - 27s 35us/sample - loss: 0.1956 - steer_loss: 0.1126 - throttle_loss: 0.0830 - steer_accuracy: 0.3562 - throttle_accuracy: 0.5097 - val_loss: 0.3959 - val_steer_loss: 0.2365 - val_throttle_loss: 0.1600 - val_steer_accuracy: 0.3045 - val_throttle_accuracy: 0.4002\n",
      "Epoch 71/100\n",
      "771120/771120 [==============================] - 27s 35us/sample - loss: 0.1933 - steer_loss: 0.1118 - throttle_loss: 0.0815 - steer_accuracy: 0.3565 - throttle_accuracy: 0.5106 - val_loss: 0.3898 - val_steer_loss: 0.2330 - val_throttle_loss: 0.1578 - val_steer_accuracy: 0.3054 - val_throttle_accuracy: 0.4006\n",
      "Epoch 72/100\n",
      "771120/771120 [==============================] - 27s 35us/sample - loss: 0.1932 - steer_loss: 0.1117 - throttle_loss: 0.0816 - steer_accuracy: 0.3566 - throttle_accuracy: 0.5106 - val_loss: 0.3917 - val_steer_loss: 0.2378 - val_throttle_loss: 0.1552 - val_steer_accuracy: 0.2995 - val_throttle_accuracy: 0.4022\n",
      "Epoch 73/100\n",
      "771120/771120 [==============================] - 27s 35us/sample - loss: 0.1929 - steer_loss: 0.1113 - throttle_loss: 0.0816 - steer_accuracy: 0.3568 - throttle_accuracy: 0.5104 - val_loss: 0.3905 - val_steer_loss: 0.2356 - val_throttle_loss: 0.1551 - val_steer_accuracy: 0.3017 - val_throttle_accuracy: 0.4012\n",
      "Epoch 74/100\n",
      "771120/771120 [==============================] - 27s 35us/sample - loss: 0.1925 - steer_loss: 0.1110 - throttle_loss: 0.0815 - steer_accuracy: 0.3570 - throttle_accuracy: 0.5102 - val_loss: 0.3985 - val_steer_loss: 0.2416 - val_throttle_loss: 0.1578 - val_steer_accuracy: 0.3009 - val_throttle_accuracy: 0.4014\n",
      "Epoch 75/100\n",
      "771120/771120 [==============================] - 27s 35us/sample - loss: 0.1915 - steer_loss: 0.1105 - throttle_loss: 0.0809 - steer_accuracy: 0.3573 - throttle_accuracy: 0.5107 - val_loss: 0.3917 - val_steer_loss: 0.2321 - val_throttle_loss: 0.1601 - val_steer_accuracy: 0.2995 - val_throttle_accuracy: 0.4011\n",
      "Epoch 76/100\n"
     ]
    },
    {
     "name": "stdout",
     "output_type": "stream",
     "text": [
      "771120/771120 [==============================] - 27s 35us/sample - loss: 0.1913 - steer_loss: 0.1099 - throttle_loss: 0.0814 - steer_accuracy: 0.3575 - throttle_accuracy: 0.5103 - val_loss: 0.3939 - val_steer_loss: 0.2362 - val_throttle_loss: 0.1583 - val_steer_accuracy: 0.3013 - val_throttle_accuracy: 0.4016\n",
      "Epoch 77/100\n",
      "771120/771120 [==============================] - 27s 35us/sample - loss: 0.1894 - steer_loss: 0.1095 - throttle_loss: 0.0799 - steer_accuracy: 0.3578 - throttle_accuracy: 0.5112 - val_loss: 0.3908 - val_steer_loss: 0.2327 - val_throttle_loss: 0.1590 - val_steer_accuracy: 0.3029 - val_throttle_accuracy: 0.4009\n",
      "Epoch 78/100\n",
      "771120/771120 [==============================] - 27s 35us/sample - loss: 0.1893 - steer_loss: 0.1096 - throttle_loss: 0.0798 - steer_accuracy: 0.3579 - throttle_accuracy: 0.5112 - val_loss: 0.3992 - val_steer_loss: 0.2352 - val_throttle_loss: 0.1642 - val_steer_accuracy: 0.3008 - val_throttle_accuracy: 0.4001\n",
      "Epoch 79/100\n",
      "771120/771120 [==============================] - 27s 35us/sample - loss: 0.1885 - steer_loss: 0.1090 - throttle_loss: 0.0794 - steer_accuracy: 0.3580 - throttle_accuracy: 0.5112 - val_loss: 0.3985 - val_steer_loss: 0.2353 - val_throttle_loss: 0.1633 - val_steer_accuracy: 0.3018 - val_throttle_accuracy: 0.4015\n",
      "Epoch 80/100\n",
      "771120/771120 [==============================] - 27s 35us/sample - loss: 0.1880 - steer_loss: 0.1089 - throttle_loss: 0.0791 - steer_accuracy: 0.3582 - throttle_accuracy: 0.5115 - val_loss: 0.4071 - val_steer_loss: 0.2380 - val_throttle_loss: 0.1690 - val_steer_accuracy: 0.2993 - val_throttle_accuracy: 0.4021\n",
      "Epoch 81/100\n",
      "771120/771120 [==============================] - 27s 35us/sample - loss: 0.1871 - steer_loss: 0.1083 - throttle_loss: 0.0788 - steer_accuracy: 0.3583 - throttle_accuracy: 0.5113 - val_loss: 0.3923 - val_steer_loss: 0.2348 - val_throttle_loss: 0.1580 - val_steer_accuracy: 0.2993 - val_throttle_accuracy: 0.4018\n",
      "Epoch 82/100\n",
      "771120/771120 [==============================] - 27s 35us/sample - loss: 0.1870 - steer_loss: 0.1083 - throttle_loss: 0.0788 - steer_accuracy: 0.3582 - throttle_accuracy: 0.5116 - val_loss: 0.3966 - val_steer_loss: 0.2362 - val_throttle_loss: 0.1606 - val_steer_accuracy: 0.3017 - val_throttle_accuracy: 0.4012\n",
      "Epoch 83/100\n",
      "771120/771120 [==============================] - 27s 35us/sample - loss: 0.1879 - steer_loss: 0.1080 - throttle_loss: 0.0799 - steer_accuracy: 0.3583 - throttle_accuracy: 0.5109 - val_loss: 0.4210 - val_steer_loss: 0.2430 - val_throttle_loss: 0.1782 - val_steer_accuracy: 0.2855 - val_throttle_accuracy: 0.3868\n",
      "Epoch 84/100\n",
      "771120/771120 [==============================] - 27s 35us/sample - loss: 0.1880 - steer_loss: 0.1077 - throttle_loss: 0.0803 - steer_accuracy: 0.3586 - throttle_accuracy: 0.5105 - val_loss: 0.3924 - val_steer_loss: 0.2322 - val_throttle_loss: 0.1608 - val_steer_accuracy: 0.3055 - val_throttle_accuracy: 0.4014\n",
      "Epoch 85/100\n",
      "771120/771120 [==============================] - 27s 35us/sample - loss: 0.1863 - steer_loss: 0.1073 - throttle_loss: 0.0791 - steer_accuracy: 0.3591 - throttle_accuracy: 0.5113 - val_loss: 0.4068 - val_steer_loss: 0.2347 - val_throttle_loss: 0.1722 - val_steer_accuracy: 0.3036 - val_throttle_accuracy: 0.3939\n",
      "Epoch 86/100\n",
      "771120/771120 [==============================] - 27s 35us/sample - loss: 0.1862 - steer_loss: 0.1071 - throttle_loss: 0.0791 - steer_accuracy: 0.3590 - throttle_accuracy: 0.5113 - val_loss: 0.3930 - val_steer_loss: 0.2345 - val_throttle_loss: 0.1593 - val_steer_accuracy: 0.3016 - val_throttle_accuracy: 0.4006\n",
      "Epoch 87/100\n",
      "771120/771120 [==============================] - 27s 35us/sample - loss: 0.1848 - steer_loss: 0.1067 - throttle_loss: 0.0781 - steer_accuracy: 0.3592 - throttle_accuracy: 0.5119 - val_loss: 0.4042 - val_steer_loss: 0.2371 - val_throttle_loss: 0.1676 - val_steer_accuracy: 0.3002 - val_throttle_accuracy: 0.4008\n",
      "Epoch 88/100\n",
      "771120/771120 [==============================] - 27s 35us/sample - loss: 0.1846 - steer_loss: 0.1064 - throttle_loss: 0.0782 - steer_accuracy: 0.3592 - throttle_accuracy: 0.5117 - val_loss: 0.4311 - val_steer_loss: 0.2489 - val_throttle_loss: 0.1826 - val_steer_accuracy: 0.2797 - val_throttle_accuracy: 0.3885\n",
      "Epoch 89/100\n",
      "771120/771120 [==============================] - 27s 35us/sample - loss: 0.1834 - steer_loss: 0.1060 - throttle_loss: 0.0774 - steer_accuracy: 0.3596 - throttle_accuracy: 0.5124 - val_loss: 0.4037 - val_steer_loss: 0.2379 - val_throttle_loss: 0.1664 - val_steer_accuracy: 0.3009 - val_throttle_accuracy: 0.3999\n",
      "Epoch 90/100\n",
      "771120/771120 [==============================] - 27s 35us/sample - loss: 0.1824 - steer_loss: 0.1056 - throttle_loss: 0.0769 - steer_accuracy: 0.3597 - throttle_accuracy: 0.5126 - val_loss: 0.3953 - val_steer_loss: 0.2343 - val_throttle_loss: 0.1615 - val_steer_accuracy: 0.2998 - val_throttle_accuracy: 0.4021\n",
      "Epoch 91/100\n",
      "771120/771120 [==============================] - 27s 35us/sample - loss: 0.1834 - steer_loss: 0.1057 - throttle_loss: 0.0777 - steer_accuracy: 0.3598 - throttle_accuracy: 0.5120 - val_loss: 0.4246 - val_steer_loss: 0.2376 - val_throttle_loss: 0.1876 - val_steer_accuracy: 0.3002 - val_throttle_accuracy: 0.3803\n",
      "Epoch 92/100\n",
      "771120/771120 [==============================] - 27s 35us/sample - loss: 0.1827 - steer_loss: 0.1052 - throttle_loss: 0.0774 - steer_accuracy: 0.3600 - throttle_accuracy: 0.5121 - val_loss: 0.3950 - val_steer_loss: 0.2352 - val_throttle_loss: 0.1607 - val_steer_accuracy: 0.3022 - val_throttle_accuracy: 0.4012\n",
      "Epoch 93/100\n",
      "771120/771120 [==============================] - 27s 35us/sample - loss: 0.1822 - steer_loss: 0.1048 - throttle_loss: 0.0774 - steer_accuracy: 0.3602 - throttle_accuracy: 0.5119 - val_loss: 0.4043 - val_steer_loss: 0.2357 - val_throttle_loss: 0.1694 - val_steer_accuracy: 0.3020 - val_throttle_accuracy: 0.3999\n",
      "Epoch 94/100\n",
      "771120/771120 [==============================] - 27s 35us/sample - loss: 0.1810 - steer_loss: 0.1046 - throttle_loss: 0.0765 - steer_accuracy: 0.3602 - throttle_accuracy: 0.5127 - val_loss: 0.4054 - val_steer_loss: 0.2419 - val_throttle_loss: 0.1649 - val_steer_accuracy: 0.3047 - val_throttle_accuracy: 0.3974\n",
      "Epoch 95/100\n",
      "771120/771120 [==============================] - 27s 35us/sample - loss: 0.1815 - steer_loss: 0.1045 - throttle_loss: 0.0770 - steer_accuracy: 0.3605 - throttle_accuracy: 0.5123 - val_loss: 0.4033 - val_steer_loss: 0.2412 - val_throttle_loss: 0.1626 - val_steer_accuracy: 0.3037 - val_throttle_accuracy: 0.3999\n",
      "Epoch 96/100\n",
      "771120/771120 [==============================] - 27s 35us/sample - loss: 0.1798 - steer_loss: 0.1040 - throttle_loss: 0.0758 - steer_accuracy: 0.3605 - throttle_accuracy: 0.5132 - val_loss: 0.4059 - val_steer_loss: 0.2365 - val_throttle_loss: 0.1701 - val_steer_accuracy: 0.3029 - val_throttle_accuracy: 0.3970\n",
      "Epoch 97/100\n",
      "771120/771120 [==============================] - 27s 35us/sample - loss: 0.1794 - steer_loss: 0.1040 - throttle_loss: 0.0754 - steer_accuracy: 0.3606 - throttle_accuracy: 0.5134 - val_loss: 0.4085 - val_steer_loss: 0.2376 - val_throttle_loss: 0.1717 - val_steer_accuracy: 0.3009 - val_throttle_accuracy: 0.3999\n",
      "Epoch 98/100\n",
      "771120/771120 [==============================] - 27s 35us/sample - loss: 0.1805 - steer_loss: 0.1036 - throttle_loss: 0.0769 - steer_accuracy: 0.3608 - throttle_accuracy: 0.5125 - val_loss: 0.4290 - val_steer_loss: 0.2368 - val_throttle_loss: 0.1930 - val_steer_accuracy: 0.3045 - val_throttle_accuracy: 0.3753\n",
      "Epoch 99/100\n",
      "771120/771120 [==============================] - 27s 35us/sample - loss: 0.1790 - steer_loss: 0.1032 - throttle_loss: 0.0759 - steer_accuracy: 0.3608 - throttle_accuracy: 0.5133 - val_loss: 0.4015 - val_steer_loss: 0.2352 - val_throttle_loss: 0.1672 - val_steer_accuracy: 0.3025 - val_throttle_accuracy: 0.4026\n",
      "Epoch 100/100\n",
      "771120/771120 [==============================] - 27s 35us/sample - loss: 0.1784 - steer_loss: 0.1032 - throttle_loss: 0.0752 - steer_accuracy: 0.3608 - throttle_accuracy: 0.5143 - val_loss: 0.3921 - val_steer_loss: 0.2332 - val_throttle_loss: 0.1596 - val_steer_accuracy: 0.3036 - val_throttle_accuracy: 0.3947\n",
      "The model took 2701.6264349350004s to train.\n"
     ]
    }
   ],
   "source": [
    "x_nulls = X.isnull().any()\n",
    "print(x_nulls[x_nulls == True])\n",
    "y_nulls = y.isnull().any()\n",
    "print(y_nulls[y_nulls == True])\n",
    "# print(X_train.shape)\n",
    "# print(y_train.shape)\n",
    "# print(X_val.shape)\n",
    "# print(y_val.shape)\n",
    "\n",
    "def train(model, X_train, y_train, X_val, y_val, batch_size=32, epochs=25):\n",
    "    print(y_train.shape)\n",
    "#     X_train, y_train, X_val, y_val = np.asarray(X_train), np.asarray(y_train), np.asarray(X_val), np.asarray(y_val)\n",
    "    X_train, X_val = np.asarray(X_train), np.asarray(X_val)\n",
    "\n",
    "    def get_outputs(df, num_outputs):\n",
    "        '''Returns first columns of df as an array of numpy arrays.'''\n",
    "        return [np.asarray(df.iloc[:, i]) for i in range(num_outputs)]\n",
    "    \n",
    "    num_outputs = len(get_y_pred_columns())\n",
    "\n",
    "    start = timer()\n",
    "#     history = model.fit(X_train, y_train, batch_size=batch_size, epochs=epochs, validation_data=(X_val, y_val))\n",
    "    history = model.fit(\n",
    "        X_train,\n",
    "        get_outputs(y_train, num_outputs),\n",
    "        batch_size=batch_size,\n",
    "        epochs=epochs,\n",
    "        validation_data=(X_val, get_outputs(y_val, num_outputs)),\n",
    "        )\n",
    "    end = timer()\n",
    "    print(f\"The model took {end - start}s to train.\")\n",
    "    return history\n",
    "    \n",
    "history = train(model, X_train, y_train, X_val, y_val, batch_size, epochs)"
   ]
  },
  {
   "cell_type": "markdown",
   "metadata": {
    "colab_type": "text",
    "id": "u7XyZuPsh6FH"
   },
   "source": [
    "## Loss and Accuracy"
   ]
  },
  {
   "cell_type": "code",
   "execution_count": 85,
   "metadata": {
    "colab": {
     "base_uri": "https://localhost:8080/",
     "height": 573
    },
    "colab_type": "code",
    "id": "WKFSDL3Am-1o",
    "outputId": "f737c43a-c7ab-4c06-fd35-5679b970588e"
   },
   "outputs": [
    {
     "data": {
      "image/png": "[encoded data removed]",
      "text/plain": [
       "<Figure size 432x288 with 1 Axes>"
      ]
     },
     "metadata": {
      "needs_background": "light"
     },
     "output_type": "display_data"
    },
    {
     "data": {
      "image/png": "[encoded data removed]",
      "text/plain": [
       "<Figure size 432x288 with 1 Axes>"
      ]
     },
     "metadata": {
      "needs_background": "light"
     },
     "output_type": "display_data"
    },
    {
     "data": {
      "image/png": "[encoded data removed]",
      "text/plain": [
       "<Figure size 432x288 with 1 Axes>"
      ]
     },
     "metadata": {
      "needs_background": "light"
     },
     "output_type": "display_data"
    },
    {
     "data": {
      "image/png": "[encoded data removed]",
      "text/plain": [
       "<Figure size 432x288 with 1 Axes>"
      ]
     },
     "metadata": {
      "needs_background": "light"
     },
     "output_type": "display_data"
    },
    {
     "data": {
      "image/png": "[encoded data removed]",
      "text/plain": [
       "<Figure size 432x288 with 1 Axes>"
      ]
     },
     "metadata": {
      "needs_background": "light"
     },
     "output_type": "display_data"
    }
   ],
   "source": [
    "plt.plot(history.history['loss'])\n",
    "plt.plot(history.history['val_loss'])\n",
    "plt.title('Model loss - total')\n",
    "plt.ylabel('Loss')\n",
    "plt.xlabel('Epoch')\n",
    "plt.legend(['Train', 'Dev'], loc='best')\n",
    "plt.show()\n",
    "\n",
    "\n",
    "\n",
    "for column in get_y_pred_columns():\n",
    "    plt.plot(history.history[f'{column}_loss'])\n",
    "    plt.plot(history.history[f'val_{column}_loss'])\n",
    "    plt.title(f'Model loss - {column}')\n",
    "    plt.ylabel(column.title())\n",
    "    plt.xlabel('Epoch')\n",
    "    plt.legend(['Train', 'Dev'], loc='best')\n",
    "    plt.show()\n",
    "\n",
    "for column in get_y_pred_columns():\n",
    "    plt.plot(history.history[f'{column}_accuracy'])\n",
    "    plt.plot(history.history[f'val_{column}_accuracy'])\n",
    "    plt.title(f'Model accuracy - {column}')\n",
    "    plt.ylabel(column.title())\n",
    "    plt.xlabel('Epoch')\n",
    "    plt.legend(['Train', 'Dev'], loc='best')\n",
    "    plt.show()"
   ]
  },
  {
   "cell_type": "code",
   "execution_count": 86,
   "metadata": {
    "colab": {
     "base_uri": "https://localhost:8080/",
     "height": 71
    },
    "colab_type": "code",
    "id": "E7Dg_ISgWiEM",
    "outputId": "220f7d09-93ed-469b-becd-089f50f5f970"
   },
   "outputs": [
    {
     "ename": "AttributeError",
     "evalue": "'list' object has no attribute 'shape'",
     "output_type": "error",
     "traceback": [
      "\u001b[0;31m---------------------------------------------------------------------------\u001b[0m",
      "\u001b[0;31mAttributeError\u001b[0m                            Traceback (most recent call last)",
      "\u001b[0;32m<ipython-input-86-2a812c05bfa9>\u001b[0m in \u001b[0;36m<module>\u001b[0;34m\u001b[0m\n\u001b[1;32m      1\u001b[0m \u001b[0my_pred\u001b[0m \u001b[0;34m=\u001b[0m \u001b[0mmodel\u001b[0m\u001b[0;34m.\u001b[0m\u001b[0mpredict\u001b[0m\u001b[0;34m(\u001b[0m\u001b[0mnp\u001b[0m\u001b[0;34m.\u001b[0m\u001b[0masarray\u001b[0m\u001b[0;34m(\u001b[0m\u001b[0mX_val\u001b[0m\u001b[0;34m)\u001b[0m\u001b[0;34m)\u001b[0m\u001b[0;34m\u001b[0m\u001b[0;34m\u001b[0m\u001b[0m\n\u001b[0;32m----> 2\u001b[0;31m \u001b[0mprint\u001b[0m\u001b[0;34m(\u001b[0m\u001b[0my_pred\u001b[0m\u001b[0;34m.\u001b[0m\u001b[0mshape\u001b[0m\u001b[0;34m)\u001b[0m\u001b[0;34m\u001b[0m\u001b[0;34m\u001b[0m\u001b[0m\n\u001b[0m",
      "\u001b[0;31mAttributeError\u001b[0m: 'list' object has no attribute 'shape'"
     ]
    }
   ],
   "source": [
    "y_pred = model.predict(np.asarray(X_val))\n",
    "print(y_pred.shape)"
   ]
  },
  {
   "cell_type": "code",
   "execution_count": null,
   "metadata": {
    "colab": {
     "base_uri": "https://localhost:8080/"
    },
    "colab_type": "code",
    "id": "4ojXbWvnFVTF",
    "outputId": "01826a0f-9f40-4a94-8545-3e6144383979"
   },
   "outputs": [],
   "source": [
    "first_row = X_val.iloc[0]\n",
    "print(first_row.shape)\n",
    "print(type(first_row))\n",
    "arr = np.ndarray((1, first_row.shape[0]), buffer=np.array(first_row))\n",
    "print(arr)\n",
    "print(arr.shape)\n",
    "output = model.predict(arr)"
   ]
  },
  {
   "cell_type": "code",
   "execution_count": null,
   "metadata": {
    "colab": {
     "base_uri": "https://localhost:8080/"
    },
    "colab_type": "code",
    "id": "jgxj2FNyRghm",
    "outputId": "73840d8d-2a82-489c-860d-c70f32e887be"
   },
   "outputs": [],
   "source": [
    "try:\n",
    "  print(output.flatten()[1])\n",
    "except IndexError as e:\n",
    "  pass"
   ]
  },
  {
   "cell_type": "code",
   "execution_count": null,
   "metadata": {
    "colab": {
     "base_uri": "https://localhost:8080/"
    },
    "colab_type": "code",
    "id": "WSvBp3NtFPTQ",
    "outputId": "7ee6019d-0352-4e3b-d586-6afafbd8bdfc"
   },
   "outputs": [],
   "source": [
    "X_val.head(1)"
   ]
  },
  {
   "cell_type": "code",
   "execution_count": null,
   "metadata": {
    "colab": {
     "base_uri": "https://localhost:8080/",
     "height": 71
    },
    "colab_type": "code",
    "id": "zE8GNKgtXqFO",
    "outputId": "177780b5-be9b-402e-b13f-eb74a5242e0b"
   },
   "outputs": [],
   "source": [
    "one_prediction = model.predict(np.asarray(X_test.head(1)))\n",
    "\n",
    "def get_value_dict(y, value):\n",
    "  return dict(zip(y.columns, value))\n",
    "\n",
    "initial_values = get_value_dict(y, one_prediction[0])\n",
    "initial_values\n"
   ]
  },
  {
   "cell_type": "code",
   "execution_count": null,
   "metadata": {
    "colab": {
     "base_uri": "https://localhost:8080/",
     "height": 297
    },
    "colab_type": "code",
    "id": "dbW6imPo65Vu",
    "outputId": "72674789-cc7a-4927-acbe-20c13607ea17"
   },
   "outputs": [],
   "source": [
    "predictions = pd.DataFrame(y_pred)\n",
    "predictions.columns = get_y_pred_columns()\n",
    "predictions.describe()"
   ]
  },
  {
   "cell_type": "code",
   "execution_count": null,
   "metadata": {
    "colab": {},
    "colab_type": "code",
    "id": "CUyEZ8SmhfGl"
   },
   "outputs": [],
   "source": []
  },
  {
   "cell_type": "markdown",
   "metadata": {
    "colab_type": "text",
    "id": "chP9F6kOhgk3"
   },
   "source": [
    "## Prediction Distributions"
   ]
  },
  {
   "cell_type": "code",
   "execution_count": null,
   "metadata": {
    "colab": {
     "base_uri": "https://localhost:8080/",
     "height": 387
    },
    "colab_type": "code",
    "id": "2JA3r1peqTE0",
    "outputId": "447155a4-c2fa-40cf-d332-fcc7f4fab322"
   },
   "outputs": [],
   "source": [
    "def interpret_result(result):\n",
    "  final_values = result.copy()\n",
    "  # for action in ['handbrake', 'boost_active', 'dodge_active', 'double_jump_active', 'jump_active']:\n",
    "  #   final_values[action] = 1 if initial_values[action] >= 0.5 else 0\n",
    "  return final_values\n",
    "\n",
    "\n",
    "# m_val = y_pred.shape[0]\n",
    "# start = 700\n",
    "# to_show = 50\n",
    "# for i in range(start, start + to_show): #m_val):\n",
    "#   result = y_pred[i]\n",
    "#   prediction = interpret_result(get_value_dict(y_val, y_pred[i]))\n",
    "#   print('Predict:', prediction)\n",
    "#   actual = interpret_result(get_value_dict(y_val, y_val.iloc[i]))\n",
    "#   print('Actual: ', actual)\n",
    "#   print('--')\n",
    "\n",
    "output_df = pd.DataFrame(y_pred)\n",
    "output_df.columns = y.columns[0:y_pred.shape[1]]\n",
    "output_df.hist(figsize=(14, 5))"
   ]
  },
  {
   "cell_type": "code",
   "execution_count": null,
   "metadata": {
    "colab": {
     "base_uri": "https://localhost:8080/"
    },
    "colab_type": "code",
    "id": "QMGShpGo_pkn",
    "outputId": "4cb57d12-2b13-4d76-8014-a4a4f13de318"
   },
   "outputs": [],
   "source": [
    "y_val.hist(figsize=(14, 5));"
   ]
  },
  {
   "cell_type": "code",
   "execution_count": null,
   "metadata": {
    "colab": {},
    "colab_type": "code",
    "id": "vZTuFvfxDBNq"
   },
   "outputs": [],
   "source": [
    "model.save('model_relative.h5')\n",
    "\n",
    "# @TODO Make this work on Windows.\n",
    "# !mkdir -p frankenbot/saved_model_relative/\n",
    "# classifier.save('frankenbot/saved_model_relative/1')"
   ]
  },
  {
   "cell_type": "code",
   "execution_count": null,
   "metadata": {
    "colab": {
     "base_uri": "https://localhost:8080/",
     "height": 282
    },
    "colab_type": "code",
    "id": "0nKXbX386-At",
    "outputId": "d8f09408-c63e-4b14-be2b-a59dc12dee4a"
   },
   "outputs": [],
   "source": [
    "output_df['steer'].hist()"
   ]
  },
  {
   "cell_type": "code",
   "execution_count": null,
   "metadata": {
    "colab": {
     "base_uri": "https://localhost:8080/",
     "height": 282
    },
    "colab_type": "code",
    "id": "THeM_sJz6-Av",
    "outputId": "3e1cf9e7-0a1f-4473-d797-9727ec1baeb1"
   },
   "outputs": [],
   "source": [
    "def round_outliers(value):\n",
    "    if value < 0: return 0\n",
    "    if value > 1: return 1\n",
    "    return value\n",
    "\n",
    "output_df['steer'].apply(round_outliers).hist()"
   ]
  },
  {
   "cell_type": "code",
   "execution_count": null,
   "metadata": {
    "colab": {},
    "colab_type": "code",
    "id": "zSLZtGTSgbqj"
   },
   "outputs": [],
   "source": []
  },
  {
   "cell_type": "code",
   "execution_count": null,
   "metadata": {
    "colab": {},
    "colab_type": "code",
    "id": "W0G33PLBcEMW"
   },
   "outputs": [],
   "source": []
  }
 ],
 "metadata": {
  "accelerator": "GPU",
  "colab": {
   "collapsed_sections": [],
   "name": "build_model_relative.ipynb",
   "provenance": [],
   "toc_visible": true
  },
  "kernelspec": {
   "display_name": "Python 3",
   "language": "python",
   "name": "python3"
  },
  "language_info": {
   "codemirror_mode": {
    "name": "ipython",
    "version": 3
   },
   "file_extension": ".py",
   "mimetype": "text/x-python",
   "name": "python",
   "nbconvert_exporter": "python",
   "pygments_lexer": "ipython3",
   "version": "3.6.9"
  }
 },
 "nbformat": 4,
 "nbformat_minor": 1
}
