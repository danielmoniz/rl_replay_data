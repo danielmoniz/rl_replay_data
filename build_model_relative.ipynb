{
 "cells": [
  {
   "cell_type": "markdown",
   "metadata": {
    "colab_type": "text",
    "id": "G34-UD4N7-3t"
   },
   "source": [
    "## Import dependencies"
   ]
  },
  {
   "cell_type": "code",
   "execution_count": 3,
   "metadata": {
    "colab": {},
    "colab_type": "code",
    "id": "ALUxsk0-7_oz"
   },
   "outputs": [],
   "source": [
    "import json\n",
    "import os\n",
    "\n",
    "from timeit import default_timer as timer\n",
    "import tensorflow as tf\n",
    "import tensorflow.keras\n",
    "import pandas as pd\n",
    "import numpy as np\n",
    "import matplotlib.pyplot as plt\n",
    "import carball\n",
    "import carball.json_parser.game as game_module\n",
    "Game = game_module.Game\n",
    "\n",
    "# pd.set_option('display.max_rows', 20)\n",
    "pd.set_option('display.max_columns', 70)\n",
    "# pd.set_option('display.width', 1000)"
   ]
  },
  {
   "cell_type": "code",
   "execution_count": 4,
   "metadata": {
    "colab": {
     "base_uri": "https://localhost:8080/",
     "height": 68
    },
    "colab_type": "code",
    "id": "_-PUuJZHjR_C",
    "outputId": "51875c15-c9d1-4616-f9e8-f9ab3c51227c"
   },
   "outputs": [
    {
     "name": "stdout",
     "output_type": "stream",
     "text": [
      "2.0.1\n",
      "True\n",
      "/device:GPU:0\n"
     ]
    }
   ],
   "source": [
    "print(tf.__version__)\n",
    "print(tf.test.is_gpu_available()) # tells if the gpu is available\n",
    "print(tf.test.gpu_device_name()) # returns the name of the gpu device"
   ]
  },
  {
   "cell_type": "code",
   "execution_count": 5,
   "metadata": {
    "colab": {
     "base_uri": "https://localhost:8080/",
     "height": 34
    },
    "colab_type": "code",
    "id": "e9dL1D2snHtL",
    "outputId": "07f07e09-06cb-4b92-b6b7-f400fdfa8344",
    "scrolled": true
   },
   "outputs": [
    {
     "name": "stdout",
     "output_type": "stream",
     "text": [
      "1v1_ai_sample_01.json  1v1_ai_sample_02.json\r\n"
     ]
    }
   ],
   "source": [
    "# replay_path = './parsed_replays/rlcs_season_7/'\n",
    "replay_path = './parsed_replays/'\n",
    "!ls parsed_replays/"
   ]
  },
  {
   "cell_type": "code",
   "execution_count": 6,
   "metadata": {
    "colab": {
     "base_uri": "https://localhost:8080/",
     "height": 51
    },
    "colab_type": "code",
    "id": "vDgT2Z9m54tW",
    "outputId": "3682e011-94b6-42c2-aeda-c7d4c5a98bfb"
   },
   "outputs": [
    {
     "name": "stdout",
     "output_type": "stream",
     "text": [
      "2\n",
      "['./parsed_replays/1v1_ai_sample_01.json', './parsed_replays/1v1_ai_sample_02.json']\n"
     ]
    }
   ],
   "source": [
    "game_files = []\n",
    "path = './replays/rlcs_season_7/'\n",
    "for filename in os.listdir(replay_path):\n",
    "  if filename.endswith('.json'):\n",
    "    game_files.append(replay_path + filename)\n",
    "# game_files = game_files[0:8] # TEST - use subset of games for now\n",
    "print(len(game_files))\n",
    "print(list(game_files))"
   ]
  },
  {
   "cell_type": "code",
   "execution_count": 7,
   "metadata": {
    "colab": {
     "base_uri": "https://localhost:8080/",
     "height": 136
    },
    "colab_type": "code",
    "id": "WsgAibzYl30w",
    "outputId": "8fe8b925-a6ad-496e-ca2f-89c1d9b96b91"
   },
   "outputs": [
    {
     "name": "stderr",
     "output_type": "stream",
     "text": [
      "Could not find field_of_view in camera settings for Casper\n",
      "Could not find height in camera settings for Casper\n",
      "Could not find pitch in camera settings for Casper\n",
      "Could not find distance in camera settings for Casper\n",
      "Could not find stiffness in camera settings for Casper\n",
      "Could not find swivel_speed in camera settings for Casper\n",
      "Could not find transition_speed in camera settings for Casper\n"
     ]
    }
   ],
   "source": [
    "def get_game(file_path):\n",
    "  game = game_module.Game()\n",
    "  game.initialize(file_path=file_path)\n",
    "  return game\n",
    "\n",
    "if len(game_files) > 0:\n",
    "  game = game_module.Game()\n",
    "  game.initialize(\n",
    "      file_path=game_files[0])\n",
    "else:\n",
    "  raise IndexError('No game_files to parse.')"
   ]
  },
  {
   "cell_type": "code",
   "execution_count": 8,
   "metadata": {
    "colab": {
     "base_uri": "https://localhost:8080/",
     "height": 34
    },
    "colab_type": "code",
    "id": "DaEqUkzHl30y",
    "outputId": "5e1fa45a-9a51-4eea-b654-5a7738c2d70b"
   },
   "outputs": [
    {
     "data": {
      "text/plain": [
       "'Stadium_P'"
      ]
     },
     "execution_count": 8,
     "metadata": {},
     "output_type": "execute_result"
    }
   ],
   "source": [
    "game.map"
   ]
  },
  {
   "cell_type": "code",
   "execution_count": 9,
   "metadata": {
    "colab": {
     "base_uri": "https://localhost:8080/",
     "height": 34
    },
    "colab_type": "code",
    "id": "G9Un0B-Sl300",
    "outputId": "47e15aeb-61cd-490c-f52b-f14b5305f476"
   },
   "outputs": [
    {
     "data": {
      "text/plain": [
       "[Player: Paragon.RG on Team: Orange, Player: Casper on Team: Blue]"
      ]
     },
     "execution_count": 9,
     "metadata": {},
     "output_type": "execute_result"
    }
   ],
   "source": [
    "game.players"
   ]
  },
  {
   "cell_type": "code",
   "execution_count": 10,
   "metadata": {
    "colab": {
     "base_uri": "https://localhost:8080/",
     "height": 179
    },
    "colab_type": "code",
    "id": "9tsx5SIwKJp0",
    "outputId": "94d6c5e3-d3c5-4b91-fa9a-ee90153e6a1a"
   },
   "outputs": [
    {
     "name": "stdout",
     "output_type": "stream",
     "text": [
      "(9372, 13)\n"
     ]
    },
    {
     "data": {
      "text/html": [
       "<div>\n",
       "<style scoped>\n",
       "    .dataframe tbody tr th:only-of-type {\n",
       "        vertical-align: middle;\n",
       "    }\n",
       "\n",
       "    .dataframe tbody tr th {\n",
       "        vertical-align: top;\n",
       "    }\n",
       "\n",
       "    .dataframe thead th {\n",
       "        text-align: right;\n",
       "    }\n",
       "</style>\n",
       "<table border=\"1\" class=\"dataframe\">\n",
       "  <thead>\n",
       "    <tr style=\"text-align: right;\">\n",
       "      <th></th>\n",
       "      <th>pos_x</th>\n",
       "      <th>pos_y</th>\n",
       "      <th>pos_z</th>\n",
       "      <th>rot_x</th>\n",
       "      <th>rot_y</th>\n",
       "      <th>rot_z</th>\n",
       "      <th>vel_x</th>\n",
       "      <th>vel_y</th>\n",
       "      <th>vel_z</th>\n",
       "      <th>ang_vel_x</th>\n",
       "      <th>ang_vel_y</th>\n",
       "      <th>ang_vel_z</th>\n",
       "      <th>hit_team_no</th>\n",
       "    </tr>\n",
       "  </thead>\n",
       "  <tbody>\n",
       "    <tr>\n",
       "      <th>1</th>\n",
       "      <td>0.0</td>\n",
       "      <td>0.0</td>\n",
       "      <td>92.74</td>\n",
       "      <td>0.000005</td>\n",
       "      <td>0.000005</td>\n",
       "      <td>0.000005</td>\n",
       "      <td>NaN</td>\n",
       "      <td>NaN</td>\n",
       "      <td>NaN</td>\n",
       "      <td>NaN</td>\n",
       "      <td>NaN</td>\n",
       "      <td>NaN</td>\n",
       "      <td>NaN</td>\n",
       "    </tr>\n",
       "    <tr>\n",
       "      <th>2</th>\n",
       "      <td>0.0</td>\n",
       "      <td>0.0</td>\n",
       "      <td>92.74</td>\n",
       "      <td>0.000005</td>\n",
       "      <td>0.000005</td>\n",
       "      <td>0.000005</td>\n",
       "      <td>NaN</td>\n",
       "      <td>NaN</td>\n",
       "      <td>NaN</td>\n",
       "      <td>NaN</td>\n",
       "      <td>NaN</td>\n",
       "      <td>NaN</td>\n",
       "      <td>NaN</td>\n",
       "    </tr>\n",
       "    <tr>\n",
       "      <th>3</th>\n",
       "      <td>0.0</td>\n",
       "      <td>0.0</td>\n",
       "      <td>92.74</td>\n",
       "      <td>0.000005</td>\n",
       "      <td>0.000005</td>\n",
       "      <td>0.000005</td>\n",
       "      <td>NaN</td>\n",
       "      <td>NaN</td>\n",
       "      <td>NaN</td>\n",
       "      <td>NaN</td>\n",
       "      <td>NaN</td>\n",
       "      <td>NaN</td>\n",
       "      <td>NaN</td>\n",
       "    </tr>\n",
       "  </tbody>\n",
       "</table>\n",
       "</div>"
      ],
      "text/plain": [
       "   pos_x  pos_y  pos_z     rot_x     rot_y     rot_z  vel_x  vel_y  vel_z  \\\n",
       "1    0.0    0.0  92.74  0.000005  0.000005  0.000005    NaN    NaN    NaN   \n",
       "2    0.0    0.0  92.74  0.000005  0.000005  0.000005    NaN    NaN    NaN   \n",
       "3    0.0    0.0  92.74  0.000005  0.000005  0.000005    NaN    NaN    NaN   \n",
       "\n",
       "   ang_vel_x  ang_vel_y  ang_vel_z  hit_team_no  \n",
       "1        NaN        NaN        NaN          NaN  \n",
       "2        NaN        NaN        NaN          NaN  \n",
       "3        NaN        NaN        NaN          NaN  "
      ]
     },
     "execution_count": 10,
     "metadata": {},
     "output_type": "execute_result"
    }
   ],
   "source": [
    "print(game.ball.shape)\n",
    "game.ball.head(3)"
   ]
  },
  {
   "cell_type": "code",
   "execution_count": 11,
   "metadata": {
    "colab": {
     "base_uri": "https://localhost:8080/",
     "height": 34
    },
    "colab_type": "code",
    "id": "MEfqwJbcl304",
    "outputId": "10c8ac57-7865-4f4f-b109-713b44039b8c"
   },
   "outputs": [
    {
     "data": {
      "text/plain": [
       "'Paragon.RG'"
      ]
     },
     "execution_count": 11,
     "metadata": {},
     "output_type": "execute_result"
    }
   ],
   "source": [
    "game.players[0].name"
   ]
  },
  {
   "cell_type": "code",
   "execution_count": 12,
   "metadata": {
    "colab": {
     "base_uri": "https://localhost:8080/",
     "height": 54
    },
    "colab_type": "code",
    "id": "CPX3KNrrpXmm",
    "outputId": "5b0eb4f4-e2a0-439f-bf6e-457d86fdf726"
   },
   "outputs": [
    {
     "data": {
      "text/plain": [
       "dict_keys(['file_path', 'properties', 'replay_id', 'map', 'name', 'id', 'datetime', 'replay_version', 'teams', 'players', 'goals', 'primary_player', 'frames', 'kickoff_frames', 'ball', 'ball_type', 'demos', 'parties', 'dropshot', 'match_type', 'team_size', 'game_info'])"
      ]
     },
     "execution_count": 12,
     "metadata": {},
     "output_type": "execute_result"
    }
   ],
   "source": [
    "game.__dict__.keys()"
   ]
  },
  {
   "cell_type": "code",
   "execution_count": 13,
   "metadata": {
    "colab": {
     "base_uri": "https://localhost:8080/",
     "height": 54
    },
    "colab_type": "code",
    "id": "c1a35LngrXXM",
    "outputId": "abd73fa6-f606-457e-880b-280d34f2f2d3"
   },
   "outputs": [
    {
     "data": {
      "text/plain": [
       "dict_keys(['MaxChannels', 'GameVersion', 'BuildVersion', 'Team1Score', 'PlayerName', 'KeyframeDelay', 'ReserveMegabytes', 'PlayerStats', 'MaxReplaySizeMB', 'NumFrames', 'MatchType', 'MapName', 'BuildID', 'Goals', 'ReplayVersion', 'Changelist', 'Date', 'ReplayName', 'UnfairTeamSize', 'PrimaryPlayerTeam', 'ReplayLastSaveVersion', 'Id', 'Team0Score', 'TeamSize', 'RecordFPS', 'HighLights'])"
      ]
     },
     "execution_count": 13,
     "metadata": {},
     "output_type": "execute_result"
    }
   ],
   "source": [
    "game.properties.keys()\n",
    "# game.game_info.__dict__.keys()"
   ]
  },
  {
   "cell_type": "code",
   "execution_count": 14,
   "metadata": {
    "colab": {
     "base_uri": "https://localhost:8080/",
     "height": 34
    },
    "colab_type": "code",
    "id": "BFHmS48jl305",
    "outputId": "79ee70eb-45e4-4bef-f58c-3b302ebb14a5",
    "scrolled": true
   },
   "outputs": [
    {
     "name": "stdout",
     "output_type": "stream",
     "text": [
      "(9372, 23)\n"
     ]
    }
   ],
   "source": [
    "player_0_data = game.players[0].data\n",
    "print(player_0_data.shape)\n",
    "player_0_data.head(10)\n",
    "start = 0\n",
    "data = player_0_data.iloc[start:start + 10]"
   ]
  },
  {
   "cell_type": "code",
   "execution_count": 15,
   "metadata": {
    "colab": {},
    "colab_type": "code",
    "id": "qYs_PtZeokPY"
   },
   "outputs": [],
   "source": [
    "def equalize_player_data_rows(game):\n",
    "  '''\n",
    "  Updates the game data to ensure all player data lines up.\n",
    "  Modifies the game object in place.\n",
    "  '''\n",
    "  # @TODO Update this for efficiency using the following:\n",
    "    # https://stackoverflow.com/questions/48864923/pythonpandas-select-certain-rows-by-index-of-another-dataframe\n",
    "\n",
    "  # @TODO Merge ball data as well!\n",
    "\n",
    "  player1 = game.players[0]\n",
    "  other_players = game.players[1:]\n",
    "  columns = player1.data.columns\n",
    "  ball_columns = game.ball.columns\n",
    "  changed_ball_columns = list(map(lambda x: x + '_ball', ball_columns))\n",
    "  merged_player_data = player1.data\n",
    "\n",
    "  game.ball.columns = changed_ball_columns\n",
    "\n",
    "  for i, player in enumerate(other_players):\n",
    "    suffix = f'_p{i + 2}'\n",
    "    merged_player_data = merged_player_data.merge(player.data, left_index=True, right_index=True, suffixes=('', suffix))\n",
    "  merged_player_data = merged_player_data.merge(game.ball, left_index=True, right_index=True)\n",
    "\n",
    "  game.ball = merged_player_data[changed_ball_columns]\n",
    "  game.ball.columns = ball_columns\n",
    "\n",
    "  game.players[0].data = merged_player_data[columns]\n",
    "  for i, player in enumerate(game.players[1:]):\n",
    "    suffixed_columns = list(map(lambda x: x + f'_p{i + 2}', columns))\n",
    "    game.players[i + 1].data = merged_player_data[suffixed_columns]\n",
    "    game.players[i + 1].data.columns = columns"
   ]
  },
  {
   "cell_type": "code",
   "execution_count": 16,
   "metadata": {
    "colab": {
     "base_uri": "https://localhost:8080/",
     "height": 317
    },
    "colab_type": "code",
    "id": "KG7VaNCpSghu",
    "outputId": "fa412610-72ab-4490-8396-90818347b043"
   },
   "outputs": [
    {
     "data": {
      "text/html": [
       "<div>\n",
       "<style scoped>\n",
       "    .dataframe tbody tr th:only-of-type {\n",
       "        vertical-align: middle;\n",
       "    }\n",
       "\n",
       "    .dataframe tbody tr th {\n",
       "        vertical-align: top;\n",
       "    }\n",
       "\n",
       "    .dataframe thead th {\n",
       "        text-align: right;\n",
       "    }\n",
       "</style>\n",
       "<table border=\"1\" class=\"dataframe\">\n",
       "  <thead>\n",
       "    <tr style=\"text-align: right;\">\n",
       "      <th></th>\n",
       "      <th>pos_x</th>\n",
       "      <th>pos_y</th>\n",
       "      <th>pos_z</th>\n",
       "      <th>rot_x</th>\n",
       "      <th>rot_y</th>\n",
       "      <th>rot_z</th>\n",
       "      <th>vel_x</th>\n",
       "      <th>vel_y</th>\n",
       "      <th>vel_z</th>\n",
       "      <th>ang_vel_x</th>\n",
       "      <th>ang_vel_y</th>\n",
       "      <th>ang_vel_z</th>\n",
       "      <th>hit_team_no</th>\n",
       "    </tr>\n",
       "  </thead>\n",
       "  <tbody>\n",
       "    <tr>\n",
       "      <th>count</th>\n",
       "      <td>9372.000000</td>\n",
       "      <td>9372.000000</td>\n",
       "      <td>9372.000000</td>\n",
       "      <td>9372.000000</td>\n",
       "      <td>9372.000000</td>\n",
       "      <td>9372.000000</td>\n",
       "      <td>6955.000000</td>\n",
       "      <td>6955.000000</td>\n",
       "      <td>6955.000000</td>\n",
       "      <td>6955.000000</td>\n",
       "      <td>6955.000000</td>\n",
       "      <td>6955.000000</td>\n",
       "      <td>7263.000000</td>\n",
       "    </tr>\n",
       "    <tr>\n",
       "      <th>mean</th>\n",
       "      <td>-270.808818</td>\n",
       "      <td>-1390.726677</td>\n",
       "      <td>292.742621</td>\n",
       "      <td>0.032008</td>\n",
       "      <td>0.062030</td>\n",
       "      <td>0.060736</td>\n",
       "      <td>-63.387405</td>\n",
       "      <td>-2009.761783</td>\n",
       "      <td>83.307822</td>\n",
       "      <td>407.637024</td>\n",
       "      <td>428.501179</td>\n",
       "      <td>-364.727534</td>\n",
       "      <td>0.686906</td>\n",
       "    </tr>\n",
       "    <tr>\n",
       "      <th>std</th>\n",
       "      <td>1970.284315</td>\n",
       "      <td>2725.204078</td>\n",
       "      <td>321.166652</td>\n",
       "      <td>0.605156</td>\n",
       "      <td>1.564784</td>\n",
       "      <td>1.524260</td>\n",
       "      <td>8971.477166</td>\n",
       "      <td>9144.856339</td>\n",
       "      <td>4629.723324</td>\n",
       "      <td>3219.635141</td>\n",
       "      <td>3057.800402</td>\n",
       "      <td>2829.859400</td>\n",
       "      <td>0.463784</td>\n",
       "    </tr>\n",
       "    <tr>\n",
       "      <th>min</th>\n",
       "      <td>-4009.900000</td>\n",
       "      <td>-5215.160000</td>\n",
       "      <td>88.530000</td>\n",
       "      <td>-1.504617</td>\n",
       "      <td>-3.141223</td>\n",
       "      <td>-3.139310</td>\n",
       "      <td>-31105.500000</td>\n",
       "      <td>-32266.900000</td>\n",
       "      <td>-20042.300000</td>\n",
       "      <td>-5925.600000</td>\n",
       "      <td>-5913.200000</td>\n",
       "      <td>-5940.600000</td>\n",
       "      <td>0.000000</td>\n",
       "    </tr>\n",
       "    <tr>\n",
       "      <th>25%</th>\n",
       "      <td>-1704.890000</td>\n",
       "      <td>-3950.967500</td>\n",
       "      <td>93.140000</td>\n",
       "      <td>-0.325619</td>\n",
       "      <td>-0.883463</td>\n",
       "      <td>-0.873229</td>\n",
       "      <td>-5462.100000</td>\n",
       "      <td>-8212.450000</td>\n",
       "      <td>-1544.950000</td>\n",
       "      <td>-1945.200000</td>\n",
       "      <td>-1669.700000</td>\n",
       "      <td>-2583.400000</td>\n",
       "      <td>0.000000</td>\n",
       "    </tr>\n",
       "    <tr>\n",
       "      <th>50%</th>\n",
       "      <td>0.000000</td>\n",
       "      <td>-909.625000</td>\n",
       "      <td>155.725000</td>\n",
       "      <td>0.000005</td>\n",
       "      <td>0.000005</td>\n",
       "      <td>0.000005</td>\n",
       "      <td>0.000000</td>\n",
       "      <td>-1260.300000</td>\n",
       "      <td>0.000000</td>\n",
       "      <td>446.700000</td>\n",
       "      <td>146.600000</td>\n",
       "      <td>0.000000</td>\n",
       "      <td>1.000000</td>\n",
       "    </tr>\n",
       "    <tr>\n",
       "      <th>75%</th>\n",
       "      <td>617.980000</td>\n",
       "      <td>0.000000</td>\n",
       "      <td>335.602500</td>\n",
       "      <td>0.392106</td>\n",
       "      <td>1.094436</td>\n",
       "      <td>1.041990</td>\n",
       "      <td>6196.550000</td>\n",
       "      <td>3162.600000</td>\n",
       "      <td>1723.800000</td>\n",
       "      <td>2929.700000</td>\n",
       "      <td>3004.000000</td>\n",
       "      <td>1927.100000</td>\n",
       "      <td>1.000000</td>\n",
       "    </tr>\n",
       "    <tr>\n",
       "      <th>max</th>\n",
       "      <td>4002.710000</td>\n",
       "      <td>5214.100000</td>\n",
       "      <td>1969.920000</td>\n",
       "      <td>1.554465</td>\n",
       "      <td>3.139370</td>\n",
       "      <td>3.139530</td>\n",
       "      <td>19626.800000</td>\n",
       "      <td>31230.000000</td>\n",
       "      <td>24308.300000</td>\n",
       "      <td>5998.400000</td>\n",
       "      <td>5995.600000</td>\n",
       "      <td>5976.100000</td>\n",
       "      <td>1.000000</td>\n",
       "    </tr>\n",
       "  </tbody>\n",
       "</table>\n",
       "</div>"
      ],
      "text/plain": [
       "             pos_x        pos_y        pos_z        rot_x        rot_y  \\\n",
       "count  9372.000000  9372.000000  9372.000000  9372.000000  9372.000000   \n",
       "mean   -270.808818 -1390.726677   292.742621     0.032008     0.062030   \n",
       "std    1970.284315  2725.204078   321.166652     0.605156     1.564784   \n",
       "min   -4009.900000 -5215.160000    88.530000    -1.504617    -3.141223   \n",
       "25%   -1704.890000 -3950.967500    93.140000    -0.325619    -0.883463   \n",
       "50%       0.000000  -909.625000   155.725000     0.000005     0.000005   \n",
       "75%     617.980000     0.000000   335.602500     0.392106     1.094436   \n",
       "max    4002.710000  5214.100000  1969.920000     1.554465     3.139370   \n",
       "\n",
       "             rot_z         vel_x         vel_y         vel_z    ang_vel_x  \\\n",
       "count  9372.000000   6955.000000   6955.000000   6955.000000  6955.000000   \n",
       "mean      0.060736    -63.387405  -2009.761783     83.307822   407.637024   \n",
       "std       1.524260   8971.477166   9144.856339   4629.723324  3219.635141   \n",
       "min      -3.139310 -31105.500000 -32266.900000 -20042.300000 -5925.600000   \n",
       "25%      -0.873229  -5462.100000  -8212.450000  -1544.950000 -1945.200000   \n",
       "50%       0.000005      0.000000  -1260.300000      0.000000   446.700000   \n",
       "75%       1.041990   6196.550000   3162.600000   1723.800000  2929.700000   \n",
       "max       3.139530  19626.800000  31230.000000  24308.300000  5998.400000   \n",
       "\n",
       "         ang_vel_y    ang_vel_z  hit_team_no  \n",
       "count  6955.000000  6955.000000  7263.000000  \n",
       "mean    428.501179  -364.727534     0.686906  \n",
       "std    3057.800402  2829.859400     0.463784  \n",
       "min   -5913.200000 -5940.600000     0.000000  \n",
       "25%   -1669.700000 -2583.400000     0.000000  \n",
       "50%     146.600000     0.000000     1.000000  \n",
       "75%    3004.000000  1927.100000     1.000000  \n",
       "max    5995.600000  5976.100000     1.000000  "
      ]
     },
     "execution_count": 16,
     "metadata": {},
     "output_type": "execute_result"
    }
   ],
   "source": [
    "game.ball.describe()"
   ]
  },
  {
   "cell_type": "code",
   "execution_count": 17,
   "metadata": {
    "colab": {},
    "colab_type": "code",
    "id": "QQboajadl308"
   },
   "outputs": [],
   "source": [
    "def get_game_state_columns():\n",
    "    return [ # built-in columns only - no added data\n",
    "        'pos_x',\n",
    "        'pos_y',\n",
    "        'pos_z',\n",
    "        'rot_x',\n",
    "        'rot_y',\n",
    "        'rot_z',\n",
    "        'vel_x',\n",
    "        'vel_y',\n",
    "        'vel_z',\n",
    "        'ang_vel_x',\n",
    "        'ang_vel_y',\n",
    "        'ang_vel_z',\n",
    "        'active',\n",
    "        'boost',\n",
    "    ]\n",
    "\n",
    "def get_controller_input_columns():\n",
    "    return [\n",
    "        'throttle',\n",
    "        'steer',\n",
    "        'handbrake',\n",
    "        'dodge_active',\n",
    "        'double_jump_active',\n",
    "        'jump_active',\n",
    "        'boost_active',\n",
    "    ]\n",
    "\n",
    "def get_ball_columns():\n",
    "    return [\n",
    "        'pos_x',\n",
    "        'pos_y',\n",
    "        'pos_z',\n",
    "        'vel_x',\n",
    "        'vel_y',\n",
    "        'vel_z',\n",
    "    ]"
   ]
  },
  {
   "cell_type": "code",
   "execution_count": 18,
   "metadata": {
    "colab": {},
    "colab_type": "code",
    "id": "tm9RKHuel30-"
   },
   "outputs": [],
   "source": [
    "def add_active_column(df):\n",
    "    '''Returns a new dataframe with an extra 'action' column.\n",
    "    '''\n",
    "    dataframe = df.assign(active=(~np.isnan(df['steer'])).astype(int))\n",
    "    return dataframe"
   ]
  },
  {
   "cell_type": "code",
   "execution_count": 19,
   "metadata": {
    "colab": {},
    "colab_type": "code",
    "id": "1Z45Wv2oeijR"
   },
   "outputs": [],
   "source": [
    "def squeeze_value(value, fudge_factor=0.10):\n",
    "  '''Squeezes 0-1 values between, say, 0.05-0.95 for sigmoid activations.\n",
    "  '''\n",
    "  return value # hack - do not squeeze value if not using sigmoid activations.\n",
    "  return value * (1 - fudge_factor) + (fudge_factor / 2)\n",
    "\n",
    "def normalize_data(dataframe, fudge_factor=0.10):\n",
    "  '''\n",
    "  Returns a normalized copy of a dataframe.\n",
    "  Fudges the data to place it between (say) 0.025-0.975 instead of 0-1.\n",
    "  The dataframe provided should contain only numerical data.\n",
    "  Provides simple min-max normalization.\n",
    "  '''\n",
    "  normalized = (dataframe - dataframe.min()) / (dataframe.max() - dataframe.min())\n",
    "  # return normalized * (1 - fudge_factor) + (fudge_factor / 2)\n",
    "  return squeeze_value(normalized, fudge_factor)\n",
    "\n",
    "def normalize_player_data(player_df, main_player=False):\n",
    "  '''\n",
    "  Returns a normalized dataframe of player data. Normalizes only numerical data.\n",
    "  '''\n",
    "  cols_to_normalize = player_df.select_dtypes(include=np.number).columns.tolist()\n",
    "  cols = player_df[cols_to_normalize]\n",
    "  return normalize_data(cols)"
   ]
  },
  {
   "cell_type": "code",
   "execution_count": 20,
   "metadata": {
    "colab": {},
    "colab_type": "code",
    "id": "oRNplzlel30_"
   },
   "outputs": [],
   "source": [
    "def clean_player_data(player_df, main_player=False, team=None):\n",
    "    '''Handles cleaning, copying, etc. of a player dataframe.\n",
    "    '''\n",
    "    with_active = add_active_column(player_df)\n",
    "    str_bool_to_int = { 'True': 1, 'False': 0, np.nan: 0, None: 0 }\n",
    "    \n",
    "    # convert odd-number based activations to 0 and 1\n",
    "    def odd_num_to_bool(num):\n",
    "      # if np.isnan(num): return 0\n",
    "      return int(num % 2 == 1)\n",
    "    with_active['dodge_active'] = with_active['dodge_active'].apply(odd_num_to_bool)\n",
    "    with_active['jump_active'] = with_active['jump_active'].apply(odd_num_to_bool)\n",
    "    with_active['double_jump_active'] = with_active['double_jump_active'].apply(odd_num_to_bool)\n",
    "\n",
    "    dtypes_map = dict(with_active.dtypes)\n",
    "    if dtypes_map['ball_cam'] == np.bool:\n",
    "      with_active['ball_cam'] = with_active['ball_cam'].astype(int)\n",
    "    elif dtypes_map['ball_cam'] == np.str:\n",
    "      with_active['ball_cam'] = with_active.replace({ 'ball_cam': str_bool_to_int })\n",
    "\n",
    "    cleaned = with_active.replace({\n",
    "        'handbrake': str_bool_to_int,\n",
    "        # 'ball_cam': str_bool_to_int,\n",
    "        # 'boost_active': str_bool_to_int\n",
    "        # 'double_jump_active': str_bool_to_int,\n",
    "    })\n",
    "\n",
    "    cleaned = cleaned.fillna(0)\n",
    "\n",
    "    if not main_player:\n",
    "        cleaned = cleaned[get_game_state_columns()]\n",
    "\n",
    "    return cleaned"
   ]
  },
  {
   "cell_type": "code",
   "execution_count": 21,
   "metadata": {
    "colab": {},
    "colab_type": "code",
    "id": "6Ch9F05klMae"
   },
   "outputs": [],
   "source": [
    "def clean_ball_data(ball):\n",
    "  ball = ball[get_ball_columns()].copy()\n",
    "  ball = ball.fillna(0)\n",
    "  return ball"
   ]
  },
  {
   "cell_type": "code",
   "execution_count": 22,
   "metadata": {
    "colab": {},
    "colab_type": "code",
    "id": "zjAkjRNWl31D"
   },
   "outputs": [],
   "source": [
    "def get_stadium_number(stadium):\n",
    "  stadiums = [\n",
    "    'cs_day_p',\n",
    "    'NeoTokyo_Standard_P',\n",
    "    'UtopiaStadium_Dusk_P',\n",
    "    'Stadium_P',\n",
    "    'EuroStadium_Night_P',\n",
    "    'TrainStation_Dawn_P',\n",
    "    'cs_p',\n",
    "    'EuroStadium_P',\n",
    "    'Underwater_P',\n",
    "    'arc_standard_p',\n",
    "    'stadium_day_p',\n",
    "    'wasteland_Night_S_P',\n",
    "    'beach_P',\n",
    "    'wasteland_s_p',\n",
    "    'beach_night_p',\n",
    "    'Farm_Night_P',\n",
    "    'Farm_UpsideDown_P',\n",
    "    'EuroStadium_Rainy_P',\n",
    "    'UtopiaStadium_P',\n",
    "  ]\n",
    "\n",
    "  try:\n",
    "    index = stadiums.index(stadium)\n",
    "  except ValueError:\n",
    "    print(f\"WARNING: Stadium {stadium} does not have a numeric mapping.\")\n",
    "    return 0\n",
    "  return (index + 1) / (len(stadiums) + 1)"
   ]
  },
  {
   "cell_type": "code",
   "execution_count": 23,
   "metadata": {
    "colab": {},
    "colab_type": "code",
    "id": "QK3l2QZRRAKW"
   },
   "outputs": [],
   "source": [
    "# This cell is modified from David Wolever's answer here: https://stackoverflow.com/a/13849249\n",
    "def unit_vector(vector):\n",
    "    \"\"\" Returns the unit vector of the vector.  \"\"\"\n",
    "    return vector / np.linalg.norm(vector)\n",
    "\n",
    "def angle_between(v1, v2):\n",
    "    \"\"\" Returns the angle in radians between vectors 'v1' and 'v2'::\n",
    "\n",
    "            >>> angle_between((1, 0, 0), (0, 1, 0))\n",
    "            1.5707963267948966\n",
    "            >>> angle_between((1, 0, 0), (1, 0, 0))\n",
    "            0.0\n",
    "            >>> angle_between((1, 0, 0), (-1, 0, 0))\n",
    "            3.141592653589793\n",
    "    \"\"\"\n",
    "    v1_u = unit_vector(v1)\n",
    "    v2_u = unit_vector(v2)\n",
    "    return np.arccos(np.clip(np.sum(np.multiply(v1_u, v2_u), axis=1), -1.0, 1.0))"
   ]
  },
  {
   "cell_type": "code",
   "execution_count": 24,
   "metadata": {
    "colab": {
     "base_uri": "https://localhost:8080/",
     "height": 323
    },
    "colab_type": "code",
    "id": "6GNxpZFnd0-o",
    "outputId": "19e62305-9814-4d6a-9090-946028dc365a"
   },
   "outputs": [
    {
     "name": "stdout",
     "output_type": "stream",
     "text": [
      "   x  y  z\n",
      "0 -1 -1  0\n",
      "1 -1 -2  0\n",
      "2 -1 -3  0\n",
      "3 -1 -4  0\n",
      "4 -1 -5  0\n",
      "[1.41421356 2.23606798 3.16227766 4.12310563 5.09901951]\n"
     ]
    },
    {
     "data": {
      "text/html": [
       "<div>\n",
       "<style scoped>\n",
       "    .dataframe tbody tr th:only-of-type {\n",
       "        vertical-align: middle;\n",
       "    }\n",
       "\n",
       "    .dataframe tbody tr th {\n",
       "        vertical-align: top;\n",
       "    }\n",
       "\n",
       "    .dataframe thead th {\n",
       "        text-align: right;\n",
       "    }\n",
       "</style>\n",
       "<table border=\"1\" class=\"dataframe\">\n",
       "  <thead>\n",
       "    <tr style=\"text-align: right;\">\n",
       "      <th></th>\n",
       "      <th>a</th>\n",
       "      <th>b</th>\n",
       "      <th>c</th>\n",
       "    </tr>\n",
       "  </thead>\n",
       "  <tbody>\n",
       "    <tr>\n",
       "      <th>0</th>\n",
       "      <td>1</td>\n",
       "      <td>4</td>\n",
       "      <td>7</td>\n",
       "    </tr>\n",
       "    <tr>\n",
       "      <th>1</th>\n",
       "      <td>2</td>\n",
       "      <td>5</td>\n",
       "      <td>8</td>\n",
       "    </tr>\n",
       "    <tr>\n",
       "      <th>2</th>\n",
       "      <td>3</td>\n",
       "      <td>6</td>\n",
       "      <td>9</td>\n",
       "    </tr>\n",
       "    <tr>\n",
       "      <th>3</th>\n",
       "      <td>4</td>\n",
       "      <td>7</td>\n",
       "      <td>10</td>\n",
       "    </tr>\n",
       "    <tr>\n",
       "      <th>4</th>\n",
       "      <td>5</td>\n",
       "      <td>8</td>\n",
       "      <td>11</td>\n",
       "    </tr>\n",
       "  </tbody>\n",
       "</table>\n",
       "</div>"
      ],
      "text/plain": [
       "   a  b   c\n",
       "0  1  4   7\n",
       "1  2  5   8\n",
       "2  3  6   9\n",
       "3  4  7  10\n",
       "4  5  8  11"
      ]
     },
     "execution_count": 24,
     "metadata": {},
     "output_type": "execute_result"
    }
   ],
   "source": [
    "df = pd.DataFrame({\n",
    "    'x': [1, 2, 3, 4, 5],\n",
    "    'y': [4, 5, 6, 7, 8],\n",
    "    'z': [7, 8, 9, 10, 11],\n",
    "})\n",
    "df2 = pd.DataFrame({\n",
    "    'x': [2, 3, 4, 5, 6],\n",
    "    'y': [5, 7, 9, 11, 13],\n",
    "    'z': [7, 8, 9, 10, 11],\n",
    "})\n",
    "\n",
    "diff = df.subtract(df2, axis=0)\n",
    "print(diff)\n",
    "print(np.linalg.norm(diff.values, axis=1))\n",
    "# player_relative['ball_dist'] = np.linalg.norm(player_position - ball_position)\n",
    "\n",
    "df.set_axis(('a', 'b', 'c'), axis=1, inplace=False)"
   ]
  },
  {
   "cell_type": "code",
   "execution_count": 25,
   "metadata": {
    "colab": {
     "base_uri": "https://localhost:8080/",
     "height": 34
    },
    "colab_type": "code",
    "id": "ZqVh4WdF2FKQ",
    "outputId": "17d873e1-e799-4604-9015-4de9500cf752"
   },
   "outputs": [
    {
     "data": {
      "text/plain": [
       "'f'"
      ]
     },
     "execution_count": 25,
     "metadata": {},
     "output_type": "execute_result"
    }
   ],
   "source": [
    "name = 'asdf'\n",
    "name[-1:]"
   ]
  },
  {
   "cell_type": "code",
   "execution_count": 26,
   "metadata": {
    "colab": {},
    "colab_type": "code",
    "id": "67yjHEp9m1PM"
   },
   "outputs": [],
   "source": [
    "def get_relative_data(player, ball, opponent):\n",
    "  '''\n",
    "  Returns a new set of dataframes with data relative to the player.\n",
    "  '''\n",
    "  print(f\"Player shape (in get_relative_data): {player.shape}\")\n",
    "  print(f\"Opponent shape (in get_relative_data): {opponent.shape}\")\n",
    "  print(f\"Ball shape (in get_relative_data): {ball.shape}\")\n",
    "  # NOTE: should eventually handle a list of teammates and opponents\n",
    "  columns = get_game_state_columns()\n",
    "  ball_columns = get_ball_columns()\n",
    "\n",
    "  player_relative = pd.DataFrame()\n",
    "  opponent_relative = pd.DataFrame()\n",
    "  ball_relative = pd.DataFrame()\n",
    "\n",
    "  player_relative['boost'] = player['boost']\n",
    "  player_relative['active'] = player['active']\n",
    "  player_relative['vel_x'] = player['vel_x']\n",
    "  player_relative['vel_y'] = player['vel_y']\n",
    "  player_relative['vel_z'] = player['vel_z']\n",
    "  # player_relative['ang_vel_x'] = player['ang_vel_x']\n",
    "  # player_relative['ang_vel_y'] = player['ang_vel_y']\n",
    "  # player_relative['ang_vel_z'] = player['ang_vel_z']\n",
    "  player_relative['jump_active'] = player['jump_active']\n",
    "  # player_relative['double_jump_active'] = player['double_jump_active'] # seems to be empty and causes NaNs\n",
    "  player_relative['dodge_active'] = player['dodge_active']\n",
    "\n",
    "  column_names = ('x', 'y', 'z')\n",
    "  player_position = player[['pos_x', 'pos_y', 'pos_z']].set_axis(column_names, axis=1, inplace=False)\n",
    "  player_facing = player[['rot_x', 'rot_y', 'rot_z']].set_axis(column_names, axis=1, inplace=False)\n",
    "  player_vel = player[['vel_x', 'vel_y', 'vel_z']].set_axis(column_names, axis=1, inplace=False)\n",
    "  player_spinning = player[['ang_vel_x', 'ang_vel_y', 'ang_vel_z']].set_axis(column_names, axis=1, inplace=False)\n",
    "  ball_position = ball[['pos_x', 'pos_y', 'pos_z']].set_axis(column_names, axis=1, inplace=False)\n",
    "  ball_vel = ball[['vel_x', 'vel_y', 'vel_z']].set_axis(column_names, axis=1, inplace=False)\n",
    "\n",
    "  goal_height = 642.775\n",
    "  back_wall = 5120\n",
    "  # Floor: 0\n",
    "  # Center field: (0, 0)\n",
    "  # Side wall: 4096\n",
    "  # Back wall: 5120\n",
    "  # Ceiling: 2044\n",
    "  # Goal height: 642.775\n",
    "  # Goal center-to-post: 892.755\n",
    "\n",
    "  player_relative['ball_dist'] = np.linalg.norm(player_position - ball_position, axis=1)\n",
    "  player_relative['angle_to_face_ball'] = angle_between(player_facing, ball_position)\n",
    "  player_relative['angle_to_move_to_ball'] = angle_between(player_vel, ball_position)\n",
    "\n",
    "  player_relative['opposing_goal_x'] = -player_position['x']\n",
    "  # @TODO This needs to be based on the player's 'team' - could have +/- y\n",
    "  player_relative['opposing_goal_y'] = -back_wall - player_position['y']\n",
    "  player_relative['opposing_goal_z'] = (goal_height / 2) - player_position['z']\n",
    "\n",
    "  ball_relative['vel_x'] = ball_vel['x'] - player_vel['x']\n",
    "  ball_relative['vel_y'] = ball_vel['y'] - player_vel['y']\n",
    "  ball_relative['vel_z'] = ball_vel['z'] - player_vel['z']\n",
    "  ball_relative['pos_z'] = ball_position['z']\n",
    "\n",
    "  opponent_relative['pos_x'] = opponent['pos_x'] - player['pos_x']\n",
    "  opponent_relative['pos_y'] = opponent['pos_y'] - player['pos_y']\n",
    "  opponent_relative['pos_z'] = opponent['pos_z'] - player['pos_z']\n",
    "  opponent_relative['vel_x'] = opponent['vel_x'] - player['vel_x']\n",
    "  opponent_relative['vel_y'] = opponent['vel_y'] - player['vel_y']\n",
    "  opponent_relative['vel_z'] = opponent['vel_z'] - player['vel_z']\n",
    "\n",
    "  # @TODO Drop player columns that are now represented by other means\n",
    "    # Eg. player position should now be represented by distance to walls and\n",
    "    # distance & angle to net.\n",
    "  return player_relative, ball_relative, opponent_relative"
   ]
  },
  {
   "cell_type": "code",
   "execution_count": 27,
   "metadata": {
    "colab": {},
    "colab_type": "code",
    "id": "k8cln729l31E"
   },
   "outputs": [],
   "source": [
    "def get_X_and_y(player, team, opponents, ball, game, team_num):\n",
    "    '''\n",
    "    Returns X (input) and y (labels) for a neural network. Accepts arguments\n",
    "    relating to the data from a replay.\n",
    "    '''\n",
    "    player = clean_player_data(player.data, main_player=True)\n",
    "    # player = player[player['active'] == 1] # take only rows where player is active. NOTE: This was causing mis-alignment in relative data.\n",
    "    # teammate1 = clean_player_data(team[0].data)\n",
    "    # teammate2 = clean_player_data(team[1].data)\n",
    "    opponent1 = clean_player_data(opponents[0].data)\n",
    "    # opponent2 = clean_player_data(opponents[1].data)\n",
    "    # opponent3 = clean_player_data(opponents[2].data)\n",
    "    ball = clean_ball_data(ball)\n",
    "\n",
    "    y = player[get_controller_input_columns()]\n",
    "\n",
    "    # @TODO Update player dataframes to be relative to player with ball cam\n",
    "    player, ball, opponent1 = get_relative_data(player, ball, opponent1)\n",
    "    \n",
    "    # @TODO Flip x/y values of opponents: pos_y, rot_y, vel_y, ang_vel_y\n",
    "    # This ensures all training happens in the same direction (eg. opponent's goal is positive)\n",
    "    # OR, simply assign each player a Team input set to 0 or 1.\n",
    "    # NOTE: Need to think about what is required for this to make sense. Will try without.\n",
    "\n",
    "    player = normalize_player_data(player, main_player=True)\n",
    "\n",
    "    X = player#[get_game_state_columns()]\n",
    "\n",
    "    # Normalize remainder of data\n",
    "    opponent1 = normalize_player_data(opponent1)\n",
    "    ball = normalize_data(ball)\n",
    "    y = normalize_data(y, fudge_factor=0) # do not fudge predictions!\n",
    "\n",
    "    # X = pd.merge(X, teammate1, left_index=True, right_index=True, suffixes=('', '_team1'))\n",
    "    # X = pd.merge(X, teammate2, left_index=True, right_index=True, suffixes=('', '_team2'))\n",
    "    X = pd.merge(X, opponent1, left_index=True, right_index=True, suffixes=('', '_op1'))\n",
    "    # X = pd.merge(X, opponent2, left_index=True, right_index=True, suffixes=('', '_op2'))\n",
    "    # X = pd.merge(X, opponent3, left_index=True, right_index=True, suffixes=('', '_op3'))\n",
    "    X = pd.merge(X, ball, left_index=True, right_index=True, suffixes=('', '_ball'))\n",
    "\n",
    "    assert X.shape[0] == y.shape[0], f\"X has {X.shape[0]} rows, but y has {y.shape[0]}.\"\n",
    "    \n",
    "    # add any extra fields (must normalize these separately)\n",
    "    X['map'] = squeeze_value(get_stadium_number(game.map))\n",
    "    X['team'] = squeeze_value(team_num)\n",
    "\n",
    "    # @TODO [OPTIONAL] Loop over opponent dataframes. Build up new frames based on closest-to-ball\n",
    "    return X, y"
   ]
  },
  {
   "cell_type": "code",
   "execution_count": 28,
   "metadata": {
    "colab": {
     "base_uri": "https://localhost:8080/",
     "height": 34
    },
    "colab_type": "code",
    "id": "I4hdqC9U69_j",
    "outputId": "79e9e512-43de-4366-cff0-8e55f089d8b6"
   },
   "outputs": [
    {
     "name": "stdout",
     "output_type": "stream",
     "text": [
      "2\n"
     ]
    }
   ],
   "source": [
    "games = map(get_game, game_files)\n",
    "print(len(game_files))"
   ]
  },
  {
   "cell_type": "code",
   "execution_count": 29,
   "metadata": {
    "colab": {},
    "colab_type": "code",
    "id": "umK9dcbY7lAQ"
   },
   "outputs": [],
   "source": [
    "def get_y_pred_columns():\n",
    "  return ['steer', 'throttle']"
   ]
  },
  {
   "cell_type": "code",
   "execution_count": 30,
   "metadata": {
    "colab": {
     "base_uri": "https://localhost:8080/",
     "height": 408
    },
    "colab_type": "code",
    "id": "WyRn1Bbql31G",
    "outputId": "950ece6e-21c2-441e-fc53-1c058e280c7b",
    "scrolled": true
   },
   "outputs": [
    {
     "name": "stdout",
     "output_type": "stream",
     "text": [
      "Parsing and concatenating 2 game(s). -----\n"
     ]
    },
    {
     "name": "stderr",
     "output_type": "stream",
     "text": [
      "Could not find field_of_view in camera settings for Casper\n",
      "Could not find height in camera settings for Casper\n",
      "Could not find pitch in camera settings for Casper\n",
      "Could not find distance in camera settings for Casper\n",
      "Could not find stiffness in camera settings for Casper\n",
      "Could not find swivel_speed in camera settings for Casper\n",
      "Could not find transition_speed in camera settings for Casper\n"
     ]
    },
    {
     "name": "stdout",
     "output_type": "stream",
     "text": [
      "Player shape (in get_relative_data): (9371, 24)\n",
      "Opponent shape (in get_relative_data): (9371, 14)\n",
      "Ball shape (in get_relative_data): (9371, 6)\n"
     ]
    },
    {
     "name": "stderr",
     "output_type": "stream",
     "text": [
      "Replay name not found\n",
      "Could not find field_of_view in camera settings for Swabbie\n",
      "Could not find height in camera settings for Swabbie\n",
      "Could not find pitch in camera settings for Swabbie\n",
      "Could not find distance in camera settings for Swabbie\n",
      "Could not find stiffness in camera settings for Swabbie\n",
      "Could not find swivel_speed in camera settings for Swabbie\n",
      "Could not find transition_speed in camera settings for Swabbie\n"
     ]
    },
    {
     "name": "stdout",
     "output_type": "stream",
     "text": [
      "Player shape (in get_relative_data): (9281, 24)\n",
      "Opponent shape (in get_relative_data): (9281, 14)\n",
      "Ball shape (in get_relative_data): (9281, 6)\n",
      "Completed game intake. -----\n"
     ]
    }
   ],
   "source": [
    "games = map(get_game, game_files)\n",
    "max_games = -1\n",
    "\n",
    "def assert_colour(player):\n",
    "    '''\n",
    "    Asserts that a blue player has a negative y starting value. This ensures\n",
    "    that there is consistency between teams and team numbers across replays.\n",
    "    '''\n",
    "    player_start = player.data['pos_y'].iloc[0]\n",
    "    player_colour = 'orange' if player_start > 0 else 'blue'\n",
    "    # print(player_start > 0, player.is_orange)\n",
    "    # print(f\"Player is {player_colour} and has start of {player_start}.\")\n",
    "    assert (player_start > 0) == player.is_orange, f\"Player is {player_colour} but has start of {player_start}.\"\n",
    "\n",
    "def get_game_data(game):\n",
    "  equalize_player_data_rows(game)\n",
    "  Xs = []\n",
    "  ys = []\n",
    "  for i, team in enumerate(game.teams):\n",
    "      if i > 0: break # hack to skip second team\n",
    "      team_num = int(team.is_orange)\n",
    "      team = list(team.players)\n",
    "      opponents = list(game.teams[1 - i].players)\n",
    "      for j, player in enumerate(team):\n",
    "          assert_colour(player)\n",
    "          if j > 0: continue # hack to skip other players\n",
    "          teammates = []\n",
    "          if len(team) == 2:\n",
    "            teammates = [team[(j + 1) % 3]]\n",
    "          elif len(team) == 3:\n",
    "            teammates = [team[(j + 1) % 3], team[(j + 2) % 3]]\n",
    "\n",
    "  #         print('Me:', player)\n",
    "  #         print('Teammates:', teammates[0].name, 'and', teammates[1].name)\n",
    "  #         print('Opponents:', opponents[0].name, opponents[1].name, opponents[2].name)\n",
    "  #         print('---')\n",
    "          new_X, new_y = get_X_and_y(player, teammates, opponents, game.ball, game, team_num)\n",
    "          Xs.append(new_X)\n",
    "          ys.append(new_y)\n",
    "  X = pd.concat(Xs)\n",
    "  y = pd.concat(ys)\n",
    "  return X, y\n",
    "\n",
    "\n",
    "num_games = len(game_files) if max_games < 0 else max_games\n",
    "print(f'Parsing and concatenating {num_games} game(s). -----')\n",
    "\n",
    "all_Xs = []\n",
    "all_ys = []\n",
    "for i, game in enumerate(games):\n",
    "  if max_games >= 1 and i >= max_games:\n",
    "    print(f'Stopping at {max_games} max games.')\n",
    "    break\n",
    "  # try:\n",
    "  new_X, new_y = get_game_data(game)\n",
    "  # except TypeError:\n",
    "  #   print(f'ERROR: Game invalid. Skipping. ({game})')\n",
    "  #   continue\n",
    "  all_Xs.append(new_X)\n",
    "  all_ys.append(new_y)\n",
    "  # X = pd.concat(X, new_X)\n",
    "  # y = pd.concat(y, new_y)\n",
    "if len(all_Xs) == 0:\n",
    "  raise ValueError('all_Xs is empty. Should have at least one data set.')\n",
    "elif len(all_Xs) == 1:\n",
    "  X = all_Xs[0]\n",
    "  y = all_ys[0]\n",
    "else:\n",
    "  X = pd.concat(all_Xs)\n",
    "  y = pd.concat(all_ys)\n",
    "\n",
    "y = y[get_y_pred_columns()]\n",
    "# throttle, steer, handbrake, dodge_active, double_jump_active, jump_active, boost_active\n",
    "\n",
    "print(f'Completed game intake. -----')"
   ]
  },
  {
   "cell_type": "code",
   "execution_count": 31,
   "metadata": {
    "colab": {
     "base_uri": "https://localhost:8080/",
     "height": 317
    },
    "colab_type": "code",
    "id": "zubzoYJshQGG",
    "outputId": "ba73ca60-45d5-445b-fae6-7f1351ff2152"
   },
   "outputs": [
    {
     "data": {
      "text/html": [
       "<div>\n",
       "<style scoped>\n",
       "    .dataframe tbody tr th:only-of-type {\n",
       "        vertical-align: middle;\n",
       "    }\n",
       "\n",
       "    .dataframe tbody tr th {\n",
       "        vertical-align: top;\n",
       "    }\n",
       "\n",
       "    .dataframe thead th {\n",
       "        text-align: right;\n",
       "    }\n",
       "</style>\n",
       "<table border=\"1\" class=\"dataframe\">\n",
       "  <thead>\n",
       "    <tr style=\"text-align: right;\">\n",
       "      <th></th>\n",
       "      <th>boost</th>\n",
       "      <th>active</th>\n",
       "      <th>vel_x</th>\n",
       "      <th>vel_y</th>\n",
       "      <th>vel_z</th>\n",
       "      <th>jump_active</th>\n",
       "      <th>dodge_active</th>\n",
       "      <th>ball_dist</th>\n",
       "      <th>angle_to_face_ball</th>\n",
       "      <th>angle_to_move_to_ball</th>\n",
       "      <th>opposing_goal_x</th>\n",
       "      <th>opposing_goal_y</th>\n",
       "      <th>opposing_goal_z</th>\n",
       "      <th>pos_x</th>\n",
       "      <th>pos_y</th>\n",
       "      <th>pos_z</th>\n",
       "      <th>vel_x_op1</th>\n",
       "      <th>vel_y_op1</th>\n",
       "      <th>vel_z_op1</th>\n",
       "      <th>vel_x_ball</th>\n",
       "      <th>vel_y_ball</th>\n",
       "      <th>vel_z_ball</th>\n",
       "      <th>pos_z_ball</th>\n",
       "      <th>map</th>\n",
       "      <th>team</th>\n",
       "    </tr>\n",
       "  </thead>\n",
       "  <tbody>\n",
       "    <tr>\n",
       "      <th>count</th>\n",
       "      <td>18652.000000</td>\n",
       "      <td>18652.000000</td>\n",
       "      <td>18652.000000</td>\n",
       "      <td>18652.000000</td>\n",
       "      <td>18652.000000</td>\n",
       "      <td>18652.000000</td>\n",
       "      <td>18652.000000</td>\n",
       "      <td>18652.000000</td>\n",
       "      <td>18652.000000</td>\n",
       "      <td>18652.000000</td>\n",
       "      <td>18652.000000</td>\n",
       "      <td>18652.000000</td>\n",
       "      <td>18652.000000</td>\n",
       "      <td>18652.000000</td>\n",
       "      <td>18652.000000</td>\n",
       "      <td>18652.000000</td>\n",
       "      <td>18652.000000</td>\n",
       "      <td>18652.000000</td>\n",
       "      <td>18652.000000</td>\n",
       "      <td>18652.000000</td>\n",
       "      <td>18652.000000</td>\n",
       "      <td>18652.000000</td>\n",
       "      <td>18652.000000</td>\n",
       "      <td>1.865200e+04</td>\n",
       "      <td>18652.0</td>\n",
       "    </tr>\n",
       "    <tr>\n",
       "      <th>mean</th>\n",
       "      <td>0.151920</td>\n",
       "      <td>0.990189</td>\n",
       "      <td>0.523878</td>\n",
       "      <td>0.516021</td>\n",
       "      <td>0.360946</td>\n",
       "      <td>0.007935</td>\n",
       "      <td>0.039406</td>\n",
       "      <td>0.300143</td>\n",
       "      <td>0.481213</td>\n",
       "      <td>0.481540</td>\n",
       "      <td>0.495030</td>\n",
       "      <td>0.608573</td>\n",
       "      <td>0.972444</td>\n",
       "      <td>0.588980</td>\n",
       "      <td>0.437949</td>\n",
       "      <td>0.342710</td>\n",
       "      <td>0.490429</td>\n",
       "      <td>0.522003</td>\n",
       "      <td>0.463163</td>\n",
       "      <td>0.501246</td>\n",
       "      <td>0.646612</td>\n",
       "      <td>0.483289</td>\n",
       "      <td>0.119038</td>\n",
       "      <td>2.000000e-01</td>\n",
       "      <td>0.0</td>\n",
       "    </tr>\n",
       "    <tr>\n",
       "      <th>std</th>\n",
       "      <td>0.239403</td>\n",
       "      <td>0.098567</td>\n",
       "      <td>0.153468</td>\n",
       "      <td>0.229959</td>\n",
       "      <td>0.067850</td>\n",
       "      <td>0.088726</td>\n",
       "      <td>0.194564</td>\n",
       "      <td>0.191260</td>\n",
       "      <td>0.162477</td>\n",
       "      <td>0.168391</td>\n",
       "      <td>0.201579</td>\n",
       "      <td>0.265441</td>\n",
       "      <td>0.096544</td>\n",
       "      <td>0.147502</td>\n",
       "      <td>0.221477</td>\n",
       "      <td>0.188218</td>\n",
       "      <td>0.149484</td>\n",
       "      <td>0.141316</td>\n",
       "      <td>0.085747</td>\n",
       "      <td>0.131429</td>\n",
       "      <td>0.127004</td>\n",
       "      <td>0.107070</td>\n",
       "      <td>0.189658</td>\n",
       "      <td>2.775632e-17</td>\n",
       "      <td>0.0</td>\n",
       "    </tr>\n",
       "    <tr>\n",
       "      <th>min</th>\n",
       "      <td>0.000000</td>\n",
       "      <td>0.000000</td>\n",
       "      <td>0.000000</td>\n",
       "      <td>0.000000</td>\n",
       "      <td>0.000000</td>\n",
       "      <td>0.000000</td>\n",
       "      <td>0.000000</td>\n",
       "      <td>0.000000</td>\n",
       "      <td>0.000000</td>\n",
       "      <td>0.000000</td>\n",
       "      <td>0.000000</td>\n",
       "      <td>0.000000</td>\n",
       "      <td>0.000000</td>\n",
       "      <td>0.000000</td>\n",
       "      <td>0.000000</td>\n",
       "      <td>0.000000</td>\n",
       "      <td>0.000000</td>\n",
       "      <td>0.000000</td>\n",
       "      <td>0.000000</td>\n",
       "      <td>0.000000</td>\n",
       "      <td>0.000000</td>\n",
       "      <td>0.000000</td>\n",
       "      <td>0.000000</td>\n",
       "      <td>2.000000e-01</td>\n",
       "      <td>0.0</td>\n",
       "    </tr>\n",
       "    <tr>\n",
       "      <th>25%</th>\n",
       "      <td>0.000000</td>\n",
       "      <td>1.000000</td>\n",
       "      <td>0.452978</td>\n",
       "      <td>0.358039</td>\n",
       "      <td>0.319355</td>\n",
       "      <td>0.000000</td>\n",
       "      <td>0.000000</td>\n",
       "      <td>0.137496</td>\n",
       "      <td>0.391615</td>\n",
       "      <td>0.391337</td>\n",
       "      <td>0.384018</td>\n",
       "      <td>0.422132</td>\n",
       "      <td>0.997645</td>\n",
       "      <td>0.522657</td>\n",
       "      <td>0.287005</td>\n",
       "      <td>0.153261</td>\n",
       "      <td>0.417453</td>\n",
       "      <td>0.472668</td>\n",
       "      <td>0.404386</td>\n",
       "      <td>0.438375</td>\n",
       "      <td>0.560535</td>\n",
       "      <td>0.448528</td>\n",
       "      <td>0.002937</td>\n",
       "      <td>2.000000e-01</td>\n",
       "      <td>0.0</td>\n",
       "    </tr>\n",
       "    <tr>\n",
       "      <th>50%</th>\n",
       "      <td>0.015686</td>\n",
       "      <td>1.000000</td>\n",
       "      <td>0.521373</td>\n",
       "      <td>0.500033</td>\n",
       "      <td>0.365944</td>\n",
       "      <td>0.000000</td>\n",
       "      <td>0.000000</td>\n",
       "      <td>0.277336</td>\n",
       "      <td>0.493328</td>\n",
       "      <td>0.466024</td>\n",
       "      <td>0.500513</td>\n",
       "      <td>0.676712</td>\n",
       "      <td>0.997659</td>\n",
       "      <td>0.588853</td>\n",
       "      <td>0.389784</td>\n",
       "      <td>0.434926</td>\n",
       "      <td>0.491712</td>\n",
       "      <td>0.535823</td>\n",
       "      <td>0.464937</td>\n",
       "      <td>0.503584</td>\n",
       "      <td>0.677452</td>\n",
       "      <td>0.480805</td>\n",
       "      <td>0.030810</td>\n",
       "      <td>2.000000e-01</td>\n",
       "      <td>0.0</td>\n",
       "    </tr>\n",
       "    <tr>\n",
       "      <th>75%</th>\n",
       "      <td>0.300687</td>\n",
       "      <td>1.000000</td>\n",
       "      <td>0.601360</td>\n",
       "      <td>0.681614</td>\n",
       "      <td>0.395508</td>\n",
       "      <td>0.000000</td>\n",
       "      <td>0.000000</td>\n",
       "      <td>0.430158</td>\n",
       "      <td>0.541933</td>\n",
       "      <td>0.531253</td>\n",
       "      <td>0.598800</td>\n",
       "      <td>0.832034</td>\n",
       "      <td>0.998604</td>\n",
       "      <td>0.660169</td>\n",
       "      <td>0.512875</td>\n",
       "      <td>0.492114</td>\n",
       "      <td>0.569518</td>\n",
       "      <td>0.596559</td>\n",
       "      <td>0.514970</td>\n",
       "      <td>0.569829</td>\n",
       "      <td>0.722344</td>\n",
       "      <td>0.516913</td>\n",
       "      <td>0.153097</td>\n",
       "      <td>2.000000e-01</td>\n",
       "      <td>0.0</td>\n",
       "    </tr>\n",
       "    <tr>\n",
       "      <th>max</th>\n",
       "      <td>1.000000</td>\n",
       "      <td>1.000000</td>\n",
       "      <td>1.000000</td>\n",
       "      <td>1.000000</td>\n",
       "      <td>1.000000</td>\n",
       "      <td>1.000000</td>\n",
       "      <td>1.000000</td>\n",
       "      <td>1.000000</td>\n",
       "      <td>1.000000</td>\n",
       "      <td>1.000000</td>\n",
       "      <td>1.000000</td>\n",
       "      <td>1.000000</td>\n",
       "      <td>1.000000</td>\n",
       "      <td>1.000000</td>\n",
       "      <td>1.000000</td>\n",
       "      <td>1.000000</td>\n",
       "      <td>1.000000</td>\n",
       "      <td>1.000000</td>\n",
       "      <td>1.000000</td>\n",
       "      <td>1.000000</td>\n",
       "      <td>1.000000</td>\n",
       "      <td>1.000000</td>\n",
       "      <td>1.000000</td>\n",
       "      <td>2.000000e-01</td>\n",
       "      <td>0.0</td>\n",
       "    </tr>\n",
       "  </tbody>\n",
       "</table>\n",
       "</div>"
      ],
      "text/plain": [
       "              boost        active         vel_x         vel_y         vel_z  \\\n",
       "count  18652.000000  18652.000000  18652.000000  18652.000000  18652.000000   \n",
       "mean       0.151920      0.990189      0.523878      0.516021      0.360946   \n",
       "std        0.239403      0.098567      0.153468      0.229959      0.067850   \n",
       "min        0.000000      0.000000      0.000000      0.000000      0.000000   \n",
       "25%        0.000000      1.000000      0.452978      0.358039      0.319355   \n",
       "50%        0.015686      1.000000      0.521373      0.500033      0.365944   \n",
       "75%        0.300687      1.000000      0.601360      0.681614      0.395508   \n",
       "max        1.000000      1.000000      1.000000      1.000000      1.000000   \n",
       "\n",
       "        jump_active  dodge_active     ball_dist  angle_to_face_ball  \\\n",
       "count  18652.000000  18652.000000  18652.000000        18652.000000   \n",
       "mean       0.007935      0.039406      0.300143            0.481213   \n",
       "std        0.088726      0.194564      0.191260            0.162477   \n",
       "min        0.000000      0.000000      0.000000            0.000000   \n",
       "25%        0.000000      0.000000      0.137496            0.391615   \n",
       "50%        0.000000      0.000000      0.277336            0.493328   \n",
       "75%        0.000000      0.000000      0.430158            0.541933   \n",
       "max        1.000000      1.000000      1.000000            1.000000   \n",
       "\n",
       "       angle_to_move_to_ball  opposing_goal_x  opposing_goal_y  \\\n",
       "count           18652.000000     18652.000000     18652.000000   \n",
       "mean                0.481540         0.495030         0.608573   \n",
       "std                 0.168391         0.201579         0.265441   \n",
       "min                 0.000000         0.000000         0.000000   \n",
       "25%                 0.391337         0.384018         0.422132   \n",
       "50%                 0.466024         0.500513         0.676712   \n",
       "75%                 0.531253         0.598800         0.832034   \n",
       "max                 1.000000         1.000000         1.000000   \n",
       "\n",
       "       opposing_goal_z         pos_x         pos_y         pos_z  \\\n",
       "count     18652.000000  18652.000000  18652.000000  18652.000000   \n",
       "mean          0.972444      0.588980      0.437949      0.342710   \n",
       "std           0.096544      0.147502      0.221477      0.188218   \n",
       "min           0.000000      0.000000      0.000000      0.000000   \n",
       "25%           0.997645      0.522657      0.287005      0.153261   \n",
       "50%           0.997659      0.588853      0.389784      0.434926   \n",
       "75%           0.998604      0.660169      0.512875      0.492114   \n",
       "max           1.000000      1.000000      1.000000      1.000000   \n",
       "\n",
       "          vel_x_op1     vel_y_op1     vel_z_op1    vel_x_ball    vel_y_ball  \\\n",
       "count  18652.000000  18652.000000  18652.000000  18652.000000  18652.000000   \n",
       "mean       0.490429      0.522003      0.463163      0.501246      0.646612   \n",
       "std        0.149484      0.141316      0.085747      0.131429      0.127004   \n",
       "min        0.000000      0.000000      0.000000      0.000000      0.000000   \n",
       "25%        0.417453      0.472668      0.404386      0.438375      0.560535   \n",
       "50%        0.491712      0.535823      0.464937      0.503584      0.677452   \n",
       "75%        0.569518      0.596559      0.514970      0.569829      0.722344   \n",
       "max        1.000000      1.000000      1.000000      1.000000      1.000000   \n",
       "\n",
       "         vel_z_ball    pos_z_ball           map     team  \n",
       "count  18652.000000  18652.000000  1.865200e+04  18652.0  \n",
       "mean       0.483289      0.119038  2.000000e-01      0.0  \n",
       "std        0.107070      0.189658  2.775632e-17      0.0  \n",
       "min        0.000000      0.000000  2.000000e-01      0.0  \n",
       "25%        0.448528      0.002937  2.000000e-01      0.0  \n",
       "50%        0.480805      0.030810  2.000000e-01      0.0  \n",
       "75%        0.516913      0.153097  2.000000e-01      0.0  \n",
       "max        1.000000      1.000000  2.000000e-01      0.0  "
      ]
     },
     "execution_count": 31,
     "metadata": {},
     "output_type": "execute_result"
    }
   ],
   "source": [
    "start = 300\n",
    "X.iloc[start:start + 20]\n",
    "X.describe()"
   ]
  },
  {
   "cell_type": "code",
   "execution_count": 32,
   "metadata": {
    "colab": {
     "base_uri": "https://localhost:8080/",
     "height": 1000
    },
    "colab_type": "code",
    "id": "iRnzzV4J6xw9",
    "outputId": "7a490498-7359-49ee-b29b-335afc8aa864"
   },
   "outputs": [
    {
     "data": {
      "text/plain": [
       "array([[<matplotlib.axes._subplots.AxesSubplot object at 0x7ff6f4108eb8>,\n",
       "        <matplotlib.axes._subplots.AxesSubplot object at 0x7ff6ef0124a8>,\n",
       "        <matplotlib.axes._subplots.AxesSubplot object at 0x7ff6ea65da58>,\n",
       "        <matplotlib.axes._subplots.AxesSubplot object at 0x7ff73cad3048>,\n",
       "        <matplotlib.axes._subplots.AxesSubplot object at 0x7ff6ea6375f8>],\n",
       "       [<matplotlib.axes._subplots.AxesSubplot object at 0x7ff6ea78dba8>,\n",
       "        <matplotlib.axes._subplots.AxesSubplot object at 0x7ff6ef28c198>,\n",
       "        <matplotlib.axes._subplots.AxesSubplot object at 0x7ff6ef2b9780>,\n",
       "        <matplotlib.axes._subplots.AxesSubplot object at 0x7ff6ef2b97b8>,\n",
       "        <matplotlib.axes._subplots.AxesSubplot object at 0x7ff6ecada2e8>],\n",
       "       [<matplotlib.axes._subplots.AxesSubplot object at 0x7ff73cb6f898>,\n",
       "        <matplotlib.axes._subplots.AxesSubplot object at 0x7ff6ef3c6e48>,\n",
       "        <matplotlib.axes._subplots.AxesSubplot object at 0x7ff6ef447438>,\n",
       "        <matplotlib.axes._subplots.AxesSubplot object at 0x7ff6ecb239e8>,\n",
       "        <matplotlib.axes._subplots.AxesSubplot object at 0x7ff6ecb01f98>],\n",
       "       [<matplotlib.axes._subplots.AxesSubplot object at 0x7ff6ef27c588>,\n",
       "        <matplotlib.axes._subplots.AxesSubplot object at 0x7ff6ef32fb38>,\n",
       "        <matplotlib.axes._subplots.AxesSubplot object at 0x7ff73cbda128>,\n",
       "        <matplotlib.axes._subplots.AxesSubplot object at 0x7ff73cc396d8>,\n",
       "        <matplotlib.axes._subplots.AxesSubplot object at 0x7ff6f442dc88>],\n",
       "       [<matplotlib.axes._subplots.AxesSubplot object at 0x7ff6ecbdd278>,\n",
       "        <matplotlib.axes._subplots.AxesSubplot object at 0x7ff6ef351828>,\n",
       "        <matplotlib.axes._subplots.AxesSubplot object at 0x7ff6ef3726d8>,\n",
       "        <matplotlib.axes._subplots.AxesSubplot object at 0x7ff73ca9ec88>,\n",
       "        <matplotlib.axes._subplots.AxesSubplot object at 0x7ff6ef3ac278>]],\n",
       "      dtype=object)"
      ]
     },
     "execution_count": 32,
     "metadata": {},
     "output_type": "execute_result"
    },
    {
     "data": {
      "image/png": "[encoded data removed]",
      "text/plain": [
       "<Figure size 1440x864 with 25 Axes>"
      ]
     },
     "metadata": {
      "needs_background": "light"
     },
     "output_type": "display_data"
    }
   ],
   "source": [
    "X.hist(figsize=(20, 12))"
   ]
  },
  {
   "cell_type": "code",
   "execution_count": 33,
   "metadata": {
    "colab": {
     "base_uri": "https://localhost:8080/",
     "height": 170
    },
    "colab_type": "code",
    "id": "qWbkLtb5l31I",
    "outputId": "f470281f-6488-4c68-b2ee-1779ee474172"
   },
   "outputs": [
    {
     "name": "stdout",
     "output_type": "stream",
     "text": [
      "(11192, 25)\n",
      "(3730, 25)\n",
      "(3730, 25)\n",
      "(11192, 2)\n",
      "(3730, 2)\n",
      "(3730, 2)\n",
      "18652\n",
      "18652\n",
      "We have 18652 rows in X. We have 18652 in all sub-matrices combined (which should be the same).\n"
     ]
    }
   ],
   "source": [
    "def take_sample(X, y, quantity):\n",
    "  if quantity == None: return X, y\n",
    "  return X[0:quantity], y[0:quantity]\n",
    "\n",
    "\n",
    "# def split_data(dataframe, shuffle=True, max_val_size=20000, max_test_size=20000):\n",
    "#   '''\n",
    "#   Returns the data split into train, val, and test sets.\n",
    "#   '''\n",
    "#   if shuffle:\n",
    "#     dataframe = dataframe.sample(frac=1)\n",
    "#   m = shuffled.shape[0]\n",
    "#   size_val_set = min(int(m * 0.2), max_val_size)\n",
    "#   size_test_set = min(int(m * 0.2), max_test_size)\n",
    "#   end_test_set = size_val_set + size_test_set\n",
    "\n",
    "#   val_set = dataframe[0:size_val_set]\n",
    "#   test_set = dataframe[size_val_set:end_test_set]\n",
    "#   train_set = dataframe[end_test_set:]\n",
    "#   return train_set, val_set, test_set\n",
    "\n",
    "# X_train, X_val, X_test = split_data(X, shuffle=False)\n",
    "\n",
    "X_shuffled = X#.sample(frac=1)\n",
    "y_shuffled = y#.sample(frac=1)\n",
    "assert X_shuffled.shape[0] == y_shuffled.shape[0], f\"X has {X_shuffled.shape[0]} rows, but y has {y_shuffled.shape[0]}.\"\n",
    "# X_shuffled, y_shuffled = take_sample(X_shuffled, y_shuffled, 3000)\n",
    "m = X_shuffled.shape[0]\n",
    "\n",
    "size_val_set = min(int(m * 0.2), 20000)\n",
    "size_test_set = min(int(m * 0.2), 20000)\n",
    "end_test_set = size_val_set + size_test_set\n",
    "X_val = X_shuffled[0:size_val_set]\n",
    "y_val = y_shuffled[0:size_val_set]\n",
    "X_test = X_shuffled[size_val_set:end_test_set]\n",
    "y_test = y_shuffled[size_val_set:end_test_set]\n",
    "X_train = X_shuffled[end_test_set:]\n",
    "y_train = y_shuffled[end_test_set:]\n",
    "\n",
    "print(X_train.shape)\n",
    "print(X_val.shape)\n",
    "print(X_test.shape)\n",
    "\n",
    "print(y_train.shape)\n",
    "print(y_val.shape)\n",
    "print(y_test.shape)\n",
    "\n",
    "sum_rows = X_train.shape[0] + X_val.shape[0] + X_test.shape[0]\n",
    "print(X_train.shape[0] + X_val.shape[0] + X_test.shape[0])\n",
    "print(X.shape[0])\n",
    "print(f\"We have {X_shuffled.shape[0]} rows in X. We have {sum_rows} in all sub-matrices combined (which should be the same).\")\n",
    "assert(sum_rows == X_shuffled.shape[0])\n",
    "assert(X_train.shape[0] == y_train.shape[0])"
   ]
  },
  {
   "cell_type": "code",
   "execution_count": 34,
   "metadata": {
    "colab": {
     "base_uri": "https://localhost:8080/",
     "height": 100
    },
    "colab_type": "code",
    "id": "L-bQPIIMxWl_",
    "outputId": "b3c87cb9-0f32-428c-dd46-974e3a70c2f1"
   },
   "outputs": [
    {
     "data": {
      "text/html": [
       "<div>\n",
       "<style scoped>\n",
       "    .dataframe tbody tr th:only-of-type {\n",
       "        vertical-align: middle;\n",
       "    }\n",
       "\n",
       "    .dataframe tbody tr th {\n",
       "        vertical-align: top;\n",
       "    }\n",
       "\n",
       "    .dataframe thead th {\n",
       "        text-align: right;\n",
       "    }\n",
       "</style>\n",
       "<table border=\"1\" class=\"dataframe\">\n",
       "  <thead>\n",
       "    <tr style=\"text-align: right;\">\n",
       "      <th></th>\n",
       "      <th>boost</th>\n",
       "      <th>active</th>\n",
       "      <th>vel_x</th>\n",
       "      <th>vel_y</th>\n",
       "      <th>vel_z</th>\n",
       "      <th>jump_active</th>\n",
       "      <th>dodge_active</th>\n",
       "      <th>ball_dist</th>\n",
       "      <th>angle_to_face_ball</th>\n",
       "      <th>angle_to_move_to_ball</th>\n",
       "      <th>opposing_goal_x</th>\n",
       "      <th>opposing_goal_y</th>\n",
       "      <th>opposing_goal_z</th>\n",
       "      <th>pos_x</th>\n",
       "      <th>pos_y</th>\n",
       "      <th>pos_z</th>\n",
       "      <th>vel_x_op1</th>\n",
       "      <th>vel_y_op1</th>\n",
       "      <th>vel_z_op1</th>\n",
       "      <th>vel_x_ball</th>\n",
       "      <th>vel_y_ball</th>\n",
       "      <th>vel_z_ball</th>\n",
       "      <th>pos_z_ball</th>\n",
       "      <th>map</th>\n",
       "      <th>team</th>\n",
       "    </tr>\n",
       "  </thead>\n",
       "  <tbody>\n",
       "    <tr>\n",
       "      <th>2</th>\n",
       "      <td>0.333333</td>\n",
       "      <td>1.0</td>\n",
       "      <td>0.53352</td>\n",
       "      <td>0.488734</td>\n",
       "      <td>0.390955</td>\n",
       "      <td>0.0</td>\n",
       "      <td>0.0</td>\n",
       "      <td>0.505871</td>\n",
       "      <td>0.505216</td>\n",
       "      <td>0.463328</td>\n",
       "      <td>0.531996</td>\n",
       "      <td>0.832034</td>\n",
       "      <td>0.982256</td>\n",
       "      <td>0.61455</td>\n",
       "      <td>0.877814</td>\n",
       "      <td>0.143706</td>\n",
       "      <td>0.478723</td>\n",
       "      <td>0.57942</td>\n",
       "      <td>0.407766</td>\n",
       "      <td>0.497941</td>\n",
       "      <td>0.677471</td>\n",
       "      <td>0.454859</td>\n",
       "      <td>0.002238</td>\n",
       "      <td>0.2</td>\n",
       "      <td>0</td>\n",
       "    </tr>\n",
       "  </tbody>\n",
       "</table>\n",
       "</div>"
      ],
      "text/plain": [
       "      boost  active    vel_x     vel_y     vel_z  jump_active  dodge_active  \\\n",
       "2  0.333333     1.0  0.53352  0.488734  0.390955          0.0           0.0   \n",
       "\n",
       "   ball_dist  angle_to_face_ball  angle_to_move_to_ball  opposing_goal_x  \\\n",
       "2   0.505871            0.505216               0.463328         0.531996   \n",
       "\n",
       "   opposing_goal_y  opposing_goal_z    pos_x     pos_y     pos_z  vel_x_op1  \\\n",
       "2         0.832034         0.982256  0.61455  0.877814  0.143706   0.478723   \n",
       "\n",
       "   vel_y_op1  vel_z_op1  vel_x_ball  vel_y_ball  vel_z_ball  pos_z_ball  map  \\\n",
       "2    0.57942   0.407766    0.497941    0.677471    0.454859    0.002238  0.2   \n",
       "\n",
       "   team  \n",
       "2     0  "
      ]
     },
     "execution_count": 34,
     "metadata": {},
     "output_type": "execute_result"
    }
   ],
   "source": [
    "X.head(1)"
   ]
  },
  {
   "cell_type": "code",
   "execution_count": 35,
   "metadata": {
    "colab": {
     "base_uri": "https://localhost:8080/",
     "height": 80
    },
    "colab_type": "code",
    "id": "dLcSKiUdxyCP",
    "outputId": "80bb9730-1030-4f63-b8fe-6f3275a794db"
   },
   "outputs": [
    {
     "data": {
      "text/html": [
       "<div>\n",
       "<style scoped>\n",
       "    .dataframe tbody tr th:only-of-type {\n",
       "        vertical-align: middle;\n",
       "    }\n",
       "\n",
       "    .dataframe tbody tr th {\n",
       "        vertical-align: top;\n",
       "    }\n",
       "\n",
       "    .dataframe thead th {\n",
       "        text-align: right;\n",
       "    }\n",
       "</style>\n",
       "<table border=\"1\" class=\"dataframe\">\n",
       "  <thead>\n",
       "    <tr style=\"text-align: right;\">\n",
       "      <th></th>\n",
       "      <th>steer</th>\n",
       "      <th>throttle</th>\n",
       "    </tr>\n",
       "  </thead>\n",
       "  <tbody>\n",
       "    <tr>\n",
       "      <th>2</th>\n",
       "      <td>0.901961</td>\n",
       "      <td>0.0</td>\n",
       "    </tr>\n",
       "  </tbody>\n",
       "</table>\n",
       "</div>"
      ],
      "text/plain": [
       "      steer  throttle\n",
       "2  0.901961       0.0"
      ]
     },
     "execution_count": 35,
     "metadata": {},
     "output_type": "execute_result"
    }
   ],
   "source": [
    "y.head(1)"
   ]
  },
  {
   "cell_type": "markdown",
   "metadata": {
    "colab_type": "text",
    "id": "VZ9JLpxul31K"
   },
   "source": [
    "## Distributions of controller inputs"
   ]
  },
  {
   "cell_type": "code",
   "execution_count": 36,
   "metadata": {
    "colab": {
     "base_uri": "https://localhost:8080/",
     "height": 550
    },
    "colab_type": "code",
    "id": "0boYgE0Hl31L",
    "outputId": "fc4388b6-86d7-4004-de47-0c4aa3759a93",
    "scrolled": false
   },
   "outputs": [
    {
     "data": {
      "text/plain": [
       "array([[<matplotlib.axes._subplots.AxesSubplot object at 0x7ff6ef9722e8>,\n",
       "        <matplotlib.axes._subplots.AxesSubplot object at 0x7ff6ef9f1588>]],\n",
       "      dtype=object)"
      ]
     },
     "execution_count": 36,
     "metadata": {},
     "output_type": "execute_result"
    },
    {
     "data": {
      "image/png": "[encoded data removed]",
      "text/plain": [
       "<Figure size 864x576 with 2 Axes>"
      ]
     },
     "metadata": {
      "needs_background": "light"
     },
     "output_type": "display_data"
    }
   ],
   "source": [
    "y.hist(figsize=(12, 8))"
   ]
  },
  {
   "cell_type": "code",
   "execution_count": 37,
   "metadata": {
    "colab": {
     "base_uri": "https://localhost:8080/",
     "height": 34
    },
    "colab_type": "code",
    "id": "NOlDWFQjr_U5",
    "outputId": "78df6290-24ad-460a-ad47-b1beb160f250"
   },
   "outputs": [
    {
     "data": {
      "text/plain": [
       "Series([], dtype: bool)"
      ]
     },
     "execution_count": 37,
     "metadata": {},
     "output_type": "execute_result"
    }
   ],
   "source": [
    "x_nulls = X.isnull().any()\n",
    "x_nulls[x_nulls == True]"
   ]
  },
  {
   "cell_type": "code",
   "execution_count": 38,
   "metadata": {
    "colab": {
     "base_uri": "https://localhost:8080/",
     "height": 317
    },
    "colab_type": "code",
    "id": "wPisg3jC2U3j",
    "outputId": "a90d0090-e1ef-4178-f0c7-b725536fe2c7"
   },
   "outputs": [
    {
     "data": {
      "text/html": [
       "<div>\n",
       "<style scoped>\n",
       "    .dataframe tbody tr th:only-of-type {\n",
       "        vertical-align: middle;\n",
       "    }\n",
       "\n",
       "    .dataframe tbody tr th {\n",
       "        vertical-align: top;\n",
       "    }\n",
       "\n",
       "    .dataframe thead th {\n",
       "        text-align: right;\n",
       "    }\n",
       "</style>\n",
       "<table border=\"1\" class=\"dataframe\">\n",
       "  <thead>\n",
       "    <tr style=\"text-align: right;\">\n",
       "      <th></th>\n",
       "      <th>boost</th>\n",
       "      <th>active</th>\n",
       "      <th>vel_x</th>\n",
       "      <th>vel_y</th>\n",
       "      <th>vel_z</th>\n",
       "      <th>jump_active</th>\n",
       "      <th>dodge_active</th>\n",
       "      <th>ball_dist</th>\n",
       "      <th>angle_to_face_ball</th>\n",
       "      <th>angle_to_move_to_ball</th>\n",
       "      <th>opposing_goal_x</th>\n",
       "      <th>opposing_goal_y</th>\n",
       "      <th>opposing_goal_z</th>\n",
       "      <th>pos_x</th>\n",
       "      <th>pos_y</th>\n",
       "      <th>pos_z</th>\n",
       "      <th>vel_x_op1</th>\n",
       "      <th>vel_y_op1</th>\n",
       "      <th>vel_z_op1</th>\n",
       "      <th>vel_x_ball</th>\n",
       "      <th>vel_y_ball</th>\n",
       "      <th>vel_z_ball</th>\n",
       "      <th>pos_z_ball</th>\n",
       "      <th>map</th>\n",
       "      <th>team</th>\n",
       "    </tr>\n",
       "  </thead>\n",
       "  <tbody>\n",
       "    <tr>\n",
       "      <th>count</th>\n",
       "      <td>11192.000000</td>\n",
       "      <td>11192.000000</td>\n",
       "      <td>11192.000000</td>\n",
       "      <td>11192.000000</td>\n",
       "      <td>11192.000000</td>\n",
       "      <td>11192.000000</td>\n",
       "      <td>11192.000000</td>\n",
       "      <td>11192.000000</td>\n",
       "      <td>11192.000000</td>\n",
       "      <td>11192.000000</td>\n",
       "      <td>11192.000000</td>\n",
       "      <td>11192.000000</td>\n",
       "      <td>11192.000000</td>\n",
       "      <td>11192.000000</td>\n",
       "      <td>11192.000000</td>\n",
       "      <td>11192.000000</td>\n",
       "      <td>11192.000000</td>\n",
       "      <td>11192.000000</td>\n",
       "      <td>11192.000000</td>\n",
       "      <td>11192.000000</td>\n",
       "      <td>11192.000000</td>\n",
       "      <td>11192.000000</td>\n",
       "      <td>11192.000000</td>\n",
       "      <td>11192.0</td>\n",
       "      <td>11192.0</td>\n",
       "    </tr>\n",
       "    <tr>\n",
       "      <th>mean</th>\n",
       "      <td>0.179133</td>\n",
       "      <td>0.992852</td>\n",
       "      <td>0.514095</td>\n",
       "      <td>0.517863</td>\n",
       "      <td>0.336460</td>\n",
       "      <td>0.007684</td>\n",
       "      <td>0.040207</td>\n",
       "      <td>0.294042</td>\n",
       "      <td>0.473829</td>\n",
       "      <td>0.501707</td>\n",
       "      <td>0.499031</td>\n",
       "      <td>0.586385</td>\n",
       "      <td>0.970148</td>\n",
       "      <td>0.609179</td>\n",
       "      <td>0.470901</td>\n",
       "      <td>0.450485</td>\n",
       "      <td>0.497912</td>\n",
       "      <td>0.503113</td>\n",
       "      <td>0.497925</td>\n",
       "      <td>0.505074</td>\n",
       "      <td>0.647361</td>\n",
       "      <td>0.503786</td>\n",
       "      <td>0.132504</td>\n",
       "      <td>0.2</td>\n",
       "      <td>0.0</td>\n",
       "    </tr>\n",
       "    <tr>\n",
       "      <th>std</th>\n",
       "      <td>0.262759</td>\n",
       "      <td>0.084247</td>\n",
       "      <td>0.156685</td>\n",
       "      <td>0.232019</td>\n",
       "      <td>0.063093</td>\n",
       "      <td>0.087325</td>\n",
       "      <td>0.196454</td>\n",
       "      <td>0.188489</td>\n",
       "      <td>0.165125</td>\n",
       "      <td>0.171311</td>\n",
       "      <td>0.203478</td>\n",
       "      <td>0.279015</td>\n",
       "      <td>0.103440</td>\n",
       "      <td>0.144386</td>\n",
       "      <td>0.212090</td>\n",
       "      <td>0.145655</td>\n",
       "      <td>0.155736</td>\n",
       "      <td>0.137573</td>\n",
       "      <td>0.077302</td>\n",
       "      <td>0.129064</td>\n",
       "      <td>0.129441</td>\n",
       "      <td>0.110628</td>\n",
       "      <td>0.208116</td>\n",
       "      <td>0.0</td>\n",
       "      <td>0.0</td>\n",
       "    </tr>\n",
       "    <tr>\n",
       "      <th>min</th>\n",
       "      <td>0.000000</td>\n",
       "      <td>0.000000</td>\n",
       "      <td>0.000000</td>\n",
       "      <td>0.000000</td>\n",
       "      <td>0.000000</td>\n",
       "      <td>0.000000</td>\n",
       "      <td>0.000000</td>\n",
       "      <td>0.000000</td>\n",
       "      <td>0.000000</td>\n",
       "      <td>0.000000</td>\n",
       "      <td>0.000000</td>\n",
       "      <td>0.000000</td>\n",
       "      <td>0.000000</td>\n",
       "      <td>0.000000</td>\n",
       "      <td>0.000000</td>\n",
       "      <td>0.000000</td>\n",
       "      <td>0.000000</td>\n",
       "      <td>0.000000</td>\n",
       "      <td>0.000000</td>\n",
       "      <td>0.000000</td>\n",
       "      <td>0.000000</td>\n",
       "      <td>0.000000</td>\n",
       "      <td>0.000000</td>\n",
       "      <td>0.2</td>\n",
       "      <td>0.0</td>\n",
       "    </tr>\n",
       "    <tr>\n",
       "      <th>25%</th>\n",
       "      <td>0.000000</td>\n",
       "      <td>1.000000</td>\n",
       "      <td>0.443122</td>\n",
       "      <td>0.360652</td>\n",
       "      <td>0.319346</td>\n",
       "      <td>0.000000</td>\n",
       "      <td>0.000000</td>\n",
       "      <td>0.135020</td>\n",
       "      <td>0.383502</td>\n",
       "      <td>0.408620</td>\n",
       "      <td>0.395138</td>\n",
       "      <td>0.368487</td>\n",
       "      <td>0.997652</td>\n",
       "      <td>0.536347</td>\n",
       "      <td>0.337703</td>\n",
       "      <td>0.485444</td>\n",
       "      <td>0.421814</td>\n",
       "      <td>0.459559</td>\n",
       "      <td>0.476777</td>\n",
       "      <td>0.445256</td>\n",
       "      <td>0.559529</td>\n",
       "      <td>0.452374</td>\n",
       "      <td>0.003150</td>\n",
       "      <td>0.2</td>\n",
       "      <td>0.0</td>\n",
       "    </tr>\n",
       "    <tr>\n",
       "      <th>50%</th>\n",
       "      <td>0.050980</td>\n",
       "      <td>1.000000</td>\n",
       "      <td>0.509611</td>\n",
       "      <td>0.500033</td>\n",
       "      <td>0.319384</td>\n",
       "      <td>0.000000</td>\n",
       "      <td>0.000000</td>\n",
       "      <td>0.267432</td>\n",
       "      <td>0.493328</td>\n",
       "      <td>0.522832</td>\n",
       "      <td>0.502369</td>\n",
       "      <td>0.645236</td>\n",
       "      <td>0.998604</td>\n",
       "      <td>0.614550</td>\n",
       "      <td>0.412422</td>\n",
       "      <td>0.492111</td>\n",
       "      <td>0.500634</td>\n",
       "      <td>0.524652</td>\n",
       "      <td>0.514836</td>\n",
       "      <td>0.508596</td>\n",
       "      <td>0.677471</td>\n",
       "      <td>0.514944</td>\n",
       "      <td>0.025675</td>\n",
       "      <td>0.2</td>\n",
       "      <td>0.0</td>\n",
       "    </tr>\n",
       "    <tr>\n",
       "      <th>75%</th>\n",
       "      <td>0.333333</td>\n",
       "      <td>1.000000</td>\n",
       "      <td>0.590620</td>\n",
       "      <td>0.680793</td>\n",
       "      <td>0.325840</td>\n",
       "      <td>0.000000</td>\n",
       "      <td>0.000000</td>\n",
       "      <td>0.428838</td>\n",
       "      <td>0.538733</td>\n",
       "      <td>0.553152</td>\n",
       "      <td>0.599055</td>\n",
       "      <td>0.827822</td>\n",
       "      <td>0.998610</td>\n",
       "      <td>0.674856</td>\n",
       "      <td>0.525194</td>\n",
       "      <td>0.499429</td>\n",
       "      <td>0.582605</td>\n",
       "      <td>0.576408</td>\n",
       "      <td>0.515061</td>\n",
       "      <td>0.568144</td>\n",
       "      <td>0.724387</td>\n",
       "      <td>0.534921</td>\n",
       "      <td>0.177019</td>\n",
       "      <td>0.2</td>\n",
       "      <td>0.0</td>\n",
       "    </tr>\n",
       "    <tr>\n",
       "      <th>max</th>\n",
       "      <td>1.000000</td>\n",
       "      <td>1.000000</td>\n",
       "      <td>1.000000</td>\n",
       "      <td>1.000000</td>\n",
       "      <td>1.000000</td>\n",
       "      <td>1.000000</td>\n",
       "      <td>1.000000</td>\n",
       "      <td>1.000000</td>\n",
       "      <td>1.000000</td>\n",
       "      <td>1.000000</td>\n",
       "      <td>1.000000</td>\n",
       "      <td>1.000000</td>\n",
       "      <td>1.000000</td>\n",
       "      <td>1.000000</td>\n",
       "      <td>1.000000</td>\n",
       "      <td>1.000000</td>\n",
       "      <td>1.000000</td>\n",
       "      <td>1.000000</td>\n",
       "      <td>1.000000</td>\n",
       "      <td>1.000000</td>\n",
       "      <td>1.000000</td>\n",
       "      <td>1.000000</td>\n",
       "      <td>1.000000</td>\n",
       "      <td>0.2</td>\n",
       "      <td>0.0</td>\n",
       "    </tr>\n",
       "  </tbody>\n",
       "</table>\n",
       "</div>"
      ],
      "text/plain": [
       "              boost        active         vel_x         vel_y         vel_z  \\\n",
       "count  11192.000000  11192.000000  11192.000000  11192.000000  11192.000000   \n",
       "mean       0.179133      0.992852      0.514095      0.517863      0.336460   \n",
       "std        0.262759      0.084247      0.156685      0.232019      0.063093   \n",
       "min        0.000000      0.000000      0.000000      0.000000      0.000000   \n",
       "25%        0.000000      1.000000      0.443122      0.360652      0.319346   \n",
       "50%        0.050980      1.000000      0.509611      0.500033      0.319384   \n",
       "75%        0.333333      1.000000      0.590620      0.680793      0.325840   \n",
       "max        1.000000      1.000000      1.000000      1.000000      1.000000   \n",
       "\n",
       "        jump_active  dodge_active     ball_dist  angle_to_face_ball  \\\n",
       "count  11192.000000  11192.000000  11192.000000        11192.000000   \n",
       "mean       0.007684      0.040207      0.294042            0.473829   \n",
       "std        0.087325      0.196454      0.188489            0.165125   \n",
       "min        0.000000      0.000000      0.000000            0.000000   \n",
       "25%        0.000000      0.000000      0.135020            0.383502   \n",
       "50%        0.000000      0.000000      0.267432            0.493328   \n",
       "75%        0.000000      0.000000      0.428838            0.538733   \n",
       "max        1.000000      1.000000      1.000000            1.000000   \n",
       "\n",
       "       angle_to_move_to_ball  opposing_goal_x  opposing_goal_y  \\\n",
       "count           11192.000000     11192.000000     11192.000000   \n",
       "mean                0.501707         0.499031         0.586385   \n",
       "std                 0.171311         0.203478         0.279015   \n",
       "min                 0.000000         0.000000         0.000000   \n",
       "25%                 0.408620         0.395138         0.368487   \n",
       "50%                 0.522832         0.502369         0.645236   \n",
       "75%                 0.553152         0.599055         0.827822   \n",
       "max                 1.000000         1.000000         1.000000   \n",
       "\n",
       "       opposing_goal_z         pos_x         pos_y         pos_z  \\\n",
       "count     11192.000000  11192.000000  11192.000000  11192.000000   \n",
       "mean          0.970148      0.609179      0.470901      0.450485   \n",
       "std           0.103440      0.144386      0.212090      0.145655   \n",
       "min           0.000000      0.000000      0.000000      0.000000   \n",
       "25%           0.997652      0.536347      0.337703      0.485444   \n",
       "50%           0.998604      0.614550      0.412422      0.492111   \n",
       "75%           0.998610      0.674856      0.525194      0.499429   \n",
       "max           1.000000      1.000000      1.000000      1.000000   \n",
       "\n",
       "          vel_x_op1     vel_y_op1     vel_z_op1    vel_x_ball    vel_y_ball  \\\n",
       "count  11192.000000  11192.000000  11192.000000  11192.000000  11192.000000   \n",
       "mean       0.497912      0.503113      0.497925      0.505074      0.647361   \n",
       "std        0.155736      0.137573      0.077302      0.129064      0.129441   \n",
       "min        0.000000      0.000000      0.000000      0.000000      0.000000   \n",
       "25%        0.421814      0.459559      0.476777      0.445256      0.559529   \n",
       "50%        0.500634      0.524652      0.514836      0.508596      0.677471   \n",
       "75%        0.582605      0.576408      0.515061      0.568144      0.724387   \n",
       "max        1.000000      1.000000      1.000000      1.000000      1.000000   \n",
       "\n",
       "         vel_z_ball    pos_z_ball      map     team  \n",
       "count  11192.000000  11192.000000  11192.0  11192.0  \n",
       "mean       0.503786      0.132504      0.2      0.0  \n",
       "std        0.110628      0.208116      0.0      0.0  \n",
       "min        0.000000      0.000000      0.2      0.0  \n",
       "25%        0.452374      0.003150      0.2      0.0  \n",
       "50%        0.514944      0.025675      0.2      0.0  \n",
       "75%        0.534921      0.177019      0.2      0.0  \n",
       "max        1.000000      1.000000      0.2      0.0  "
      ]
     },
     "execution_count": 38,
     "metadata": {},
     "output_type": "execute_result"
    }
   ],
   "source": [
    "X_train.describe()"
   ]
  },
  {
   "cell_type": "markdown",
   "metadata": {
    "colab_type": "text",
    "id": "pKLPXYMl61W-"
   },
   "source": [
    "## Model"
   ]
  },
  {
   "cell_type": "code",
   "execution_count": 64,
   "metadata": {
    "colab": {
     "base_uri": "https://localhost:8080/",
     "height": 493
    },
    "colab_type": "code",
    "id": "eIS_Mee28leY",
    "outputId": "ff4cde45-bad3-4d9a-d151-030cb6101bd3"
   },
   "outputs": [
    {
     "name": "stdout",
     "output_type": "stream",
     "text": [
      "Model: \"BittyBot\"\n",
      "_________________________________________________________________\n",
      "Layer (type)                 Output Shape              Param #   \n",
      "=================================================================\n",
      "input_4 (InputLayer)         [(None, 25)]              0         \n",
      "_________________________________________________________________\n",
      "dense_27 (Dense)             (None, 1600)              41600     \n",
      "_________________________________________________________________\n",
      "dense_28 (Dense)             (None, 800)               1280800   \n",
      "_________________________________________________________________\n",
      "dense_29 (Dense)             (None, 400)               320400    \n",
      "_________________________________________________________________\n",
      "dense_30 (Dense)             (None, 200)               80200     \n",
      "_________________________________________________________________\n",
      "dense_31 (Dense)             (None, 100)               20100     \n",
      "_________________________________________________________________\n",
      "dense_32 (Dense)             (None, 50)                5050      \n",
      "_________________________________________________________________\n",
      "dense_33 (Dense)             (None, 25)                1275      \n",
      "_________________________________________________________________\n",
      "dense_34 (Dense)             (None, 10)                260       \n",
      "_________________________________________________________________\n",
      "dense_35 (Dense)             (None, 2)                 22        \n",
      "=================================================================\n",
      "Total params: 1,749,707\n",
      "Trainable params: 1,749,707\n",
      "Non-trainable params: 0\n",
      "_________________________________________________________________\n"
     ]
    }
   ],
   "source": [
    "from tensorflow.keras import Input, Model\n",
    "from tensorflow.keras.layers import Dense, Dropout, BatchNormalization, Conv2D\n",
    "\n",
    "inputs = Input(shape=X_train.shape[1])\n",
    "\n",
    "x = Dense(1600, activation='relu')(inputs)\n",
    "\n",
    "x = Dense(800, activation='relu')(x)\n",
    "x = Dense(400, activation='relu')(x)\n",
    "x = Dense(200, activation='relu')(x)\n",
    "x = Dense(100, activation='relu')(x)\n",
    "x = Dense(50, activation='relu')(x)\n",
    "x = Dense(25, activation='relu')(x)\n",
    "x = Dense(10, activation='relu')(x)\n",
    "\n",
    "outputs = Dense(y.shape[1], activation='sigmoid')(x)\n",
    "\n",
    "model = Model(inputs=inputs, outputs=outputs, name='BittyBot')\n",
    "\n",
    "model.summary()\n",
    "\n",
    "learning_rate = 0.0001\n",
    "optimizer = tf.keras.optimizers.Adam(learning_rate=learning_rate, beta_1=0.9, beta_2=0.999, amsgrad=False)\n",
    "# losses to try: binary_crossentropy, categorical_crossentropy, mean_squared_error, poisson, mean_squared_logarithmic_error, mean_absolute_error\n",
    "loss = 'mean_absolute_error'\n",
    "metrics = ['accuracy']\n",
    "batch_size = 32\n",
    "epochs = 2\n",
    "model.compile(optimizer=optimizer, loss=loss, metrics=metrics)"
   ]
  },
  {
   "cell_type": "code",
   "execution_count": 76,
   "metadata": {
    "colab": {
     "base_uri": "https://localhost:8080/",
     "height": 1000
    },
    "colab_type": "code",
    "id": "Wh0WC0EJWJmV",
    "outputId": "d8b42f7e-7b77-4b90-fbe9-6154991f8e5e",
    "scrolled": true
   },
   "outputs": [
    {
     "name": "stdout",
     "output_type": "stream",
     "text": [
      "Series([], dtype: bool)\n",
      "Series([], dtype: bool)\n",
      "Train on 11192 samples, validate on 3730 samples\n",
      "Epoch 1/2\n",
      "11192/11192 [==============================] - 1s 113us/sample - loss: 0.1585 - accuracy: 0.7662 - val_loss: 0.2033 - val_accuracy: 0.7332\n",
      "Epoch 2/2\n",
      "11192/11192 [==============================] - 1s 112us/sample - loss: 0.1551 - accuracy: 0.7643 - val_loss: 0.2014 - val_accuracy: 0.7818\n",
      "The model took 2.5656081809997886s to train.\n"
     ]
    }
   ],
   "source": [
    "x_nulls = X.isnull().any()\n",
    "print(x_nulls[x_nulls == True])\n",
    "y_nulls = y.isnull().any()\n",
    "print(y_nulls[y_nulls == True])\n",
    "# print(X_train.shape)\n",
    "# print(y_train.shape)\n",
    "# print(X_val.shape)\n",
    "# print(y_val.shape)\n",
    "\n",
    "def train(model, X_train, y_train, X_val, y_val, batch_size=32, epochs=25):\n",
    "    X_train, y_train, X_val, y_val = np.asarray(X_train), np.asarray(y_train), np.asarray(X_val), np.asarray(y_val)\n",
    "    start = timer()\n",
    "    history = model.fit(X_train, y_train, batch_size=batch_size, epochs=epochs, validation_data=(X_val, y_val))\n",
    "    end = timer()\n",
    "    print(f\"The model took {end - start}s to train.\")\n",
    "    \n",
    "train(model, X_train, y_train, X_val, y_val, batch_size, epochs)"
   ]
  },
  {
   "cell_type": "markdown",
   "metadata": {
    "colab_type": "text",
    "id": "u7XyZuPsh6FH"
   },
   "source": [
    "## Loss and Accuracy"
   ]
  },
  {
   "cell_type": "code",
   "execution_count": 43,
   "metadata": {
    "colab": {
     "base_uri": "https://localhost:8080/",
     "height": 573
    },
    "colab_type": "code",
    "id": "WKFSDL3Am-1o",
    "outputId": "f737c43a-c7ab-4c06-fd35-5679b970588e"
   },
   "outputs": [
    {
     "data": {
      "image/png": "[encoded data removed]",
      "text/plain": [
       "<Figure size 432x288 with 1 Axes>"
      ]
     },
     "metadata": {
      "needs_background": "light"
     },
     "output_type": "display_data"
    },
    {
     "data": {
      "image/png": "[encoded data removed]",
      "text/plain": [
       "<Figure size 432x288 with 1 Axes>"
      ]
     },
     "metadata": {
      "needs_background": "light"
     },
     "output_type": "display_data"
    }
   ],
   "source": [
    "plt.plot(history.history['loss'])\n",
    "plt.plot(history.history['val_loss'])\n",
    "plt.title('Model loss')\n",
    "plt.ylabel('Loss')\n",
    "plt.xlabel('Epoch')\n",
    "plt.legend(['Train', 'Dev'], loc='best')\n",
    "plt.show()\n",
    "\n",
    "plt.plot(history.history['accuracy'])\n",
    "plt.plot(history.history['val_accuracy'])\n",
    "plt.title('Model accuracy')\n",
    "plt.ylabel('Accuracy')\n",
    "plt.xlabel('Epoch')\n",
    "plt.legend(['Train', 'Dev'], loc='best')\n",
    "plt.show()"
   ]
  },
  {
   "cell_type": "code",
   "execution_count": 56,
   "metadata": {
    "colab": {
     "base_uri": "https://localhost:8080/",
     "height": 71
    },
    "colab_type": "code",
    "id": "E7Dg_ISgWiEM",
    "outputId": "220f7d09-93ed-469b-becd-089f50f5f970"
   },
   "outputs": [
    {
     "name": "stdout",
     "output_type": "stream",
     "text": [
      "<class 'pandas.core.frame.DataFrame'>\n",
      "(3730, 2)\n"
     ]
    }
   ],
   "source": [
    "y_pred = model.predict(np.asarray(X_val))\n",
    "print(y_pred.shape)"
   ]
  },
  {
   "cell_type": "code",
   "execution_count": 45,
   "metadata": {
    "colab": {
     "base_uri": "https://localhost:8080/"
    },
    "colab_type": "code",
    "id": "4ojXbWvnFVTF",
    "outputId": "01826a0f-9f40-4a94-8545-3e6144383979"
   },
   "outputs": [
    {
     "name": "stdout",
     "output_type": "stream",
     "text": [
      "(25,)\n",
      "<class 'pandas.core.series.Series'>\n",
      "[[0.33333333 1.         0.53351965 0.48873392 0.39095541 0.\n",
      "  0.         0.50587112 0.5052159  0.46332848 0.53199596 0.832034\n",
      "  0.9822561  0.61454982 0.87781392 0.14370631 0.47872265 0.57942014\n",
      "  0.40776553 0.49794134 0.67747056 0.45485857 0.00223771 0.2\n",
      "  0.        ]]\n",
      "(1, 25)\n"
     ]
    }
   ],
   "source": [
    "first_row = X_val.iloc[0]\n",
    "print(first_row.shape)\n",
    "print(type(first_row))\n",
    "arr = np.ndarray((1, first_row.shape[0]), buffer=np.array(first_row))\n",
    "print(arr)\n",
    "print(arr.shape)\n",
    "output = model.predict(arr)"
   ]
  },
  {
   "cell_type": "code",
   "execution_count": 46,
   "metadata": {
    "colab": {
     "base_uri": "https://localhost:8080/"
    },
    "colab_type": "code",
    "id": "jgxj2FNyRghm",
    "outputId": "73840d8d-2a82-489c-860d-c70f32e887be"
   },
   "outputs": [
    {
     "name": "stdout",
     "output_type": "stream",
     "text": [
      "1.2464553e-05\n"
     ]
    }
   ],
   "source": [
    "try:\n",
    "  print(output.flatten()[1])\n",
    "except IndexError as e:\n",
    "  pass"
   ]
  },
  {
   "cell_type": "code",
   "execution_count": 47,
   "metadata": {
    "colab": {
     "base_uri": "https://localhost:8080/"
    },
    "colab_type": "code",
    "id": "WSvBp3NtFPTQ",
    "outputId": "7ee6019d-0352-4e3b-d586-6afafbd8bdfc"
   },
   "outputs": [
    {
     "data": {
      "text/html": [
       "<div>\n",
       "<style scoped>\n",
       "    .dataframe tbody tr th:only-of-type {\n",
       "        vertical-align: middle;\n",
       "    }\n",
       "\n",
       "    .dataframe tbody tr th {\n",
       "        vertical-align: top;\n",
       "    }\n",
       "\n",
       "    .dataframe thead th {\n",
       "        text-align: right;\n",
       "    }\n",
       "</style>\n",
       "<table border=\"1\" class=\"dataframe\">\n",
       "  <thead>\n",
       "    <tr style=\"text-align: right;\">\n",
       "      <th></th>\n",
       "      <th>boost</th>\n",
       "      <th>active</th>\n",
       "      <th>vel_x</th>\n",
       "      <th>vel_y</th>\n",
       "      <th>vel_z</th>\n",
       "      <th>jump_active</th>\n",
       "      <th>dodge_active</th>\n",
       "      <th>ball_dist</th>\n",
       "      <th>angle_to_face_ball</th>\n",
       "      <th>angle_to_move_to_ball</th>\n",
       "      <th>opposing_goal_x</th>\n",
       "      <th>opposing_goal_y</th>\n",
       "      <th>opposing_goal_z</th>\n",
       "      <th>pos_x</th>\n",
       "      <th>pos_y</th>\n",
       "      <th>pos_z</th>\n",
       "      <th>vel_x_op1</th>\n",
       "      <th>vel_y_op1</th>\n",
       "      <th>vel_z_op1</th>\n",
       "      <th>vel_x_ball</th>\n",
       "      <th>vel_y_ball</th>\n",
       "      <th>vel_z_ball</th>\n",
       "      <th>pos_z_ball</th>\n",
       "      <th>map</th>\n",
       "      <th>team</th>\n",
       "    </tr>\n",
       "  </thead>\n",
       "  <tbody>\n",
       "    <tr>\n",
       "      <th>2</th>\n",
       "      <td>0.333333</td>\n",
       "      <td>1.0</td>\n",
       "      <td>0.53352</td>\n",
       "      <td>0.488734</td>\n",
       "      <td>0.390955</td>\n",
       "      <td>0.0</td>\n",
       "      <td>0.0</td>\n",
       "      <td>0.505871</td>\n",
       "      <td>0.505216</td>\n",
       "      <td>0.463328</td>\n",
       "      <td>0.531996</td>\n",
       "      <td>0.832034</td>\n",
       "      <td>0.982256</td>\n",
       "      <td>0.61455</td>\n",
       "      <td>0.877814</td>\n",
       "      <td>0.143706</td>\n",
       "      <td>0.478723</td>\n",
       "      <td>0.57942</td>\n",
       "      <td>0.407766</td>\n",
       "      <td>0.497941</td>\n",
       "      <td>0.677471</td>\n",
       "      <td>0.454859</td>\n",
       "      <td>0.002238</td>\n",
       "      <td>0.2</td>\n",
       "      <td>0</td>\n",
       "    </tr>\n",
       "  </tbody>\n",
       "</table>\n",
       "</div>"
      ],
      "text/plain": [
       "      boost  active    vel_x     vel_y     vel_z  jump_active  dodge_active  \\\n",
       "2  0.333333     1.0  0.53352  0.488734  0.390955          0.0           0.0   \n",
       "\n",
       "   ball_dist  angle_to_face_ball  angle_to_move_to_ball  opposing_goal_x  \\\n",
       "2   0.505871            0.505216               0.463328         0.531996   \n",
       "\n",
       "   opposing_goal_y  opposing_goal_z    pos_x     pos_y     pos_z  vel_x_op1  \\\n",
       "2         0.832034         0.982256  0.61455  0.877814  0.143706   0.478723   \n",
       "\n",
       "   vel_y_op1  vel_z_op1  vel_x_ball  vel_y_ball  vel_z_ball  pos_z_ball  map  \\\n",
       "2    0.57942   0.407766    0.497941    0.677471    0.454859    0.002238  0.2   \n",
       "\n",
       "   team  \n",
       "2     0  "
      ]
     },
     "execution_count": 47,
     "metadata": {},
     "output_type": "execute_result"
    }
   ],
   "source": [
    "X_val.head(1)"
   ]
  },
  {
   "cell_type": "code",
   "execution_count": 58,
   "metadata": {
    "colab": {
     "base_uri": "https://localhost:8080/",
     "height": 71
    },
    "colab_type": "code",
    "id": "zE8GNKgtXqFO",
    "outputId": "177780b5-be9b-402e-b13f-eb74a5242e0b"
   },
   "outputs": [
    {
     "data": {
      "text/plain": [
       "{'steer': 0.49261183, 'throttle': 0.9999801}"
      ]
     },
     "execution_count": 58,
     "metadata": {},
     "output_type": "execute_result"
    }
   ],
   "source": [
    "one_prediction = model.predict(np.asarray(X_test.head(1)))\n",
    "\n",
    "def get_value_dict(y, value):\n",
    "  return dict(zip(y.columns, value))\n",
    "\n",
    "initial_values = get_value_dict(y, one_prediction[0])\n",
    "initial_values\n"
   ]
  },
  {
   "cell_type": "code",
   "execution_count": 49,
   "metadata": {
    "colab": {
     "base_uri": "https://localhost:8080/",
     "height": 297
    },
    "colab_type": "code",
    "id": "dbW6imPo65Vu",
    "outputId": "72674789-cc7a-4927-acbe-20c13607ea17"
   },
   "outputs": [
    {
     "data": {
      "text/html": [
       "<div>\n",
       "<style scoped>\n",
       "    .dataframe tbody tr th:only-of-type {\n",
       "        vertical-align: middle;\n",
       "    }\n",
       "\n",
       "    .dataframe tbody tr th {\n",
       "        vertical-align: top;\n",
       "    }\n",
       "\n",
       "    .dataframe thead th {\n",
       "        text-align: right;\n",
       "    }\n",
       "</style>\n",
       "<table border=\"1\" class=\"dataframe\">\n",
       "  <thead>\n",
       "    <tr style=\"text-align: right;\">\n",
       "      <th></th>\n",
       "      <th>steer</th>\n",
       "      <th>throttle</th>\n",
       "    </tr>\n",
       "  </thead>\n",
       "  <tbody>\n",
       "    <tr>\n",
       "      <th>count</th>\n",
       "      <td>3730.000000</td>\n",
       "      <td>3730.000000</td>\n",
       "    </tr>\n",
       "    <tr>\n",
       "      <th>mean</th>\n",
       "      <td>0.561339</td>\n",
       "      <td>0.690913</td>\n",
       "    </tr>\n",
       "    <tr>\n",
       "      <th>std</th>\n",
       "      <td>0.282373</td>\n",
       "      <td>0.430664</td>\n",
       "    </tr>\n",
       "    <tr>\n",
       "      <th>min</th>\n",
       "      <td>0.000007</td>\n",
       "      <td>0.000000</td>\n",
       "    </tr>\n",
       "    <tr>\n",
       "      <th>25%</th>\n",
       "      <td>0.441057</td>\n",
       "      <td>0.098527</td>\n",
       "    </tr>\n",
       "    <tr>\n",
       "      <th>50%</th>\n",
       "      <td>0.501047</td>\n",
       "      <td>0.999678</td>\n",
       "    </tr>\n",
       "    <tr>\n",
       "      <th>75%</th>\n",
       "      <td>0.771660</td>\n",
       "      <td>0.999976</td>\n",
       "    </tr>\n",
       "    <tr>\n",
       "      <th>max</th>\n",
       "      <td>0.999947</td>\n",
       "      <td>1.000000</td>\n",
       "    </tr>\n",
       "  </tbody>\n",
       "</table>\n",
       "</div>"
      ],
      "text/plain": [
       "             steer     throttle\n",
       "count  3730.000000  3730.000000\n",
       "mean      0.561339     0.690913\n",
       "std       0.282373     0.430664\n",
       "min       0.000007     0.000000\n",
       "25%       0.441057     0.098527\n",
       "50%       0.501047     0.999678\n",
       "75%       0.771660     0.999976\n",
       "max       0.999947     1.000000"
      ]
     },
     "execution_count": 49,
     "metadata": {},
     "output_type": "execute_result"
    }
   ],
   "source": [
    "predictions = pd.DataFrame(y_pred)\n",
    "predictions.columns = get_y_pred_columns()\n",
    "predictions.describe()"
   ]
  },
  {
   "cell_type": "code",
   "execution_count": null,
   "metadata": {
    "colab": {},
    "colab_type": "code",
    "id": "CUyEZ8SmhfGl"
   },
   "outputs": [],
   "source": []
  },
  {
   "cell_type": "markdown",
   "metadata": {
    "colab_type": "text",
    "id": "chP9F6kOhgk3"
   },
   "source": [
    "## Prediction Distributions"
   ]
  },
  {
   "cell_type": "code",
   "execution_count": 50,
   "metadata": {
    "colab": {
     "base_uri": "https://localhost:8080/",
     "height": 387
    },
    "colab_type": "code",
    "id": "2JA3r1peqTE0",
    "outputId": "447155a4-c2fa-40cf-d332-fcc7f4fab322"
   },
   "outputs": [
    {
     "data": {
      "text/plain": [
       "array([[<matplotlib.axes._subplots.AxesSubplot object at 0x7ff73d7df390>,\n",
       "        <matplotlib.axes._subplots.AxesSubplot object at 0x7ff73d7a6358>]],\n",
       "      dtype=object)"
      ]
     },
     "execution_count": 50,
     "metadata": {},
     "output_type": "execute_result"
    },
    {
     "data": {
      "image/png": "[encoded data removed]",
      "text/plain": [
       "<Figure size 1008x360 with 2 Axes>"
      ]
     },
     "metadata": {
      "needs_background": "light"
     },
     "output_type": "display_data"
    }
   ],
   "source": [
    "def interpret_result(result):\n",
    "  final_values = result.copy()\n",
    "  # for action in ['handbrake', 'boost_active', 'dodge_active', 'double_jump_active', 'jump_active']:\n",
    "  #   final_values[action] = 1 if initial_values[action] >= 0.5 else 0\n",
    "  return final_values\n",
    "\n",
    "\n",
    "# m_val = y_pred.shape[0]\n",
    "# start = 700\n",
    "# to_show = 50\n",
    "# for i in range(start, start + to_show): #m_val):\n",
    "#   result = y_pred[i]\n",
    "#   prediction = interpret_result(get_value_dict(y_val, y_pred[i]))\n",
    "#   print('Predict:', prediction)\n",
    "#   actual = interpret_result(get_value_dict(y_val, y_val.iloc[i]))\n",
    "#   print('Actual: ', actual)\n",
    "#   print('--')\n",
    "\n",
    "output_df = pd.DataFrame(y_pred)\n",
    "output_df.columns = y.columns[0:y_pred.shape[1]]\n",
    "output_df.hist(figsize=(14, 5))"
   ]
  },
  {
   "cell_type": "code",
   "execution_count": 51,
   "metadata": {
    "colab": {
     "base_uri": "https://localhost:8080/"
    },
    "colab_type": "code",
    "id": "QMGShpGo_pkn",
    "outputId": "4cb57d12-2b13-4d76-8014-a4a4f13de318"
   },
   "outputs": [
    {
     "data": {
      "image/png": "[encoded data removed]",
      "text/plain": [
       "<Figure size 1008x360 with 2 Axes>"
      ]
     },
     "metadata": {
      "needs_background": "light"
     },
     "output_type": "display_data"
    }
   ],
   "source": [
    "y_val.hist(figsize=(14, 5));"
   ]
  },
  {
   "cell_type": "code",
   "execution_count": 52,
   "metadata": {
    "colab": {},
    "colab_type": "code",
    "id": "vZTuFvfxDBNq"
   },
   "outputs": [],
   "source": [
    "model.save('model_relative.h5')\n",
    "\n",
    "# @TODO Make this work on Windows.\n",
    "# !mkdir -p frankenbot/saved_model_relative/\n",
    "# classifier.save('frankenbot/saved_model_relative/1')"
   ]
  },
  {
   "cell_type": "code",
   "execution_count": 53,
   "metadata": {
    "colab": {
     "base_uri": "https://localhost:8080/",
     "height": 282
    },
    "colab_type": "code",
    "id": "0nKXbX386-At",
    "outputId": "d8f09408-c63e-4b14-be2b-a59dc12dee4a"
   },
   "outputs": [
    {
     "data": {
      "text/plain": [
       "<matplotlib.axes._subplots.AxesSubplot at 0x7ff73d565ac8>"
      ]
     },
     "execution_count": 53,
     "metadata": {},
     "output_type": "execute_result"
    },
    {
     "data": {
      "image/png": "[encoded data removed]",
      "text/plain": [
       "<Figure size 432x288 with 1 Axes>"
      ]
     },
     "metadata": {
      "needs_background": "light"
     },
     "output_type": "display_data"
    }
   ],
   "source": [
    "output_df['steer'].hist()"
   ]
  },
  {
   "cell_type": "code",
   "execution_count": 54,
   "metadata": {
    "colab": {
     "base_uri": "https://localhost:8080/",
     "height": 282
    },
    "colab_type": "code",
    "id": "THeM_sJz6-Av",
    "outputId": "3e1cf9e7-0a1f-4473-d797-9727ec1baeb1"
   },
   "outputs": [
    {
     "data": {
      "text/plain": [
       "<matplotlib.axes._subplots.AxesSubplot at 0x7ff73d4ef208>"
      ]
     },
     "execution_count": 54,
     "metadata": {},
     "output_type": "execute_result"
    },
    {
     "data": {
      "image/png": "[encoded data removed]",
      "text/plain": [
       "<Figure size 432x288 with 1 Axes>"
      ]
     },
     "metadata": {
      "needs_background": "light"
     },
     "output_type": "display_data"
    }
   ],
   "source": [
    "def round_outliers(value):\n",
    "    if value < 0: return 0\n",
    "    if value > 1: return 1\n",
    "    return value\n",
    "\n",
    "output_df['steer'].apply(round_outliers).hist()"
   ]
  },
  {
   "cell_type": "code",
   "execution_count": null,
   "metadata": {
    "colab": {},
    "colab_type": "code",
    "id": "zSLZtGTSgbqj"
   },
   "outputs": [],
   "source": []
  },
  {
   "cell_type": "code",
   "execution_count": null,
   "metadata": {
    "colab": {},
    "colab_type": "code",
    "id": "W0G33PLBcEMW"
   },
   "outputs": [],
   "source": []
  }
 ],
 "metadata": {
  "accelerator": "GPU",
  "colab": {
   "collapsed_sections": [],
   "name": "build_model_relative.ipynb",
   "provenance": [],
   "toc_visible": true
  },
  "kernelspec": {
   "display_name": "Python 3",
   "language": "python",
   "name": "python3"
  },
  "language_info": {
   "codemirror_mode": {
    "name": "ipython",
    "version": 3
   },
   "file_extension": ".py",
   "mimetype": "text/x-python",
   "name": "python",
   "nbconvert_exporter": "python",
   "pygments_lexer": "ipython3",
   "version": "3.6.9"
  }
 },
 "nbformat": 4,
 "nbformat_minor": 1
}
