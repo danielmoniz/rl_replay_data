{
 "cells": [
  {
   "cell_type": "code",
   "execution_count": 293,
   "metadata": {},
   "outputs": [
    {
     "name": "stdout",
     "output_type": "stream",
     "text": [
      "Requirement already satisfied: carball in /Users/daniel/.pyenv/versions/3.6.8/lib/python3.6/site-packages (from -r requirements.txt (line 1)) (0.6.34)\n",
      "Requirement already satisfied: numpy in /Users/daniel/.pyenv/versions/3.6.8/lib/python3.6/site-packages (from -r requirements.txt (line 2)) (1.17.4)\n",
      "Requirement already satisfied: pandas in /Users/daniel/.pyenv/versions/3.6.8/lib/python3.6/site-packages (from -r requirements.txt (line 3)) (0.25.3)\n",
      "Requirement already satisfied: matplotlib in /Users/daniel/.pyenv/versions/3.6.8/lib/python3.6/site-packages (from -r requirements.txt (line 4)) (3.1.2)\n",
      "Requirement already satisfied: tensorflow in /Users/daniel/.pyenv/versions/3.6.8/lib/python3.6/site-packages (from -r requirements.txt (line 5)) (2.0.0)\n",
      "Requirement already satisfied: xlrd==1.1.0 in /Users/daniel/.pyenv/versions/3.6.8/lib/python3.6/site-packages (from carball->-r requirements.txt (line 1)) (1.1.0)\n",
      "Requirement already satisfied: protobuf==3.6.1 in /Users/daniel/.pyenv/versions/3.6.8/lib/python3.6/site-packages (from carball->-r requirements.txt (line 1)) (3.6.1)\n",
      "Requirement already satisfied: pytz>=2017.2 in /Users/daniel/.pyenv/versions/3.6.8/lib/python3.6/site-packages (from pandas->-r requirements.txt (line 3)) (2019.3)\n",
      "Requirement already satisfied: python-dateutil>=2.6.1 in /Users/daniel/.pyenv/versions/3.6.8/lib/python3.6/site-packages (from pandas->-r requirements.txt (line 3)) (2.8.1)\n",
      "Requirement already satisfied: kiwisolver>=1.0.1 in /Users/daniel/.pyenv/versions/3.6.8/lib/python3.6/site-packages (from matplotlib->-r requirements.txt (line 4)) (1.1.0)\n",
      "Requirement already satisfied: pyparsing!=2.0.4,!=2.1.2,!=2.1.6,>=2.0.1 in /Users/daniel/.pyenv/versions/3.6.8/lib/python3.6/site-packages (from matplotlib->-r requirements.txt (line 4)) (2.4.5)\n",
      "Requirement already satisfied: cycler>=0.10 in /Users/daniel/.pyenv/versions/3.6.8/lib/python3.6/site-packages (from matplotlib->-r requirements.txt (line 4)) (0.10.0)\n",
      "Requirement already satisfied: grpcio>=1.8.6 in /Users/daniel/.pyenv/versions/3.6.8/lib/python3.6/site-packages (from tensorflow->-r requirements.txt (line 5)) (1.25.0)\n",
      "Requirement already satisfied: astor>=0.6.0 in /Users/daniel/.pyenv/versions/3.6.8/lib/python3.6/site-packages (from tensorflow->-r requirements.txt (line 5)) (0.8.1)\n",
      "Requirement already satisfied: keras-preprocessing>=1.0.5 in /Users/daniel/.pyenv/versions/3.6.8/lib/python3.6/site-packages (from tensorflow->-r requirements.txt (line 5)) (1.1.0)\n",
      "Requirement already satisfied: termcolor>=1.1.0 in /Users/daniel/.pyenv/versions/3.6.8/lib/python3.6/site-packages (from tensorflow->-r requirements.txt (line 5)) (1.1.0)\n",
      "Requirement already satisfied: google-pasta>=0.1.6 in /Users/daniel/.pyenv/versions/3.6.8/lib/python3.6/site-packages (from tensorflow->-r requirements.txt (line 5)) (0.1.8)\n",
      "Requirement already satisfied: tensorboard<2.1.0,>=2.0.0 in /Users/daniel/.pyenv/versions/3.6.8/lib/python3.6/site-packages (from tensorflow->-r requirements.txt (line 5)) (2.0.2)\n",
      "Requirement already satisfied: opt-einsum>=2.3.2 in /Users/daniel/.pyenv/versions/3.6.8/lib/python3.6/site-packages (from tensorflow->-r requirements.txt (line 5)) (3.1.0)\n",
      "Requirement already satisfied: absl-py>=0.7.0 in /Users/daniel/.pyenv/versions/3.6.8/lib/python3.6/site-packages (from tensorflow->-r requirements.txt (line 5)) (0.8.1)\n",
      "Requirement already satisfied: keras-applications>=1.0.8 in /Users/daniel/.pyenv/versions/3.6.8/lib/python3.6/site-packages (from tensorflow->-r requirements.txt (line 5)) (1.0.8)\n",
      "Requirement already satisfied: six>=1.10.0 in /Users/daniel/.pyenv/versions/3.6.8/lib/python3.6/site-packages (from tensorflow->-r requirements.txt (line 5)) (1.13.0)\n",
      "Requirement already satisfied: tensorflow-estimator<2.1.0,>=2.0.0 in /Users/daniel/.pyenv/versions/3.6.8/lib/python3.6/site-packages (from tensorflow->-r requirements.txt (line 5)) (2.0.1)\n",
      "Requirement already satisfied: wheel>=0.26 in /Users/daniel/.pyenv/versions/3.6.8/lib/python3.6/site-packages (from tensorflow->-r requirements.txt (line 5)) (0.33.6)\n",
      "Requirement already satisfied: gast==0.2.2 in /Users/daniel/.pyenv/versions/3.6.8/lib/python3.6/site-packages (from tensorflow->-r requirements.txt (line 5)) (0.2.2)\n",
      "Requirement already satisfied: wrapt>=1.11.1 in /Users/daniel/.pyenv/versions/3.6.8/lib/python3.6/site-packages (from tensorflow->-r requirements.txt (line 5)) (1.11.2)\n",
      "Requirement already satisfied: setuptools in /Users/daniel/.pyenv/versions/3.6.8/lib/python3.6/site-packages (from protobuf==3.6.1->carball->-r requirements.txt (line 1)) (40.6.2)\n",
      "Requirement already satisfied: werkzeug>=0.11.15 in /Users/daniel/.pyenv/versions/3.6.8/lib/python3.6/site-packages (from tensorboard<2.1.0,>=2.0.0->tensorflow->-r requirements.txt (line 5)) (0.16.0)\n",
      "Requirement already satisfied: google-auth<2,>=1.6.3 in /Users/daniel/.pyenv/versions/3.6.8/lib/python3.6/site-packages (from tensorboard<2.1.0,>=2.0.0->tensorflow->-r requirements.txt (line 5)) (1.8.2)\n",
      "Requirement already satisfied: requests<3,>=2.21.0 in /Users/daniel/.pyenv/versions/3.6.8/lib/python3.6/site-packages (from tensorboard<2.1.0,>=2.0.0->tensorflow->-r requirements.txt (line 5)) (2.22.0)\n",
      "Requirement already satisfied: google-auth-oauthlib<0.5,>=0.4.1 in /Users/daniel/.pyenv/versions/3.6.8/lib/python3.6/site-packages (from tensorboard<2.1.0,>=2.0.0->tensorflow->-r requirements.txt (line 5)) (0.4.1)\n",
      "Requirement already satisfied: markdown>=2.6.8 in /Users/daniel/.pyenv/versions/3.6.8/lib/python3.6/site-packages (from tensorboard<2.1.0,>=2.0.0->tensorflow->-r requirements.txt (line 5)) (3.1.1)\n",
      "Requirement already satisfied: h5py in /Users/daniel/.pyenv/versions/3.6.8/lib/python3.6/site-packages (from keras-applications>=1.0.8->tensorflow->-r requirements.txt (line 5)) (2.10.0)\n",
      "Requirement already satisfied: pyasn1-modules>=0.2.1 in /Users/daniel/.pyenv/versions/3.6.8/lib/python3.6/site-packages (from google-auth<2,>=1.6.3->tensorboard<2.1.0,>=2.0.0->tensorflow->-r requirements.txt (line 5)) (0.2.7)\n",
      "Requirement already satisfied: rsa<4.1,>=3.1.4 in /Users/daniel/.pyenv/versions/3.6.8/lib/python3.6/site-packages (from google-auth<2,>=1.6.3->tensorboard<2.1.0,>=2.0.0->tensorflow->-r requirements.txt (line 5)) (4.0)\n",
      "Requirement already satisfied: cachetools<3.2,>=2.0.0 in /Users/daniel/.pyenv/versions/3.6.8/lib/python3.6/site-packages (from google-auth<2,>=1.6.3->tensorboard<2.1.0,>=2.0.0->tensorflow->-r requirements.txt (line 5)) (3.1.1)\n",
      "Requirement already satisfied: idna<2.9,>=2.5 in /Users/daniel/.pyenv/versions/3.6.8/lib/python3.6/site-packages (from requests<3,>=2.21.0->tensorboard<2.1.0,>=2.0.0->tensorflow->-r requirements.txt (line 5)) (2.8)\n",
      "Requirement already satisfied: chardet<3.1.0,>=3.0.2 in /Users/daniel/.pyenv/versions/3.6.8/lib/python3.6/site-packages (from requests<3,>=2.21.0->tensorboard<2.1.0,>=2.0.0->tensorflow->-r requirements.txt (line 5)) (3.0.4)\n",
      "Requirement already satisfied: urllib3!=1.25.0,!=1.25.1,<1.26,>=1.21.1 in /Users/daniel/.pyenv/versions/3.6.8/lib/python3.6/site-packages (from requests<3,>=2.21.0->tensorboard<2.1.0,>=2.0.0->tensorflow->-r requirements.txt (line 5)) (1.25.7)\n",
      "Requirement already satisfied: certifi>=2017.4.17 in /Users/daniel/.pyenv/versions/3.6.8/lib/python3.6/site-packages (from requests<3,>=2.21.0->tensorboard<2.1.0,>=2.0.0->tensorflow->-r requirements.txt (line 5)) (2019.11.28)\n",
      "Requirement already satisfied: requests-oauthlib>=0.7.0 in /Users/daniel/.pyenv/versions/3.6.8/lib/python3.6/site-packages (from google-auth-oauthlib<0.5,>=0.4.1->tensorboard<2.1.0,>=2.0.0->tensorflow->-r requirements.txt (line 5)) (1.3.0)\n",
      "Requirement already satisfied: pyasn1<0.5.0,>=0.4.6 in /Users/daniel/.pyenv/versions/3.6.8/lib/python3.6/site-packages (from pyasn1-modules>=0.2.1->google-auth<2,>=1.6.3->tensorboard<2.1.0,>=2.0.0->tensorflow->-r requirements.txt (line 5)) (0.4.8)\n",
      "Requirement already satisfied: oauthlib>=3.0.0 in /Users/daniel/.pyenv/versions/3.6.8/lib/python3.6/site-packages (from requests-oauthlib>=0.7.0->google-auth-oauthlib<0.5,>=0.4.1->tensorboard<2.1.0,>=2.0.0->tensorflow->-r requirements.txt (line 5)) (3.1.0)\n"
     ]
    }
   ],
   "source": [
    "!pip install -r requirements.txt"
   ]
  },
  {
   "cell_type": "code",
   "execution_count": 294,
   "metadata": {},
   "outputs": [],
   "source": [
    "import random\n",
    "\n",
    "import tensorflow as tf\n",
    "import pandas as pd\n",
    "import numpy as np\n",
    "import matplotlib.pyplot as plt"
   ]
  },
  {
   "cell_type": "code",
   "execution_count": 295,
   "metadata": {},
   "outputs": [],
   "source": [
    "m = 1000000\n",
    "a_values = [random.randint(0, 1) for x in range(m)]\n",
    "b_values = [random.randint(0, 1) for x in range(m)]"
   ]
  },
  {
   "cell_type": "code",
   "execution_count": 296,
   "metadata": {},
   "outputs": [
    {
     "data": {
      "text/html": [
       "<div>\n",
       "<style scoped>\n",
       "    .dataframe tbody tr th:only-of-type {\n",
       "        vertical-align: middle;\n",
       "    }\n",
       "\n",
       "    .dataframe tbody tr th {\n",
       "        vertical-align: top;\n",
       "    }\n",
       "\n",
       "    .dataframe thead th {\n",
       "        text-align: right;\n",
       "    }\n",
       "</style>\n",
       "<table border=\"1\" class=\"dataframe\">\n",
       "  <thead>\n",
       "    <tr style=\"text-align: right;\">\n",
       "      <th></th>\n",
       "      <th>a</th>\n",
       "      <th>b</th>\n",
       "    </tr>\n",
       "  </thead>\n",
       "  <tbody>\n",
       "    <tr>\n",
       "      <th>0</th>\n",
       "      <td>0</td>\n",
       "      <td>0</td>\n",
       "    </tr>\n",
       "    <tr>\n",
       "      <th>1</th>\n",
       "      <td>0</td>\n",
       "      <td>0</td>\n",
       "    </tr>\n",
       "    <tr>\n",
       "      <th>2</th>\n",
       "      <td>1</td>\n",
       "      <td>0</td>\n",
       "    </tr>\n",
       "    <tr>\n",
       "      <th>3</th>\n",
       "      <td>0</td>\n",
       "      <td>0</td>\n",
       "    </tr>\n",
       "    <tr>\n",
       "      <th>4</th>\n",
       "      <td>0</td>\n",
       "      <td>0</td>\n",
       "    </tr>\n",
       "  </tbody>\n",
       "</table>\n",
       "</div>"
      ],
      "text/plain": [
       "   a  b\n",
       "0  0  0\n",
       "1  0  0\n",
       "2  1  0\n",
       "3  0  0\n",
       "4  0  0"
      ]
     },
     "execution_count": 296,
     "metadata": {},
     "output_type": "execute_result"
    }
   ],
   "source": [
    "X = pd.DataFrame({ 'a': a_values, 'b': b_values})\n",
    "X.head()"
   ]
  },
  {
   "cell_type": "code",
   "execution_count": 297,
   "metadata": {},
   "outputs": [
    {
     "data": {
      "text/plain": [
       "(1000000, 2)"
      ]
     },
     "execution_count": 297,
     "metadata": {},
     "output_type": "execute_result"
    }
   ],
   "source": [
    "X.shape"
   ]
  },
  {
   "cell_type": "code",
   "execution_count": 298,
   "metadata": {},
   "outputs": [],
   "source": [
    "def logical_or(row):\n",
    "    return row['a'] or row['b']"
   ]
  },
  {
   "cell_type": "code",
   "execution_count": 299,
   "metadata": {},
   "outputs": [
    {
     "data": {
      "text/html": [
       "<div>\n",
       "<style scoped>\n",
       "    .dataframe tbody tr th:only-of-type {\n",
       "        vertical-align: middle;\n",
       "    }\n",
       "\n",
       "    .dataframe tbody tr th {\n",
       "        vertical-align: top;\n",
       "    }\n",
       "\n",
       "    .dataframe thead th {\n",
       "        text-align: right;\n",
       "    }\n",
       "</style>\n",
       "<table border=\"1\" class=\"dataframe\">\n",
       "  <thead>\n",
       "    <tr style=\"text-align: right;\">\n",
       "      <th></th>\n",
       "      <th>y</th>\n",
       "    </tr>\n",
       "  </thead>\n",
       "  <tbody>\n",
       "    <tr>\n",
       "      <th>0</th>\n",
       "      <td>0</td>\n",
       "    </tr>\n",
       "    <tr>\n",
       "      <th>1</th>\n",
       "      <td>0</td>\n",
       "    </tr>\n",
       "    <tr>\n",
       "      <th>2</th>\n",
       "      <td>1</td>\n",
       "    </tr>\n",
       "    <tr>\n",
       "      <th>3</th>\n",
       "      <td>0</td>\n",
       "    </tr>\n",
       "    <tr>\n",
       "      <th>4</th>\n",
       "      <td>0</td>\n",
       "    </tr>\n",
       "  </tbody>\n",
       "</table>\n",
       "</div>"
      ],
      "text/plain": [
       "   y\n",
       "0  0\n",
       "1  0\n",
       "2  1\n",
       "3  0\n",
       "4  0"
      ]
     },
     "execution_count": 299,
     "metadata": {},
     "output_type": "execute_result"
    }
   ],
   "source": [
    "y_values = X.apply(lambda row: logical_or(row), axis=1)\n",
    "y = pd.DataFrame({ 'y': y_values })\n",
    "y.head()"
   ]
  },
  {
   "cell_type": "code",
   "execution_count": 300,
   "metadata": {},
   "outputs": [
    {
     "name": "stdout",
     "output_type": "stream",
     "text": [
      "(960000, 2)\n",
      "(20000, 2)\n",
      "(20000, 2)\n",
      "(960000, 1)\n",
      "(20000, 1)\n",
      "(20000, 1)\n",
      "1000000\n",
      "1000000\n",
      "We have 1000000 rows in X. We have 1000000 in all sub-matrices combined (which should be the same).\n"
     ]
    }
   ],
   "source": [
    "size_val_set = min(int(m * 0.2), 20000)\n",
    "size_test_set = min(int(m * 0.2), 20000)\n",
    "end_test_set = size_val_set + size_test_set\n",
    "\n",
    "X_val = X[0:size_val_set]\n",
    "y_val = y[0:size_val_set]\n",
    "X_test = X[size_val_set:end_test_set]\n",
    "y_test = y[size_val_set:end_test_set]\n",
    "X_train = X[end_test_set:]\n",
    "y_train = y[end_test_set:]\n",
    "\n",
    "print(X_train.shape)\n",
    "print(X_val.shape)\n",
    "print(X_test.shape)\n",
    "\n",
    "print(y_train.shape)\n",
    "print(y_val.shape)\n",
    "print(y_test.shape)\n",
    "\n",
    "sum_rows = X_train.shape[0] + X_val.shape[0] + X_test.shape[0]\n",
    "print(X_train.shape[0] + X_val.shape[0] + X_test.shape[0])\n",
    "print(X.shape[0])\n",
    "print(f\"We have {X.shape[0]} rows in X. We have {sum_rows} in all sub-matrices combined (which should be the same).\")\n",
    "assert(sum_rows == X.shape[0])"
   ]
  },
  {
   "cell_type": "code",
   "execution_count": 301,
   "metadata": {},
   "outputs": [],
   "source": [
    "from tensorflow.keras.layers import Dense\n",
    "\n",
    "model = tf.keras.models.Sequential()\n",
    "\n",
    "model.add(Dense(units=4, activation='relu', input_dim=X.shape[1]))\n",
    "# model.add(Dense(units=4, activation='relu'))\n",
    "model.add(Dense(units=1, activation='sigmoid'))"
   ]
  },
  {
   "cell_type": "code",
   "execution_count": 302,
   "metadata": {},
   "outputs": [],
   "source": [
    "model.compile(optimizer='adam', loss='binary_crossentropy', metrics=['accuracy'])"
   ]
  },
  {
   "cell_type": "code",
   "execution_count": 303,
   "metadata": {
    "scrolled": true
   },
   "outputs": [
    {
     "name": "stdout",
     "output_type": "stream",
     "text": [
      "WARNING:tensorflow:Falling back from v2 loop because of error: Failed to find data adapter that can handle input: <class 'pandas.core.frame.DataFrame'>, <class 'NoneType'>\n",
      "Train on 960000 samples, validate on 20000 samples\n",
      "Epoch 1/3\n",
      "960000/960000 [==============================] - 2s 2us/sample - loss: 0.2724 - accuracy: 0.8600 - val_loss: 0.1023 - val_accuracy: 1.0000\n",
      "Epoch 2/3\n",
      "960000/960000 [==============================] - 2s 2us/sample - loss: 0.0555 - accuracy: 1.0000 - val_loss: 0.0289 - val_accuracy: 1.0000\n",
      "Epoch 3/3\n",
      "960000/960000 [==============================] - 2s 2us/sample - loss: 0.0181 - accuracy: 1.0000 - val_loss: 0.0110 - val_accuracy: 1.0000\n"
     ]
    }
   ],
   "source": [
    "history = model.fit(X_train, y_train, batch_size=512, epochs=3, validation_data=(X_val, y_val))"
   ]
  },
  {
   "cell_type": "code",
   "execution_count": 304,
   "metadata": {},
   "outputs": [
    {
     "data": {
      "image/png": "[encoded data removed]",
      "text/plain": [
       "<Figure size 432x288 with 1 Axes>"
      ]
     },
     "metadata": {
      "needs_background": "light"
     },
     "output_type": "display_data"
    }
   ],
   "source": [
    "plt.plot(history.history['loss'])\n",
    "plt.title('Model loss')\n",
    "plt.ylabel('Loss')\n",
    "plt.xlabel('Epoch')\n",
    "plt.show()"
   ]
  },
  {
   "cell_type": "code",
   "execution_count": 305,
   "metadata": {},
   "outputs": [
    {
     "data": {
      "image/png": "[encoded data removed]",
      "text/plain": [
       "<Figure size 432x288 with 1 Axes>"
      ]
     },
     "metadata": {
      "needs_background": "light"
     },
     "output_type": "display_data"
    }
   ],
   "source": [
    "plt.plot(history.history['accuracy'])\n",
    "plt.title('Model accuracy')\n",
    "plt.ylabel('Accuracy')\n",
    "plt.xlabel('Epoch')\n",
    "plt.show()"
   ]
  },
  {
   "cell_type": "code",
   "execution_count": 306,
   "metadata": {},
   "outputs": [
    {
     "name": "stdout",
     "output_type": "stream",
     "text": [
      "WARNING:tensorflow:Falling back from v2 loop because of error: Failed to find data adapter that can handle input: <class 'pandas.core.frame.DataFrame'>, <class 'NoneType'>\n"
     ]
    },
    {
     "data": {
      "image/png": "[encoded data removed]",
      "text/plain": [
       "<Figure size 432x288 with 1 Axes>"
      ]
     },
     "metadata": {
      "needs_background": "light"
     },
     "output_type": "display_data"
    }
   ],
   "source": [
    "y_pred = model.predict(X_val)\n",
    "plt.hist(y_pred)\n",
    "plt.show()"
   ]
  },
  {
   "cell_type": "code",
   "execution_count": 312,
   "metadata": {},
   "outputs": [
    {
     "name": "stdout",
     "output_type": "stream",
     "text": [
      "(a, b) = (0, 0), solution: 0\n",
      "Prediction: [[0.04079256]]\n",
      "---\n",
      "(a, b) = (0, 1), solution: 1\n",
      "Prediction: [[0.99957997]]\n",
      "---\n",
      "(a, b) = (1, 0), solution: 1\n",
      "Prediction: [[0.9985234]]\n",
      "---\n",
      "(a, b) = (1, 1), solution: 1\n",
      "Prediction: [[1.]]\n",
      "---\n",
      "\n",
      "For fun:\n",
      "(a, b) = (0.8, 0.2), solution: 0.8\n",
      "Prediction: [[0.9987865]]\n",
      "---\n",
      "(a, b) = (0.2, 0.2), solution: 0.2\n",
      "Prediction: [[0.72051895]]\n",
      "---\n"
     ]
    }
   ],
   "source": [
    "def test_prediction(a, b):\n",
    "    values = { 'a': a, 'b': b }\n",
    "    print(f\"(a, b) = ({values['a']}, {values['b']}), solution: {logical_or(values)}\")\n",
    "    prediction = model.predict([(values['a'], values['b'])])\n",
    "    print(f\"Prediction: {prediction}\")\n",
    "    print('---')\n",
    "test_prediction(0, 0)\n",
    "test_prediction(0, 1)\n",
    "test_prediction(1, 0)\n",
    "test_prediction(1, 1)\n",
    "print(\"\\nFor fun:\")\n",
    "test_prediction(0.8, 0.2)\n",
    "test_prediction(0.2, 0.2)"
   ]
  },
  {
   "cell_type": "code",
   "execution_count": null,
   "metadata": {},
   "outputs": [],
   "source": []
  }
 ],
 "metadata": {
  "kernelspec": {
   "display_name": "Python 3",
   "language": "python",
   "name": "python3"
  },
  "language_info": {
   "codemirror_mode": {
    "name": "ipython",
    "version": 3
   },
   "file_extension": ".py",
   "mimetype": "text/x-python",
   "name": "python",
   "nbconvert_exporter": "python",
   "pygments_lexer": "ipython3",
   "version": "3.6.8"
  }
 },
 "nbformat": 4,
 "nbformat_minor": 2
}
