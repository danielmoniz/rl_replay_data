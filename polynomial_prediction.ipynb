{
 "cells": [
  {
   "cell_type": "code",
   "execution_count": 1,
   "metadata": {},
   "outputs": [
    {
     "name": "stdout",
     "output_type": "stream",
     "text": [
      "Requirement already satisfied: carball in /Users/daniel/.pyenv/versions/3.6.8/lib/python3.6/site-packages (from -r requirements.txt (line 1)) (0.6.34)\n",
      "Requirement already satisfied: numpy in /Users/daniel/.pyenv/versions/3.6.8/lib/python3.6/site-packages (from -r requirements.txt (line 2)) (1.17.4)\n",
      "Requirement already satisfied: pandas in /Users/daniel/.pyenv/versions/3.6.8/lib/python3.6/site-packages (from -r requirements.txt (line 3)) (0.25.3)\n",
      "Requirement already satisfied: matplotlib in /Users/daniel/.pyenv/versions/3.6.8/lib/python3.6/site-packages (from -r requirements.txt (line 4)) (3.1.2)\n",
      "Requirement already satisfied: tensorflow in /Users/daniel/.pyenv/versions/3.6.8/lib/python3.6/site-packages (from -r requirements.txt (line 5)) (2.0.0)\n",
      "Requirement already satisfied: xlrd==1.1.0 in /Users/daniel/.pyenv/versions/3.6.8/lib/python3.6/site-packages (from carball->-r requirements.txt (line 1)) (1.1.0)\n",
      "Requirement already satisfied: protobuf==3.6.1 in /Users/daniel/.pyenv/versions/3.6.8/lib/python3.6/site-packages (from carball->-r requirements.txt (line 1)) (3.6.1)\n",
      "Requirement already satisfied: python-dateutil>=2.6.1 in /Users/daniel/.pyenv/versions/3.6.8/lib/python3.6/site-packages (from pandas->-r requirements.txt (line 3)) (2.8.1)\n",
      "Requirement already satisfied: pytz>=2017.2 in /Users/daniel/.pyenv/versions/3.6.8/lib/python3.6/site-packages (from pandas->-r requirements.txt (line 3)) (2019.3)\n",
      "Requirement already satisfied: pyparsing!=2.0.4,!=2.1.2,!=2.1.6,>=2.0.1 in /Users/daniel/.pyenv/versions/3.6.8/lib/python3.6/site-packages (from matplotlib->-r requirements.txt (line 4)) (2.4.5)\n",
      "Requirement already satisfied: cycler>=0.10 in /Users/daniel/.pyenv/versions/3.6.8/lib/python3.6/site-packages (from matplotlib->-r requirements.txt (line 4)) (0.10.0)\n",
      "Requirement already satisfied: kiwisolver>=1.0.1 in /Users/daniel/.pyenv/versions/3.6.8/lib/python3.6/site-packages (from matplotlib->-r requirements.txt (line 4)) (1.1.0)\n",
      "Requirement already satisfied: keras-preprocessing>=1.0.5 in /Users/daniel/.pyenv/versions/3.6.8/lib/python3.6/site-packages (from tensorflow->-r requirements.txt (line 5)) (1.1.0)\n",
      "Requirement already satisfied: wheel>=0.26 in /Users/daniel/.pyenv/versions/3.6.8/lib/python3.6/site-packages (from tensorflow->-r requirements.txt (line 5)) (0.33.6)\n",
      "Requirement already satisfied: keras-applications>=1.0.8 in /Users/daniel/.pyenv/versions/3.6.8/lib/python3.6/site-packages (from tensorflow->-r requirements.txt (line 5)) (1.0.8)\n",
      "Requirement already satisfied: tensorflow-estimator<2.1.0,>=2.0.0 in /Users/daniel/.pyenv/versions/3.6.8/lib/python3.6/site-packages (from tensorflow->-r requirements.txt (line 5)) (2.0.1)\n",
      "Requirement already satisfied: termcolor>=1.1.0 in /Users/daniel/.pyenv/versions/3.6.8/lib/python3.6/site-packages (from tensorflow->-r requirements.txt (line 5)) (1.1.0)\n",
      "Requirement already satisfied: opt-einsum>=2.3.2 in /Users/daniel/.pyenv/versions/3.6.8/lib/python3.6/site-packages (from tensorflow->-r requirements.txt (line 5)) (3.1.0)\n",
      "Requirement already satisfied: google-pasta>=0.1.6 in /Users/daniel/.pyenv/versions/3.6.8/lib/python3.6/site-packages (from tensorflow->-r requirements.txt (line 5)) (0.1.8)\n",
      "Requirement already satisfied: six>=1.10.0 in /Users/daniel/.pyenv/versions/3.6.8/lib/python3.6/site-packages (from tensorflow->-r requirements.txt (line 5)) (1.13.0)\n",
      "Requirement already satisfied: tensorboard<2.1.0,>=2.0.0 in /Users/daniel/.pyenv/versions/3.6.8/lib/python3.6/site-packages (from tensorflow->-r requirements.txt (line 5)) (2.0.2)\n",
      "Requirement already satisfied: astor>=0.6.0 in /Users/daniel/.pyenv/versions/3.6.8/lib/python3.6/site-packages (from tensorflow->-r requirements.txt (line 5)) (0.8.1)\n",
      "Requirement already satisfied: grpcio>=1.8.6 in /Users/daniel/.pyenv/versions/3.6.8/lib/python3.6/site-packages (from tensorflow->-r requirements.txt (line 5)) (1.25.0)\n",
      "Requirement already satisfied: wrapt>=1.11.1 in /Users/daniel/.pyenv/versions/3.6.8/lib/python3.6/site-packages (from tensorflow->-r requirements.txt (line 5)) (1.11.2)\n",
      "Requirement already satisfied: absl-py>=0.7.0 in /Users/daniel/.pyenv/versions/3.6.8/lib/python3.6/site-packages (from tensorflow->-r requirements.txt (line 5)) (0.8.1)\n",
      "Requirement already satisfied: gast==0.2.2 in /Users/daniel/.pyenv/versions/3.6.8/lib/python3.6/site-packages (from tensorflow->-r requirements.txt (line 5)) (0.2.2)\n",
      "Requirement already satisfied: setuptools in /Users/daniel/.pyenv/versions/3.6.8/lib/python3.6/site-packages (from protobuf==3.6.1->carball->-r requirements.txt (line 1)) (40.6.2)\n",
      "Requirement already satisfied: h5py in /Users/daniel/.pyenv/versions/3.6.8/lib/python3.6/site-packages (from keras-applications>=1.0.8->tensorflow->-r requirements.txt (line 5)) (2.10.0)\n",
      "Requirement already satisfied: werkzeug>=0.11.15 in /Users/daniel/.pyenv/versions/3.6.8/lib/python3.6/site-packages (from tensorboard<2.1.0,>=2.0.0->tensorflow->-r requirements.txt (line 5)) (0.16.0)\n",
      "Requirement already satisfied: markdown>=2.6.8 in /Users/daniel/.pyenv/versions/3.6.8/lib/python3.6/site-packages (from tensorboard<2.1.0,>=2.0.0->tensorflow->-r requirements.txt (line 5)) (3.1.1)\n",
      "Requirement already satisfied: requests<3,>=2.21.0 in /Users/daniel/.pyenv/versions/3.6.8/lib/python3.6/site-packages (from tensorboard<2.1.0,>=2.0.0->tensorflow->-r requirements.txt (line 5)) (2.22.0)\n",
      "Requirement already satisfied: google-auth<2,>=1.6.3 in /Users/daniel/.pyenv/versions/3.6.8/lib/python3.6/site-packages (from tensorboard<2.1.0,>=2.0.0->tensorflow->-r requirements.txt (line 5)) (1.8.2)\n",
      "Requirement already satisfied: google-auth-oauthlib<0.5,>=0.4.1 in /Users/daniel/.pyenv/versions/3.6.8/lib/python3.6/site-packages (from tensorboard<2.1.0,>=2.0.0->tensorflow->-r requirements.txt (line 5)) (0.4.1)\n",
      "Requirement already satisfied: idna<2.9,>=2.5 in /Users/daniel/.pyenv/versions/3.6.8/lib/python3.6/site-packages (from requests<3,>=2.21.0->tensorboard<2.1.0,>=2.0.0->tensorflow->-r requirements.txt (line 5)) (2.8)\n",
      "Requirement already satisfied: chardet<3.1.0,>=3.0.2 in /Users/daniel/.pyenv/versions/3.6.8/lib/python3.6/site-packages (from requests<3,>=2.21.0->tensorboard<2.1.0,>=2.0.0->tensorflow->-r requirements.txt (line 5)) (3.0.4)\n",
      "Requirement already satisfied: urllib3!=1.25.0,!=1.25.1,<1.26,>=1.21.1 in /Users/daniel/.pyenv/versions/3.6.8/lib/python3.6/site-packages (from requests<3,>=2.21.0->tensorboard<2.1.0,>=2.0.0->tensorflow->-r requirements.txt (line 5)) (1.25.7)\n",
      "Requirement already satisfied: certifi>=2017.4.17 in /Users/daniel/.pyenv/versions/3.6.8/lib/python3.6/site-packages (from requests<3,>=2.21.0->tensorboard<2.1.0,>=2.0.0->tensorflow->-r requirements.txt (line 5)) (2019.11.28)\n",
      "Requirement already satisfied: pyasn1-modules>=0.2.1 in /Users/daniel/.pyenv/versions/3.6.8/lib/python3.6/site-packages (from google-auth<2,>=1.6.3->tensorboard<2.1.0,>=2.0.0->tensorflow->-r requirements.txt (line 5)) (0.2.7)\n",
      "Requirement already satisfied: cachetools<3.2,>=2.0.0 in /Users/daniel/.pyenv/versions/3.6.8/lib/python3.6/site-packages (from google-auth<2,>=1.6.3->tensorboard<2.1.0,>=2.0.0->tensorflow->-r requirements.txt (line 5)) (3.1.1)\n",
      "Requirement already satisfied: rsa<4.1,>=3.1.4 in /Users/daniel/.pyenv/versions/3.6.8/lib/python3.6/site-packages (from google-auth<2,>=1.6.3->tensorboard<2.1.0,>=2.0.0->tensorflow->-r requirements.txt (line 5)) (4.0)\n",
      "Requirement already satisfied: requests-oauthlib>=0.7.0 in /Users/daniel/.pyenv/versions/3.6.8/lib/python3.6/site-packages (from google-auth-oauthlib<0.5,>=0.4.1->tensorboard<2.1.0,>=2.0.0->tensorflow->-r requirements.txt (line 5)) (1.3.0)\n",
      "Requirement already satisfied: pyasn1<0.5.0,>=0.4.6 in /Users/daniel/.pyenv/versions/3.6.8/lib/python3.6/site-packages (from pyasn1-modules>=0.2.1->google-auth<2,>=1.6.3->tensorboard<2.1.0,>=2.0.0->tensorflow->-r requirements.txt (line 5)) (0.4.8)\n",
      "Requirement already satisfied: oauthlib>=3.0.0 in /Users/daniel/.pyenv/versions/3.6.8/lib/python3.6/site-packages (from requests-oauthlib>=0.7.0->google-auth-oauthlib<0.5,>=0.4.1->tensorboard<2.1.0,>=2.0.0->tensorflow->-r requirements.txt (line 5)) (3.1.0)\n"
     ]
    }
   ],
   "source": [
    "!pip install -r requirements.txt"
   ]
  },
  {
   "cell_type": "code",
   "execution_count": 2,
   "metadata": {},
   "outputs": [],
   "source": [
    "import random\n",
    "\n",
    "import tensorflow as tf\n",
    "import pandas as pd\n",
    "import numpy as np\n",
    "import matplotlib.pyplot as plt"
   ]
  },
  {
   "cell_type": "code",
   "execution_count": 40,
   "metadata": {},
   "outputs": [],
   "source": [
    "m = 1000000\n",
    "a_values = [random.random() * 20 for x in range(m)]\n",
    "b_values = [random.random() * 20 for x in range(m)]"
   ]
  },
  {
   "cell_type": "code",
   "execution_count": 41,
   "metadata": {},
   "outputs": [
    {
     "data": {
      "text/html": [
       "<div>\n",
       "<style scoped>\n",
       "    .dataframe tbody tr th:only-of-type {\n",
       "        vertical-align: middle;\n",
       "    }\n",
       "\n",
       "    .dataframe tbody tr th {\n",
       "        vertical-align: top;\n",
       "    }\n",
       "\n",
       "    .dataframe thead th {\n",
       "        text-align: right;\n",
       "    }\n",
       "</style>\n",
       "<table border=\"1\" class=\"dataframe\">\n",
       "  <thead>\n",
       "    <tr style=\"text-align: right;\">\n",
       "      <th></th>\n",
       "      <th>a</th>\n",
       "      <th>b</th>\n",
       "    </tr>\n",
       "  </thead>\n",
       "  <tbody>\n",
       "    <tr>\n",
       "      <th>0</th>\n",
       "      <td>16.683476</td>\n",
       "      <td>14.686510</td>\n",
       "    </tr>\n",
       "    <tr>\n",
       "      <th>1</th>\n",
       "      <td>2.774300</td>\n",
       "      <td>17.024068</td>\n",
       "    </tr>\n",
       "    <tr>\n",
       "      <th>2</th>\n",
       "      <td>12.486758</td>\n",
       "      <td>8.670186</td>\n",
       "    </tr>\n",
       "    <tr>\n",
       "      <th>3</th>\n",
       "      <td>0.318678</td>\n",
       "      <td>2.846580</td>\n",
       "    </tr>\n",
       "    <tr>\n",
       "      <th>4</th>\n",
       "      <td>1.730743</td>\n",
       "      <td>10.930389</td>\n",
       "    </tr>\n",
       "  </tbody>\n",
       "</table>\n",
       "</div>"
      ],
      "text/plain": [
       "           a          b\n",
       "0  16.683476  14.686510\n",
       "1   2.774300  17.024068\n",
       "2  12.486758   8.670186\n",
       "3   0.318678   2.846580\n",
       "4   1.730743  10.930389"
      ]
     },
     "execution_count": 41,
     "metadata": {},
     "output_type": "execute_result"
    }
   ],
   "source": [
    "X = pd.DataFrame({ 'a': a_values, 'b': b_values})\n",
    "X.head()"
   ]
  },
  {
   "cell_type": "code",
   "execution_count": 42,
   "metadata": {},
   "outputs": [
    {
     "data": {
      "text/plain": [
       "(1000000, 2)"
      ]
     },
     "execution_count": 42,
     "metadata": {},
     "output_type": "execute_result"
    }
   ],
   "source": [
    "X.shape"
   ]
  },
  {
   "cell_type": "code",
   "execution_count": 43,
   "metadata": {},
   "outputs": [],
   "source": [
    "def logical_or(row):\n",
    "    return row['a'] or row['b']\n",
    "\n",
    "def polynomial_two_variable(row):\n",
    "    return row['a'] ** 2 + row['a'] * row['b'] + row['b'] - 5"
   ]
  },
  {
   "cell_type": "code",
   "execution_count": 44,
   "metadata": {},
   "outputs": [
    {
     "data": {
      "text/html": [
       "<div>\n",
       "<style scoped>\n",
       "    .dataframe tbody tr th:only-of-type {\n",
       "        vertical-align: middle;\n",
       "    }\n",
       "\n",
       "    .dataframe tbody tr th {\n",
       "        vertical-align: top;\n",
       "    }\n",
       "\n",
       "    .dataframe thead th {\n",
       "        text-align: right;\n",
       "    }\n",
       "</style>\n",
       "<table border=\"1\" class=\"dataframe\">\n",
       "  <thead>\n",
       "    <tr style=\"text-align: right;\">\n",
       "      <th></th>\n",
       "      <th>y</th>\n",
       "    </tr>\n",
       "  </thead>\n",
       "  <tbody>\n",
       "    <tr>\n",
       "      <th>0</th>\n",
       "      <td>533.046933</td>\n",
       "    </tr>\n",
       "    <tr>\n",
       "      <th>1</th>\n",
       "      <td>66.950673</td>\n",
       "    </tr>\n",
       "    <tr>\n",
       "      <th>2</th>\n",
       "      <td>267.851837</td>\n",
       "    </tr>\n",
       "    <tr>\n",
       "      <th>3</th>\n",
       "      <td>-1.144723</td>\n",
       "    </tr>\n",
       "    <tr>\n",
       "      <th>4</th>\n",
       "      <td>27.843559</td>\n",
       "    </tr>\n",
       "  </tbody>\n",
       "</table>\n",
       "</div>"
      ],
      "text/plain": [
       "            y\n",
       "0  533.046933\n",
       "1   66.950673\n",
       "2  267.851837\n",
       "3   -1.144723\n",
       "4   27.843559"
      ]
     },
     "execution_count": 44,
     "metadata": {},
     "output_type": "execute_result"
    }
   ],
   "source": [
    "# y_values = X.apply(logical_or, axis=1)\n",
    "y_values = X.apply(polynomial_two_variable, axis=1)\n",
    "y = pd.DataFrame({ 'y': y_values })\n",
    "y.head()"
   ]
  },
  {
   "cell_type": "code",
   "execution_count": 45,
   "metadata": {},
   "outputs": [
    {
     "name": "stdout",
     "output_type": "stream",
     "text": [
      "X_train has 960000 values, X_val 20000, and X_test 20000.\n",
      "y_train has 960000 values, y_val 20000, and y_test 20000.\n",
      "We have 1000000 rows in X. We have 1000000 in all sub-matrices combined (which should be the same).\n"
     ]
    }
   ],
   "source": [
    "size_val_set = min(int(m * 0.2), 20000)\n",
    "size_test_set = min(int(m * 0.2), 20000)\n",
    "end_test_set = size_val_set + size_test_set\n",
    "\n",
    "X_val = X[0:size_val_set]\n",
    "y_val = y[0:size_val_set]\n",
    "X_test = X[size_val_set:end_test_set]\n",
    "y_test = y[size_val_set:end_test_set]\n",
    "X_train = X[end_test_set:]\n",
    "y_train = y[end_test_set:]\n",
    "\n",
    "print(f\"X_train has {X_train.shape[0]} values, X_val {X_val.shape[0]}, and X_test {X_test.shape[0]}.\")\n",
    "print(f\"y_train has {y_train.shape[0]} values, y_val {y_val.shape[0]}, and y_test {y_test.shape[0]}.\")\n",
    "\n",
    "sum_rows = X_train.shape[0] + X_val.shape[0] + X_test.shape[0]\n",
    "print(f\"We have {X.shape[0]} rows in X. We have {sum_rows} in all sub-matrices combined (which should be the same).\")\n",
    "assert(sum_rows == X.shape[0])"
   ]
  },
  {
   "cell_type": "code",
   "execution_count": 46,
   "metadata": {},
   "outputs": [],
   "source": [
    "from tensorflow.keras.layers import Dense\n",
    "\n",
    "model = tf.keras.models.Sequential()\n",
    "\n",
    "model.add(Dense(units=4, activation='relu', input_dim=X.shape[1]))\n",
    "model.add(Dense(units=4, activation='relu'))\n",
    "model.add(Dense(units=4, activation='relu'))\n",
    "model.add(Dense(units=4, activation='relu'))\n",
    "model.add(Dense(units=4, activation='relu'))\n",
    "model.add(Dense(units=4, activation='relu'))\n",
    "model.add(Dense(units=4, activation='relu'))\n",
    "model.add(Dense(units=4, activation='relu'))\n",
    "model.add(Dense(units=1, activation='linear'))"
   ]
  },
  {
   "cell_type": "code",
   "execution_count": 47,
   "metadata": {},
   "outputs": [],
   "source": [
    "model.compile(optimizer='adam', loss='mean_squared_error', metrics=['accuracy', tf.keras.metrics.Recall(name='recall')])"
   ]
  },
  {
   "cell_type": "code",
   "execution_count": 48,
   "metadata": {
    "scrolled": true
   },
   "outputs": [
    {
     "name": "stdout",
     "output_type": "stream",
     "text": [
      "WARNING:tensorflow:Falling back from v2 loop because of error: Failed to find data adapter that can handle input: <class 'pandas.core.frame.DataFrame'>, <class 'NoneType'>\n",
      "Train on 960000 samples, validate on 20000 samples\n",
      "Epoch 1/100\n",
      "960000/960000 [==============================] - 2s 2us/sample - loss: 11141.0743 - accuracy: 0.0000e+00 - recall: 0.9863 - val_loss: 267.7032 - val_accuracy: 0.0000e+00 - val_recall: 1.0000\n",
      "Epoch 2/100\n",
      "960000/960000 [==============================] - 2s 2us/sample - loss: 60.6523 - accuracy: 0.0000e+00 - recall: 1.0000 - val_loss: 24.8364 - val_accuracy: 0.0000e+00 - val_recall: 1.0000\n",
      "Epoch 3/100\n",
      "960000/960000 [==============================] - 2s 2us/sample - loss: 20.5593 - accuracy: 0.0000e+00 - recall: 1.0000 - val_loss: 20.1034 - val_accuracy: 0.0000e+00 - val_recall: 1.0000\n",
      "Epoch 4/100\n",
      "960000/960000 [==============================] - 2s 2us/sample - loss: 16.5117 - accuracy: 0.0000e+00 - recall: 1.0000 - val_loss: 15.1208 - val_accuracy: 0.0000e+00 - val_recall: 1.0000\n",
      "Epoch 5/100\n",
      "960000/960000 [==============================] - 2s 2us/sample - loss: 14.3026 - accuracy: 0.0000e+00 - recall: 1.0000 - val_loss: 12.9753 - val_accuracy: 0.0000e+00 - val_recall: 1.0000\n",
      "Epoch 6/100\n",
      "960000/960000 [==============================] - 2s 2us/sample - loss: 11.8113 - accuracy: 0.0000e+00 - recall: 1.0000 - val_loss: 10.6155 - val_accuracy: 0.0000e+00 - val_recall: 1.0000\n",
      "Epoch 7/100\n",
      "960000/960000 [==============================] - 2s 2us/sample - loss: 9.9900 - accuracy: 0.0000e+00 - recall: 1.0000 - val_loss: 9.1353 - val_accuracy: 0.0000e+00 - val_recall: 1.0000\n",
      "Epoch 8/100\n",
      "960000/960000 [==============================] - 2s 2us/sample - loss: 8.8912 - accuracy: 0.0000e+00 - recall: 1.0000 - val_loss: 9.7851 - val_accuracy: 0.0000e+00 - val_recall: 1.0000\n",
      "Epoch 9/100\n",
      "960000/960000 [==============================] - 2s 2us/sample - loss: 8.1805 - accuracy: 0.0000e+00 - recall: 1.0000 - val_loss: 7.5753 - val_accuracy: 0.0000e+00 - val_recall: 1.0000\n",
      "Epoch 10/100\n",
      "960000/960000 [==============================] - 2s 2us/sample - loss: 7.6252 - accuracy: 0.0000e+00 - recall: 1.0000 - val_loss: 7.4380 - val_accuracy: 0.0000e+00 - val_recall: 1.0000\n",
      "Epoch 11/100\n",
      "960000/960000 [==============================] - 2s 2us/sample - loss: 7.1213 - accuracy: 0.0000e+00 - recall: 1.0000 - val_loss: 6.7808 - val_accuracy: 0.0000e+00 - val_recall: 1.0000\n",
      "Epoch 12/100\n",
      "960000/960000 [==============================] - 2s 2us/sample - loss: 6.7008 - accuracy: 0.0000e+00 - recall: 1.0000 - val_loss: 6.1816 - val_accuracy: 0.0000e+00 - val_recall: 1.0000\n",
      "Epoch 13/100\n",
      "960000/960000 [==============================] - 2s 2us/sample - loss: 6.3203 - accuracy: 0.0000e+00 - recall: 1.0000 - val_loss: 6.4286 - val_accuracy: 0.0000e+00 - val_recall: 1.0000\n",
      "Epoch 14/100\n",
      "960000/960000 [==============================] - 2s 2us/sample - loss: 5.9849 - accuracy: 0.0000e+00 - recall: 1.0000 - val_loss: 5.8943 - val_accuracy: 0.0000e+00 - val_recall: 1.0000\n",
      "Epoch 15/100\n",
      "960000/960000 [==============================] - 2s 2us/sample - loss: 5.6701 - accuracy: 0.0000e+00 - recall: 1.0000 - val_loss: 5.4526 - val_accuracy: 0.0000e+00 - val_recall: 1.0000\n",
      "Epoch 16/100\n",
      "960000/960000 [==============================] - 2s 2us/sample - loss: 5.4441 - accuracy: 0.0000e+00 - recall: 1.0000 - val_loss: 5.6665 - val_accuracy: 0.0000e+00 - val_recall: 1.0000\n",
      "Epoch 17/100\n",
      "960000/960000 [==============================] - 2s 2us/sample - loss: 5.2212 - accuracy: 0.0000e+00 - recall: 1.0000 - val_loss: 4.9366 - val_accuracy: 0.0000e+00 - val_recall: 1.0000\n",
      "Epoch 18/100\n",
      "960000/960000 [==============================] - 2s 2us/sample - loss: 5.0215 - accuracy: 0.0000e+00 - recall: 1.0000 - val_loss: 5.0120 - val_accuracy: 0.0000e+00 - val_recall: 1.0000\n",
      "Epoch 19/100\n",
      "960000/960000 [==============================] - 2s 2us/sample - loss: 4.8155 - accuracy: 0.0000e+00 - recall: 0.9995 - val_loss: 4.5889 - val_accuracy: 0.0000e+00 - val_recall: 1.0000\n",
      "Epoch 20/100\n",
      "960000/960000 [==============================] - 2s 2us/sample - loss: 4.6695 - accuracy: 0.0000e+00 - recall: 0.9945 - val_loss: 4.3050 - val_accuracy: 0.0000e+00 - val_recall: 0.9794\n",
      "Epoch 21/100\n",
      "960000/960000 [==============================] - 2s 2us/sample - loss: 4.5024 - accuracy: 0.0000e+00 - recall: 0.9836 - val_loss: 4.1678 - val_accuracy: 0.0000e+00 - val_recall: 0.9797\n",
      "Epoch 22/100\n",
      "960000/960000 [==============================] - 2s 2us/sample - loss: 4.3435 - accuracy: 0.0000e+00 - recall: 0.9817 - val_loss: 4.3055 - val_accuracy: 0.0000e+00 - val_recall: 0.9801\n",
      "Epoch 23/100\n",
      "960000/960000 [==============================] - 2s 2us/sample - loss: 4.2242 - accuracy: 0.0000e+00 - recall: 0.9819 - val_loss: 4.3544 - val_accuracy: 0.0000e+00 - val_recall: 0.9803\n",
      "Epoch 24/100\n",
      "960000/960000 [==============================] - 2s 2us/sample - loss: 4.1386 - accuracy: 0.0000e+00 - recall: 0.9822 - val_loss: 3.9674 - val_accuracy: 0.0000e+00 - val_recall: 0.9807\n",
      "Epoch 25/100\n",
      "960000/960000 [==============================] - 2s 2us/sample - loss: 4.0373 - accuracy: 0.0000e+00 - recall: 0.9824 - val_loss: 3.8118 - val_accuracy: 0.0000e+00 - val_recall: 0.9807\n",
      "Epoch 26/100\n",
      "960000/960000 [==============================] - 2s 2us/sample - loss: 3.9694 - accuracy: 0.0000e+00 - recall: 0.9827 - val_loss: 4.0225 - val_accuracy: 0.0000e+00 - val_recall: 0.9808\n",
      "Epoch 27/100\n",
      "960000/960000 [==============================] - 2s 2us/sample - loss: 3.8633 - accuracy: 0.0000e+00 - recall: 0.9828 - val_loss: 5.1653 - val_accuracy: 0.0000e+00 - val_recall: 0.9812\n",
      "Epoch 28/100\n",
      "960000/960000 [==============================] - 2s 2us/sample - loss: 3.8198 - accuracy: 0.0000e+00 - recall: 0.9830 - val_loss: 3.6489 - val_accuracy: 0.0000e+00 - val_recall: 0.9812\n",
      "Epoch 29/100\n",
      "960000/960000 [==============================] - 2s 2us/sample - loss: 3.7081 - accuracy: 0.0000e+00 - recall: 0.9832 - val_loss: 5.4017 - val_accuracy: 0.0000e+00 - val_recall: 0.9812\n",
      "Epoch 30/100\n",
      "960000/960000 [==============================] - 2s 2us/sample - loss: 3.6094 - accuracy: 0.0000e+00 - recall: 0.9832 - val_loss: 3.5558 - val_accuracy: 0.0000e+00 - val_recall: 0.9819\n",
      "Epoch 31/100\n",
      "960000/960000 [==============================] - 2s 2us/sample - loss: 3.5290 - accuracy: 0.0000e+00 - recall: 0.9833 - val_loss: 4.1937 - val_accuracy: 0.0000e+00 - val_recall: 0.9816\n",
      "Epoch 32/100\n",
      "960000/960000 [==============================] - 2s 2us/sample - loss: 3.4698 - accuracy: 0.0000e+00 - recall: 0.9833 - val_loss: 3.3022 - val_accuracy: 0.0000e+00 - val_recall: 0.9821\n",
      "Epoch 33/100\n",
      "960000/960000 [==============================] - 2s 2us/sample - loss: 3.4434 - accuracy: 0.0000e+00 - recall: 0.9834 - val_loss: 3.4440 - val_accuracy: 0.0000e+00 - val_recall: 0.9819\n",
      "Epoch 34/100\n",
      "960000/960000 [==============================] - 2s 2us/sample - loss: 3.3844 - accuracy: 0.0000e+00 - recall: 0.9834 - val_loss: 3.1695 - val_accuracy: 0.0000e+00 - val_recall: 0.9820\n",
      "Epoch 35/100\n",
      "960000/960000 [==============================] - 2s 2us/sample - loss: 3.3320 - accuracy: 0.0000e+00 - recall: 0.9834 - val_loss: 3.2273 - val_accuracy: 0.0000e+00 - val_recall: 0.9821\n",
      "Epoch 36/100\n",
      "960000/960000 [==============================] - 2s 2us/sample - loss: 3.3252 - accuracy: 0.0000e+00 - recall: 0.9834 - val_loss: 3.4799 - val_accuracy: 0.0000e+00 - val_recall: 0.9822\n",
      "Epoch 37/100\n",
      "960000/960000 [==============================] - 2s 2us/sample - loss: 3.2671 - accuracy: 0.0000e+00 - recall: 0.9834 - val_loss: 3.2024 - val_accuracy: 0.0000e+00 - val_recall: 0.9825\n",
      "Epoch 38/100\n",
      "960000/960000 [==============================] - 2s 2us/sample - loss: 3.2285 - accuracy: 0.0000e+00 - recall: 0.9834 - val_loss: 3.0554 - val_accuracy: 0.0000e+00 - val_recall: 0.9824\n",
      "Epoch 39/100\n",
      "960000/960000 [==============================] - 2s 2us/sample - loss: 3.1875 - accuracy: 0.0000e+00 - recall: 0.9835 - val_loss: 2.9998 - val_accuracy: 0.0000e+00 - val_recall: 0.9823\n",
      "Epoch 40/100\n",
      "960000/960000 [==============================] - 2s 2us/sample - loss: 3.1562 - accuracy: 0.0000e+00 - recall: 0.9835 - val_loss: 3.8097 - val_accuracy: 0.0000e+00 - val_recall: 0.9823\n",
      "Epoch 41/100\n"
     ]
    },
    {
     "name": "stdout",
     "output_type": "stream",
     "text": [
      "960000/960000 [==============================] - 2s 2us/sample - loss: 3.1148 - accuracy: 0.0000e+00 - recall: 0.9836 - val_loss: 2.9411 - val_accuracy: 0.0000e+00 - val_recall: 0.9825\n",
      "Epoch 42/100\n",
      "960000/960000 [==============================] - 2s 2us/sample - loss: 3.1205 - accuracy: 0.0000e+00 - recall: 0.9836 - val_loss: 2.9278 - val_accuracy: 0.0000e+00 - val_recall: 0.9823\n",
      "Epoch 43/100\n",
      "960000/960000 [==============================] - 2s 2us/sample - loss: 3.0771 - accuracy: 0.0000e+00 - recall: 0.9837 - val_loss: 3.1790 - val_accuracy: 0.0000e+00 - val_recall: 0.9825\n",
      "Epoch 44/100\n",
      "960000/960000 [==============================] - 2s 2us/sample - loss: 3.0581 - accuracy: 0.0000e+00 - recall: 0.9838 - val_loss: 2.9917 - val_accuracy: 0.0000e+00 - val_recall: 0.9827\n",
      "Epoch 45/100\n",
      "960000/960000 [==============================] - 2s 2us/sample - loss: 3.0170 - accuracy: 0.0000e+00 - recall: 0.9839 - val_loss: 2.9373 - val_accuracy: 0.0000e+00 - val_recall: 0.9828\n",
      "Epoch 46/100\n",
      "960000/960000 [==============================] - 2s 2us/sample - loss: 2.9984 - accuracy: 0.0000e+00 - recall: 0.9840 - val_loss: 2.8247 - val_accuracy: 0.0000e+00 - val_recall: 0.9828\n",
      "Epoch 47/100\n",
      "960000/960000 [==============================] - 2s 2us/sample - loss: 2.9763 - accuracy: 0.0000e+00 - recall: 0.9841 - val_loss: 2.8664 - val_accuracy: 0.0000e+00 - val_recall: 0.9829\n",
      "Epoch 48/100\n",
      "960000/960000 [==============================] - 2s 2us/sample - loss: 2.9451 - accuracy: 0.0000e+00 - recall: 0.9842 - val_loss: 2.8700 - val_accuracy: 0.0000e+00 - val_recall: 0.9832\n",
      "Epoch 49/100\n",
      "960000/960000 [==============================] - 2s 2us/sample - loss: 2.9060 - accuracy: 0.0000e+00 - recall: 0.9843 - val_loss: 2.8294 - val_accuracy: 0.0000e+00 - val_recall: 0.9829\n",
      "Epoch 50/100\n",
      "960000/960000 [==============================] - 2s 2us/sample - loss: 2.9245 - accuracy: 0.0000e+00 - recall: 0.9844 - val_loss: 2.7767 - val_accuracy: 0.0000e+00 - val_recall: 0.9832\n",
      "Epoch 51/100\n",
      "960000/960000 [==============================] - 2s 2us/sample - loss: 2.8784 - accuracy: 0.0000e+00 - recall: 0.9845 - val_loss: 2.7896 - val_accuracy: 0.0000e+00 - val_recall: 0.9833\n",
      "Epoch 52/100\n",
      "960000/960000 [==============================] - 2s 2us/sample - loss: 2.8651 - accuracy: 0.0000e+00 - recall: 0.9846 - val_loss: 2.7938 - val_accuracy: 0.0000e+00 - val_recall: 0.9834\n",
      "Epoch 53/100\n",
      "960000/960000 [==============================] - 2s 2us/sample - loss: 2.8456 - accuracy: 0.0000e+00 - recall: 0.9847 - val_loss: 2.6971 - val_accuracy: 0.0000e+00 - val_recall: 0.9837\n",
      "Epoch 54/100\n",
      "960000/960000 [==============================] - 2s 2us/sample - loss: 2.8542 - accuracy: 0.0000e+00 - recall: 0.9847 - val_loss: 3.2611 - val_accuracy: 0.0000e+00 - val_recall: 0.9837\n",
      "Epoch 55/100\n",
      "960000/960000 [==============================] - 2s 2us/sample - loss: 2.8163 - accuracy: 0.0000e+00 - recall: 0.9848 - val_loss: 2.7745 - val_accuracy: 0.0000e+00 - val_recall: 0.9838\n",
      "Epoch 56/100\n",
      "960000/960000 [==============================] - 2s 2us/sample - loss: 2.7994 - accuracy: 0.0000e+00 - recall: 0.9849 - val_loss: 2.7065 - val_accuracy: 0.0000e+00 - val_recall: 0.9837\n",
      "Epoch 57/100\n",
      "960000/960000 [==============================] - 2s 2us/sample - loss: 2.8069 - accuracy: 0.0000e+00 - recall: 0.9850 - val_loss: 2.6594 - val_accuracy: 0.0000e+00 - val_recall: 0.9839\n",
      "Epoch 58/100\n",
      "960000/960000 [==============================] - 2s 2us/sample - loss: 2.7785 - accuracy: 0.0000e+00 - recall: 0.9851 - val_loss: 2.8061 - val_accuracy: 0.0000e+00 - val_recall: 0.9841\n",
      "Epoch 59/100\n",
      "960000/960000 [==============================] - 2s 2us/sample - loss: 2.7638 - accuracy: 0.0000e+00 - recall: 0.9852 - val_loss: 2.6312 - val_accuracy: 0.0000e+00 - val_recall: 0.9843\n",
      "Epoch 60/100\n",
      "960000/960000 [==============================] - 2s 2us/sample - loss: 2.7555 - accuracy: 0.0000e+00 - recall: 0.9853 - val_loss: 2.7003 - val_accuracy: 0.0000e+00 - val_recall: 0.9844\n",
      "Epoch 61/100\n",
      "960000/960000 [==============================] - 2s 2us/sample - loss: 2.7624 - accuracy: 0.0000e+00 - recall: 0.9854 - val_loss: 3.2749 - val_accuracy: 0.0000e+00 - val_recall: 0.9844\n",
      "Epoch 62/100\n",
      "960000/960000 [==============================] - 2s 2us/sample - loss: 2.7549 - accuracy: 0.0000e+00 - recall: 0.9855 - val_loss: 3.2570 - val_accuracy: 0.0000e+00 - val_recall: 0.9847\n",
      "Epoch 63/100\n",
      "960000/960000 [==============================] - 2s 2us/sample - loss: 2.7319 - accuracy: 0.0000e+00 - recall: 0.9855 - val_loss: 2.7574 - val_accuracy: 0.0000e+00 - val_recall: 0.9850\n",
      "Epoch 64/100\n",
      "960000/960000 [==============================] - 2s 2us/sample - loss: 2.7080 - accuracy: 0.0000e+00 - recall: 0.9856 - val_loss: 2.6815 - val_accuracy: 0.0000e+00 - val_recall: 0.9851\n",
      "Epoch 65/100\n",
      "960000/960000 [==============================] - 2s 2us/sample - loss: 2.6996 - accuracy: 0.0000e+00 - recall: 0.9857 - val_loss: 2.5760 - val_accuracy: 0.0000e+00 - val_recall: 0.9851\n",
      "Epoch 66/100\n",
      "960000/960000 [==============================] - 2s 2us/sample - loss: 2.6977 - accuracy: 0.0000e+00 - recall: 0.9858 - val_loss: 3.4540 - val_accuracy: 0.0000e+00 - val_recall: 0.9851\n",
      "Epoch 67/100\n",
      "960000/960000 [==============================] - 2s 2us/sample - loss: 2.6920 - accuracy: 0.0000e+00 - recall: 0.9859 - val_loss: 2.7293 - val_accuracy: 0.0000e+00 - val_recall: 0.9853\n",
      "Epoch 68/100\n",
      "960000/960000 [==============================] - 2s 2us/sample - loss: 2.6904 - accuracy: 0.0000e+00 - recall: 0.9860 - val_loss: 2.5357 - val_accuracy: 0.0000e+00 - val_recall: 0.9854\n",
      "Epoch 69/100\n",
      "960000/960000 [==============================] - 2s 2us/sample - loss: 2.7033 - accuracy: 0.0000e+00 - recall: 0.9861 - val_loss: 2.6154 - val_accuracy: 0.0000e+00 - val_recall: 0.9855\n",
      "Epoch 70/100\n",
      "960000/960000 [==============================] - 2s 2us/sample - loss: 2.6597 - accuracy: 0.0000e+00 - recall: 0.9862 - val_loss: 2.6324 - val_accuracy: 0.0000e+00 - val_recall: 0.9855\n",
      "Epoch 71/100\n",
      "960000/960000 [==============================] - 2s 2us/sample - loss: 2.6878 - accuracy: 0.0000e+00 - recall: 0.9862 - val_loss: 2.5623 - val_accuracy: 0.0000e+00 - val_recall: 0.9855\n",
      "Epoch 72/100\n",
      "960000/960000 [==============================] - 2s 2us/sample - loss: 2.6845 - accuracy: 0.0000e+00 - recall: 0.9863 - val_loss: 2.7600 - val_accuracy: 0.0000e+00 - val_recall: 0.9857\n",
      "Epoch 73/100\n",
      "960000/960000 [==============================] - 2s 2us/sample - loss: 2.6619 - accuracy: 0.0000e+00 - recall: 0.9864 - val_loss: 2.5504 - val_accuracy: 0.0000e+00 - val_recall: 0.9858\n",
      "Epoch 74/100\n",
      "960000/960000 [==============================] - 2s 2us/sample - loss: 2.6492 - accuracy: 0.0000e+00 - recall: 0.9865 - val_loss: 2.5691 - val_accuracy: 0.0000e+00 - val_recall: 0.9858\n",
      "Epoch 75/100\n",
      "960000/960000 [==============================] - 2s 2us/sample - loss: 2.6650 - accuracy: 0.0000e+00 - recall: 0.9866 - val_loss: 2.6038 - val_accuracy: 0.0000e+00 - val_recall: 0.9861\n",
      "Epoch 76/100\n",
      "960000/960000 [==============================] - 2s 2us/sample - loss: 2.6529 - accuracy: 0.0000e+00 - recall: 0.9866 - val_loss: 2.7486 - val_accuracy: 0.0000e+00 - val_recall: 0.9861\n",
      "Epoch 77/100\n",
      "960000/960000 [==============================] - 2s 2us/sample - loss: 2.6563 - accuracy: 0.0000e+00 - recall: 0.9867 - val_loss: 2.6930 - val_accuracy: 0.0000e+00 - val_recall: 0.9860\n",
      "Epoch 78/100\n",
      "960000/960000 [==============================] - 2s 2us/sample - loss: 2.6479 - accuracy: 0.0000e+00 - recall: 0.9868 - val_loss: 2.5541 - val_accuracy: 0.0000e+00 - val_recall: 0.9862\n",
      "Epoch 79/100\n",
      "960000/960000 [==============================] - 2s 2us/sample - loss: 2.6431 - accuracy: 0.0000e+00 - recall: 0.9868 - val_loss: 2.5104 - val_accuracy: 0.0000e+00 - val_recall: 0.9862\n",
      "Epoch 80/100\n",
      "960000/960000 [==============================] - 2s 2us/sample - loss: 2.6157 - accuracy: 0.0000e+00 - recall: 0.9869 - val_loss: 2.7161 - val_accuracy: 0.0000e+00 - val_recall: 0.9863\n",
      "Epoch 81/100\n",
      "960000/960000 [==============================] - 2s 2us/sample - loss: 2.6542 - accuracy: 0.0000e+00 - recall: 0.9869 - val_loss: 2.6130 - val_accuracy: 0.0000e+00 - val_recall: 0.9864\n",
      "Epoch 82/100\n"
     ]
    },
    {
     "name": "stdout",
     "output_type": "stream",
     "text": [
      "960000/960000 [==============================] - 2s 2us/sample - loss: 2.6088 - accuracy: 0.0000e+00 - recall: 0.9870 - val_loss: 2.5938 - val_accuracy: 0.0000e+00 - val_recall: 0.9864\n",
      "Epoch 83/100\n",
      "960000/960000 [==============================] - 2s 2us/sample - loss: 2.6324 - accuracy: 0.0000e+00 - recall: 0.9871 - val_loss: 2.5303 - val_accuracy: 0.0000e+00 - val_recall: 0.9865\n",
      "Epoch 84/100\n",
      "960000/960000 [==============================] - 2s 2us/sample - loss: 2.6226 - accuracy: 0.0000e+00 - recall: 0.9871 - val_loss: 2.6719 - val_accuracy: 0.0000e+00 - val_recall: 0.9865\n",
      "Epoch 85/100\n",
      "960000/960000 [==============================] - 2s 2us/sample - loss: 2.6362 - accuracy: 0.0000e+00 - recall: 0.9872 - val_loss: 2.5475 - val_accuracy: 0.0000e+00 - val_recall: 0.9868\n",
      "Epoch 86/100\n",
      "960000/960000 [==============================] - 2s 2us/sample - loss: 2.6189 - accuracy: 0.0000e+00 - recall: 0.9872 - val_loss: 2.6538 - val_accuracy: 0.0000e+00 - val_recall: 0.9869\n",
      "Epoch 87/100\n",
      "960000/960000 [==============================] - 2s 2us/sample - loss: 2.6219 - accuracy: 0.0000e+00 - recall: 0.9873 - val_loss: 2.5495 - val_accuracy: 0.0000e+00 - val_recall: 0.9869\n",
      "Epoch 88/100\n",
      "960000/960000 [==============================] - 2s 2us/sample - loss: 2.6315 - accuracy: 0.0000e+00 - recall: 0.9874 - val_loss: 2.4935 - val_accuracy: 0.0000e+00 - val_recall: 0.9869\n",
      "Epoch 89/100\n",
      "960000/960000 [==============================] - 2s 2us/sample - loss: 2.6291 - accuracy: 0.0000e+00 - recall: 0.9874 - val_loss: 2.5096 - val_accuracy: 0.0000e+00 - val_recall: 0.9871\n",
      "Epoch 90/100\n",
      "960000/960000 [==============================] - 2s 2us/sample - loss: 2.6203 - accuracy: 0.0000e+00 - recall: 0.9875 - val_loss: 2.5742 - val_accuracy: 0.0000e+00 - val_recall: 0.9870\n",
      "Epoch 91/100\n",
      "960000/960000 [==============================] - 2s 2us/sample - loss: 2.6276 - accuracy: 0.0000e+00 - recall: 0.9875 - val_loss: 2.5170 - val_accuracy: 0.0000e+00 - val_recall: 0.9869\n",
      "Epoch 92/100\n",
      "960000/960000 [==============================] - 2s 2us/sample - loss: 2.6220 - accuracy: 0.0000e+00 - recall: 0.9875 - val_loss: 2.4814 - val_accuracy: 0.0000e+00 - val_recall: 0.9868\n",
      "Epoch 93/100\n",
      "960000/960000 [==============================] - 2s 2us/sample - loss: 2.6345 - accuracy: 0.0000e+00 - recall: 0.9875 - val_loss: 2.5339 - val_accuracy: 0.0000e+00 - val_recall: 0.9866\n",
      "Epoch 94/100\n",
      "960000/960000 [==============================] - 2s 2us/sample - loss: 2.6088 - accuracy: 0.0000e+00 - recall: 0.9874 - val_loss: 2.5961 - val_accuracy: 0.0000e+00 - val_recall: 0.9868\n",
      "Epoch 95/100\n",
      "960000/960000 [==============================] - 2s 2us/sample - loss: 2.6102 - accuracy: 0.0000e+00 - recall: 0.9874 - val_loss: 2.6861 - val_accuracy: 0.0000e+00 - val_recall: 0.9870\n",
      "Epoch 96/100\n",
      "960000/960000 [==============================] - 2s 2us/sample - loss: 2.6112 - accuracy: 0.0000e+00 - recall: 0.9873 - val_loss: 2.5032 - val_accuracy: 0.0000e+00 - val_recall: 0.9870\n",
      "Epoch 97/100\n",
      "960000/960000 [==============================] - 2s 2us/sample - loss: 2.6098 - accuracy: 0.0000e+00 - recall: 0.9873 - val_loss: 2.4885 - val_accuracy: 0.0000e+00 - val_recall: 0.9868\n",
      "Epoch 98/100\n",
      "960000/960000 [==============================] - 2s 2us/sample - loss: 2.6161 - accuracy: 0.0000e+00 - recall: 0.9872 - val_loss: 2.5093 - val_accuracy: 0.0000e+00 - val_recall: 0.9866\n",
      "Epoch 99/100\n",
      "960000/960000 [==============================] - 2s 2us/sample - loss: 2.6140 - accuracy: 0.0000e+00 - recall: 0.9872 - val_loss: 2.5071 - val_accuracy: 0.0000e+00 - val_recall: 0.9866\n",
      "Epoch 100/100\n",
      "960000/960000 [==============================] - 2s 2us/sample - loss: 2.5945 - accuracy: 0.0000e+00 - recall: 0.9871 - val_loss: 2.8624 - val_accuracy: 0.0000e+00 - val_recall: 0.9865\n"
     ]
    }
   ],
   "source": [
    "history = model.fit(X_train, y_train, batch_size=512, epochs=100, validation_data=(X_val, y_val))"
   ]
  },
  {
   "cell_type": "code",
   "execution_count": 49,
   "metadata": {},
   "outputs": [
    {
     "data": {
      "image/png": "[encoded data removed]",
      "text/plain": [
       "<Figure size 432x288 with 1 Axes>"
      ]
     },
     "metadata": {
      "needs_background": "light"
     },
     "output_type": "display_data"
    }
   ],
   "source": [
    "plt.plot(history.history['loss'])\n",
    "plt.plot(history.history['val_loss'])\n",
    "plt.title('Model loss')\n",
    "plt.ylabel('Loss')\n",
    "plt.xlabel('Epoch')\n",
    "plt.legend(['Train', 'Dev'], loc='best')\n",
    "plt.show()"
   ]
  },
  {
   "cell_type": "code",
   "execution_count": 50,
   "metadata": {
    "scrolled": true
   },
   "outputs": [
    {
     "data": {
      "image/png": "[encoded data removed]",
      "text/plain": [
       "<Figure size 432x288 with 1 Axes>"
      ]
     },
     "metadata": {
      "needs_background": "light"
     },
     "output_type": "display_data"
    }
   ],
   "source": [
    "plt.plot(history.history['accuracy'])\n",
    "plt.plot(history.history['val_accuracy'])\n",
    "plt.title('Model accuracy')\n",
    "plt.ylabel('Accuracy')\n",
    "plt.xlabel('Epoch')\n",
    "plt.legend(['Train', 'Dev'], loc='best')\n",
    "plt.show()"
   ]
  },
  {
   "cell_type": "code",
   "execution_count": 51,
   "metadata": {},
   "outputs": [
    {
     "data": {
      "image/png": "[encoded data removed]",
      "text/plain": [
       "<Figure size 432x288 with 1 Axes>"
      ]
     },
     "metadata": {
      "needs_background": "light"
     },
     "output_type": "display_data"
    }
   ],
   "source": [
    "plt.plot(history.history['recall'])\n",
    "plt.plot(history.history['val_recall'])\n",
    "plt.title('Model recall')\n",
    "plt.ylabel('Recall')\n",
    "plt.xlabel('Epoch')\n",
    "plt.legend(['Train', 'Dev'], loc='best')\n",
    "plt.show()"
   ]
  },
  {
   "cell_type": "code",
   "execution_count": 52,
   "metadata": {},
   "outputs": [
    {
     "name": "stdout",
     "output_type": "stream",
     "text": [
      "WARNING:tensorflow:Falling back from v2 loop because of error: Failed to find data adapter that can handle input: <class 'pandas.core.frame.DataFrame'>, <class 'NoneType'>\n"
     ]
    },
    {
     "data": {
      "image/png": "[encoded data removed]",
      "text/plain": [
       "<Figure size 432x288 with 1 Axes>"
      ]
     },
     "metadata": {
      "needs_background": "light"
     },
     "output_type": "display_data"
    }
   ],
   "source": [
    "y_pred = model.predict(X_val)\n",
    "plt.hist(y_pred)\n",
    "plt.show()"
   ]
  },
  {
   "cell_type": "code",
   "execution_count": 53,
   "metadata": {},
   "outputs": [
    {
     "data": {
      "text/plain": [
       "array([[-2.1941805],\n",
       "       [-2.1941805],\n",
       "       [-2.1941805],\n",
       "       [-2.1941805]], dtype=float32)"
      ]
     },
     "execution_count": 53,
     "metadata": {},
     "output_type": "execute_result"
    }
   ],
   "source": [
    "model.predict([(0, 0), (1, 0), (0, 1), (1, 1)])"
   ]
  },
  {
   "cell_type": "code",
   "execution_count": 54,
   "metadata": {},
   "outputs": [
    {
     "data": {
      "text/plain": [
       "array([[ 4.2445126],\n",
       "       [31.163948 ]], dtype=float32)"
      ]
     },
     "execution_count": 54,
     "metadata": {},
     "output_type": "execute_result"
    }
   ],
   "source": [
    "model.predict([(2, 2), (3, 7)])"
   ]
  },
  {
   "cell_type": "code",
   "execution_count": 55,
   "metadata": {},
   "outputs": [
    {
     "name": "stdout",
     "output_type": "stream",
     "text": [
      "(a, b) = (2, 2), solution: 5\n",
      "Prediction: [[4.2445126]]\n",
      "---\n",
      "(a, b) = (3, 1), solution: 8\n",
      "Prediction: [[8.045976]]\n",
      "---\n",
      "(a, b) = (0, 0), solution: -5\n",
      "Prediction: [[-2.194182]]\n",
      "---\n",
      "(a, b) = (16, 7), solution: 370\n",
      "Prediction: [[370.48154]]\n",
      "---\n"
     ]
    }
   ],
   "source": [
    "def test_prediction(a, b):\n",
    "    values = { 'a': a, 'b': b }\n",
    "    print(f\"(a, b) = ({values['a']}, {values['b']}), solution: {polynomial_two_variable(values)}\")\n",
    "    prediction = model.predict([(values['a'], values['b'])])\n",
    "    print(f\"Prediction: {prediction}\")\n",
    "    print('---')\n",
    "test_prediction(2, 2)\n",
    "test_prediction(3, 1)\n",
    "test_prediction(0, 0)\n",
    "test_prediction(16, 7)"
   ]
  }
 ],
 "metadata": {
  "kernelspec": {
   "display_name": "Python 3",
   "language": "python",
   "name": "python3"
  }
 },
 "nbformat": 4,
 "nbformat_minor": 2
}
